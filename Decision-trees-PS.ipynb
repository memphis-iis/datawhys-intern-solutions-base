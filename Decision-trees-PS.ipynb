{
 "cells": [
  {
   "cell_type": "markdown",
   "metadata": {
    "deletable": false,
    "editable": false
   },
   "source": [
    "Copyright 2020 Andrew M. Olney and made available under [CC BY-SA](https://creativecommons.org/licenses/by-sa/4.0) for text and [Apache-2.0](http://www.apache.org/licenses/LICENSE-2.0) for code.\n"
   ]
  },
  {
   "cell_type": "markdown",
   "metadata": {},
   "source": [
    "# Decision trees: Problem solving\n",
    "\n",
    "We previously looked at predicting whether or not  a candy is popular based on its other properties using logistic regression.\n",
    "\n",
    "This gave us an idea of how  different properties **add** together to make a candy popular, but it didn't give us as much of an idea of how the properties act on each other.\n",
    "\n",
    "In this session, you will predict whether or not is popular using decision trees.\n",
    "\n",
    "This dataset [was collected](http://fivethirtyeight.com/features/the-ultimate-halloween-candy-power-ranking/) to discover the most popular Halloween candy.\n",
    "\n",
    "| Variable         | Type              | Description                                                  |\n",
    "|:-----------------|:------------------|:--------------------------------------------------------------|\n",
    "| chocolate        | Numeric (binary)  | Does it contain chocolate?                                   |\n",
    "| fruity           | Numeric (binary)  | Is it fruit flavored?                                        |\n",
    "| caramel          | Numeric (binary)  | Is there caramel in the candy?                               |\n",
    "| peanutalmondy    | Numeric (binary)  | Does it contain peanuts, peanut butter or almonds?           |\n",
    "| nougat           | Numeric (binary)  | Does it contain nougat?                                      |\n",
    "| crispedricewafer | Numeric (binary)  | Does it contain crisped rice, wafers, or a cookie component? |\n",
    "| hard             | Numeric (binary)  | Is it a hard candy?                                          |\n",
    "| bar              | Numeric (binary)  | Is it a candy bar?                                           |\n",
    "| pluribus         | Numeric (binary)  | Is it one of many candies in a bag or box?                   |\n",
    "| sugarpercent     | Numeric (0 to 1)  | The percentile of sugar it falls under within the data set.  |\n",
    "| pricepercent     | Numeric (0 to 1)  | The unit price percentile compared to the rest of the set.   |\n",
    "| winpercent       | Numeric (percent) | The overall win percentage according to 269,000 matchups     |\n",
    "| popular | Numeric (binary) | 1 if win percentage is over 50% and 0 otherwise |\n",
    "\n",
    "<div style=\"text-align:center;font-size: smaller\">\n",
    "    <b>Source:</b> This dataset is Copyright (c) 2014 ESPN Internet Ventures and distributed under an MIT license.\n",
    "</div>\n"
   ]
  },
  {
   "cell_type": "markdown",
   "metadata": {
    "slideshow": {
     "slide_type": "slide"
    }
   },
   "source": [
    "## Load the data\n",
    "\n",
    "First import `pandas`."
   ]
  },
  {
   "cell_type": "code",
   "execution_count": 1,
   "metadata": {
    "user_blocks": [
     "importAs"
    ],
    "user_blocks_xml": "<xml xmlns=\"https://developers.google.com/blockly/xml\"><variables><variable id=\"/%IFN5#t2uAm}E`8:KV:\">pd</variable></variables><block type=\"importAs\" id=\"_@5-r*j4E`}d?=DXLinf\" x=\"16\" y=\"10\"><field name=\"libraryName\">pandas</field><field name=\"VAR\" id=\"/%IFN5#t2uAm}E`8:KV:\">pd</field></block></xml>",
    "user_code_from_blocks": "import pandas as pd\n"
   },
   "outputs": [],
   "source": [
    "import pandas as pd\n",
    "\n",
    "#<xml xmlns=\"https://developers.google.com/blockly/xml\"><variables><variable id=\"/%IFN5#t2uAm}E`8:KV:\">pd</variable></variables><block type=\"importAs\" id=\"_@5-r*j4E`}d?=DXLinf\" x=\"16\" y=\"10\"><field name=\"libraryName\">pandas</field><field name=\"VAR\" id=\"/%IFN5#t2uAm}E`8:KV:\">pd</field></block></xml>"
   ]
  },
  {
   "cell_type": "markdown",
   "metadata": {},
   "source": [
    "Load a dataframe with `\"datasets/candy-data.csv\"` but use `index_col=\"competitorname\"` to make `competitorname` an ID instead of a variable.\n",
    "Then display the dataframe."
   ]
  },
  {
   "cell_type": "code",
   "execution_count": 2,
   "metadata": {
    "user_blocks": [
     "variables_set",
     "varDoMethod",
     "text",
     "dummyOutputCodeBlock",
     "variables_get"
    ],
    "user_blocks_xml": "<xml xmlns=\"https://developers.google.com/blockly/xml\"><variables><variable id=\"-(zD`=)|+6ZJe1eZ)t2_\">dataframe</variable><variable id=\"/%IFN5#t2uAm}E`8:KV:\">pd</variable></variables><block type=\"variables_set\" id=\"gM*jw`FfIR3)8=g0iEB7\" x=\"45\" y=\"162\"><field name=\"VAR\" id=\"-(zD`=)|+6ZJe1eZ)t2_\">dataframe</field><value name=\"VALUE\"><block type=\"varDoMethod\" id=\"ny0sjvqTnn2B]K2za7Li\"><mutation items=\"2\"></mutation><field name=\"VAR\" id=\"/%IFN5#t2uAm}E`8:KV:\">pd</field><field name=\"MEMBER\">read_csv</field><data>pd:read_csv</data><value name=\"ADD0\"><block type=\"text\" id=\"dfrpI5b@DHr+DQ:|@vpv\"><field name=\"TEXT\">datasets/candy-data.csv</field></block></value><value name=\"ADD1\"><block type=\"dummyOutputCodeBlock\" id=\"94@wTULF[(zp|n3n`q1A\"><field name=\"CODE\">index_col=\"competitorname\"</field></block></value></block></value></block><block type=\"variables_get\" id=\"5g7J_+Ahe.sgQx}a2))V\" x=\"36\" y=\"241\"><field name=\"VAR\" id=\"-(zD`=)|+6ZJe1eZ)t2_\">dataframe</field></block></xml>",
    "user_code_from_blocks": "dataframe = pd.read_csv('datasets/candy-data.csv',index_col=\"competitorname\")\n\ndataframe\n"
   },
   "outputs": [
    {
     "data": {
      "text/html": [
       "<div>\n",
       "<style scoped>\n",
       "    .dataframe tbody tr th:only-of-type {\n",
       "        vertical-align: middle;\n",
       "    }\n",
       "\n",
       "    .dataframe tbody tr th {\n",
       "        vertical-align: top;\n",
       "    }\n",
       "\n",
       "    .dataframe thead th {\n",
       "        text-align: right;\n",
       "    }\n",
       "</style>\n",
       "<table border=\"1\" class=\"dataframe\">\n",
       "  <thead>\n",
       "    <tr style=\"text-align: right;\">\n",
       "      <th></th>\n",
       "      <th>chocolate</th>\n",
       "      <th>fruity</th>\n",
       "      <th>caramel</th>\n",
       "      <th>peanutyalmondy</th>\n",
       "      <th>nougat</th>\n",
       "      <th>crispedricewafer</th>\n",
       "      <th>hard</th>\n",
       "      <th>bar</th>\n",
       "      <th>pluribus</th>\n",
       "      <th>sugarpercent</th>\n",
       "      <th>pricepercent</th>\n",
       "      <th>winpercent</th>\n",
       "      <th>popular</th>\n",
       "    </tr>\n",
       "    <tr>\n",
       "      <th>competitorname</th>\n",
       "      <th></th>\n",
       "      <th></th>\n",
       "      <th></th>\n",
       "      <th></th>\n",
       "      <th></th>\n",
       "      <th></th>\n",
       "      <th></th>\n",
       "      <th></th>\n",
       "      <th></th>\n",
       "      <th></th>\n",
       "      <th></th>\n",
       "      <th></th>\n",
       "      <th></th>\n",
       "    </tr>\n",
       "  </thead>\n",
       "  <tbody>\n",
       "    <tr>\n",
       "      <th>100 Grand</th>\n",
       "      <td>1</td>\n",
       "      <td>0</td>\n",
       "      <td>1</td>\n",
       "      <td>0</td>\n",
       "      <td>0</td>\n",
       "      <td>1</td>\n",
       "      <td>0</td>\n",
       "      <td>1</td>\n",
       "      <td>0</td>\n",
       "      <td>0.732</td>\n",
       "      <td>0.860</td>\n",
       "      <td>66.971725</td>\n",
       "      <td>1</td>\n",
       "    </tr>\n",
       "    <tr>\n",
       "      <th>3 Musketeers</th>\n",
       "      <td>1</td>\n",
       "      <td>0</td>\n",
       "      <td>0</td>\n",
       "      <td>0</td>\n",
       "      <td>1</td>\n",
       "      <td>0</td>\n",
       "      <td>0</td>\n",
       "      <td>1</td>\n",
       "      <td>0</td>\n",
       "      <td>0.604</td>\n",
       "      <td>0.511</td>\n",
       "      <td>67.602936</td>\n",
       "      <td>1</td>\n",
       "    </tr>\n",
       "    <tr>\n",
       "      <th>One dime</th>\n",
       "      <td>0</td>\n",
       "      <td>0</td>\n",
       "      <td>0</td>\n",
       "      <td>0</td>\n",
       "      <td>0</td>\n",
       "      <td>0</td>\n",
       "      <td>0</td>\n",
       "      <td>0</td>\n",
       "      <td>0</td>\n",
       "      <td>0.011</td>\n",
       "      <td>0.116</td>\n",
       "      <td>32.261086</td>\n",
       "      <td>0</td>\n",
       "    </tr>\n",
       "    <tr>\n",
       "      <th>One quarter</th>\n",
       "      <td>0</td>\n",
       "      <td>0</td>\n",
       "      <td>0</td>\n",
       "      <td>0</td>\n",
       "      <td>0</td>\n",
       "      <td>0</td>\n",
       "      <td>0</td>\n",
       "      <td>0</td>\n",
       "      <td>0</td>\n",
       "      <td>0.011</td>\n",
       "      <td>0.511</td>\n",
       "      <td>46.116505</td>\n",
       "      <td>0</td>\n",
       "    </tr>\n",
       "    <tr>\n",
       "      <th>Air Heads</th>\n",
       "      <td>0</td>\n",
       "      <td>1</td>\n",
       "      <td>0</td>\n",
       "      <td>0</td>\n",
       "      <td>0</td>\n",
       "      <td>0</td>\n",
       "      <td>0</td>\n",
       "      <td>0</td>\n",
       "      <td>0</td>\n",
       "      <td>0.906</td>\n",
       "      <td>0.511</td>\n",
       "      <td>52.341465</td>\n",
       "      <td>1</td>\n",
       "    </tr>\n",
       "    <tr>\n",
       "      <th>...</th>\n",
       "      <td>...</td>\n",
       "      <td>...</td>\n",
       "      <td>...</td>\n",
       "      <td>...</td>\n",
       "      <td>...</td>\n",
       "      <td>...</td>\n",
       "      <td>...</td>\n",
       "      <td>...</td>\n",
       "      <td>...</td>\n",
       "      <td>...</td>\n",
       "      <td>...</td>\n",
       "      <td>...</td>\n",
       "      <td>...</td>\n",
       "    </tr>\n",
       "    <tr>\n",
       "      <th>Twizzlers</th>\n",
       "      <td>0</td>\n",
       "      <td>1</td>\n",
       "      <td>0</td>\n",
       "      <td>0</td>\n",
       "      <td>0</td>\n",
       "      <td>0</td>\n",
       "      <td>0</td>\n",
       "      <td>0</td>\n",
       "      <td>0</td>\n",
       "      <td>0.220</td>\n",
       "      <td>0.116</td>\n",
       "      <td>45.466282</td>\n",
       "      <td>0</td>\n",
       "    </tr>\n",
       "    <tr>\n",
       "      <th>Warheads</th>\n",
       "      <td>0</td>\n",
       "      <td>1</td>\n",
       "      <td>0</td>\n",
       "      <td>0</td>\n",
       "      <td>0</td>\n",
       "      <td>0</td>\n",
       "      <td>1</td>\n",
       "      <td>0</td>\n",
       "      <td>0</td>\n",
       "      <td>0.093</td>\n",
       "      <td>0.116</td>\n",
       "      <td>39.011898</td>\n",
       "      <td>0</td>\n",
       "    </tr>\n",
       "    <tr>\n",
       "      <th>WelchÕs Fruit Snacks</th>\n",
       "      <td>0</td>\n",
       "      <td>1</td>\n",
       "      <td>0</td>\n",
       "      <td>0</td>\n",
       "      <td>0</td>\n",
       "      <td>0</td>\n",
       "      <td>0</td>\n",
       "      <td>0</td>\n",
       "      <td>1</td>\n",
       "      <td>0.313</td>\n",
       "      <td>0.313</td>\n",
       "      <td>44.375519</td>\n",
       "      <td>0</td>\n",
       "    </tr>\n",
       "    <tr>\n",
       "      <th>WertherÕs Original Caramel</th>\n",
       "      <td>0</td>\n",
       "      <td>0</td>\n",
       "      <td>1</td>\n",
       "      <td>0</td>\n",
       "      <td>0</td>\n",
       "      <td>0</td>\n",
       "      <td>1</td>\n",
       "      <td>0</td>\n",
       "      <td>0</td>\n",
       "      <td>0.186</td>\n",
       "      <td>0.267</td>\n",
       "      <td>41.904308</td>\n",
       "      <td>0</td>\n",
       "    </tr>\n",
       "    <tr>\n",
       "      <th>Whoppers</th>\n",
       "      <td>1</td>\n",
       "      <td>0</td>\n",
       "      <td>0</td>\n",
       "      <td>0</td>\n",
       "      <td>0</td>\n",
       "      <td>1</td>\n",
       "      <td>0</td>\n",
       "      <td>0</td>\n",
       "      <td>1</td>\n",
       "      <td>0.872</td>\n",
       "      <td>0.848</td>\n",
       "      <td>49.524113</td>\n",
       "      <td>0</td>\n",
       "    </tr>\n",
       "  </tbody>\n",
       "</table>\n",
       "<p>85 rows × 13 columns</p>\n",
       "</div>"
      ],
      "text/plain": [
       "                            chocolate  fruity  caramel  peanutyalmondy  \\\n",
       "competitorname                                                           \n",
       "100 Grand                           1       0        1               0   \n",
       "3 Musketeers                        1       0        0               0   \n",
       "One dime                            0       0        0               0   \n",
       "One quarter                         0       0        0               0   \n",
       "Air Heads                           0       1        0               0   \n",
       "...                               ...     ...      ...             ...   \n",
       "Twizzlers                           0       1        0               0   \n",
       "Warheads                            0       1        0               0   \n",
       "WelchÕs Fruit Snacks                0       1        0               0   \n",
       "WertherÕs Original Caramel          0       0        1               0   \n",
       "Whoppers                            1       0        0               0   \n",
       "\n",
       "                            nougat  crispedricewafer  hard  bar  pluribus  \\\n",
       "competitorname                                                              \n",
       "100 Grand                        0                 1     0    1         0   \n",
       "3 Musketeers                     1                 0     0    1         0   \n",
       "One dime                         0                 0     0    0         0   \n",
       "One quarter                      0                 0     0    0         0   \n",
       "Air Heads                        0                 0     0    0         0   \n",
       "...                            ...               ...   ...  ...       ...   \n",
       "Twizzlers                        0                 0     0    0         0   \n",
       "Warheads                         0                 0     1    0         0   \n",
       "WelchÕs Fruit Snacks             0                 0     0    0         1   \n",
       "WertherÕs Original Caramel       0                 0     1    0         0   \n",
       "Whoppers                         0                 1     0    0         1   \n",
       "\n",
       "                            sugarpercent  pricepercent  winpercent  popular  \n",
       "competitorname                                                               \n",
       "100 Grand                          0.732         0.860   66.971725        1  \n",
       "3 Musketeers                       0.604         0.511   67.602936        1  \n",
       "One dime                           0.011         0.116   32.261086        0  \n",
       "One quarter                        0.011         0.511   46.116505        0  \n",
       "Air Heads                          0.906         0.511   52.341465        1  \n",
       "...                                  ...           ...         ...      ...  \n",
       "Twizzlers                          0.220         0.116   45.466282        0  \n",
       "Warheads                           0.093         0.116   39.011898        0  \n",
       "WelchÕs Fruit Snacks               0.313         0.313   44.375519        0  \n",
       "WertherÕs Original Caramel         0.186         0.267   41.904308        0  \n",
       "Whoppers                           0.872         0.848   49.524113        0  \n",
       "\n",
       "[85 rows x 13 columns]"
      ]
     },
     "execution_count": 2,
     "metadata": {},
     "output_type": "execute_result"
    }
   ],
   "source": [
    "dataframe = pd.read_csv('datasets/candy-data.csv',index_col=\"competitorname\")\n",
    "\n",
    "dataframe\n",
    "\n",
    "#<xml xmlns=\"https://developers.google.com/blockly/xml\"><variables><variable id=\"-(zD`=)|+6ZJe1eZ)t2_\">dataframe</variable><variable id=\"/%IFN5#t2uAm}E`8:KV:\">pd</variable></variables><block type=\"variables_set\" id=\"gM*jw`FfIR3)8=g0iEB7\" x=\"45\" y=\"162\"><field name=\"VAR\" id=\"-(zD`=)|+6ZJe1eZ)t2_\">dataframe</field><value name=\"VALUE\"><block type=\"varDoMethod\" id=\"ny0sjvqTnn2B]K2za7Li\"><mutation items=\"2\"></mutation><field name=\"VAR\" id=\"/%IFN5#t2uAm}E`8:KV:\">pd</field><field name=\"MEMBER\">read_csv</field><data>pd:read_csv</data><value name=\"ADD0\"><block type=\"text\" id=\"dfrpI5b@DHr+DQ:|@vpv\"><field name=\"TEXT\">datasets/candy-data.csv</field></block></value><value name=\"ADD1\"><block type=\"dummyOutputCodeBlock\" id=\"94@wTULF[(zp|n3n`q1A\"><field name=\"CODE\">index_col=\"competitorname\"</field></block></value></block></value></block><block type=\"variables_get\" id=\"5g7J_+Ahe.sgQx}a2))V\" x=\"36\" y=\"241\"><field name=\"VAR\" id=\"-(zD`=)|+6ZJe1eZ)t2_\">dataframe</field></block></xml>"
   ]
  },
  {
   "cell_type": "markdown",
   "metadata": {},
   "source": [
    "## Explore the data\n",
    "\n",
    "Since this is a dataset you've looked at before, just make a correlation heatmap to show how the variables are related to each other.\n",
    "\n",
    "Start by importing `plotly.express`."
   ]
  },
  {
   "cell_type": "code",
   "execution_count": 3,
   "metadata": {
    "user_blocks": [
     "importAs"
    ],
    "user_blocks_xml": "<xml xmlns=\"https://developers.google.com/blockly/xml\"><variables><variable id=\"+yh,Zg{hON]zy6D~.rH#\">px</variable></variables><block type=\"importAs\" id=\"JKd}DIrGfV*IelKZ!4ls\" x=\"129\" y=\"219\"><field name=\"libraryName\">plotly.express</field><field name=\"VAR\" id=\"+yh,Zg{hON]zy6D~.rH#\">px</field></block></xml>",
    "user_code_from_blocks": "import plotly.express as px\n"
   },
   "outputs": [],
   "source": [
    "import plotly.express as px\n",
    "\n",
    "#<xml xmlns=\"https://developers.google.com/blockly/xml\"><variables><variable id=\"+yh,Zg{hON]zy6D~.rH#\">px</variable></variables><block type=\"importAs\" id=\"JKd}DIrGfV*IelKZ!4ls\" x=\"129\" y=\"219\"><field name=\"libraryName\">plotly.express</field><field name=\"VAR\" id=\"+yh,Zg{hON]zy6D~.rH#\">px</field></block></xml>"
   ]
  },
  {
   "cell_type": "markdown",
   "metadata": {},
   "source": [
    "And create and show the heatmap figure in one line."
   ]
  },
  {
   "cell_type": "code",
   "execution_count": 4,
   "metadata": {
    "user_blocks": [
     "varDoMethod",
     "varDoMethod",
     "valueOutputCodeBlock",
     "varGetProperty",
     "valueOutputCodeBlock",
     "varGetProperty"
    ],
    "user_blocks_xml": "<xml xmlns=\"https://developers.google.com/blockly/xml\"><variables><variable id=\"+yh,Zg{hON]zy6D~.rH#\">px</variable><variable id=\"-(zD`=)|+6ZJe1eZ)t2_\">dataframe</variable></variables><block type=\"varDoMethod\" id=\"7PkTI5@+A6#C}J7CTmyF\" x=\"85\" y=\"71\"><mutation items=\"3\"></mutation><field name=\"VAR\" id=\"+yh,Zg{hON]zy6D~.rH#\">px</field><field name=\"MEMBER\">imshow</field><data>px:imshow</data><value name=\"ADD0\"><block type=\"varDoMethod\" id=\"?iaY9MJ88^K?_+|.(F,c\"><mutation items=\"1\"></mutation><field name=\"VAR\" id=\"-(zD`=)|+6ZJe1eZ)t2_\">dataframe</field><field name=\"MEMBER\">corr</field><data>dataframe:corr</data></block></value><value name=\"ADD1\"><block type=\"valueOutputCodeBlock\" id=\"WnnnMxlneM;E!_f#Ii$^\"><field name=\"CODE\">x=</field><value name=\"INPUT\"><block type=\"varGetProperty\" id=\"(l1WsMK=Bs_tLeZfLo8Y\"><field name=\"VAR\" id=\"-(zD`=)|+6ZJe1eZ)t2_\">dataframe</field><field name=\"MEMBER\">columns</field><data>dataframe:columns</data></block></value></block></value><value name=\"ADD2\"><block type=\"valueOutputCodeBlock\" id=\".dnkwWtKdzeJ:Hy*Rc/N\"><field name=\"CODE\">y=</field><value name=\"INPUT\"><block type=\"varGetProperty\" id=\"91us[f5X^$;!RDP:W7Vq\"><field name=\"VAR\" id=\"-(zD`=)|+6ZJe1eZ)t2_\">dataframe</field><field name=\"MEMBER\">columns</field><data>dataframe:columns</data></block></value></block></value></block></xml>",
    "user_code_from_blocks": "px.imshow(dataframe.corr(),x= (dataframe.columns),y= (dataframe.columns))\n"
   },
   "outputs": [
    {
     "data": {
      "application/vnd.plotly.v1+json": {
       "config": {
        "plotlyServerURL": "https://plot.ly"
       },
       "data": [
        {
         "coloraxis": "coloraxis",
         "hovertemplate": "x: %{x}<br>y: %{y}<br>color: %{z}<extra></extra>",
         "name": "0",
         "type": "heatmap",
         "x": [
          "chocolate",
          "fruity",
          "caramel",
          "peanutyalmondy",
          "nougat",
          "crispedricewafer",
          "hard",
          "bar",
          "pluribus",
          "sugarpercent",
          "pricepercent",
          "winpercent",
          "popular"
         ],
         "xaxis": "x",
         "y": [
          "chocolate",
          "fruity",
          "caramel",
          "peanutyalmondy",
          "nougat",
          "crispedricewafer",
          "hard",
          "bar",
          "pluribus",
          "sugarpercent",
          "pricepercent",
          "winpercent",
          "popular"
         ],
         "yaxis": "y",
         "z": {
          "bdata": "AAAAAAAA8D+ppU/NLbznv1RpaFbq+88/+qVW5kIu2D+F3gjVJVDQP4OvaI9h1tU/zMgglP4G1r9VHhHwEh7jP1a3OwY9vdW/gQY829Kquj/InQHtTCbgP4uySl9YXuQ/+OcQ70fM4D+ppU/NLbznvwAAAAAAAPA/MizAr5d41b8xv3JNzo3Zv1c8H5pPPdG/Vzwfmk890b96IYg43ADZPxSLc9Bqe+C/tukUrLIu0z+7kpQz9Juhv3nCfgz9lNu/Hz0eWkph2L/x0yFEvo7Tv1RpaFbq+88/MizAr5d41b8AAAAAAADwPw/x7HTtY64/L/wlqAYG1T+T8mE5SkfLP3cJ6WOqUr+/jS/K2Jlf1T/RbWh+4UDRvwgLKNdPaMw/sjUWHeVG0D+QxfKkOVHLP+NglUipI80/+qVW5kIu2D8xv3JNzo3Zvw/x7HTtY64/AAAAAAAA8D+W8mE5SkfLP9PHkKPfEZK/WG4L2a1Pyr9FwEz5tqrQP6i5D0PKYcq/GEM2Q+l/tj9qR32kKsnTP457EJQN/9k/vo++V5e31j+F3gjVJVDQP1c8H5pPPdG/L/wlqAYG1T+W8mE5SkfLPwAAAAAAAPA/lW/5lm/5tr+Y6DugGsDBvw6ki+s4vOA/Im4bbZfc0785oLJxQoK/P4Nqk83wm8M/idH9OSGFyT/x7q6FhqjDP4OvaI9h1tU/Vzwfmk890b+T8mE5SkfLP9PHkKPfEZK/lW/5lm/5tr8AAAAAAADwP5foO6AawMG/wbi1Pbwe2z8aMPSswMLMv2s/cAM56LE/Xj3i10wC1T8LuxUpjcfUP4TPVUbEps4/zMgglP4G1r96IYg43ADZP3cJ6WOqUr+/WG4L2a1Pyr+Y6DugGsDBv5foO6AawMG/AAAAAAAA8D/XbN/MdvjQv10HS7TOwo0/L5SS+NeAtz83Ds4NXUfPvx8t3K5K3dO/qVy2acJQ179VHhHwEh7jPxSLc9Bqe+C/jS/K2Jlf1T9FwEz5tqrQPw6ki+s4vOA/wbi1Pbwe2z/XbN/MdvjQvwAAAAAAAPA/wm4StDT94r9ZrKKYoJi5P1N3c07JluA/MIcKTfaD2z96TBlCKc3ZP1a3OwY9vdW/tukUrLIu0z/RbWh+4UDRv6i5D0PKYcq/Im4bbZfc078aMPSswMLMv10HS7TOwo0/wm4StDT94r8AAAAAAADwPwbLTnjETqc/LhlfOvdCzL9s4mgpX6zPv3jVvHIqSMO/gQY829Kquj+7kpQz9JuhvwgLKNdPaMw/GEM2Q+l/tj85oLJxQoK/P2s/cAM56LE/L5SS+NeAtz9ZrKKYoJi5PwbLTnjETqc/AAAAAAAA8D/qhP7R6BnVP45gHAnPVM0/wLWyeyVWxz/InQHtTCbgP3nCfgz9lNu/sjUWHeVG0D9qR32kKsnTP4Nqk83wm8M/Xj3i10wC1T83Ds4NXUfPv1N3c07JluA/LhlfOvdCzL/qhP7R6BnVPwAAAAAAAPA/8X6Sv88Z1j8o7yRreSDXP4uySl9YXuQ/Hz0eWkph2L+QxfKkOVHLP457EJQN/9k/idH9OSGFyT8LuxUpjcfUPx8t3K5K3dO/MIcKTfaD2z9s4mgpX6zPv45gHAnPVM0/8X6Sv88Z1j8AAAAAAADwP0RH+eKgt+o/+OcQ70fM4D/x0yFEvo7Tv+NglUipI80/vo++V5e31j/x7q6FhqjDP4TPVUbEps4/qVy2acJQ1796TBlCKc3ZP3jVvHIqSMO/wLWyeyVWxz8o7yRreSDXP0RH+eKgt+o/AAAAAAAA8D8=",
          "dtype": "f8",
          "shape": "13, 13"
         }
        }
       ],
       "layout": {
        "coloraxis": {
         "colorscale": [
          [
           0,
           "#0d0887"
          ],
          [
           0.1111111111111111,
           "#46039f"
          ],
          [
           0.2222222222222222,
           "#7201a8"
          ],
          [
           0.3333333333333333,
           "#9c179e"
          ],
          [
           0.4444444444444444,
           "#bd3786"
          ],
          [
           0.5555555555555556,
           "#d8576b"
          ],
          [
           0.6666666666666666,
           "#ed7953"
          ],
          [
           0.7777777777777778,
           "#fb9f3a"
          ],
          [
           0.8888888888888888,
           "#fdca26"
          ],
          [
           1,
           "#f0f921"
          ]
         ]
        },
        "margin": {
         "t": 60
        },
        "template": {
         "data": {
          "bar": [
           {
            "error_x": {
             "color": "#2a3f5f"
            },
            "error_y": {
             "color": "#2a3f5f"
            },
            "marker": {
             "line": {
              "color": "#E5ECF6",
              "width": 0.5
             },
             "pattern": {
              "fillmode": "overlay",
              "size": 10,
              "solidity": 0.2
             }
            },
            "type": "bar"
           }
          ],
          "barpolar": [
           {
            "marker": {
             "line": {
              "color": "#E5ECF6",
              "width": 0.5
             },
             "pattern": {
              "fillmode": "overlay",
              "size": 10,
              "solidity": 0.2
             }
            },
            "type": "barpolar"
           }
          ],
          "carpet": [
           {
            "aaxis": {
             "endlinecolor": "#2a3f5f",
             "gridcolor": "white",
             "linecolor": "white",
             "minorgridcolor": "white",
             "startlinecolor": "#2a3f5f"
            },
            "baxis": {
             "endlinecolor": "#2a3f5f",
             "gridcolor": "white",
             "linecolor": "white",
             "minorgridcolor": "white",
             "startlinecolor": "#2a3f5f"
            },
            "type": "carpet"
           }
          ],
          "choropleth": [
           {
            "colorbar": {
             "outlinewidth": 0,
             "ticks": ""
            },
            "type": "choropleth"
           }
          ],
          "contour": [
           {
            "colorbar": {
             "outlinewidth": 0,
             "ticks": ""
            },
            "colorscale": [
             [
              0,
              "#0d0887"
             ],
             [
              0.1111111111111111,
              "#46039f"
             ],
             [
              0.2222222222222222,
              "#7201a8"
             ],
             [
              0.3333333333333333,
              "#9c179e"
             ],
             [
              0.4444444444444444,
              "#bd3786"
             ],
             [
              0.5555555555555556,
              "#d8576b"
             ],
             [
              0.6666666666666666,
              "#ed7953"
             ],
             [
              0.7777777777777778,
              "#fb9f3a"
             ],
             [
              0.8888888888888888,
              "#fdca26"
             ],
             [
              1,
              "#f0f921"
             ]
            ],
            "type": "contour"
           }
          ],
          "contourcarpet": [
           {
            "colorbar": {
             "outlinewidth": 0,
             "ticks": ""
            },
            "type": "contourcarpet"
           }
          ],
          "heatmap": [
           {
            "colorbar": {
             "outlinewidth": 0,
             "ticks": ""
            },
            "colorscale": [
             [
              0,
              "#0d0887"
             ],
             [
              0.1111111111111111,
              "#46039f"
             ],
             [
              0.2222222222222222,
              "#7201a8"
             ],
             [
              0.3333333333333333,
              "#9c179e"
             ],
             [
              0.4444444444444444,
              "#bd3786"
             ],
             [
              0.5555555555555556,
              "#d8576b"
             ],
             [
              0.6666666666666666,
              "#ed7953"
             ],
             [
              0.7777777777777778,
              "#fb9f3a"
             ],
             [
              0.8888888888888888,
              "#fdca26"
             ],
             [
              1,
              "#f0f921"
             ]
            ],
            "type": "heatmap"
           }
          ],
          "histogram": [
           {
            "marker": {
             "pattern": {
              "fillmode": "overlay",
              "size": 10,
              "solidity": 0.2
             }
            },
            "type": "histogram"
           }
          ],
          "histogram2d": [
           {
            "colorbar": {
             "outlinewidth": 0,
             "ticks": ""
            },
            "colorscale": [
             [
              0,
              "#0d0887"
             ],
             [
              0.1111111111111111,
              "#46039f"
             ],
             [
              0.2222222222222222,
              "#7201a8"
             ],
             [
              0.3333333333333333,
              "#9c179e"
             ],
             [
              0.4444444444444444,
              "#bd3786"
             ],
             [
              0.5555555555555556,
              "#d8576b"
             ],
             [
              0.6666666666666666,
              "#ed7953"
             ],
             [
              0.7777777777777778,
              "#fb9f3a"
             ],
             [
              0.8888888888888888,
              "#fdca26"
             ],
             [
              1,
              "#f0f921"
             ]
            ],
            "type": "histogram2d"
           }
          ],
          "histogram2dcontour": [
           {
            "colorbar": {
             "outlinewidth": 0,
             "ticks": ""
            },
            "colorscale": [
             [
              0,
              "#0d0887"
             ],
             [
              0.1111111111111111,
              "#46039f"
             ],
             [
              0.2222222222222222,
              "#7201a8"
             ],
             [
              0.3333333333333333,
              "#9c179e"
             ],
             [
              0.4444444444444444,
              "#bd3786"
             ],
             [
              0.5555555555555556,
              "#d8576b"
             ],
             [
              0.6666666666666666,
              "#ed7953"
             ],
             [
              0.7777777777777778,
              "#fb9f3a"
             ],
             [
              0.8888888888888888,
              "#fdca26"
             ],
             [
              1,
              "#f0f921"
             ]
            ],
            "type": "histogram2dcontour"
           }
          ],
          "mesh3d": [
           {
            "colorbar": {
             "outlinewidth": 0,
             "ticks": ""
            },
            "type": "mesh3d"
           }
          ],
          "parcoords": [
           {
            "line": {
             "colorbar": {
              "outlinewidth": 0,
              "ticks": ""
             }
            },
            "type": "parcoords"
           }
          ],
          "pie": [
           {
            "automargin": true,
            "type": "pie"
           }
          ],
          "scatter": [
           {
            "fillpattern": {
             "fillmode": "overlay",
             "size": 10,
             "solidity": 0.2
            },
            "type": "scatter"
           }
          ],
          "scatter3d": [
           {
            "line": {
             "colorbar": {
              "outlinewidth": 0,
              "ticks": ""
             }
            },
            "marker": {
             "colorbar": {
              "outlinewidth": 0,
              "ticks": ""
             }
            },
            "type": "scatter3d"
           }
          ],
          "scattercarpet": [
           {
            "marker": {
             "colorbar": {
              "outlinewidth": 0,
              "ticks": ""
             }
            },
            "type": "scattercarpet"
           }
          ],
          "scattergeo": [
           {
            "marker": {
             "colorbar": {
              "outlinewidth": 0,
              "ticks": ""
             }
            },
            "type": "scattergeo"
           }
          ],
          "scattergl": [
           {
            "marker": {
             "colorbar": {
              "outlinewidth": 0,
              "ticks": ""
             }
            },
            "type": "scattergl"
           }
          ],
          "scattermap": [
           {
            "marker": {
             "colorbar": {
              "outlinewidth": 0,
              "ticks": ""
             }
            },
            "type": "scattermap"
           }
          ],
          "scattermapbox": [
           {
            "marker": {
             "colorbar": {
              "outlinewidth": 0,
              "ticks": ""
             }
            },
            "type": "scattermapbox"
           }
          ],
          "scatterpolar": [
           {
            "marker": {
             "colorbar": {
              "outlinewidth": 0,
              "ticks": ""
             }
            },
            "type": "scatterpolar"
           }
          ],
          "scatterpolargl": [
           {
            "marker": {
             "colorbar": {
              "outlinewidth": 0,
              "ticks": ""
             }
            },
            "type": "scatterpolargl"
           }
          ],
          "scatterternary": [
           {
            "marker": {
             "colorbar": {
              "outlinewidth": 0,
              "ticks": ""
             }
            },
            "type": "scatterternary"
           }
          ],
          "surface": [
           {
            "colorbar": {
             "outlinewidth": 0,
             "ticks": ""
            },
            "colorscale": [
             [
              0,
              "#0d0887"
             ],
             [
              0.1111111111111111,
              "#46039f"
             ],
             [
              0.2222222222222222,
              "#7201a8"
             ],
             [
              0.3333333333333333,
              "#9c179e"
             ],
             [
              0.4444444444444444,
              "#bd3786"
             ],
             [
              0.5555555555555556,
              "#d8576b"
             ],
             [
              0.6666666666666666,
              "#ed7953"
             ],
             [
              0.7777777777777778,
              "#fb9f3a"
             ],
             [
              0.8888888888888888,
              "#fdca26"
             ],
             [
              1,
              "#f0f921"
             ]
            ],
            "type": "surface"
           }
          ],
          "table": [
           {
            "cells": {
             "fill": {
              "color": "#EBF0F8"
             },
             "line": {
              "color": "white"
             }
            },
            "header": {
             "fill": {
              "color": "#C8D4E3"
             },
             "line": {
              "color": "white"
             }
            },
            "type": "table"
           }
          ]
         },
         "layout": {
          "annotationdefaults": {
           "arrowcolor": "#2a3f5f",
           "arrowhead": 0,
           "arrowwidth": 1
          },
          "autotypenumbers": "strict",
          "coloraxis": {
           "colorbar": {
            "outlinewidth": 0,
            "ticks": ""
           }
          },
          "colorscale": {
           "diverging": [
            [
             0,
             "#8e0152"
            ],
            [
             0.1,
             "#c51b7d"
            ],
            [
             0.2,
             "#de77ae"
            ],
            [
             0.3,
             "#f1b6da"
            ],
            [
             0.4,
             "#fde0ef"
            ],
            [
             0.5,
             "#f7f7f7"
            ],
            [
             0.6,
             "#e6f5d0"
            ],
            [
             0.7,
             "#b8e186"
            ],
            [
             0.8,
             "#7fbc41"
            ],
            [
             0.9,
             "#4d9221"
            ],
            [
             1,
             "#276419"
            ]
           ],
           "sequential": [
            [
             0,
             "#0d0887"
            ],
            [
             0.1111111111111111,
             "#46039f"
            ],
            [
             0.2222222222222222,
             "#7201a8"
            ],
            [
             0.3333333333333333,
             "#9c179e"
            ],
            [
             0.4444444444444444,
             "#bd3786"
            ],
            [
             0.5555555555555556,
             "#d8576b"
            ],
            [
             0.6666666666666666,
             "#ed7953"
            ],
            [
             0.7777777777777778,
             "#fb9f3a"
            ],
            [
             0.8888888888888888,
             "#fdca26"
            ],
            [
             1,
             "#f0f921"
            ]
           ],
           "sequentialminus": [
            [
             0,
             "#0d0887"
            ],
            [
             0.1111111111111111,
             "#46039f"
            ],
            [
             0.2222222222222222,
             "#7201a8"
            ],
            [
             0.3333333333333333,
             "#9c179e"
            ],
            [
             0.4444444444444444,
             "#bd3786"
            ],
            [
             0.5555555555555556,
             "#d8576b"
            ],
            [
             0.6666666666666666,
             "#ed7953"
            ],
            [
             0.7777777777777778,
             "#fb9f3a"
            ],
            [
             0.8888888888888888,
             "#fdca26"
            ],
            [
             1,
             "#f0f921"
            ]
           ]
          },
          "colorway": [
           "#636efa",
           "#EF553B",
           "#00cc96",
           "#ab63fa",
           "#FFA15A",
           "#19d3f3",
           "#FF6692",
           "#B6E880",
           "#FF97FF",
           "#FECB52"
          ],
          "font": {
           "color": "#2a3f5f"
          },
          "geo": {
           "bgcolor": "white",
           "lakecolor": "white",
           "landcolor": "#E5ECF6",
           "showlakes": true,
           "showland": true,
           "subunitcolor": "white"
          },
          "hoverlabel": {
           "align": "left"
          },
          "hovermode": "closest",
          "mapbox": {
           "style": "light"
          },
          "paper_bgcolor": "white",
          "plot_bgcolor": "#E5ECF6",
          "polar": {
           "angularaxis": {
            "gridcolor": "white",
            "linecolor": "white",
            "ticks": ""
           },
           "bgcolor": "#E5ECF6",
           "radialaxis": {
            "gridcolor": "white",
            "linecolor": "white",
            "ticks": ""
           }
          },
          "scene": {
           "xaxis": {
            "backgroundcolor": "#E5ECF6",
            "gridcolor": "white",
            "gridwidth": 2,
            "linecolor": "white",
            "showbackground": true,
            "ticks": "",
            "zerolinecolor": "white"
           },
           "yaxis": {
            "backgroundcolor": "#E5ECF6",
            "gridcolor": "white",
            "gridwidth": 2,
            "linecolor": "white",
            "showbackground": true,
            "ticks": "",
            "zerolinecolor": "white"
           },
           "zaxis": {
            "backgroundcolor": "#E5ECF6",
            "gridcolor": "white",
            "gridwidth": 2,
            "linecolor": "white",
            "showbackground": true,
            "ticks": "",
            "zerolinecolor": "white"
           }
          },
          "shapedefaults": {
           "line": {
            "color": "#2a3f5f"
           }
          },
          "ternary": {
           "aaxis": {
            "gridcolor": "white",
            "linecolor": "white",
            "ticks": ""
           },
           "baxis": {
            "gridcolor": "white",
            "linecolor": "white",
            "ticks": ""
           },
           "bgcolor": "#E5ECF6",
           "caxis": {
            "gridcolor": "white",
            "linecolor": "white",
            "ticks": ""
           }
          },
          "title": {
           "x": 0.05
          },
          "xaxis": {
           "automargin": true,
           "gridcolor": "white",
           "linecolor": "white",
           "ticks": "",
           "title": {
            "standoff": 15
           },
           "zerolinecolor": "white",
           "zerolinewidth": 2
          },
          "yaxis": {
           "automargin": true,
           "gridcolor": "white",
           "linecolor": "white",
           "ticks": "",
           "title": {
            "standoff": 15
           },
           "zerolinecolor": "white",
           "zerolinewidth": 2
          }
         }
        },
        "xaxis": {
         "anchor": "y",
         "constrain": "domain",
         "domain": [
          0,
          1
         ],
         "scaleanchor": "y"
        },
        "yaxis": {
         "anchor": "x",
         "autorange": "reversed",
         "constrain": "domain",
         "domain": [
          0,
          1
         ]
        }
       }
      }
     },
     "metadata": {},
     "output_type": "display_data"
    }
   ],
   "source": [
    "px.imshow(dataframe.corr(),x= (dataframe.columns),y= (dataframe.columns))\n",
    "\n",
    "#<xml xmlns=\"https://developers.google.com/blockly/xml\"><variables><variable id=\"+yh,Zg{hON]zy6D~.rH#\">px</variable><variable id=\"-(zD`=)|+6ZJe1eZ)t2_\">dataframe</variable></variables><block type=\"varDoMethod\" id=\"7PkTI5@+A6#C}J7CTmyF\" x=\"85\" y=\"71\"><mutation items=\"3\"></mutation><field name=\"VAR\" id=\"+yh,Zg{hON]zy6D~.rH#\">px</field><field name=\"MEMBER\">imshow</field><data>px:imshow</data><value name=\"ADD0\"><block type=\"varDoMethod\" id=\"?iaY9MJ88^K?_+|.(F,c\"><mutation items=\"1\"></mutation><field name=\"VAR\" id=\"-(zD`=)|+6ZJe1eZ)t2_\">dataframe</field><field name=\"MEMBER\">corr</field><data>dataframe:corr</data></block></value><value name=\"ADD1\"><block type=\"valueOutputCodeBlock\" id=\"WnnnMxlneM;E!_f#Ii$^\"><field name=\"CODE\">x=</field><value name=\"INPUT\"><block type=\"varGetProperty\" id=\"(l1WsMK=Bs_tLeZfLo8Y\"><field name=\"VAR\" id=\"-(zD`=)|+6ZJe1eZ)t2_\">dataframe</field><field name=\"MEMBER\">columns</field><data>dataframe:columns</data></block></value></block></value><value name=\"ADD2\"><block type=\"valueOutputCodeBlock\" id=\".dnkwWtKdzeJ:Hy*Rc/N\"><field name=\"CODE\">y=</field><value name=\"INPUT\"><block type=\"varGetProperty\" id=\"91us[f5X^$;!RDP:W7Vq\"><field name=\"VAR\" id=\"-(zD`=)|+6ZJe1eZ)t2_\">dataframe</field><field name=\"MEMBER\">columns</field><data>dataframe:columns</data></block></value></block></value></block></xml>"
   ]
  },
  {
   "cell_type": "markdown",
   "metadata": {},
   "source": [
    "----------------------------\n",
    "**QUESTION:**\n",
    "\n",
    "Look at the first two columns.\n",
    "What variables do these correspond to?"
   ]
  },
  {
   "cell_type": "markdown",
   "metadata": {},
   "source": [
    "**ANSWER: (click here to edit)**\n",
    "\n",
    "*Chocolate and fruity*\n",
    "\n",
    "<hr>"
   ]
  },
  {
   "cell_type": "markdown",
   "metadata": {},
   "source": [
    "**QUESTION:**\n",
    "\n",
    "How would you describe their pattern of correlation with other variables?"
   ]
  },
  {
   "cell_type": "markdown",
   "metadata": {},
   "source": [
    "**ANSWER: (click here to edit)**\n",
    "\n",
    "*They appear to correlate with other variables in opposite ways: where one is positive, the other is negative*\n",
    "\n",
    "<hr>"
   ]
  },
  {
   "cell_type": "markdown",
   "metadata": {},
   "source": [
    "## Prepare train/test sets\n",
    "\n",
    "You need to split the dataframe into training data and testing data, and also separate the predictors from the class labels.\n",
    "\n",
    "Start by dropping the label, `popular`, and its counterpart, `winpercent`, to make a new dataframe called `X`."
   ]
  },
  {
   "cell_type": "code",
   "execution_count": 8,
   "metadata": {
    "user_blocks": [
     "variables_set",
     "varDoMethod",
     "dummyOutputCodeBlock",
     "variables_get"
    ],
    "user_blocks_xml": "<xml xmlns=\"https://developers.google.com/blockly/xml\"><variables><variable id=\"_z/H/tTnOYS1Lla2~;*0\">X</variable><variable id=\"-(zD`=)|+6ZJe1eZ)t2_\">dataframe</variable></variables><block type=\"variables_set\" id=\"M9g^9:hbZQ0Cb9jKq9V6\" x=\"156\" y=\"135\"><field name=\"VAR\" id=\"_z/H/tTnOYS1Lla2~;*0\">X</field><value name=\"VALUE\"><block type=\"varDoMethod\" id=\"HF9HKI:lNqY;?[|G]m=P\"><mutation items=\"1\"></mutation><field name=\"VAR\" id=\"-(zD`=)|+6ZJe1eZ)t2_\">dataframe</field><field name=\"MEMBER\">drop</field><data>dataframe:drop</data><value name=\"ADD0\"><block type=\"dummyOutputCodeBlock\" id=\"WkdEs~{tWz~8u4:XkYHO\"><field name=\"CODE\">columns=['popular','winpercent']</field></block></value></block></value></block><block type=\"variables_get\" id=\"/Nr.JW@/a.GBv5TY]doh\" x=\"8\" y=\"296\"><field name=\"VAR\" id=\"_z/H/tTnOYS1Lla2~;*0\">X</field></block></xml>",
    "user_code_from_blocks": "X = dataframe.drop(columns=['popular','winpercent'])\n\nX\n"
   },
   "outputs": [
    {
     "data": {
      "text/html": [
       "<div>\n",
       "<style scoped>\n",
       "    .dataframe tbody tr th:only-of-type {\n",
       "        vertical-align: middle;\n",
       "    }\n",
       "\n",
       "    .dataframe tbody tr th {\n",
       "        vertical-align: top;\n",
       "    }\n",
       "\n",
       "    .dataframe thead th {\n",
       "        text-align: right;\n",
       "    }\n",
       "</style>\n",
       "<table border=\"1\" class=\"dataframe\">\n",
       "  <thead>\n",
       "    <tr style=\"text-align: right;\">\n",
       "      <th></th>\n",
       "      <th>chocolate</th>\n",
       "      <th>fruity</th>\n",
       "      <th>caramel</th>\n",
       "      <th>peanutyalmondy</th>\n",
       "      <th>nougat</th>\n",
       "      <th>crispedricewafer</th>\n",
       "      <th>hard</th>\n",
       "      <th>bar</th>\n",
       "      <th>pluribus</th>\n",
       "      <th>sugarpercent</th>\n",
       "      <th>pricepercent</th>\n",
       "    </tr>\n",
       "    <tr>\n",
       "      <th>competitorname</th>\n",
       "      <th></th>\n",
       "      <th></th>\n",
       "      <th></th>\n",
       "      <th></th>\n",
       "      <th></th>\n",
       "      <th></th>\n",
       "      <th></th>\n",
       "      <th></th>\n",
       "      <th></th>\n",
       "      <th></th>\n",
       "      <th></th>\n",
       "    </tr>\n",
       "  </thead>\n",
       "  <tbody>\n",
       "    <tr>\n",
       "      <th>100 Grand</th>\n",
       "      <td>1</td>\n",
       "      <td>0</td>\n",
       "      <td>1</td>\n",
       "      <td>0</td>\n",
       "      <td>0</td>\n",
       "      <td>1</td>\n",
       "      <td>0</td>\n",
       "      <td>1</td>\n",
       "      <td>0</td>\n",
       "      <td>0.732</td>\n",
       "      <td>0.860</td>\n",
       "    </tr>\n",
       "    <tr>\n",
       "      <th>3 Musketeers</th>\n",
       "      <td>1</td>\n",
       "      <td>0</td>\n",
       "      <td>0</td>\n",
       "      <td>0</td>\n",
       "      <td>1</td>\n",
       "      <td>0</td>\n",
       "      <td>0</td>\n",
       "      <td>1</td>\n",
       "      <td>0</td>\n",
       "      <td>0.604</td>\n",
       "      <td>0.511</td>\n",
       "    </tr>\n",
       "    <tr>\n",
       "      <th>One dime</th>\n",
       "      <td>0</td>\n",
       "      <td>0</td>\n",
       "      <td>0</td>\n",
       "      <td>0</td>\n",
       "      <td>0</td>\n",
       "      <td>0</td>\n",
       "      <td>0</td>\n",
       "      <td>0</td>\n",
       "      <td>0</td>\n",
       "      <td>0.011</td>\n",
       "      <td>0.116</td>\n",
       "    </tr>\n",
       "    <tr>\n",
       "      <th>One quarter</th>\n",
       "      <td>0</td>\n",
       "      <td>0</td>\n",
       "      <td>0</td>\n",
       "      <td>0</td>\n",
       "      <td>0</td>\n",
       "      <td>0</td>\n",
       "      <td>0</td>\n",
       "      <td>0</td>\n",
       "      <td>0</td>\n",
       "      <td>0.011</td>\n",
       "      <td>0.511</td>\n",
       "    </tr>\n",
       "    <tr>\n",
       "      <th>Air Heads</th>\n",
       "      <td>0</td>\n",
       "      <td>1</td>\n",
       "      <td>0</td>\n",
       "      <td>0</td>\n",
       "      <td>0</td>\n",
       "      <td>0</td>\n",
       "      <td>0</td>\n",
       "      <td>0</td>\n",
       "      <td>0</td>\n",
       "      <td>0.906</td>\n",
       "      <td>0.511</td>\n",
       "    </tr>\n",
       "    <tr>\n",
       "      <th>...</th>\n",
       "      <td>...</td>\n",
       "      <td>...</td>\n",
       "      <td>...</td>\n",
       "      <td>...</td>\n",
       "      <td>...</td>\n",
       "      <td>...</td>\n",
       "      <td>...</td>\n",
       "      <td>...</td>\n",
       "      <td>...</td>\n",
       "      <td>...</td>\n",
       "      <td>...</td>\n",
       "    </tr>\n",
       "    <tr>\n",
       "      <th>Twizzlers</th>\n",
       "      <td>0</td>\n",
       "      <td>1</td>\n",
       "      <td>0</td>\n",
       "      <td>0</td>\n",
       "      <td>0</td>\n",
       "      <td>0</td>\n",
       "      <td>0</td>\n",
       "      <td>0</td>\n",
       "      <td>0</td>\n",
       "      <td>0.220</td>\n",
       "      <td>0.116</td>\n",
       "    </tr>\n",
       "    <tr>\n",
       "      <th>Warheads</th>\n",
       "      <td>0</td>\n",
       "      <td>1</td>\n",
       "      <td>0</td>\n",
       "      <td>0</td>\n",
       "      <td>0</td>\n",
       "      <td>0</td>\n",
       "      <td>1</td>\n",
       "      <td>0</td>\n",
       "      <td>0</td>\n",
       "      <td>0.093</td>\n",
       "      <td>0.116</td>\n",
       "    </tr>\n",
       "    <tr>\n",
       "      <th>WelchÕs Fruit Snacks</th>\n",
       "      <td>0</td>\n",
       "      <td>1</td>\n",
       "      <td>0</td>\n",
       "      <td>0</td>\n",
       "      <td>0</td>\n",
       "      <td>0</td>\n",
       "      <td>0</td>\n",
       "      <td>0</td>\n",
       "      <td>1</td>\n",
       "      <td>0.313</td>\n",
       "      <td>0.313</td>\n",
       "    </tr>\n",
       "    <tr>\n",
       "      <th>WertherÕs Original Caramel</th>\n",
       "      <td>0</td>\n",
       "      <td>0</td>\n",
       "      <td>1</td>\n",
       "      <td>0</td>\n",
       "      <td>0</td>\n",
       "      <td>0</td>\n",
       "      <td>1</td>\n",
       "      <td>0</td>\n",
       "      <td>0</td>\n",
       "      <td>0.186</td>\n",
       "      <td>0.267</td>\n",
       "    </tr>\n",
       "    <tr>\n",
       "      <th>Whoppers</th>\n",
       "      <td>1</td>\n",
       "      <td>0</td>\n",
       "      <td>0</td>\n",
       "      <td>0</td>\n",
       "      <td>0</td>\n",
       "      <td>1</td>\n",
       "      <td>0</td>\n",
       "      <td>0</td>\n",
       "      <td>1</td>\n",
       "      <td>0.872</td>\n",
       "      <td>0.848</td>\n",
       "    </tr>\n",
       "  </tbody>\n",
       "</table>\n",
       "<p>85 rows × 11 columns</p>\n",
       "</div>"
      ],
      "text/plain": [
       "                            chocolate  fruity  caramel  peanutyalmondy  \\\n",
       "competitorname                                                           \n",
       "100 Grand                           1       0        1               0   \n",
       "3 Musketeers                        1       0        0               0   \n",
       "One dime                            0       0        0               0   \n",
       "One quarter                         0       0        0               0   \n",
       "Air Heads                           0       1        0               0   \n",
       "...                               ...     ...      ...             ...   \n",
       "Twizzlers                           0       1        0               0   \n",
       "Warheads                            0       1        0               0   \n",
       "WelchÕs Fruit Snacks                0       1        0               0   \n",
       "WertherÕs Original Caramel          0       0        1               0   \n",
       "Whoppers                            1       0        0               0   \n",
       "\n",
       "                            nougat  crispedricewafer  hard  bar  pluribus  \\\n",
       "competitorname                                                              \n",
       "100 Grand                        0                 1     0    1         0   \n",
       "3 Musketeers                     1                 0     0    1         0   \n",
       "One dime                         0                 0     0    0         0   \n",
       "One quarter                      0                 0     0    0         0   \n",
       "Air Heads                        0                 0     0    0         0   \n",
       "...                            ...               ...   ...  ...       ...   \n",
       "Twizzlers                        0                 0     0    0         0   \n",
       "Warheads                         0                 0     1    0         0   \n",
       "WelchÕs Fruit Snacks             0                 0     0    0         1   \n",
       "WertherÕs Original Caramel       0                 0     1    0         0   \n",
       "Whoppers                         0                 1     0    0         1   \n",
       "\n",
       "                            sugarpercent  pricepercent  \n",
       "competitorname                                          \n",
       "100 Grand                          0.732         0.860  \n",
       "3 Musketeers                       0.604         0.511  \n",
       "One dime                           0.011         0.116  \n",
       "One quarter                        0.011         0.511  \n",
       "Air Heads                          0.906         0.511  \n",
       "...                                  ...           ...  \n",
       "Twizzlers                          0.220         0.116  \n",
       "Warheads                           0.093         0.116  \n",
       "WelchÕs Fruit Snacks               0.313         0.313  \n",
       "WertherÕs Original Caramel         0.186         0.267  \n",
       "Whoppers                           0.872         0.848  \n",
       "\n",
       "[85 rows x 11 columns]"
      ]
     },
     "execution_count": 8,
     "metadata": {},
     "output_type": "execute_result"
    }
   ],
   "source": [
    "X = dataframe.drop(columns=['popular','winpercent'])\n",
    "\n",
    "X\n",
    "\n",
    "#<xml xmlns=\"https://developers.google.com/blockly/xml\"><variables><variable id=\"_z/H/tTnOYS1Lla2~;*0\">X</variable><variable id=\"-(zD`=)|+6ZJe1eZ)t2_\">dataframe</variable></variables><block type=\"variables_set\" id=\"M9g^9:hbZQ0Cb9jKq9V6\" x=\"156\" y=\"135\"><field name=\"VAR\" id=\"_z/H/tTnOYS1Lla2~;*0\">X</field><value name=\"VALUE\"><block type=\"varDoMethod\" id=\"HF9HKI:lNqY;?[|G]m=P\"><mutation items=\"1\"></mutation><field name=\"VAR\" id=\"-(zD`=)|+6ZJe1eZ)t2_\">dataframe</field><field name=\"MEMBER\">drop</field><data>dataframe:drop</data><value name=\"ADD0\"><block type=\"dummyOutputCodeBlock\" id=\"WkdEs~{tWz~8u4:XkYHO\"><field name=\"CODE\">columns=['popular','winpercent']</field></block></value></block></value></block><block type=\"variables_get\" id=\"/Nr.JW@/a.GBv5TY]doh\" x=\"8\" y=\"296\"><field name=\"VAR\" id=\"_z/H/tTnOYS1Lla2~;*0\">X</field></block></xml>"
   ]
  },
  {
   "cell_type": "markdown",
   "metadata": {},
   "source": [
    "Save a dataframe with just `popular` in `Y`."
   ]
  },
  {
   "cell_type": "code",
   "execution_count": 10,
   "metadata": {
    "user_blocks": [
     "variables_set",
     "indexer",
     "lists_create_with",
     "text",
     "variables_get"
    ],
    "user_blocks_xml": "<xml xmlns=\"https://developers.google.com/blockly/xml\"><variables><variable id=\"o8#tp%!,_Okj2aVwX(DL\">Y</variable><variable id=\"-(zD`=)|+6ZJe1eZ)t2_\">dataframe</variable></variables><block type=\"variables_set\" id=\"}]#HEKuNXU,bl61JboC+\" x=\"19\" y=\"268\"><field name=\"VAR\" id=\"o8#tp%!,_Okj2aVwX(DL\">Y</field><value name=\"VALUE\"><block type=\"indexer\" id=\"y*#)DVgO!%@-E$_~HpE)\"><field name=\"VAR\" id=\"-(zD`=)|+6ZJe1eZ)t2_\">dataframe</field><value name=\"INDEX\"><block type=\"lists_create_with\" id=\"1U,=SV*5.xPNGBe$e2!(\"><mutation items=\"1\"></mutation><value name=\"ADD0\"><block type=\"text\" id=\"77J3q}D!9)x]F3BujI.x\"><field name=\"TEXT\">popular</field></block></value></block></value></block></value></block><block type=\"variables_get\" id=\"IW~Wh/Ymz%;;U$NRbzs}\" x=\"21\" y=\"332\"><field name=\"VAR\" id=\"o8#tp%!,_Okj2aVwX(DL\">Y</field></block></xml>",
    "user_code_from_blocks": "Y = dataframe[['popular']]\n\nY\n"
   },
   "outputs": [
    {
     "data": {
      "text/html": [
       "<div>\n",
       "<style scoped>\n",
       "    .dataframe tbody tr th:only-of-type {\n",
       "        vertical-align: middle;\n",
       "    }\n",
       "\n",
       "    .dataframe tbody tr th {\n",
       "        vertical-align: top;\n",
       "    }\n",
       "\n",
       "    .dataframe thead th {\n",
       "        text-align: right;\n",
       "    }\n",
       "</style>\n",
       "<table border=\"1\" class=\"dataframe\">\n",
       "  <thead>\n",
       "    <tr style=\"text-align: right;\">\n",
       "      <th></th>\n",
       "      <th>popular</th>\n",
       "    </tr>\n",
       "    <tr>\n",
       "      <th>competitorname</th>\n",
       "      <th></th>\n",
       "    </tr>\n",
       "  </thead>\n",
       "  <tbody>\n",
       "    <tr>\n",
       "      <th>100 Grand</th>\n",
       "      <td>1</td>\n",
       "    </tr>\n",
       "    <tr>\n",
       "      <th>3 Musketeers</th>\n",
       "      <td>1</td>\n",
       "    </tr>\n",
       "    <tr>\n",
       "      <th>One dime</th>\n",
       "      <td>0</td>\n",
       "    </tr>\n",
       "    <tr>\n",
       "      <th>One quarter</th>\n",
       "      <td>0</td>\n",
       "    </tr>\n",
       "    <tr>\n",
       "      <th>Air Heads</th>\n",
       "      <td>1</td>\n",
       "    </tr>\n",
       "    <tr>\n",
       "      <th>...</th>\n",
       "      <td>...</td>\n",
       "    </tr>\n",
       "    <tr>\n",
       "      <th>Twizzlers</th>\n",
       "      <td>0</td>\n",
       "    </tr>\n",
       "    <tr>\n",
       "      <th>Warheads</th>\n",
       "      <td>0</td>\n",
       "    </tr>\n",
       "    <tr>\n",
       "      <th>WelchÕs Fruit Snacks</th>\n",
       "      <td>0</td>\n",
       "    </tr>\n",
       "    <tr>\n",
       "      <th>WertherÕs Original Caramel</th>\n",
       "      <td>0</td>\n",
       "    </tr>\n",
       "    <tr>\n",
       "      <th>Whoppers</th>\n",
       "      <td>0</td>\n",
       "    </tr>\n",
       "  </tbody>\n",
       "</table>\n",
       "<p>85 rows × 1 columns</p>\n",
       "</div>"
      ],
      "text/plain": [
       "                            popular\n",
       "competitorname                     \n",
       "100 Grand                         1\n",
       "3 Musketeers                      1\n",
       "One dime                          0\n",
       "One quarter                       0\n",
       "Air Heads                         1\n",
       "...                             ...\n",
       "Twizzlers                         0\n",
       "Warheads                          0\n",
       "WelchÕs Fruit Snacks              0\n",
       "WertherÕs Original Caramel        0\n",
       "Whoppers                          0\n",
       "\n",
       "[85 rows x 1 columns]"
      ]
     },
     "execution_count": 10,
     "metadata": {},
     "output_type": "execute_result"
    }
   ],
   "source": [
    "Y = dataframe[['popular']]\n",
    "\n",
    "Y\n",
    "\n",
    "#<xml xmlns=\"https://developers.google.com/blockly/xml\"><variables><variable id=\"o8#tp%!,_Okj2aVwX(DL\">Y</variable><variable id=\"-(zD`=)|+6ZJe1eZ)t2_\">dataframe</variable></variables><block type=\"variables_set\" id=\"}]#HEKuNXU,bl61JboC+\" x=\"19\" y=\"268\"><field name=\"VAR\" id=\"o8#tp%!,_Okj2aVwX(DL\">Y</field><value name=\"VALUE\"><block type=\"indexer\" id=\"y*#)DVgO!%@-E$_~HpE)\"><field name=\"VAR\" id=\"-(zD`=)|+6ZJe1eZ)t2_\">dataframe</field><value name=\"INDEX\"><block type=\"lists_create_with\" id=\"1U,=SV*5.xPNGBe$e2!(\"><mutation items=\"1\"></mutation><value name=\"ADD0\"><block type=\"text\" id=\"77J3q}D!9)x]F3BujI.x\"><field name=\"TEXT\">popular</field></block></value></block></value></block></value></block><block type=\"variables_get\" id=\"IW~Wh/Ymz%;;U$NRbzs}\" x=\"21\" y=\"332\"><field name=\"VAR\" id=\"o8#tp%!,_Okj2aVwX(DL\">Y</field></block></xml>"
   ]
  },
  {
   "cell_type": "markdown",
   "metadata": {},
   "source": [
    "Import `sklearn.model_selection` to split `X` and `Y` into train and test sets."
   ]
  },
  {
   "cell_type": "code",
   "execution_count": 12,
   "metadata": {
    "user_blocks": [
     "importAs"
    ],
    "user_blocks_xml": "<xml xmlns=\"https://developers.google.com/blockly/xml\"><variables><variable id=\"-q~R*yx.VGQ@%!0Q+!gh\">model_selection</variable></variables><block type=\"importAs\" id=\"E{QJ$O@lc8u.;OTWdVgf\" x=\"-89\" y=\"168\"><field name=\"libraryName\">sklearn.model_selection</field><field name=\"VAR\" id=\"-q~R*yx.VGQ@%!0Q+!gh\">model_selection</field></block></xml>",
    "user_code_from_blocks": "import sklearn.model_selection as model_selection\n"
   },
   "outputs": [],
   "source": [
    "import sklearn.model_selection as model_selection\n",
    "\n",
    "#<xml xmlns=\"https://developers.google.com/blockly/xml\"><variables><variable id=\"-q~R*yx.VGQ@%!0Q+!gh\">model_selection</variable></variables><block type=\"importAs\" id=\"E{QJ$O@lc8u.;OTWdVgf\" x=\"-89\" y=\"168\"><field name=\"libraryName\">sklearn.model_selection</field><field name=\"VAR\" id=\"-q~R*yx.VGQ@%!0Q+!gh\">model_selection</field></block></xml>"
   ]
  },
  {
   "cell_type": "markdown",
   "metadata": {},
   "source": [
    "Now do the splits. Use `random_state=1` so we all get the same answer"
   ]
  },
  {
   "cell_type": "code",
   "execution_count": 14,
   "metadata": {
    "user_blocks": [
     "variables_set",
     "varDoMethod",
     "variables_get",
     "variables_get",
     "dummyOutputCodeBlock"
    ],
    "user_blocks_xml": "<xml xmlns=\"https://developers.google.com/blockly/xml\"><variables><variable id=\"{Yt*9=2tTC$JepE9BcRz\">splits</variable><variable id=\"-q~R*yx.VGQ@%!0Q+!gh\">model_selection</variable><variable id=\"_z/H/tTnOYS1Lla2~;*0\">X</variable><variable id=\"o8#tp%!,_Okj2aVwX(DL\">Y</variable></variables><block type=\"variables_set\" id=\"HpD!.HSC`PPRg]21i*7c\" x=\"-75\" y=\"149\"><field name=\"VAR\" id=\"{Yt*9=2tTC$JepE9BcRz\">splits</field><value name=\"VALUE\"><block type=\"varDoMethod\" id=\"fUetl3$Ak=SI~T6T5!6c\"><mutation items=\"3\"></mutation><field name=\"VAR\" id=\"-q~R*yx.VGQ@%!0Q+!gh\">model_selection</field><field name=\"MEMBER\">train_test_split</field><data>model_selection:train_test_split</data><value name=\"ADD0\"><block type=\"variables_get\" id=\"jN^;NIVaV%22*W_^|!uK\"><field name=\"VAR\" id=\"_z/H/tTnOYS1Lla2~;*0\">X</field></block></value><value name=\"ADD1\"><block type=\"variables_get\" id=\"OOZSj;YDm{T6q%{~5?B1\"><field name=\"VAR\" id=\"o8#tp%!,_Okj2aVwX(DL\">Y</field></block></value><value name=\"ADD2\"><block type=\"dummyOutputCodeBlock\" id=\"Gg*^%q4qIJwc*of,V|rb\"><field name=\"CODE\">random_state=1</field></block></value></block></value></block></xml>",
    "user_code_from_blocks": "splits = model_selection.train_test_split(X,Y,random_state=1)\n"
   },
   "outputs": [],
   "source": [
    "splits = model_selection.train_test_split(X,Y,random_state=1)\n",
    "\n",
    "#<xml xmlns=\"https://developers.google.com/blockly/xml\"><variables><variable id=\"{Yt*9=2tTC$JepE9BcRz\">splits</variable><variable id=\"-q~R*yx.VGQ@%!0Q+!gh\">model_selection</variable><variable id=\"_z/H/tTnOYS1Lla2~;*0\">X</variable><variable id=\"o8#tp%!,_Okj2aVwX(DL\">Y</variable></variables><block type=\"variables_set\" id=\"HpD!.HSC`PPRg]21i*7c\" x=\"-75\" y=\"149\"><field name=\"VAR\" id=\"{Yt*9=2tTC$JepE9BcRz\">splits</field><value name=\"VALUE\"><block type=\"varDoMethod\" id=\"fUetl3$Ak=SI~T6T5!6c\"><mutation items=\"3\"></mutation><field name=\"VAR\" id=\"-q~R*yx.VGQ@%!0Q+!gh\">model_selection</field><field name=\"MEMBER\">train_test_split</field><data>model_selection:train_test_split</data><value name=\"ADD0\"><block type=\"variables_get\" id=\"jN^;NIVaV%22*W_^|!uK\"><field name=\"VAR\" id=\"_z/H/tTnOYS1Lla2~;*0\">X</field></block></value><value name=\"ADD1\"><block type=\"variables_get\" id=\"OOZSj;YDm{T6q%{~5?B1\"><field name=\"VAR\" id=\"o8#tp%!,_Okj2aVwX(DL\">Y</field></block></value><value name=\"ADD2\"><block type=\"dummyOutputCodeBlock\" id=\"Gg*^%q4qIJwc*of,V|rb\"><field name=\"CODE\">random_state=1</field></block></value></block></value></block></xml>"
   ]
  },
  {
   "cell_type": "markdown",
   "metadata": {},
   "source": [
    "## Decision tree model\n",
    "\n",
    "First import `sklearn.tree`."
   ]
  },
  {
   "cell_type": "code",
   "execution_count": 16,
   "metadata": {
    "user_blocks": [
     "importAs"
    ],
    "user_blocks_xml": "<xml xmlns=\"https://developers.google.com/blockly/xml\"><variables><variable id=\"tkeU~z;dQ]^6[?rbF?)9\">tree</variable></variables><block type=\"importAs\" id=\"?`a/SEo[mr`kFXR@l=`@\" x=\"16\" y=\"10\"><field name=\"libraryName\">sklearn.tree</field><field name=\"VAR\" id=\"tkeU~z;dQ]^6[?rbF?)9\">tree</field></block></xml>",
    "user_code_from_blocks": "import sklearn.tree as tree\n"
   },
   "outputs": [],
   "source": [
    "import sklearn.tree as tree\n",
    "\n",
    "#<xml xmlns=\"https://developers.google.com/blockly/xml\"><variables><variable id=\"tkeU~z;dQ]^6[?rbF?)9\">tree</variable></variables><block type=\"importAs\" id=\"?`a/SEo[mr`kFXR@l=`@\" x=\"16\" y=\"10\"><field name=\"libraryName\">sklearn.tree</field><field name=\"VAR\" id=\"tkeU~z;dQ]^6[?rbF?)9\">tree</field></block></xml>"
   ]
  },
  {
   "cell_type": "markdown",
   "metadata": {},
   "source": [
    "Now create the decision tree model"
   ]
  },
  {
   "cell_type": "code",
   "execution_count": 18,
   "metadata": {
    "user_blocks": [
     "variables_set",
     "varCreateObject"
    ],
    "user_blocks_xml": "<xml xmlns=\"https://developers.google.com/blockly/xml\"><variables><variable id=\"fYtGc,k9LOv^%_9|[cfE\">decisionTree</variable><variable id=\"tkeU~z;dQ]^6[?rbF?)9\">tree</variable></variables><block type=\"variables_set\" id=\"0{MIimjRn(`+`5M$0_U7\" x=\"-90\" y=\"132\"><field name=\"VAR\" id=\"fYtGc,k9LOv^%_9|[cfE\">decisionTree</field><value name=\"VALUE\"><block type=\"varCreateObject\" id=\"?`dwaKnOBjnrd}`doxhF\"><mutation items=\"1\"></mutation><field name=\"VAR\" id=\"tkeU~z;dQ]^6[?rbF?)9\">tree</field><field name=\"MEMBER\">DecisionTreeClassifier</field><data>tree:DecisionTreeClassifier</data></block></value></block></xml>",
    "user_code_from_blocks": "decisionTree = tree.DecisionTreeClassifier()\n"
   },
   "outputs": [],
   "source": [
    "decisionTree = tree.DecisionTreeClassifier()\n",
    "\n",
    "#<xml xmlns=\"https://developers.google.com/blockly/xml\"><variables><variable id=\"fYtGc,k9LOv^%_9|[cfE\">decisionTree</variable><variable id=\"tkeU~z;dQ]^6[?rbF?)9\">tree</variable></variables><block type=\"variables_set\" id=\"0{MIimjRn(`+`5M$0_U7\" x=\"-90\" y=\"132\"><field name=\"VAR\" id=\"fYtGc,k9LOv^%_9|[cfE\">decisionTree</field><value name=\"VALUE\"><block type=\"varCreateObject\" id=\"?`dwaKnOBjnrd}`doxhF\"><mutation items=\"1\"></mutation><field name=\"VAR\" id=\"tkeU~z;dQ]^6[?rbF?)9\">tree</field><field name=\"MEMBER\">DecisionTreeClassifier</field><data>tree:DecisionTreeClassifier</data></block></value></block></xml>"
   ]
  },
  {
   "cell_type": "markdown",
   "metadata": {},
   "source": [
    "----------------------------\n",
    "**QUESTION:**\n",
    "\n",
    "Why don't we need to scale anything?"
   ]
  },
  {
   "cell_type": "markdown",
   "metadata": {},
   "source": [
    "**ANSWER: (click here to edit)**\n",
    "\n",
    "*Scaling doesn't matter for decision trees like it does for regression.\n",
    "In regression, each feature's contributions are added to the others, so people like to scale to make the coefficients for each feature more directly comparable.\n",
    "There is no equivalent concept in decision trees; in fact, it is probably more confusing to scale variables in decision trees.*\n",
    "<hr>"
   ]
  },
  {
   "cell_type": "markdown",
   "metadata": {},
   "source": [
    "Fit the model and get predictions."
   ]
  },
  {
   "cell_type": "code",
   "execution_count": 20,
   "metadata": {
    "user_blocks": [
     "varDoMethod",
     "lists_getIndex",
     "variables_get",
     "math_number",
     "lists_getIndex",
     "variables_get",
     "math_number",
     "variables_set",
     "varDoMethod",
     "lists_getIndex",
     "variables_get",
     "math_number"
    ],
    "user_blocks_xml": "<xml xmlns=\"https://developers.google.com/blockly/xml\"><variables><variable id=\"fYtGc,k9LOv^%_9|[cfE\">decisionTree</variable><variable id=\".hU+?FvKPIm~!dS$d-nj\">predictions</variable><variable id=\"{Yt*9=2tTC$JepE9BcRz\">splits</variable></variables><block type=\"varDoMethod\" id=\"-@fm,911cJiCu@jkys%R\" x=\"3\" y=\"112\"><mutation items=\"2\"></mutation><field name=\"VAR\" id=\"fYtGc,k9LOv^%_9|[cfE\">decisionTree</field><field name=\"MEMBER\">fit</field><data>decisionTree:fit</data><value name=\"ADD0\"><block type=\"lists_getIndex\" id=\"W~.ZU([-)(,-i3=bTsB|\"><mutation statement=\"false\" at=\"true\"></mutation><field name=\"MODE\">GET</field><field name=\"WHERE\">FROM_START</field><value name=\"VALUE\"><block type=\"variables_get\" id=\"GIJn[jpD_~wa}#7IO!1K\"><field name=\"VAR\" id=\"{Yt*9=2tTC$JepE9BcRz\">splits</field></block></value><value name=\"AT\"><block type=\"math_number\" id=\"Rh[;nrMLN$[cFFsZC~T|\"><field name=\"NUM\">1</field></block></value></block></value><value name=\"ADD1\"><block type=\"lists_getIndex\" id=\"YkCD57xF*SSN3[`_op{u\"><mutation statement=\"false\" at=\"true\"></mutation><field name=\"MODE\">GET</field><field name=\"WHERE\">FROM_START</field><value name=\"VALUE\"><block type=\"variables_get\" id=\"M@?wn}aoHxJYan0=AE3$\"><field name=\"VAR\" id=\"{Yt*9=2tTC$JepE9BcRz\">splits</field></block></value><value name=\"AT\"><block type=\"math_number\" id=\"jNUa2BdXPG?H8|.br*@e\"><field name=\"NUM\">3</field></block></value></block></value></block><block type=\"variables_set\" id=\"daux0S`FF4kBzgJJ/Mqz\" x=\"21\" y=\"283\"><field name=\"VAR\" id=\".hU+?FvKPIm~!dS$d-nj\">predictions</field><value name=\"VALUE\"><block type=\"varDoMethod\" id=\"RP,Dx+UgHdie=fa^FUQx\"><mutation items=\"1\"></mutation><field name=\"VAR\" id=\"fYtGc,k9LOv^%_9|[cfE\">decisionTree</field><field name=\"MEMBER\">predict</field><data>decisionTree:predict</data><value name=\"ADD0\"><block type=\"lists_getIndex\" id=\"8r8{|6/j)E}1Rxb?x?p$\"><mutation statement=\"false\" at=\"true\"></mutation><field name=\"MODE\">GET</field><field name=\"WHERE\">FROM_START</field><value name=\"VALUE\"><block type=\"variables_get\" id=\"Oyc5Q^u*myHiMK#zx_k/\"><field name=\"VAR\" id=\"{Yt*9=2tTC$JepE9BcRz\">splits</field></block></value><value name=\"AT\"><block type=\"math_number\" id=\"}ODw{=32f7kWh0kiF,%I\"><field name=\"NUM\">2</field></block></value></block></value></block></value></block></xml>",
    "user_code_from_blocks": "decisionTree.fit(splits[0],splits[2])\n\npredictions = decisionTree.predict(splits[1])\n"
   },
   "outputs": [],
   "source": [
    "decisionTree.fit(splits[0],splits[2])\n",
    "\n",
    "predictions = decisionTree.predict(splits[1])\n",
    "\n",
    "#<xml xmlns=\"https://developers.google.com/blockly/xml\"><variables><variable id=\"fYtGc,k9LOv^%_9|[cfE\">decisionTree</variable><variable id=\".hU+?FvKPIm~!dS$d-nj\">predictions</variable><variable id=\"{Yt*9=2tTC$JepE9BcRz\">splits</variable></variables><block type=\"varDoMethod\" id=\"-@fm,911cJiCu@jkys%R\" x=\"3\" y=\"112\"><mutation items=\"2\"></mutation><field name=\"VAR\" id=\"fYtGc,k9LOv^%_9|[cfE\">decisionTree</field><field name=\"MEMBER\">fit</field><data>decisionTree:fit</data><value name=\"ADD0\"><block type=\"lists_getIndex\" id=\"W~.ZU([-)(,-i3=bTsB|\"><mutation statement=\"false\" at=\"true\"></mutation><field name=\"MODE\">GET</field><field name=\"WHERE\">FROM_START</field><value name=\"VALUE\"><block type=\"variables_get\" id=\"GIJn[jpD_~wa}#7IO!1K\"><field name=\"VAR\" id=\"{Yt*9=2tTC$JepE9BcRz\">splits</field></block></value><value name=\"AT\"><block type=\"math_number\" id=\"Rh[;nrMLN$[cFFsZC~T|\"><field name=\"NUM\">1</field></block></value></block></value><value name=\"ADD1\"><block type=\"lists_getIndex\" id=\"YkCD57xF*SSN3[`_op{u\"><mutation statement=\"false\" at=\"true\"></mutation><field name=\"MODE\">GET</field><field name=\"WHERE\">FROM_START</field><value name=\"VALUE\"><block type=\"variables_get\" id=\"M@?wn}aoHxJYan0=AE3$\"><field name=\"VAR\" id=\"{Yt*9=2tTC$JepE9BcRz\">splits</field></block></value><value name=\"AT\"><block type=\"math_number\" id=\"jNUa2BdXPG?H8|.br*@e\"><field name=\"NUM\">3</field></block></value></block></value></block><block type=\"variables_set\" id=\"daux0S`FF4kBzgJJ/Mqz\" x=\"21\" y=\"283\"><field name=\"VAR\" id=\".hU+?FvKPIm~!dS$d-nj\">predictions</field><value name=\"VALUE\"><block type=\"varDoMethod\" id=\"RP,Dx+UgHdie=fa^FUQx\"><mutation items=\"1\"></mutation><field name=\"VAR\" id=\"fYtGc,k9LOv^%_9|[cfE\">decisionTree</field><field name=\"MEMBER\">predict</field><data>decisionTree:predict</data><value name=\"ADD0\"><block type=\"lists_getIndex\" id=\"8r8{|6/j)E}1Rxb?x?p$\"><mutation statement=\"false\" at=\"true\"></mutation><field name=\"MODE\">GET</field><field name=\"WHERE\">FROM_START</field><value name=\"VALUE\"><block type=\"variables_get\" id=\"Oyc5Q^u*myHiMK#zx_k/\"><field name=\"VAR\" id=\"{Yt*9=2tTC$JepE9BcRz\">splits</field></block></value><value name=\"AT\"><block type=\"math_number\" id=\"}ODw{=32f7kWh0kiF,%I\"><field name=\"NUM\">2</field></block></value></block></value></block></value></block></xml>"
   ]
  },
  {
   "cell_type": "markdown",
   "metadata": {},
   "source": [
    "## Evaluate model performance\n",
    "\n",
    "Import `sklearn.metrics`."
   ]
  },
  {
   "cell_type": "code",
   "execution_count": 22,
   "metadata": {
    "user_blocks": [
     "importAs"
    ],
    "user_blocks_xml": "<xml xmlns=\"https://developers.google.com/blockly/xml\"><variables><variable id=\"jpz]0=,hLYv~rN^#0dFO\">metrics</variable></variables><block type=\"importAs\" id=\"CEkPf]fPOl]|@Gl1lho[\" x=\"-101\" y=\"139\"><field name=\"libraryName\">sklearn.metrics</field><field name=\"VAR\" id=\"jpz]0=,hLYv~rN^#0dFO\">metrics</field></block></xml>",
    "user_code_from_blocks": "import sklearn.metrics as metrics\n"
   },
   "outputs": [],
   "source": [
    "import sklearn.metrics as metrics\n",
    "\n",
    "#<xml xmlns=\"https://developers.google.com/blockly/xml\"><variables><variable id=\"jpz]0=,hLYv~rN^#0dFO\">metrics</variable></variables><block type=\"importAs\" id=\"CEkPf]fPOl]|@Gl1lho[\" x=\"-101\" y=\"139\"><field name=\"libraryName\">sklearn.metrics</field><field name=\"VAR\" id=\"jpz]0=,hLYv~rN^#0dFO\">metrics</field></block></xml>"
   ]
  },
  {
   "cell_type": "markdown",
   "metadata": {},
   "source": [
    "Get the accuracy."
   ]
  },
  {
   "cell_type": "code",
   "execution_count": 24,
   "metadata": {
    "user_blocks": [
     "text_print",
     "varDoMethod",
     "lists_getIndex",
     "variables_get",
     "math_number",
     "variables_get"
    ],
    "user_blocks_xml": "<xml xmlns=\"https://developers.google.com/blockly/xml\"><variables><variable id=\"jpz]0=,hLYv~rN^#0dFO\">metrics</variable><variable id=\".hU+?FvKPIm~!dS$d-nj\">predictions</variable><variable id=\"{Yt*9=2tTC$JepE9BcRz\">splits</variable></variables><block type=\"text_print\" id=\"u8M]eo-vRBhX!L/a@4+J\" x=\"26\" y=\"198\"><value name=\"TEXT\"><block type=\"varDoMethod\" id=\"0B;?~qgT4?Xe8I|O=P)%\"><mutation items=\"2\"></mutation><field name=\"VAR\" id=\"jpz]0=,hLYv~rN^#0dFO\">metrics</field><field name=\"MEMBER\">accuracy_score</field><data>metrics:accuracy_score</data><value name=\"ADD0\"><block type=\"lists_getIndex\" id=\"13J^-{z`P=,aau/j:VF~\"><mutation statement=\"false\" at=\"true\"></mutation><field name=\"MODE\">GET</field><field name=\"WHERE\">FROM_START</field><value name=\"VALUE\"><block type=\"variables_get\" id=\"m^Z6y-8@L:s!oS)`%iJW\"><field name=\"VAR\" id=\"{Yt*9=2tTC$JepE9BcRz\">splits</field></block></value><value name=\"AT\"><block type=\"math_number\" id=\"u}VxLP~*Dbl0g4[AO,bL\"><field name=\"NUM\">4</field></block></value></block></value><value name=\"ADD1\"><block type=\"variables_get\" id=\"|3h,TPit9wg+a;bR[r$P\"><field name=\"VAR\" id=\".hU+?FvKPIm~!dS$d-nj\">predictions</field></block></value></block></value></block></xml>",
    "user_code_from_blocks": "print(metrics.accuracy_score(splits[3],predictions))\n"
   },
   "outputs": [
    {
     "name": "stdout",
     "output_type": "stream",
     "text": [
      "0.5909090909090909\n"
     ]
    }
   ],
   "source": [
    "print(metrics.accuracy_score(splits[3],predictions))\n",
    "\n",
    "#<xml xmlns=\"https://developers.google.com/blockly/xml\"><variables><variable id=\"jpz]0=,hLYv~rN^#0dFO\">metrics</variable><variable id=\".hU+?FvKPIm~!dS$d-nj\">predictions</variable><variable id=\"{Yt*9=2tTC$JepE9BcRz\">splits</variable></variables><block type=\"text_print\" id=\"u8M]eo-vRBhX!L/a@4+J\" x=\"26\" y=\"198\"><value name=\"TEXT\"><block type=\"varDoMethod\" id=\"0B;?~qgT4?Xe8I|O=P)%\"><mutation items=\"2\"></mutation><field name=\"VAR\" id=\"jpz]0=,hLYv~rN^#0dFO\">metrics</field><field name=\"MEMBER\">accuracy_score</field><data>metrics:accuracy_score</data><value name=\"ADD0\"><block type=\"lists_getIndex\" id=\"13J^-{z`P=,aau/j:VF~\"><mutation statement=\"false\" at=\"true\"></mutation><field name=\"MODE\">GET</field><field name=\"WHERE\">FROM_START</field><value name=\"VALUE\"><block type=\"variables_get\" id=\"m^Z6y-8@L:s!oS)`%iJW\"><field name=\"VAR\" id=\"{Yt*9=2tTC$JepE9BcRz\">splits</field></block></value><value name=\"AT\"><block type=\"math_number\" id=\"u}VxLP~*Dbl0g4[AO,bL\"><field name=\"NUM\">4</field></block></value></block></value><value name=\"ADD1\"><block type=\"variables_get\" id=\"|3h,TPit9wg+a;bR[r$P\"><field name=\"VAR\" id=\".hU+?FvKPIm~!dS$d-nj\">predictions</field></block></value></block></value></block></xml>"
   ]
  },
  {
   "cell_type": "markdown",
   "metadata": {},
   "source": [
    "And get the recall, precision, and f1."
   ]
  },
  {
   "cell_type": "code",
   "execution_count": 26,
   "metadata": {
    "user_blocks": [
     "text_print",
     "varDoMethod",
     "lists_getIndex",
     "variables_get",
     "math_number",
     "variables_get"
    ],
    "user_blocks_xml": "<xml xmlns=\"https://developers.google.com/blockly/xml\"><variables><variable id=\"jpz]0=,hLYv~rN^#0dFO\">metrics</variable><variable id=\".hU+?FvKPIm~!dS$d-nj\">predictions</variable><variable id=\"{Yt*9=2tTC$JepE9BcRz\">splits</variable></variables><block type=\"text_print\" id=\"jFo8knaDn;JRZ=Fj7Tzo\" x=\"12\" y=\"170\"><value name=\"TEXT\"><block type=\"varDoMethod\" id=\"(y`#h=AgNH6X+ahL$2L$\"><mutation items=\"2\"></mutation><field name=\"VAR\" id=\"jpz]0=,hLYv~rN^#0dFO\">metrics</field><field name=\"MEMBER\">classification_report</field><data>metrics:classification_report</data><value name=\"ADD0\"><block type=\"lists_getIndex\" id=\"*N[l.zzXc*IdHJ-Ur0D)\"><mutation statement=\"false\" at=\"true\"></mutation><field name=\"MODE\">GET</field><field name=\"WHERE\">FROM_START</field><value name=\"VALUE\"><block type=\"variables_get\" id=\"fQYj?Tz[y/t|%9~{2Pf[\"><field name=\"VAR\" id=\"{Yt*9=2tTC$JepE9BcRz\">splits</field></block></value><value name=\"AT\"><block type=\"math_number\" id=\"V(5k43YOsHPep%LEEd9Q\"><field name=\"NUM\">4</field></block></value></block></value><value name=\"ADD1\"><block type=\"variables_get\" id=\"mX(20KX!C)d_,/ddeysr\"><field name=\"VAR\" id=\".hU+?FvKPIm~!dS$d-nj\">predictions</field></block></value></block></value></block></xml>",
    "user_code_from_blocks": "print(metrics.classification_report(splits[3],predictions))\n"
   },
   "outputs": [
    {
     "name": "stdout",
     "output_type": "stream",
     "text": [
      "              precision    recall  f1-score   support\n",
      "\n",
      "           0       0.57      0.73      0.64        11\n",
      "           1       0.62      0.45      0.53        11\n",
      "\n",
      "    accuracy                           0.59        22\n",
      "   macro avg       0.60      0.59      0.58        22\n",
      "weighted avg       0.60      0.59      0.58        22\n",
      "\n"
     ]
    }
   ],
   "source": [
    "print(metrics.classification_report(splits[3],predictions))\n",
    "\n",
    "#<xml xmlns=\"https://developers.google.com/blockly/xml\"><variables><variable id=\"jpz]0=,hLYv~rN^#0dFO\">metrics</variable><variable id=\".hU+?FvKPIm~!dS$d-nj\">predictions</variable><variable id=\"{Yt*9=2tTC$JepE9BcRz\">splits</variable></variables><block type=\"text_print\" id=\"jFo8knaDn;JRZ=Fj7Tzo\" x=\"12\" y=\"170\"><value name=\"TEXT\"><block type=\"varDoMethod\" id=\"(y`#h=AgNH6X+ahL$2L$\"><mutation items=\"2\"></mutation><field name=\"VAR\" id=\"jpz]0=,hLYv~rN^#0dFO\">metrics</field><field name=\"MEMBER\">classification_report</field><data>metrics:classification_report</data><value name=\"ADD0\"><block type=\"lists_getIndex\" id=\"*N[l.zzXc*IdHJ-Ur0D)\"><mutation statement=\"false\" at=\"true\"></mutation><field name=\"MODE\">GET</field><field name=\"WHERE\">FROM_START</field><value name=\"VALUE\"><block type=\"variables_get\" id=\"fQYj?Tz[y/t|%9~{2Pf[\"><field name=\"VAR\" id=\"{Yt*9=2tTC$JepE9BcRz\">splits</field></block></value><value name=\"AT\"><block type=\"math_number\" id=\"V(5k43YOsHPep%LEEd9Q\"><field name=\"NUM\">4</field></block></value></block></value><value name=\"ADD1\"><block type=\"variables_get\" id=\"mX(20KX!C)d_,/ddeysr\"><field name=\"VAR\" id=\".hU+?FvKPIm~!dS$d-nj\">predictions</field></block></value></block></value></block></xml>"
   ]
  },
  {
   "cell_type": "markdown",
   "metadata": {},
   "source": [
    "As we can see, both the accuracy and the average precision, recall, and f1 are all very good."
   ]
  },
  {
   "cell_type": "markdown",
   "metadata": {},
   "source": [
    "## Display the Tree"
   ]
  },
  {
   "cell_type": "markdown",
   "metadata": {},
   "source": [
    "First import `graphviz`."
   ]
  },
  {
   "cell_type": "code",
   "execution_count": 29,
   "metadata": {
    "user_blocks": [
     "importAs"
    ],
    "user_blocks_xml": "<xml xmlns=\"https://developers.google.com/blockly/xml\"><variables><variable id=\"rrXqQ:9R(~X0,}F[1UD]\">graphviz</variable></variables><block type=\"importAs\" id=\"5j3UPoKQcO/bU0u!@P06\" x=\"16\" y=\"36\"><field name=\"libraryName\">graphviz</field><field name=\"VAR\" id=\"rrXqQ:9R(~X0,}F[1UD]\">graphviz</field></block></xml>",
    "user_code_from_blocks": "import graphviz as graphviz\n"
   },
   "outputs": [],
   "source": [
    "import graphviz as graphviz\n",
    "\n",
    "#<xml xmlns=\"https://developers.google.com/blockly/xml\"><variables><variable id=\"rrXqQ:9R(~X0,}F[1UD]\">graphviz</variable></variables><block type=\"importAs\" id=\"5j3UPoKQcO/bU0u!@P06\" x=\"16\" y=\"36\"><field name=\"libraryName\">graphviz</field><field name=\"VAR\" id=\"rrXqQ:9R(~X0,}F[1UD]\">graphviz</field></block></xml>"
   ]
  },
  {
   "cell_type": "markdown",
   "metadata": {},
   "source": [
    "And use it to build the tree. Try to copy this from your other notebook if at all possible."
   ]
  },
  {
   "cell_type": "code",
   "execution_count": 31,
   "metadata": {
    "user_blocks": [
     "variables_set",
     "varDoMethod",
     "variables_get",
     "dummyOutputCodeBlock",
     "dummyOutputCodeBlock",
     "dummyOutputCodeBlock",
     "dummyOutputCodeBlock",
     "dummyOutputCodeBlock",
     "dummyOutputCodeBlock",
     "varCreateObject",
     "variables_get"
    ],
    "user_blocks_xml": "<xml xmlns=\"https://developers.google.com/blockly/xml\"><variables><variable id=\"F.ej=Hud7vT9uozVaF5C\">dot_data</variable><variable id=\"rrXqQ:9R(~X0,}F[1UD]\">graphviz</variable><variable id=\"tkeU~z;dQ]^6[?rbF?)9\">tree</variable><variable id=\"fYtGc,k9LOv^%_9|[cfE\">decisionTree</variable></variables><block type=\"variables_set\" id=\":6*zm74#9$!O3?QVUukE\" x=\"12\" y=\"176\"><field name=\"VAR\" id=\"F.ej=Hud7vT9uozVaF5C\">dot_data</field><value name=\"VALUE\"><block type=\"varDoMethod\" id=\"jsRyzb,9t~G^G@G@SMkS\"><mutation items=\"7\"></mutation><field name=\"VAR\" id=\"tkeU~z;dQ]^6[?rbF?)9\">tree</field><field name=\"MEMBER\">export_graphviz</field><data>tree:export_graphviz</data><value name=\"ADD0\"><block type=\"variables_get\" id=\"x$]b$%X#}qjO@0H/!O|N\"><field name=\"VAR\" id=\"fYtGc,k9LOv^%_9|[cfE\">decisionTree</field></block></value><value name=\"ADD1\"><block type=\"dummyOutputCodeBlock\" id=\"K!=:ty3DMPs#b^ziH=5p\"><field name=\"CODE\">out_file=None</field></block></value><value name=\"ADD2\"><block type=\"dummyOutputCodeBlock\" id=\"4=`@0`s#P?-p!O`Vv_8o\"><field name=\"CODE\">feature_names=[\"chocolate\",\"fruity\",\"caramel\",\"peanutyalmondy\",\"nougat\",\"crispedricewafer\",\"hard\",\"bar\",\"pluribus\",\"sugarpercent\",\"pricepercent\"]</field></block></value><value name=\"ADD3\"><block type=\"dummyOutputCodeBlock\" id=\"}9s+(fF@pHV!vFwa)B2v\"><field name=\"CODE\">class_names=['0','1']</field></block></value><value name=\"ADD4\"><block type=\"dummyOutputCodeBlock\" id=\"^IJ3b3Eg7K9k^6Of_4i%\"><field name=\"CODE\">filled=True</field></block></value><value name=\"ADD5\"><block type=\"dummyOutputCodeBlock\" id=\"VH!NxdBRgItjnN]Zs^Uh\"><field name=\"CODE\">rounded=True</field></block></value><value name=\"ADD6\"><block type=\"dummyOutputCodeBlock\" id=\"f*|7fCy,K/0{_WzfribG\"><field name=\"CODE\">special_characters=True</field></block></value></block></value></block><block type=\"varCreateObject\" id=\"e#:go,;P@0H5[+u[7oDT\" x=\"10\" y=\"425\"><mutation items=\"1\"></mutation><field name=\"VAR\" id=\"rrXqQ:9R(~X0,}F[1UD]\">graphviz</field><field name=\"MEMBER\">Source</field><data>graphviz:Source</data><value name=\"ADD0\"><block type=\"variables_get\" id=\"X!;l`d)95n$iGiWU~m(3\"><field name=\"VAR\" id=\"F.ej=Hud7vT9uozVaF5C\">dot_data</field></block></value></block></xml>",
    "user_code_from_blocks": "dot_data = tree.export_graphviz(decisionTree,out_file=None,feature_names=[\"chocolate\",\"fruity\",\"caramel\",\"peanutyalmondy\",\"nougat\",\"crispedricewafer\",\"hard\",\"bar\",\"pluribus\",\"sugarpercent\",\"pricepercent\"],class_names=['0','1'],filled=True,rounded=True,special_characters=True)\n\ngraphviz.Source(dot_data)\n"
   },
   "outputs": [
    {
     "data": {
      "image/svg+xml": [
       "<?xml version=\"1.0\" encoding=\"UTF-8\" standalone=\"no\"?>\n",
       "<!DOCTYPE svg PUBLIC \"-//W3C//DTD SVG 1.1//EN\"\n",
       " \"http://www.w3.org/Graphics/SVG/1.1/DTD/svg11.dtd\">\n",
       "<!-- Generated by graphviz version 12.0.0 (20240803.0821)\n",
       " -->\n",
       "<!-- Title: Tree Pages: 1 -->\n",
       "<svg width=\"1222pt\" height=\"1257pt\"\n",
       " viewBox=\"0.00 0.00 1222.00 1257.25\" xmlns=\"http://www.w3.org/2000/svg\" xmlns:xlink=\"http://www.w3.org/1999/xlink\">\n",
       "<g id=\"graph0\" class=\"graph\" transform=\"scale(1 1) rotate(0) translate(4 1253.25)\">\n",
       "<title>Tree</title>\n",
       "<polygon fill=\"white\" stroke=\"none\" points=\"-4,4 -4,-1253.25 1218,-1253.25 1218,4 -4,4\"/>\n",
       "<!-- 0 -->\n",
       "<g id=\"node1\" class=\"node\">\n",
       "<title>0</title>\n",
       "<path fill=\"#fae6d7\" stroke=\"black\" d=\"M657.5,-1249.25C657.5,-1249.25 551.5,-1249.25 551.5,-1249.25 545.5,-1249.25 539.5,-1243.25 539.5,-1237.25 539.5,-1237.25 539.5,-1167 539.5,-1167 539.5,-1161 545.5,-1155 551.5,-1155 551.5,-1155 657.5,-1155 657.5,-1155 663.5,-1155 669.5,-1161 669.5,-1167 669.5,-1167 669.5,-1237.25 669.5,-1237.25 669.5,-1243.25 663.5,-1249.25 657.5,-1249.25\"/>\n",
       "<text text-anchor=\"start\" x=\"549.75\" y=\"-1231.95\" font-family=\"Helvetica,sans-Serif\" font-size=\"14.00\">chocolate ≤ 0.5</text>\n",
       "<text text-anchor=\"start\" x=\"561\" y=\"-1214.7\" font-family=\"Helvetica,sans-Serif\" font-size=\"14.00\">gini = 0.494</text>\n",
       "<text text-anchor=\"start\" x=\"556.12\" y=\"-1197.45\" font-family=\"Helvetica,sans-Serif\" font-size=\"14.00\">samples = 63</text>\n",
       "<text text-anchor=\"start\" x=\"547.5\" y=\"-1180.2\" font-family=\"Helvetica,sans-Serif\" font-size=\"14.00\">value = [35, 28]</text>\n",
       "<text text-anchor=\"start\" x=\"572.25\" y=\"-1162.95\" font-family=\"Helvetica,sans-Serif\" font-size=\"14.00\">class = 0</text>\n",
       "</g>\n",
       "<!-- 1 -->\n",
       "<g id=\"node2\" class=\"node\">\n",
       "<title>1</title>\n",
       "<path fill=\"#eca572\" stroke=\"black\" d=\"M513.88,-1119C513.88,-1119 377.12,-1119 377.12,-1119 371.12,-1119 365.12,-1113 365.12,-1107 365.12,-1107 365.12,-1036.75 365.12,-1036.75 365.12,-1030.75 371.12,-1024.75 377.12,-1024.75 377.12,-1024.75 513.88,-1024.75 513.88,-1024.75 519.88,-1024.75 525.88,-1030.75 525.88,-1036.75 525.88,-1036.75 525.88,-1107 525.88,-1107 525.88,-1113 519.88,-1119 513.88,-1119\"/>\n",
       "<text text-anchor=\"start\" x=\"373.12\" y=\"-1101.7\" font-family=\"Helvetica,sans-Serif\" font-size=\"14.00\">sugarpercent ≤ 0.79</text>\n",
       "<text text-anchor=\"start\" x=\"402\" y=\"-1084.45\" font-family=\"Helvetica,sans-Serif\" font-size=\"14.00\">gini = 0.346</text>\n",
       "<text text-anchor=\"start\" x=\"397.12\" y=\"-1067.2\" font-family=\"Helvetica,sans-Serif\" font-size=\"14.00\">samples = 36</text>\n",
       "<text text-anchor=\"start\" x=\"393\" y=\"-1049.95\" font-family=\"Helvetica,sans-Serif\" font-size=\"14.00\">value = [28, 8]</text>\n",
       "<text text-anchor=\"start\" x=\"413.25\" y=\"-1032.7\" font-family=\"Helvetica,sans-Serif\" font-size=\"14.00\">class = 0</text>\n",
       "</g>\n",
       "<!-- 0&#45;&gt;1 -->\n",
       "<g id=\"edge1\" class=\"edge\">\n",
       "<title>0&#45;&gt;1</title>\n",
       "<path fill=\"none\" stroke=\"black\" d=\"M547.1,-1154.82C535.69,-1145.62 523.61,-1135.88 511.93,-1126.46\"/>\n",
       "<polygon fill=\"black\" stroke=\"black\" points=\"514.24,-1123.83 504.26,-1120.27 509.85,-1129.28 514.24,-1123.83\"/>\n",
       "<text text-anchor=\"middle\" x=\"505.75\" y=\"-1139.51\" font-family=\"Helvetica,sans-Serif\" font-size=\"14.00\">True</text>\n",
       "</g>\n",
       "<!-- 26 -->\n",
       "<g id=\"node27\" class=\"node\">\n",
       "<title>26</title>\n",
       "<path fill=\"#7ebfee\" stroke=\"black\" d=\"M819.75,-1119C819.75,-1119 679.25,-1119 679.25,-1119 673.25,-1119 667.25,-1113 667.25,-1107 667.25,-1107 667.25,-1036.75 667.25,-1036.75 667.25,-1030.75 673.25,-1024.75 679.25,-1024.75 679.25,-1024.75 819.75,-1024.75 819.75,-1024.75 825.75,-1024.75 831.75,-1030.75 831.75,-1036.75 831.75,-1036.75 831.75,-1107 831.75,-1107 831.75,-1113 825.75,-1119 819.75,-1119\"/>\n",
       "<text text-anchor=\"start\" x=\"675.25\" y=\"-1101.7\" font-family=\"Helvetica,sans-Serif\" font-size=\"14.00\">pricepercent ≤ 0.383</text>\n",
       "<text text-anchor=\"start\" x=\"706\" y=\"-1084.45\" font-family=\"Helvetica,sans-Serif\" font-size=\"14.00\">gini = 0.384</text>\n",
       "<text text-anchor=\"start\" x=\"701.12\" y=\"-1067.2\" font-family=\"Helvetica,sans-Serif\" font-size=\"14.00\">samples = 27</text>\n",
       "<text text-anchor=\"start\" x=\"697\" y=\"-1049.95\" font-family=\"Helvetica,sans-Serif\" font-size=\"14.00\">value = [7, 20]</text>\n",
       "<text text-anchor=\"start\" x=\"717.25\" y=\"-1032.7\" font-family=\"Helvetica,sans-Serif\" font-size=\"14.00\">class = 1</text>\n",
       "</g>\n",
       "<!-- 0&#45;&gt;26 -->\n",
       "<g id=\"edge26\" class=\"edge\">\n",
       "<title>0&#45;&gt;26</title>\n",
       "<path fill=\"none\" stroke=\"black\" d=\"M656.85,-1154.82C667.22,-1145.65 678.18,-1135.95 688.8,-1126.56\"/>\n",
       "<polygon fill=\"black\" stroke=\"black\" points=\"690.92,-1129.36 696.09,-1120.11 686.29,-1124.11 690.92,-1129.36\"/>\n",
       "<text text-anchor=\"middle\" x=\"695.7\" y=\"-1139.39\" font-family=\"Helvetica,sans-Serif\" font-size=\"14.00\">False</text>\n",
       "</g>\n",
       "<!-- 2 -->\n",
       "<g id=\"node3\" class=\"node\">\n",
       "<title>2</title>\n",
       "<path fill=\"#e9965a\" stroke=\"black\" d=\"M291.75,-988.75C291.75,-988.75 151.25,-988.75 151.25,-988.75 145.25,-988.75 139.25,-982.75 139.25,-976.75 139.25,-976.75 139.25,-906.5 139.25,-906.5 139.25,-900.5 145.25,-894.5 151.25,-894.5 151.25,-894.5 291.75,-894.5 291.75,-894.5 297.75,-894.5 303.75,-900.5 303.75,-906.5 303.75,-906.5 303.75,-976.75 303.75,-976.75 303.75,-982.75 297.75,-988.75 291.75,-988.75\"/>\n",
       "<text text-anchor=\"start\" x=\"147.25\" y=\"-971.45\" font-family=\"Helvetica,sans-Serif\" font-size=\"14.00\">pricepercent ≤ 0.273</text>\n",
       "<text text-anchor=\"start\" x=\"178\" y=\"-954.2\" font-family=\"Helvetica,sans-Serif\" font-size=\"14.00\">gini = 0.245</text>\n",
       "<text text-anchor=\"start\" x=\"173.12\" y=\"-936.95\" font-family=\"Helvetica,sans-Serif\" font-size=\"14.00\">samples = 28</text>\n",
       "<text text-anchor=\"start\" x=\"169\" y=\"-919.7\" font-family=\"Helvetica,sans-Serif\" font-size=\"14.00\">value = [24, 4]</text>\n",
       "<text text-anchor=\"start\" x=\"189.25\" y=\"-902.45\" font-family=\"Helvetica,sans-Serif\" font-size=\"14.00\">class = 0</text>\n",
       "</g>\n",
       "<!-- 1&#45;&gt;2 -->\n",
       "<g id=\"edge2\" class=\"edge\">\n",
       "<title>1&#45;&gt;2</title>\n",
       "<path fill=\"none\" stroke=\"black\" d=\"M364.63,-1024.57C347.61,-1014.83 329.54,-1004.48 312.18,-994.55\"/>\n",
       "<polygon fill=\"black\" stroke=\"black\" points=\"314.36,-991.76 303.94,-989.83 310.88,-997.83 314.36,-991.76\"/>\n",
       "</g>\n",
       "<!-- 17 -->\n",
       "<g id=\"node18\" class=\"node\">\n",
       "<title>17</title>\n",
       "<path fill=\"#ffffff\" stroke=\"black\" d=\"M489.5,-988.75C489.5,-988.75 401.5,-988.75 401.5,-988.75 395.5,-988.75 389.5,-982.75 389.5,-976.75 389.5,-976.75 389.5,-906.5 389.5,-906.5 389.5,-900.5 395.5,-894.5 401.5,-894.5 401.5,-894.5 489.5,-894.5 489.5,-894.5 495.5,-894.5 501.5,-900.5 501.5,-906.5 501.5,-906.5 501.5,-976.75 501.5,-976.75 501.5,-982.75 495.5,-988.75 489.5,-988.75\"/>\n",
       "<text text-anchor=\"start\" x=\"405\" y=\"-971.45\" font-family=\"Helvetica,sans-Serif\" font-size=\"14.00\">fruity ≤ 0.5</text>\n",
       "<text text-anchor=\"start\" x=\"411\" y=\"-954.2\" font-family=\"Helvetica,sans-Serif\" font-size=\"14.00\">gini = 0.5</text>\n",
       "<text text-anchor=\"start\" x=\"401.62\" y=\"-936.95\" font-family=\"Helvetica,sans-Serif\" font-size=\"14.00\">samples = 8</text>\n",
       "<text text-anchor=\"start\" x=\"397.5\" y=\"-919.7\" font-family=\"Helvetica,sans-Serif\" font-size=\"14.00\">value = [4, 4]</text>\n",
       "<text text-anchor=\"start\" x=\"413.25\" y=\"-902.45\" font-family=\"Helvetica,sans-Serif\" font-size=\"14.00\">class = 0</text>\n",
       "</g>\n",
       "<!-- 1&#45;&gt;17 -->\n",
       "<g id=\"edge17\" class=\"edge\">\n",
       "<title>1&#45;&gt;17</title>\n",
       "<path fill=\"none\" stroke=\"black\" d=\"M445.5,-1024.57C445.5,-1016.67 445.5,-1008.38 445.5,-1000.23\"/>\n",
       "<polygon fill=\"black\" stroke=\"black\" points=\"449,-1000.37 445.5,-990.37 442,-1000.37 449,-1000.37\"/>\n",
       "</g>\n",
       "<!-- 3 -->\n",
       "<g id=\"node4\" class=\"node\">\n",
       "<title>3</title>\n",
       "<path fill=\"#e58139\" stroke=\"black\" d=\"M109,-849.88C109,-849.88 12,-849.88 12,-849.88 6,-849.88 0,-843.88 0,-837.88 0,-837.88 0,-784.88 0,-784.88 0,-778.88 6,-772.88 12,-772.88 12,-772.88 109,-772.88 109,-772.88 115,-772.88 121,-778.88 121,-784.88 121,-784.88 121,-837.88 121,-837.88 121,-843.88 115,-849.88 109,-849.88\"/>\n",
       "<text text-anchor=\"start\" x=\"26\" y=\"-832.58\" font-family=\"Helvetica,sans-Serif\" font-size=\"14.00\">gini = 0.0</text>\n",
       "<text text-anchor=\"start\" x=\"12.12\" y=\"-815.33\" font-family=\"Helvetica,sans-Serif\" font-size=\"14.00\">samples = 10</text>\n",
       "<text text-anchor=\"start\" x=\"8\" y=\"-798.08\" font-family=\"Helvetica,sans-Serif\" font-size=\"14.00\">value = [10, 0]</text>\n",
       "<text text-anchor=\"start\" x=\"28.25\" y=\"-780.83\" font-family=\"Helvetica,sans-Serif\" font-size=\"14.00\">class = 0</text>\n",
       "</g>\n",
       "<!-- 2&#45;&gt;3 -->\n",
       "<g id=\"edge3\" class=\"edge\">\n",
       "<title>2&#45;&gt;3</title>\n",
       "<path fill=\"none\" stroke=\"black\" d=\"M163.38,-894.32C148.17,-882.21 131.8,-869.17 116.69,-857.14\"/>\n",
       "<polygon fill=\"black\" stroke=\"black\" points=\"119.15,-854.62 109.15,-851.13 114.79,-860.09 119.15,-854.62\"/>\n",
       "</g>\n",
       "<!-- 4 -->\n",
       "<g id=\"node5\" class=\"node\">\n",
       "<title>4</title>\n",
       "<path fill=\"#eca572\" stroke=\"black\" d=\"M291.75,-858.5C291.75,-858.5 151.25,-858.5 151.25,-858.5 145.25,-858.5 139.25,-852.5 139.25,-846.5 139.25,-846.5 139.25,-776.25 139.25,-776.25 139.25,-770.25 145.25,-764.25 151.25,-764.25 151.25,-764.25 291.75,-764.25 291.75,-764.25 297.75,-764.25 303.75,-770.25 303.75,-776.25 303.75,-776.25 303.75,-846.5 303.75,-846.5 303.75,-852.5 297.75,-858.5 291.75,-858.5\"/>\n",
       "<text text-anchor=\"start\" x=\"147.25\" y=\"-841.2\" font-family=\"Helvetica,sans-Serif\" font-size=\"14.00\">pricepercent ≤ 0.296</text>\n",
       "<text text-anchor=\"start\" x=\"178\" y=\"-823.95\" font-family=\"Helvetica,sans-Serif\" font-size=\"14.00\">gini = 0.346</text>\n",
       "<text text-anchor=\"start\" x=\"173.12\" y=\"-806.7\" font-family=\"Helvetica,sans-Serif\" font-size=\"14.00\">samples = 18</text>\n",
       "<text text-anchor=\"start\" x=\"169\" y=\"-789.45\" font-family=\"Helvetica,sans-Serif\" font-size=\"14.00\">value = [14, 4]</text>\n",
       "<text text-anchor=\"start\" x=\"189.25\" y=\"-772.2\" font-family=\"Helvetica,sans-Serif\" font-size=\"14.00\">class = 0</text>\n",
       "</g>\n",
       "<!-- 2&#45;&gt;4 -->\n",
       "<g id=\"edge4\" class=\"edge\">\n",
       "<title>2&#45;&gt;4</title>\n",
       "<path fill=\"none\" stroke=\"black\" d=\"M221.5,-894.32C221.5,-886.42 221.5,-878.13 221.5,-869.98\"/>\n",
       "<polygon fill=\"black\" stroke=\"black\" points=\"225,-870.12 221.5,-860.12 218,-870.12 225,-870.12\"/>\n",
       "</g>\n",
       "<!-- 5 -->\n",
       "<g id=\"node6\" class=\"node\">\n",
       "<title>5</title>\n",
       "<path fill=\"#399de5\" stroke=\"black\" d=\"M130.5,-719.62C130.5,-719.62 42.5,-719.62 42.5,-719.62 36.5,-719.62 30.5,-713.62 30.5,-707.62 30.5,-707.62 30.5,-654.62 30.5,-654.62 30.5,-648.62 36.5,-642.62 42.5,-642.62 42.5,-642.62 130.5,-642.62 130.5,-642.62 136.5,-642.62 142.5,-648.62 142.5,-654.62 142.5,-654.62 142.5,-707.62 142.5,-707.62 142.5,-713.62 136.5,-719.62 130.5,-719.62\"/>\n",
       "<text text-anchor=\"start\" x=\"52\" y=\"-702.33\" font-family=\"Helvetica,sans-Serif\" font-size=\"14.00\">gini = 0.0</text>\n",
       "<text text-anchor=\"start\" x=\"42.62\" y=\"-685.08\" font-family=\"Helvetica,sans-Serif\" font-size=\"14.00\">samples = 1</text>\n",
       "<text text-anchor=\"start\" x=\"38.5\" y=\"-667.83\" font-family=\"Helvetica,sans-Serif\" font-size=\"14.00\">value = [0, 1]</text>\n",
       "<text text-anchor=\"start\" x=\"54.25\" y=\"-650.58\" font-family=\"Helvetica,sans-Serif\" font-size=\"14.00\">class = 1</text>\n",
       "</g>\n",
       "<!-- 4&#45;&gt;5 -->\n",
       "<g id=\"edge5\" class=\"edge\">\n",
       "<title>4&#45;&gt;5</title>\n",
       "<path fill=\"none\" stroke=\"black\" d=\"M172.76,-764.07C160.25,-752.18 146.8,-739.41 134.33,-727.56\"/>\n",
       "<polygon fill=\"black\" stroke=\"black\" points=\"137.06,-725.32 127.39,-720.97 132.23,-730.4 137.06,-725.32\"/>\n",
       "</g>\n",
       "<!-- 6 -->\n",
       "<g id=\"node7\" class=\"node\">\n",
       "<title>6</title>\n",
       "<path fill=\"#eb9c63\" stroke=\"black\" d=\"M270,-728.25C270,-728.25 173,-728.25 173,-728.25 167,-728.25 161,-722.25 161,-716.25 161,-716.25 161,-646 161,-646 161,-640 167,-634 173,-634 173,-634 270,-634 270,-634 276,-634 282,-640 282,-646 282,-646 282,-716.25 282,-716.25 282,-722.25 276,-728.25 270,-728.25\"/>\n",
       "<text text-anchor=\"start\" x=\"171.25\" y=\"-710.95\" font-family=\"Helvetica,sans-Serif\" font-size=\"14.00\">pluribus ≤ 0.5</text>\n",
       "<text text-anchor=\"start\" x=\"178\" y=\"-693.7\" font-family=\"Helvetica,sans-Serif\" font-size=\"14.00\">gini = 0.291</text>\n",
       "<text text-anchor=\"start\" x=\"173.12\" y=\"-676.45\" font-family=\"Helvetica,sans-Serif\" font-size=\"14.00\">samples = 17</text>\n",
       "<text text-anchor=\"start\" x=\"169\" y=\"-659.2\" font-family=\"Helvetica,sans-Serif\" font-size=\"14.00\">value = [14, 3]</text>\n",
       "<text text-anchor=\"start\" x=\"189.25\" y=\"-641.95\" font-family=\"Helvetica,sans-Serif\" font-size=\"14.00\">class = 0</text>\n",
       "</g>\n",
       "<!-- 4&#45;&gt;6 -->\n",
       "<g id=\"edge6\" class=\"edge\">\n",
       "<title>4&#45;&gt;6</title>\n",
       "<path fill=\"none\" stroke=\"black\" d=\"M221.5,-764.07C221.5,-756.17 221.5,-747.88 221.5,-739.73\"/>\n",
       "<polygon fill=\"black\" stroke=\"black\" points=\"225,-739.87 221.5,-729.87 218,-739.87 225,-739.87\"/>\n",
       "</g>\n",
       "<!-- 7 -->\n",
       "<g id=\"node8\" class=\"node\">\n",
       "<title>7</title>\n",
       "<path fill=\"#e58139\" stroke=\"black\" d=\"M145.5,-589.38C145.5,-589.38 57.5,-589.38 57.5,-589.38 51.5,-589.38 45.5,-583.38 45.5,-577.38 45.5,-577.38 45.5,-524.38 45.5,-524.38 45.5,-518.38 51.5,-512.38 57.5,-512.38 57.5,-512.38 145.5,-512.38 145.5,-512.38 151.5,-512.38 157.5,-518.38 157.5,-524.38 157.5,-524.38 157.5,-577.38 157.5,-577.38 157.5,-583.38 151.5,-589.38 145.5,-589.38\"/>\n",
       "<text text-anchor=\"start\" x=\"67\" y=\"-572.08\" font-family=\"Helvetica,sans-Serif\" font-size=\"14.00\">gini = 0.0</text>\n",
       "<text text-anchor=\"start\" x=\"57.62\" y=\"-554.83\" font-family=\"Helvetica,sans-Serif\" font-size=\"14.00\">samples = 6</text>\n",
       "<text text-anchor=\"start\" x=\"53.5\" y=\"-537.58\" font-family=\"Helvetica,sans-Serif\" font-size=\"14.00\">value = [6, 0]</text>\n",
       "<text text-anchor=\"start\" x=\"69.25\" y=\"-520.33\" font-family=\"Helvetica,sans-Serif\" font-size=\"14.00\">class = 0</text>\n",
       "</g>\n",
       "<!-- 6&#45;&gt;7 -->\n",
       "<g id=\"edge7\" class=\"edge\">\n",
       "<title>6&#45;&gt;7</title>\n",
       "<path fill=\"none\" stroke=\"black\" d=\"M178.18,-633.82C167.26,-622.16 155.55,-609.64 144.65,-597.99\"/>\n",
       "<polygon fill=\"black\" stroke=\"black\" points=\"147.3,-595.7 137.91,-590.79 142.19,-600.48 147.3,-595.7\"/>\n",
       "</g>\n",
       "<!-- 8 -->\n",
       "<g id=\"node9\" class=\"node\">\n",
       "<title>8</title>\n",
       "<path fill=\"#efb083\" stroke=\"black\" d=\"M333.38,-598C333.38,-598 187.62,-598 187.62,-598 181.62,-598 175.62,-592 175.62,-586 175.62,-586 175.62,-515.75 175.62,-515.75 175.62,-509.75 181.62,-503.75 187.62,-503.75 187.62,-503.75 333.38,-503.75 333.38,-503.75 339.38,-503.75 345.38,-509.75 345.38,-515.75 345.38,-515.75 345.38,-586 345.38,-586 345.38,-592 339.38,-598 333.38,-598\"/>\n",
       "<text text-anchor=\"start\" x=\"183.62\" y=\"-580.7\" font-family=\"Helvetica,sans-Serif\" font-size=\"14.00\">sugarpercent ≤ 0.389</text>\n",
       "<text text-anchor=\"start\" x=\"217\" y=\"-563.45\" font-family=\"Helvetica,sans-Serif\" font-size=\"14.00\">gini = 0.397</text>\n",
       "<text text-anchor=\"start\" x=\"212.12\" y=\"-546.2\" font-family=\"Helvetica,sans-Serif\" font-size=\"14.00\">samples = 11</text>\n",
       "<text text-anchor=\"start\" x=\"212.5\" y=\"-528.95\" font-family=\"Helvetica,sans-Serif\" font-size=\"14.00\">value = [8, 3]</text>\n",
       "<text text-anchor=\"start\" x=\"228.25\" y=\"-511.7\" font-family=\"Helvetica,sans-Serif\" font-size=\"14.00\">class = 0</text>\n",
       "</g>\n",
       "<!-- 6&#45;&gt;8 -->\n",
       "<g id=\"edge8\" class=\"edge\">\n",
       "<title>6&#45;&gt;8</title>\n",
       "<path fill=\"none\" stroke=\"black\" d=\"M235.58,-633.82C238.04,-625.74 240.62,-617.25 243.15,-608.92\"/>\n",
       "<polygon fill=\"black\" stroke=\"black\" points=\"246.44,-610.14 246,-599.56 239.74,-608.11 246.44,-610.14\"/>\n",
       "</g>\n",
       "<!-- 9 -->\n",
       "<g id=\"node10\" class=\"node\">\n",
       "<title>9</title>\n",
       "<path fill=\"#e58139\" stroke=\"black\" d=\"M179.5,-459.12C179.5,-459.12 91.5,-459.12 91.5,-459.12 85.5,-459.12 79.5,-453.12 79.5,-447.12 79.5,-447.12 79.5,-394.12 79.5,-394.12 79.5,-388.12 85.5,-382.12 91.5,-382.12 91.5,-382.12 179.5,-382.12 179.5,-382.12 185.5,-382.12 191.5,-388.12 191.5,-394.12 191.5,-394.12 191.5,-447.12 191.5,-447.12 191.5,-453.12 185.5,-459.12 179.5,-459.12\"/>\n",
       "<text text-anchor=\"start\" x=\"101\" y=\"-441.82\" font-family=\"Helvetica,sans-Serif\" font-size=\"14.00\">gini = 0.0</text>\n",
       "<text text-anchor=\"start\" x=\"91.62\" y=\"-424.57\" font-family=\"Helvetica,sans-Serif\" font-size=\"14.00\">samples = 4</text>\n",
       "<text text-anchor=\"start\" x=\"87.5\" y=\"-407.32\" font-family=\"Helvetica,sans-Serif\" font-size=\"14.00\">value = [4, 0]</text>\n",
       "<text text-anchor=\"start\" x=\"103.25\" y=\"-390.07\" font-family=\"Helvetica,sans-Serif\" font-size=\"14.00\">class = 0</text>\n",
       "</g>\n",
       "<!-- 8&#45;&gt;9 -->\n",
       "<g id=\"edge9\" class=\"edge\">\n",
       "<title>8&#45;&gt;9</title>\n",
       "<path fill=\"none\" stroke=\"black\" d=\"M215.37,-503.57C203.89,-491.8 191.57,-479.15 180.12,-467.4\"/>\n",
       "<polygon fill=\"black\" stroke=\"black\" points=\"182.89,-465.23 173.41,-460.52 177.88,-470.12 182.89,-465.23\"/>\n",
       "</g>\n",
       "<!-- 10 -->\n",
       "<g id=\"node11\" class=\"node\">\n",
       "<title>10</title>\n",
       "<path fill=\"#f8e0ce\" stroke=\"black\" d=\"M367.38,-467.75C367.38,-467.75 221.62,-467.75 221.62,-467.75 215.62,-467.75 209.62,-461.75 209.62,-455.75 209.62,-455.75 209.62,-385.5 209.62,-385.5 209.62,-379.5 215.62,-373.5 221.62,-373.5 221.62,-373.5 367.38,-373.5 367.38,-373.5 373.38,-373.5 379.38,-379.5 379.38,-385.5 379.38,-385.5 379.38,-455.75 379.38,-455.75 379.38,-461.75 373.38,-467.75 367.38,-467.75\"/>\n",
       "<text text-anchor=\"start\" x=\"217.62\" y=\"-450.45\" font-family=\"Helvetica,sans-Serif\" font-size=\"14.00\">sugarpercent ≤ 0.668</text>\n",
       "<text text-anchor=\"start\" x=\"255.5\" y=\"-433.2\" font-family=\"Helvetica,sans-Serif\" font-size=\"14.00\">gini = 0.49</text>\n",
       "<text text-anchor=\"start\" x=\"250.62\" y=\"-415.95\" font-family=\"Helvetica,sans-Serif\" font-size=\"14.00\">samples = 7</text>\n",
       "<text text-anchor=\"start\" x=\"246.5\" y=\"-398.7\" font-family=\"Helvetica,sans-Serif\" font-size=\"14.00\">value = [4, 3]</text>\n",
       "<text text-anchor=\"start\" x=\"262.25\" y=\"-381.45\" font-family=\"Helvetica,sans-Serif\" font-size=\"14.00\">class = 0</text>\n",
       "</g>\n",
       "<!-- 8&#45;&gt;10 -->\n",
       "<g id=\"edge10\" class=\"edge\">\n",
       "<title>8&#45;&gt;10</title>\n",
       "<path fill=\"none\" stroke=\"black\" d=\"M272.77,-503.57C274.89,-495.58 277.12,-487.19 279.3,-478.95\"/>\n",
       "<polygon fill=\"black\" stroke=\"black\" points=\"282.68,-479.88 281.86,-469.32 275.91,-478.09 282.68,-479.88\"/>\n",
       "</g>\n",
       "<!-- 11 -->\n",
       "<g id=\"node12\" class=\"node\">\n",
       "<title>11</title>\n",
       "<path fill=\"#bddef6\" stroke=\"black\" d=\"M286.75,-337.5C286.75,-337.5 146.25,-337.5 146.25,-337.5 140.25,-337.5 134.25,-331.5 134.25,-325.5 134.25,-325.5 134.25,-255.25 134.25,-255.25 134.25,-249.25 140.25,-243.25 146.25,-243.25 146.25,-243.25 286.75,-243.25 286.75,-243.25 292.75,-243.25 298.75,-249.25 298.75,-255.25 298.75,-255.25 298.75,-325.5 298.75,-325.5 298.75,-331.5 292.75,-337.5 286.75,-337.5\"/>\n",
       "<text text-anchor=\"start\" x=\"142.25\" y=\"-320.2\" font-family=\"Helvetica,sans-Serif\" font-size=\"14.00\">pricepercent ≤ 0.796</text>\n",
       "<text text-anchor=\"start\" x=\"177.5\" y=\"-302.95\" font-family=\"Helvetica,sans-Serif\" font-size=\"14.00\">gini = 0.48</text>\n",
       "<text text-anchor=\"start\" x=\"172.62\" y=\"-285.7\" font-family=\"Helvetica,sans-Serif\" font-size=\"14.00\">samples = 5</text>\n",
       "<text text-anchor=\"start\" x=\"168.5\" y=\"-268.45\" font-family=\"Helvetica,sans-Serif\" font-size=\"14.00\">value = [2, 3]</text>\n",
       "<text text-anchor=\"start\" x=\"184.25\" y=\"-251.2\" font-family=\"Helvetica,sans-Serif\" font-size=\"14.00\">class = 1</text>\n",
       "</g>\n",
       "<!-- 10&#45;&gt;11 -->\n",
       "<g id=\"edge11\" class=\"edge\">\n",
       "<title>10&#45;&gt;11</title>\n",
       "<path fill=\"none\" stroke=\"black\" d=\"M266.34,-373.32C261.2,-364.88 255.8,-355.99 250.51,-347.3\"/>\n",
       "<polygon fill=\"black\" stroke=\"black\" points=\"253.59,-345.63 245.4,-338.9 247.61,-349.26 253.59,-345.63\"/>\n",
       "</g>\n",
       "<!-- 16 -->\n",
       "<g id=\"node17\" class=\"node\">\n",
       "<title>16</title>\n",
       "<path fill=\"#e58139\" stroke=\"black\" d=\"M416.5,-328.88C416.5,-328.88 328.5,-328.88 328.5,-328.88 322.5,-328.88 316.5,-322.88 316.5,-316.88 316.5,-316.88 316.5,-263.88 316.5,-263.88 316.5,-257.88 322.5,-251.88 328.5,-251.88 328.5,-251.88 416.5,-251.88 416.5,-251.88 422.5,-251.88 428.5,-257.88 428.5,-263.88 428.5,-263.88 428.5,-316.88 428.5,-316.88 428.5,-322.88 422.5,-328.88 416.5,-328.88\"/>\n",
       "<text text-anchor=\"start\" x=\"338\" y=\"-311.57\" font-family=\"Helvetica,sans-Serif\" font-size=\"14.00\">gini = 0.0</text>\n",
       "<text text-anchor=\"start\" x=\"328.62\" y=\"-294.32\" font-family=\"Helvetica,sans-Serif\" font-size=\"14.00\">samples = 2</text>\n",
       "<text text-anchor=\"start\" x=\"324.5\" y=\"-277.07\" font-family=\"Helvetica,sans-Serif\" font-size=\"14.00\">value = [2, 0]</text>\n",
       "<text text-anchor=\"start\" x=\"340.25\" y=\"-259.82\" font-family=\"Helvetica,sans-Serif\" font-size=\"14.00\">class = 0</text>\n",
       "</g>\n",
       "<!-- 10&#45;&gt;16 -->\n",
       "<g id=\"edge16\" class=\"edge\">\n",
       "<title>10&#45;&gt;16</title>\n",
       "<path fill=\"none\" stroke=\"black\" d=\"M322.66,-373.32C329.48,-362.11 336.78,-350.12 343.63,-338.85\"/>\n",
       "<polygon fill=\"black\" stroke=\"black\" points=\"346.51,-340.84 348.72,-330.48 340.53,-337.2 346.51,-340.84\"/>\n",
       "</g>\n",
       "<!-- 12 -->\n",
       "<g id=\"node13\" class=\"node\">\n",
       "<title>12</title>\n",
       "<path fill=\"#7bbeee\" stroke=\"black\" d=\"M210.38,-207.25C210.38,-207.25 64.62,-207.25 64.62,-207.25 58.62,-207.25 52.62,-201.25 52.62,-195.25 52.62,-195.25 52.62,-125 52.62,-125 52.62,-119 58.62,-113 64.62,-113 64.62,-113 210.38,-113 210.38,-113 216.38,-113 222.38,-119 222.38,-125 222.38,-125 222.38,-195.25 222.38,-195.25 222.38,-201.25 216.38,-207.25 210.38,-207.25\"/>\n",
       "<text text-anchor=\"start\" x=\"60.62\" y=\"-189.95\" font-family=\"Helvetica,sans-Serif\" font-size=\"14.00\">sugarpercent ≤ 0.534</text>\n",
       "<text text-anchor=\"start\" x=\"94\" y=\"-172.7\" font-family=\"Helvetica,sans-Serif\" font-size=\"14.00\">gini = 0.375</text>\n",
       "<text text-anchor=\"start\" x=\"93.62\" y=\"-155.45\" font-family=\"Helvetica,sans-Serif\" font-size=\"14.00\">samples = 4</text>\n",
       "<text text-anchor=\"start\" x=\"89.5\" y=\"-138.2\" font-family=\"Helvetica,sans-Serif\" font-size=\"14.00\">value = [1, 3]</text>\n",
       "<text text-anchor=\"start\" x=\"105.25\" y=\"-120.95\" font-family=\"Helvetica,sans-Serif\" font-size=\"14.00\">class = 1</text>\n",
       "</g>\n",
       "<!-- 11&#45;&gt;12 -->\n",
       "<g id=\"edge12\" class=\"edge\">\n",
       "<title>11&#45;&gt;12</title>\n",
       "<path fill=\"none\" stroke=\"black\" d=\"M187.98,-243.07C182.78,-234.63 177.3,-225.74 171.95,-217.05\"/>\n",
       "<polygon fill=\"black\" stroke=\"black\" points=\"175,-215.33 166.77,-208.65 169.04,-219 175,-215.33\"/>\n",
       "</g>\n",
       "<!-- 15 -->\n",
       "<g id=\"node16\" class=\"node\">\n",
       "<title>15</title>\n",
       "<path fill=\"#e58139\" stroke=\"black\" d=\"M340.5,-198.62C340.5,-198.62 252.5,-198.62 252.5,-198.62 246.5,-198.62 240.5,-192.62 240.5,-186.62 240.5,-186.62 240.5,-133.62 240.5,-133.62 240.5,-127.62 246.5,-121.62 252.5,-121.62 252.5,-121.62 340.5,-121.62 340.5,-121.62 346.5,-121.62 352.5,-127.62 352.5,-133.62 352.5,-133.62 352.5,-186.62 352.5,-186.62 352.5,-192.62 346.5,-198.62 340.5,-198.62\"/>\n",
       "<text text-anchor=\"start\" x=\"262\" y=\"-181.32\" font-family=\"Helvetica,sans-Serif\" font-size=\"14.00\">gini = 0.0</text>\n",
       "<text text-anchor=\"start\" x=\"252.62\" y=\"-164.07\" font-family=\"Helvetica,sans-Serif\" font-size=\"14.00\">samples = 1</text>\n",
       "<text text-anchor=\"start\" x=\"248.5\" y=\"-146.82\" font-family=\"Helvetica,sans-Serif\" font-size=\"14.00\">value = [1, 0]</text>\n",
       "<text text-anchor=\"start\" x=\"264.25\" y=\"-129.57\" font-family=\"Helvetica,sans-Serif\" font-size=\"14.00\">class = 0</text>\n",
       "</g>\n",
       "<!-- 11&#45;&gt;15 -->\n",
       "<g id=\"edge15\" class=\"edge\">\n",
       "<title>11&#45;&gt;15</title>\n",
       "<path fill=\"none\" stroke=\"black\" d=\"M245.38,-243.07C252.37,-231.86 259.86,-219.87 266.88,-208.6\"/>\n",
       "<polygon fill=\"black\" stroke=\"black\" points=\"269.79,-210.55 272.12,-200.22 263.85,-206.85 269.79,-210.55\"/>\n",
       "</g>\n",
       "<!-- 13 -->\n",
       "<g id=\"node14\" class=\"node\">\n",
       "<title>13</title>\n",
       "<path fill=\"#9ccef2\" stroke=\"black\" d=\"M116.5,-77C116.5,-77 28.5,-77 28.5,-77 22.5,-77 16.5,-71 16.5,-65 16.5,-65 16.5,-12 16.5,-12 16.5,-6 22.5,0 28.5,0 28.5,0 116.5,0 116.5,0 122.5,0 128.5,-6 128.5,-12 128.5,-12 128.5,-65 128.5,-65 128.5,-71 122.5,-77 116.5,-77\"/>\n",
       "<text text-anchor=\"start\" x=\"29\" y=\"-59.7\" font-family=\"Helvetica,sans-Serif\" font-size=\"14.00\">gini = 0.444</text>\n",
       "<text text-anchor=\"start\" x=\"28.62\" y=\"-42.45\" font-family=\"Helvetica,sans-Serif\" font-size=\"14.00\">samples = 3</text>\n",
       "<text text-anchor=\"start\" x=\"24.5\" y=\"-25.2\" font-family=\"Helvetica,sans-Serif\" font-size=\"14.00\">value = [1, 2]</text>\n",
       "<text text-anchor=\"start\" x=\"40.25\" y=\"-7.95\" font-family=\"Helvetica,sans-Serif\" font-size=\"14.00\">class = 1</text>\n",
       "</g>\n",
       "<!-- 12&#45;&gt;13 -->\n",
       "<g id=\"edge13\" class=\"edge\">\n",
       "<title>12&#45;&gt;13</title>\n",
       "<path fill=\"none\" stroke=\"black\" d=\"M112.18,-112.53C107.67,-104.23 102.97,-95.57 98.44,-87.24\"/>\n",
       "<polygon fill=\"black\" stroke=\"black\" points=\"101.6,-85.73 93.75,-78.61 95.45,-89.07 101.6,-85.73\"/>\n",
       "</g>\n",
       "<!-- 14 -->\n",
       "<g id=\"node15\" class=\"node\">\n",
       "<title>14</title>\n",
       "<path fill=\"#399de5\" stroke=\"black\" d=\"M246.5,-77C246.5,-77 158.5,-77 158.5,-77 152.5,-77 146.5,-71 146.5,-65 146.5,-65 146.5,-12 146.5,-12 146.5,-6 152.5,0 158.5,0 158.5,0 246.5,0 246.5,0 252.5,0 258.5,-6 258.5,-12 258.5,-12 258.5,-65 258.5,-65 258.5,-71 252.5,-77 246.5,-77\"/>\n",
       "<text text-anchor=\"start\" x=\"168\" y=\"-59.7\" font-family=\"Helvetica,sans-Serif\" font-size=\"14.00\">gini = 0.0</text>\n",
       "<text text-anchor=\"start\" x=\"158.62\" y=\"-42.45\" font-family=\"Helvetica,sans-Serif\" font-size=\"14.00\">samples = 1</text>\n",
       "<text text-anchor=\"start\" x=\"154.5\" y=\"-25.2\" font-family=\"Helvetica,sans-Serif\" font-size=\"14.00\">value = [0, 1]</text>\n",
       "<text text-anchor=\"start\" x=\"170.25\" y=\"-7.95\" font-family=\"Helvetica,sans-Serif\" font-size=\"14.00\">class = 1</text>\n",
       "</g>\n",
       "<!-- 12&#45;&gt;14 -->\n",
       "<g id=\"edge14\" class=\"edge\">\n",
       "<title>12&#45;&gt;14</title>\n",
       "<path fill=\"none\" stroke=\"black\" d=\"M162.82,-112.53C167.33,-104.23 172.03,-95.57 176.56,-87.24\"/>\n",
       "<polygon fill=\"black\" stroke=\"black\" points=\"179.55,-89.07 181.25,-78.61 173.4,-85.73 179.55,-89.07\"/>\n",
       "</g>\n",
       "<!-- 18 -->\n",
       "<g id=\"node19\" class=\"node\">\n",
       "<title>18</title>\n",
       "<path fill=\"#e58139\" stroke=\"black\" d=\"M421.5,-849.88C421.5,-849.88 333.5,-849.88 333.5,-849.88 327.5,-849.88 321.5,-843.88 321.5,-837.88 321.5,-837.88 321.5,-784.88 321.5,-784.88 321.5,-778.88 327.5,-772.88 333.5,-772.88 333.5,-772.88 421.5,-772.88 421.5,-772.88 427.5,-772.88 433.5,-778.88 433.5,-784.88 433.5,-784.88 433.5,-837.88 433.5,-837.88 433.5,-843.88 427.5,-849.88 421.5,-849.88\"/>\n",
       "<text text-anchor=\"start\" x=\"343\" y=\"-832.58\" font-family=\"Helvetica,sans-Serif\" font-size=\"14.00\">gini = 0.0</text>\n",
       "<text text-anchor=\"start\" x=\"333.62\" y=\"-815.33\" font-family=\"Helvetica,sans-Serif\" font-size=\"14.00\">samples = 2</text>\n",
       "<text text-anchor=\"start\" x=\"329.5\" y=\"-798.08\" font-family=\"Helvetica,sans-Serif\" font-size=\"14.00\">value = [2, 0]</text>\n",
       "<text text-anchor=\"start\" x=\"345.25\" y=\"-780.83\" font-family=\"Helvetica,sans-Serif\" font-size=\"14.00\">class = 0</text>\n",
       "</g>\n",
       "<!-- 17&#45;&gt;18 -->\n",
       "<g id=\"edge18\" class=\"edge\">\n",
       "<title>17&#45;&gt;18</title>\n",
       "<path fill=\"none\" stroke=\"black\" d=\"M420.95,-894.32C415.07,-883.23 408.77,-871.36 402.85,-860.19\"/>\n",
       "<polygon fill=\"black\" stroke=\"black\" points=\"406.03,-858.71 398.25,-851.52 399.85,-861.99 406.03,-858.71\"/>\n",
       "</g>\n",
       "<!-- 19 -->\n",
       "<g id=\"node20\" class=\"node\">\n",
       "<title>19</title>\n",
       "<path fill=\"#9ccef2\" stroke=\"black\" d=\"M609.38,-858.5C609.38,-858.5 463.62,-858.5 463.62,-858.5 457.62,-858.5 451.62,-852.5 451.62,-846.5 451.62,-846.5 451.62,-776.25 451.62,-776.25 451.62,-770.25 457.62,-764.25 463.62,-764.25 463.62,-764.25 609.38,-764.25 609.38,-764.25 615.38,-764.25 621.38,-770.25 621.38,-776.25 621.38,-776.25 621.38,-846.5 621.38,-846.5 621.38,-852.5 615.38,-858.5 609.38,-858.5\"/>\n",
       "<text text-anchor=\"start\" x=\"459.62\" y=\"-841.2\" font-family=\"Helvetica,sans-Serif\" font-size=\"14.00\">sugarpercent ≤ 0.924</text>\n",
       "<text text-anchor=\"start\" x=\"493\" y=\"-823.95\" font-family=\"Helvetica,sans-Serif\" font-size=\"14.00\">gini = 0.444</text>\n",
       "<text text-anchor=\"start\" x=\"492.62\" y=\"-806.7\" font-family=\"Helvetica,sans-Serif\" font-size=\"14.00\">samples = 6</text>\n",
       "<text text-anchor=\"start\" x=\"488.5\" y=\"-789.45\" font-family=\"Helvetica,sans-Serif\" font-size=\"14.00\">value = [2, 4]</text>\n",
       "<text text-anchor=\"start\" x=\"504.25\" y=\"-772.2\" font-family=\"Helvetica,sans-Serif\" font-size=\"14.00\">class = 1</text>\n",
       "</g>\n",
       "<!-- 17&#45;&gt;19 -->\n",
       "<g id=\"edge19\" class=\"edge\">\n",
       "<title>17&#45;&gt;19</title>\n",
       "<path fill=\"none\" stroke=\"black\" d=\"M478.35,-894.32C484.47,-885.7 490.93,-876.6 497.22,-867.74\"/>\n",
       "<polygon fill=\"black\" stroke=\"black\" points=\"499.89,-870.02 502.82,-859.84 494.18,-865.97 499.89,-870.02\"/>\n",
       "</g>\n",
       "<!-- 20 -->\n",
       "<g id=\"node21\" class=\"node\">\n",
       "<title>20</title>\n",
       "<path fill=\"#ffffff\" stroke=\"black\" d=\"M527.88,-728.25C527.88,-728.25 391.12,-728.25 391.12,-728.25 385.12,-728.25 379.12,-722.25 379.12,-716.25 379.12,-716.25 379.12,-646 379.12,-646 379.12,-640 385.12,-634 391.12,-634 391.12,-634 527.88,-634 527.88,-634 533.88,-634 539.88,-640 539.88,-646 539.88,-646 539.88,-716.25 539.88,-716.25 539.88,-722.25 533.88,-728.25 527.88,-728.25\"/>\n",
       "<text text-anchor=\"start\" x=\"387.12\" y=\"-710.95\" font-family=\"Helvetica,sans-Serif\" font-size=\"14.00\">sugarpercent ≤ 0.86</text>\n",
       "<text text-anchor=\"start\" x=\"425\" y=\"-693.7\" font-family=\"Helvetica,sans-Serif\" font-size=\"14.00\">gini = 0.5</text>\n",
       "<text text-anchor=\"start\" x=\"415.62\" y=\"-676.45\" font-family=\"Helvetica,sans-Serif\" font-size=\"14.00\">samples = 4</text>\n",
       "<text text-anchor=\"start\" x=\"411.5\" y=\"-659.2\" font-family=\"Helvetica,sans-Serif\" font-size=\"14.00\">value = [2, 2]</text>\n",
       "<text text-anchor=\"start\" x=\"427.25\" y=\"-641.95\" font-family=\"Helvetica,sans-Serif\" font-size=\"14.00\">class = 0</text>\n",
       "</g>\n",
       "<!-- 19&#45;&gt;20 -->\n",
       "<g id=\"edge20\" class=\"edge\">\n",
       "<title>19&#45;&gt;20</title>\n",
       "<path fill=\"none\" stroke=\"black\" d=\"M508.7,-764.07C503.63,-755.63 498.29,-746.74 493.07,-738.05\"/>\n",
       "<polygon fill=\"black\" stroke=\"black\" points=\"496.19,-736.43 488.04,-729.66 490.18,-740.03 496.19,-736.43\"/>\n",
       "</g>\n",
       "<!-- 25 -->\n",
       "<g id=\"node26\" class=\"node\">\n",
       "<title>25</title>\n",
       "<path fill=\"#399de5\" stroke=\"black\" d=\"M657.5,-719.62C657.5,-719.62 569.5,-719.62 569.5,-719.62 563.5,-719.62 557.5,-713.62 557.5,-707.62 557.5,-707.62 557.5,-654.62 557.5,-654.62 557.5,-648.62 563.5,-642.62 569.5,-642.62 569.5,-642.62 657.5,-642.62 657.5,-642.62 663.5,-642.62 669.5,-648.62 669.5,-654.62 669.5,-654.62 669.5,-707.62 669.5,-707.62 669.5,-713.62 663.5,-719.62 657.5,-719.62\"/>\n",
       "<text text-anchor=\"start\" x=\"579\" y=\"-702.33\" font-family=\"Helvetica,sans-Serif\" font-size=\"14.00\">gini = 0.0</text>\n",
       "<text text-anchor=\"start\" x=\"569.62\" y=\"-685.08\" font-family=\"Helvetica,sans-Serif\" font-size=\"14.00\">samples = 2</text>\n",
       "<text text-anchor=\"start\" x=\"565.5\" y=\"-667.83\" font-family=\"Helvetica,sans-Serif\" font-size=\"14.00\">value = [0, 2]</text>\n",
       "<text text-anchor=\"start\" x=\"581.25\" y=\"-650.58\" font-family=\"Helvetica,sans-Serif\" font-size=\"14.00\">class = 1</text>\n",
       "</g>\n",
       "<!-- 19&#45;&gt;25 -->\n",
       "<g id=\"edge25\" class=\"edge\">\n",
       "<title>19&#45;&gt;25</title>\n",
       "<path fill=\"none\" stroke=\"black\" d=\"M564.3,-764.07C571.03,-752.86 578.23,-740.87 585,-729.6\"/>\n",
       "<polygon fill=\"black\" stroke=\"black\" points=\"587.88,-731.6 590.02,-721.23 581.87,-728 587.88,-731.6\"/>\n",
       "</g>\n",
       "<!-- 21 -->\n",
       "<g id=\"node22\" class=\"node\">\n",
       "<title>21</title>\n",
       "<path fill=\"#399de5\" stroke=\"black\" d=\"M464.5,-589.38C464.5,-589.38 376.5,-589.38 376.5,-589.38 370.5,-589.38 364.5,-583.38 364.5,-577.38 364.5,-577.38 364.5,-524.38 364.5,-524.38 364.5,-518.38 370.5,-512.38 376.5,-512.38 376.5,-512.38 464.5,-512.38 464.5,-512.38 470.5,-512.38 476.5,-518.38 476.5,-524.38 476.5,-524.38 476.5,-577.38 476.5,-577.38 476.5,-583.38 470.5,-589.38 464.5,-589.38\"/>\n",
       "<text text-anchor=\"start\" x=\"386\" y=\"-572.08\" font-family=\"Helvetica,sans-Serif\" font-size=\"14.00\">gini = 0.0</text>\n",
       "<text text-anchor=\"start\" x=\"376.62\" y=\"-554.83\" font-family=\"Helvetica,sans-Serif\" font-size=\"14.00\">samples = 1</text>\n",
       "<text text-anchor=\"start\" x=\"372.5\" y=\"-537.58\" font-family=\"Helvetica,sans-Serif\" font-size=\"14.00\">value = [0, 1]</text>\n",
       "<text text-anchor=\"start\" x=\"388.25\" y=\"-520.33\" font-family=\"Helvetica,sans-Serif\" font-size=\"14.00\">class = 1</text>\n",
       "</g>\n",
       "<!-- 20&#45;&gt;21 -->\n",
       "<g id=\"edge21\" class=\"edge\">\n",
       "<title>20&#45;&gt;21</title>\n",
       "<path fill=\"none\" stroke=\"black\" d=\"M445.42,-633.82C442.11,-622.95 438.58,-611.34 435.25,-600.38\"/>\n",
       "<polygon fill=\"black\" stroke=\"black\" points=\"438.7,-599.68 432.44,-591.13 432,-601.72 438.7,-599.68\"/>\n",
       "</g>\n",
       "<!-- 22 -->\n",
       "<g id=\"node23\" class=\"node\">\n",
       "<title>22</title>\n",
       "<path fill=\"#f2c09c\" stroke=\"black\" d=\"M598.75,-598C598.75,-598 506.25,-598 506.25,-598 500.25,-598 494.25,-592 494.25,-586 494.25,-586 494.25,-515.75 494.25,-515.75 494.25,-509.75 500.25,-503.75 506.25,-503.75 506.25,-503.75 598.75,-503.75 598.75,-503.75 604.75,-503.75 610.75,-509.75 610.75,-515.75 610.75,-515.75 610.75,-586 610.75,-586 610.75,-592 604.75,-598 598.75,-598\"/>\n",
       "<text text-anchor=\"start\" x=\"502.25\" y=\"-580.7\" font-family=\"Helvetica,sans-Serif\" font-size=\"14.00\">pluribus ≤ 0.5</text>\n",
       "<text text-anchor=\"start\" x=\"509\" y=\"-563.45\" font-family=\"Helvetica,sans-Serif\" font-size=\"14.00\">gini = 0.444</text>\n",
       "<text text-anchor=\"start\" x=\"508.62\" y=\"-546.2\" font-family=\"Helvetica,sans-Serif\" font-size=\"14.00\">samples = 3</text>\n",
       "<text text-anchor=\"start\" x=\"504.5\" y=\"-528.95\" font-family=\"Helvetica,sans-Serif\" font-size=\"14.00\">value = [2, 1]</text>\n",
       "<text text-anchor=\"start\" x=\"520.25\" y=\"-511.7\" font-family=\"Helvetica,sans-Serif\" font-size=\"14.00\">class = 0</text>\n",
       "</g>\n",
       "<!-- 20&#45;&gt;22 -->\n",
       "<g id=\"edge22\" class=\"edge\">\n",
       "<title>20&#45;&gt;22</title>\n",
       "<path fill=\"none\" stroke=\"black\" d=\"M493.08,-633.82C499.33,-625.2 505.93,-616.1 512.35,-607.24\"/>\n",
       "<polygon fill=\"black\" stroke=\"black\" points=\"515.05,-609.48 518.09,-599.33 509.38,-605.37 515.05,-609.48\"/>\n",
       "</g>\n",
       "<!-- 23 -->\n",
       "<g id=\"node24\" class=\"node\">\n",
       "<title>23</title>\n",
       "<path fill=\"#399de5\" stroke=\"black\" d=\"M531.5,-459.12C531.5,-459.12 443.5,-459.12 443.5,-459.12 437.5,-459.12 431.5,-453.12 431.5,-447.12 431.5,-447.12 431.5,-394.12 431.5,-394.12 431.5,-388.12 437.5,-382.12 443.5,-382.12 443.5,-382.12 531.5,-382.12 531.5,-382.12 537.5,-382.12 543.5,-388.12 543.5,-394.12 543.5,-394.12 543.5,-447.12 543.5,-447.12 543.5,-453.12 537.5,-459.12 531.5,-459.12\"/>\n",
       "<text text-anchor=\"start\" x=\"453\" y=\"-441.82\" font-family=\"Helvetica,sans-Serif\" font-size=\"14.00\">gini = 0.0</text>\n",
       "<text text-anchor=\"start\" x=\"443.62\" y=\"-424.57\" font-family=\"Helvetica,sans-Serif\" font-size=\"14.00\">samples = 1</text>\n",
       "<text text-anchor=\"start\" x=\"439.5\" y=\"-407.32\" font-family=\"Helvetica,sans-Serif\" font-size=\"14.00\">value = [0, 1]</text>\n",
       "<text text-anchor=\"start\" x=\"455.25\" y=\"-390.07\" font-family=\"Helvetica,sans-Serif\" font-size=\"14.00\">class = 1</text>\n",
       "</g>\n",
       "<!-- 22&#45;&gt;23 -->\n",
       "<g id=\"edge23\" class=\"edge\">\n",
       "<title>22&#45;&gt;23</title>\n",
       "<path fill=\"none\" stroke=\"black\" d=\"M529.03,-503.57C523.41,-492.48 517.39,-480.61 511.74,-469.44\"/>\n",
       "<polygon fill=\"black\" stroke=\"black\" points=\"514.99,-468.12 507.35,-460.78 508.74,-471.28 514.99,-468.12\"/>\n",
       "</g>\n",
       "<!-- 24 -->\n",
       "<g id=\"node25\" class=\"node\">\n",
       "<title>24</title>\n",
       "<path fill=\"#e58139\" stroke=\"black\" d=\"M661.5,-459.12C661.5,-459.12 573.5,-459.12 573.5,-459.12 567.5,-459.12 561.5,-453.12 561.5,-447.12 561.5,-447.12 561.5,-394.12 561.5,-394.12 561.5,-388.12 567.5,-382.12 573.5,-382.12 573.5,-382.12 661.5,-382.12 661.5,-382.12 667.5,-382.12 673.5,-388.12 673.5,-394.12 673.5,-394.12 673.5,-447.12 673.5,-447.12 673.5,-453.12 667.5,-459.12 661.5,-459.12\"/>\n",
       "<text text-anchor=\"start\" x=\"583\" y=\"-441.82\" font-family=\"Helvetica,sans-Serif\" font-size=\"14.00\">gini = 0.0</text>\n",
       "<text text-anchor=\"start\" x=\"573.62\" y=\"-424.57\" font-family=\"Helvetica,sans-Serif\" font-size=\"14.00\">samples = 2</text>\n",
       "<text text-anchor=\"start\" x=\"569.5\" y=\"-407.32\" font-family=\"Helvetica,sans-Serif\" font-size=\"14.00\">value = [2, 0]</text>\n",
       "<text text-anchor=\"start\" x=\"585.25\" y=\"-390.07\" font-family=\"Helvetica,sans-Serif\" font-size=\"14.00\">class = 0</text>\n",
       "</g>\n",
       "<!-- 22&#45;&gt;24 -->\n",
       "<g id=\"edge24\" class=\"edge\">\n",
       "<title>22&#45;&gt;24</title>\n",
       "<path fill=\"none\" stroke=\"black\" d=\"M575.97,-503.57C581.59,-492.48 587.61,-480.61 593.26,-469.44\"/>\n",
       "<polygon fill=\"black\" stroke=\"black\" points=\"596.26,-471.28 597.65,-460.78 590.01,-468.12 596.26,-471.28\"/>\n",
       "</g>\n",
       "<!-- 27 -->\n",
       "<g id=\"node28\" class=\"node\">\n",
       "<title>27</title>\n",
       "<path fill=\"#f2c09c\" stroke=\"black\" d=\"M817.88,-988.75C817.88,-988.75 681.12,-988.75 681.12,-988.75 675.12,-988.75 669.12,-982.75 669.12,-976.75 669.12,-976.75 669.12,-906.5 669.12,-906.5 669.12,-900.5 675.12,-894.5 681.12,-894.5 681.12,-894.5 817.88,-894.5 817.88,-894.5 823.88,-894.5 829.88,-900.5 829.88,-906.5 829.88,-906.5 829.88,-976.75 829.88,-976.75 829.88,-982.75 823.88,-988.75 817.88,-988.75\"/>\n",
       "<text text-anchor=\"start\" x=\"677.12\" y=\"-971.45\" font-family=\"Helvetica,sans-Serif\" font-size=\"14.00\">sugarpercent ≤ 0.15</text>\n",
       "<text text-anchor=\"start\" x=\"706\" y=\"-954.2\" font-family=\"Helvetica,sans-Serif\" font-size=\"14.00\">gini = 0.444</text>\n",
       "<text text-anchor=\"start\" x=\"705.62\" y=\"-936.95\" font-family=\"Helvetica,sans-Serif\" font-size=\"14.00\">samples = 6</text>\n",
       "<text text-anchor=\"start\" x=\"701.5\" y=\"-919.7\" font-family=\"Helvetica,sans-Serif\" font-size=\"14.00\">value = [4, 2]</text>\n",
       "<text text-anchor=\"start\" x=\"717.25\" y=\"-902.45\" font-family=\"Helvetica,sans-Serif\" font-size=\"14.00\">class = 0</text>\n",
       "</g>\n",
       "<!-- 26&#45;&gt;27 -->\n",
       "<g id=\"edge27\" class=\"edge\">\n",
       "<title>26&#45;&gt;27</title>\n",
       "<path fill=\"none\" stroke=\"black\" d=\"M749.5,-1024.57C749.5,-1016.67 749.5,-1008.38 749.5,-1000.23\"/>\n",
       "<polygon fill=\"black\" stroke=\"black\" points=\"753,-1000.37 749.5,-990.37 746,-1000.37 753,-1000.37\"/>\n",
       "</g>\n",
       "<!-- 30 -->\n",
       "<g id=\"node31\" class=\"node\">\n",
       "<title>30</title>\n",
       "<path fill=\"#5aade9\" stroke=\"black\" d=\"M1060.38,-988.75C1060.38,-988.75 914.62,-988.75 914.62,-988.75 908.62,-988.75 902.62,-982.75 902.62,-976.75 902.62,-976.75 902.62,-906.5 902.62,-906.5 902.62,-900.5 908.62,-894.5 914.62,-894.5 914.62,-894.5 1060.38,-894.5 1060.38,-894.5 1066.38,-894.5 1072.38,-900.5 1072.38,-906.5 1072.38,-906.5 1072.38,-976.75 1072.38,-976.75 1072.38,-982.75 1066.38,-988.75 1060.38,-988.75\"/>\n",
       "<text text-anchor=\"start\" x=\"910.62\" y=\"-971.45\" font-family=\"Helvetica,sans-Serif\" font-size=\"14.00\">sugarpercent ≤ 0.372</text>\n",
       "<text text-anchor=\"start\" x=\"944\" y=\"-954.2\" font-family=\"Helvetica,sans-Serif\" font-size=\"14.00\">gini = 0.245</text>\n",
       "<text text-anchor=\"start\" x=\"939.12\" y=\"-936.95\" font-family=\"Helvetica,sans-Serif\" font-size=\"14.00\">samples = 21</text>\n",
       "<text text-anchor=\"start\" x=\"935\" y=\"-919.7\" font-family=\"Helvetica,sans-Serif\" font-size=\"14.00\">value = [3, 18]</text>\n",
       "<text text-anchor=\"start\" x=\"955.25\" y=\"-902.45\" font-family=\"Helvetica,sans-Serif\" font-size=\"14.00\">class = 1</text>\n",
       "</g>\n",
       "<!-- 26&#45;&gt;30 -->\n",
       "<g id=\"edge30\" class=\"edge\">\n",
       "<title>26&#45;&gt;30</title>\n",
       "<path fill=\"none\" stroke=\"black\" d=\"M832.07,-1026.38C851.48,-1015.92 872.32,-1004.69 892.24,-993.96\"/>\n",
       "<polygon fill=\"black\" stroke=\"black\" points=\"893.77,-997.11 900.91,-989.28 890.45,-990.95 893.77,-997.11\"/>\n",
       "</g>\n",
       "<!-- 28 -->\n",
       "<g id=\"node29\" class=\"node\">\n",
       "<title>28</title>\n",
       "<path fill=\"#399de5\" stroke=\"black\" d=\"M739.5,-849.88C739.5,-849.88 651.5,-849.88 651.5,-849.88 645.5,-849.88 639.5,-843.88 639.5,-837.88 639.5,-837.88 639.5,-784.88 639.5,-784.88 639.5,-778.88 645.5,-772.88 651.5,-772.88 651.5,-772.88 739.5,-772.88 739.5,-772.88 745.5,-772.88 751.5,-778.88 751.5,-784.88 751.5,-784.88 751.5,-837.88 751.5,-837.88 751.5,-843.88 745.5,-849.88 739.5,-849.88\"/>\n",
       "<text text-anchor=\"start\" x=\"661\" y=\"-832.58\" font-family=\"Helvetica,sans-Serif\" font-size=\"14.00\">gini = 0.0</text>\n",
       "<text text-anchor=\"start\" x=\"651.62\" y=\"-815.33\" font-family=\"Helvetica,sans-Serif\" font-size=\"14.00\">samples = 2</text>\n",
       "<text text-anchor=\"start\" x=\"647.5\" y=\"-798.08\" font-family=\"Helvetica,sans-Serif\" font-size=\"14.00\">value = [0, 2]</text>\n",
       "<text text-anchor=\"start\" x=\"663.25\" y=\"-780.83\" font-family=\"Helvetica,sans-Serif\" font-size=\"14.00\">class = 1</text>\n",
       "</g>\n",
       "<!-- 27&#45;&gt;28 -->\n",
       "<g id=\"edge28\" class=\"edge\">\n",
       "<title>27&#45;&gt;28</title>\n",
       "<path fill=\"none\" stroke=\"black\" d=\"M730,-894.32C725.38,-883.34 720.44,-871.6 715.78,-860.54\"/>\n",
       "<polygon fill=\"black\" stroke=\"black\" points=\"719.11,-859.44 712.01,-851.58 712.66,-862.15 719.11,-859.44\"/>\n",
       "</g>\n",
       "<!-- 29 -->\n",
       "<g id=\"node30\" class=\"node\">\n",
       "<title>29</title>\n",
       "<path fill=\"#e58139\" stroke=\"black\" d=\"M869.5,-849.88C869.5,-849.88 781.5,-849.88 781.5,-849.88 775.5,-849.88 769.5,-843.88 769.5,-837.88 769.5,-837.88 769.5,-784.88 769.5,-784.88 769.5,-778.88 775.5,-772.88 781.5,-772.88 781.5,-772.88 869.5,-772.88 869.5,-772.88 875.5,-772.88 881.5,-778.88 881.5,-784.88 881.5,-784.88 881.5,-837.88 881.5,-837.88 881.5,-843.88 875.5,-849.88 869.5,-849.88\"/>\n",
       "<text text-anchor=\"start\" x=\"791\" y=\"-832.58\" font-family=\"Helvetica,sans-Serif\" font-size=\"14.00\">gini = 0.0</text>\n",
       "<text text-anchor=\"start\" x=\"781.62\" y=\"-815.33\" font-family=\"Helvetica,sans-Serif\" font-size=\"14.00\">samples = 4</text>\n",
       "<text text-anchor=\"start\" x=\"777.5\" y=\"-798.08\" font-family=\"Helvetica,sans-Serif\" font-size=\"14.00\">value = [4, 0]</text>\n",
       "<text text-anchor=\"start\" x=\"793.25\" y=\"-780.83\" font-family=\"Helvetica,sans-Serif\" font-size=\"14.00\">class = 0</text>\n",
       "</g>\n",
       "<!-- 27&#45;&gt;29 -->\n",
       "<g id=\"edge29\" class=\"edge\">\n",
       "<title>27&#45;&gt;29</title>\n",
       "<path fill=\"none\" stroke=\"black\" d=\"M776.94,-894.32C783.58,-883.11 790.69,-871.12 797.37,-859.85\"/>\n",
       "<polygon fill=\"black\" stroke=\"black\" points=\"800.24,-861.87 802.32,-851.48 794.22,-858.3 800.24,-861.87\"/>\n",
       "</g>\n",
       "<!-- 31 -->\n",
       "<g id=\"node32\" class=\"node\">\n",
       "<title>31</title>\n",
       "<path fill=\"#f6d5bd\" stroke=\"black\" d=\"M1063,-858.5C1063,-858.5 912,-858.5 912,-858.5 906,-858.5 900,-852.5 900,-846.5 900,-846.5 900,-776.25 900,-776.25 900,-770.25 906,-764.25 912,-764.25 912,-764.25 1063,-764.25 1063,-764.25 1069,-764.25 1075,-770.25 1075,-776.25 1075,-776.25 1075,-846.5 1075,-846.5 1075,-852.5 1069,-858.5 1063,-858.5\"/>\n",
       "<text text-anchor=\"start\" x=\"908\" y=\"-841.2\" font-family=\"Helvetica,sans-Serif\" font-size=\"14.00\">crispedricewafer ≤ 0.5</text>\n",
       "<text text-anchor=\"start\" x=\"948.5\" y=\"-823.95\" font-family=\"Helvetica,sans-Serif\" font-size=\"14.00\">gini = 0.48</text>\n",
       "<text text-anchor=\"start\" x=\"943.62\" y=\"-806.7\" font-family=\"Helvetica,sans-Serif\" font-size=\"14.00\">samples = 5</text>\n",
       "<text text-anchor=\"start\" x=\"939.5\" y=\"-789.45\" font-family=\"Helvetica,sans-Serif\" font-size=\"14.00\">value = [3, 2]</text>\n",
       "<text text-anchor=\"start\" x=\"955.25\" y=\"-772.2\" font-family=\"Helvetica,sans-Serif\" font-size=\"14.00\">class = 0</text>\n",
       "</g>\n",
       "<!-- 30&#45;&gt;31 -->\n",
       "<g id=\"edge31\" class=\"edge\">\n",
       "<title>30&#45;&gt;31</title>\n",
       "<path fill=\"none\" stroke=\"black\" d=\"M987.5,-894.32C987.5,-886.42 987.5,-878.13 987.5,-869.98\"/>\n",
       "<polygon fill=\"black\" stroke=\"black\" points=\"991,-870.12 987.5,-860.12 984,-870.12 991,-870.12\"/>\n",
       "</g>\n",
       "<!-- 34 -->\n",
       "<g id=\"node35\" class=\"node\">\n",
       "<title>34</title>\n",
       "<path fill=\"#399de5\" stroke=\"black\" d=\"M1202,-849.88C1202,-849.88 1105,-849.88 1105,-849.88 1099,-849.88 1093,-843.88 1093,-837.88 1093,-837.88 1093,-784.88 1093,-784.88 1093,-778.88 1099,-772.88 1105,-772.88 1105,-772.88 1202,-772.88 1202,-772.88 1208,-772.88 1214,-778.88 1214,-784.88 1214,-784.88 1214,-837.88 1214,-837.88 1214,-843.88 1208,-849.88 1202,-849.88\"/>\n",
       "<text text-anchor=\"start\" x=\"1119\" y=\"-832.58\" font-family=\"Helvetica,sans-Serif\" font-size=\"14.00\">gini = 0.0</text>\n",
       "<text text-anchor=\"start\" x=\"1105.12\" y=\"-815.33\" font-family=\"Helvetica,sans-Serif\" font-size=\"14.00\">samples = 16</text>\n",
       "<text text-anchor=\"start\" x=\"1101\" y=\"-798.08\" font-family=\"Helvetica,sans-Serif\" font-size=\"14.00\">value = [0, 16]</text>\n",
       "<text text-anchor=\"start\" x=\"1121.25\" y=\"-780.83\" font-family=\"Helvetica,sans-Serif\" font-size=\"14.00\">class = 1</text>\n",
       "</g>\n",
       "<!-- 30&#45;&gt;34 -->\n",
       "<g id=\"edge34\" class=\"edge\">\n",
       "<title>30&#45;&gt;34</title>\n",
       "<path fill=\"none\" stroke=\"black\" d=\"M1047.43,-894.32C1063.11,-882.21 1079.99,-869.17 1095.56,-857.14\"/>\n",
       "<polygon fill=\"black\" stroke=\"black\" points=\"1097.59,-859.99 1103.37,-851.11 1093.31,-854.45 1097.59,-859.99\"/>\n",
       "</g>\n",
       "<!-- 32 -->\n",
       "<g id=\"node33\" class=\"node\">\n",
       "<title>32</title>\n",
       "<path fill=\"#e58139\" stroke=\"black\" d=\"M966.5,-719.62C966.5,-719.62 878.5,-719.62 878.5,-719.62 872.5,-719.62 866.5,-713.62 866.5,-707.62 866.5,-707.62 866.5,-654.62 866.5,-654.62 866.5,-648.62 872.5,-642.62 878.5,-642.62 878.5,-642.62 966.5,-642.62 966.5,-642.62 972.5,-642.62 978.5,-648.62 978.5,-654.62 978.5,-654.62 978.5,-707.62 978.5,-707.62 978.5,-713.62 972.5,-719.62 966.5,-719.62\"/>\n",
       "<text text-anchor=\"start\" x=\"888\" y=\"-702.33\" font-family=\"Helvetica,sans-Serif\" font-size=\"14.00\">gini = 0.0</text>\n",
       "<text text-anchor=\"start\" x=\"878.62\" y=\"-685.08\" font-family=\"Helvetica,sans-Serif\" font-size=\"14.00\">samples = 3</text>\n",
       "<text text-anchor=\"start\" x=\"874.5\" y=\"-667.83\" font-family=\"Helvetica,sans-Serif\" font-size=\"14.00\">value = [3, 0]</text>\n",
       "<text text-anchor=\"start\" x=\"890.25\" y=\"-650.58\" font-family=\"Helvetica,sans-Serif\" font-size=\"14.00\">class = 0</text>\n",
       "</g>\n",
       "<!-- 31&#45;&gt;32 -->\n",
       "<g id=\"edge32\" class=\"edge\">\n",
       "<title>31&#45;&gt;32</title>\n",
       "<path fill=\"none\" stroke=\"black\" d=\"M964.03,-764.07C958.41,-752.98 952.39,-741.11 946.74,-729.94\"/>\n",
       "<polygon fill=\"black\" stroke=\"black\" points=\"949.99,-728.62 942.35,-721.28 943.74,-731.78 949.99,-728.62\"/>\n",
       "</g>\n",
       "<!-- 33 -->\n",
       "<g id=\"node34\" class=\"node\">\n",
       "<title>33</title>\n",
       "<path fill=\"#399de5\" stroke=\"black\" d=\"M1096.5,-719.62C1096.5,-719.62 1008.5,-719.62 1008.5,-719.62 1002.5,-719.62 996.5,-713.62 996.5,-707.62 996.5,-707.62 996.5,-654.62 996.5,-654.62 996.5,-648.62 1002.5,-642.62 1008.5,-642.62 1008.5,-642.62 1096.5,-642.62 1096.5,-642.62 1102.5,-642.62 1108.5,-648.62 1108.5,-654.62 1108.5,-654.62 1108.5,-707.62 1108.5,-707.62 1108.5,-713.62 1102.5,-719.62 1096.5,-719.62\"/>\n",
       "<text text-anchor=\"start\" x=\"1018\" y=\"-702.33\" font-family=\"Helvetica,sans-Serif\" font-size=\"14.00\">gini = 0.0</text>\n",
       "<text text-anchor=\"start\" x=\"1008.62\" y=\"-685.08\" font-family=\"Helvetica,sans-Serif\" font-size=\"14.00\">samples = 2</text>\n",
       "<text text-anchor=\"start\" x=\"1004.5\" y=\"-667.83\" font-family=\"Helvetica,sans-Serif\" font-size=\"14.00\">value = [0, 2]</text>\n",
       "<text text-anchor=\"start\" x=\"1020.25\" y=\"-650.58\" font-family=\"Helvetica,sans-Serif\" font-size=\"14.00\">class = 1</text>\n",
       "</g>\n",
       "<!-- 31&#45;&gt;33 -->\n",
       "<g id=\"edge33\" class=\"edge\">\n",
       "<title>31&#45;&gt;33</title>\n",
       "<path fill=\"none\" stroke=\"black\" d=\"M1010.97,-764.07C1016.59,-752.98 1022.61,-741.11 1028.26,-729.94\"/>\n",
       "<polygon fill=\"black\" stroke=\"black\" points=\"1031.26,-731.78 1032.65,-721.28 1025.01,-728.62 1031.26,-731.78\"/>\n",
       "</g>\n",
       "</g>\n",
       "</svg>\n"
      ],
      "text/plain": [
       "<graphviz.sources.Source at 0x7601fa1751f0>"
      ]
     },
     "execution_count": 31,
     "metadata": {},
     "output_type": "execute_result"
    }
   ],
   "source": [
    "dot_data = tree.export_graphviz(decisionTree,out_file=None,feature_names=[\"chocolate\",\"fruity\",\"caramel\",\"peanutyalmondy\",\"nougat\",\"crispedricewafer\",\"hard\",\"bar\",\"pluribus\",\"sugarpercent\",\"pricepercent\"],class_names=['0','1'],filled=True,rounded=True,special_characters=True)\n",
    "\n",
    "graphviz.Source(dot_data)\n",
    "\n",
    "#<xml xmlns=\"https://developers.google.com/blockly/xml\"><variables><variable id=\"F.ej=Hud7vT9uozVaF5C\">dot_data</variable><variable id=\"rrXqQ:9R(~X0,}F[1UD]\">graphviz</variable><variable id=\"tkeU~z;dQ]^6[?rbF?)9\">tree</variable><variable id=\"fYtGc,k9LOv^%_9|[cfE\">decisionTree</variable></variables><block type=\"variables_set\" id=\":6*zm74#9$!O3?QVUukE\" x=\"12\" y=\"176\"><field name=\"VAR\" id=\"F.ej=Hud7vT9uozVaF5C\">dot_data</field><value name=\"VALUE\"><block type=\"varDoMethod\" id=\"jsRyzb,9t~G^G@G@SMkS\"><mutation items=\"7\"></mutation><field name=\"VAR\" id=\"tkeU~z;dQ]^6[?rbF?)9\">tree</field><field name=\"MEMBER\">export_graphviz</field><data>tree:export_graphviz</data><value name=\"ADD0\"><block type=\"variables_get\" id=\"x$]b$%X#}qjO@0H/!O|N\"><field name=\"VAR\" id=\"fYtGc,k9LOv^%_9|[cfE\">decisionTree</field></block></value><value name=\"ADD1\"><block type=\"dummyOutputCodeBlock\" id=\"K!=:ty3DMPs#b^ziH=5p\"><field name=\"CODE\">out_file=None</field></block></value><value name=\"ADD2\"><block type=\"dummyOutputCodeBlock\" id=\"4=`@0`s#P?-p!O`Vv_8o\"><field name=\"CODE\">feature_names=[\"chocolate\",\"fruity\",\"caramel\",\"peanutyalmondy\",\"nougat\",\"crispedricewafer\",\"hard\",\"bar\",\"pluribus\",\"sugarpercent\",\"pricepercent\"]</field></block></value><value name=\"ADD3\"><block type=\"dummyOutputCodeBlock\" id=\"}9s+(fF@pHV!vFwa)B2v\"><field name=\"CODE\">class_names=['0','1']</field></block></value><value name=\"ADD4\"><block type=\"dummyOutputCodeBlock\" id=\"^IJ3b3Eg7K9k^6Of_4i%\"><field name=\"CODE\">filled=True</field></block></value><value name=\"ADD5\"><block type=\"dummyOutputCodeBlock\" id=\"VH!NxdBRgItjnN]Zs^Uh\"><field name=\"CODE\">rounded=True</field></block></value><value name=\"ADD6\"><block type=\"dummyOutputCodeBlock\" id=\"f*|7fCy,K/0{_WzfribG\"><field name=\"CODE\">special_characters=True</field></block></value></block></value></block><block type=\"varCreateObject\" id=\"e#:go,;P@0H5[+u[7oDT\" x=\"10\" y=\"425\"><mutation items=\"1\"></mutation><field name=\"VAR\" id=\"rrXqQ:9R(~X0,}F[1UD]\">graphviz</field><field name=\"MEMBER\">Source</field><data>graphviz:Source</data><value name=\"ADD0\"><block type=\"variables_get\" id=\"X!;l`d)95n$iGiWU~m(3\"><field name=\"VAR\" id=\"F.ej=Hud7vT9uozVaF5C\">dot_data</field></block></value></block></xml>"
   ]
  },
  {
   "cell_type": "markdown",
   "metadata": {},
   "source": [
    "--------------\n",
    "\n",
    "**QUESTION:**\n",
    "\n",
    "Explain the tree - what are the first three important decisions it makes?"
   ]
  },
  {
   "cell_type": "markdown",
   "metadata": {},
   "source": [
    "**ANSWER: (click here to edit)**\n",
    "\n",
    "\n",
    "*It first looks at whether something is chocolate, and then looks at sugar percent if chocolate is 0 and price percent if chocolate is 1.\n",
    "This suggests that taste might be the first factor consumers look at, but after that, it might be health and price.*\n",
    "\n",
    "<hr>"
   ]
  },
  {
   "attachments": {
    "image.png": {
     "image/png": "[encoded data removed]"
    }
   },
   "cell_type": "markdown",
   "metadata": {},
   "source": [
    "**QUESTION:**\n",
    "\n",
    "Consider what the logistic regression model said were important features below. \n",
    "How does the decision tree compare?\n",
    "\n",
    "![image.png](attachment:image.png)"
   ]
  },
  {
   "cell_type": "markdown",
   "metadata": {},
   "source": [
    "**ANSWER: (click here to edit)**\n",
    "\n",
    "*They are very different.\n",
    "It seems the decision tree is not giving the same importance to fruity, peanutalmondy, and bar*\n",
    "<hr>"
   ]
  },
  {
   "cell_type": "markdown",
   "metadata": {},
   "source": [
    "**QUESTION:**\n",
    "\n",
    "Which model (decision tree or logistic regression) do you think is more correct?\n",
    "How would you know?"
   ]
  },
  {
   "cell_type": "markdown",
   "metadata": {},
   "source": [
    "**ANSWER: (click here to edit)**\n",
    "\n",
    "\n",
    "*Logistic regression because it had a better overall classification. I trust it more because it made more correct predictions.*\n",
    "\n",
    "\n",
    "<hr>"
   ]
  },
  {
   "cell_type": "markdown",
   "metadata": {},
   "source": [
    "<!--  -->"
   ]
  }
 ],
 "metadata": {
  "kernelspec": {
   "display_name": "Python 3 (ipykernel)",
   "language": "python",
   "name": "python3"
  },
  "language_info": {
   "codemirror_mode": {
    "name": "ipython",
    "version": 3
   },
   "file_extension": ".py",
   "mimetype": "text/x-python",
   "name": "python",
   "nbconvert_exporter": "python",
   "pygments_lexer": "ipython3",
   "version": "3.12.6"
  }
 },
 "nbformat": 4,
 "nbformat_minor": 4
}
