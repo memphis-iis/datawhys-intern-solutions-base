{
 "cells": [
  {
   "cell_type": "markdown",
   "metadata": {
    "deletable": false,
    "editable": false
   },
   "source": [
    "Copyright 2020 Andrew M. Olney, Dale Bowman and made available under [CC BY-SA](https://creativecommons.org/licenses/by-sa/4.0) for text and [Apache-2.0](http://www.apache.org/licenses/LICENSE-2.0) for code."
   ]
  },
  {
   "cell_type": "markdown",
   "metadata": {},
   "source": [
    "# Clustering: Problem solving"
   ]
  },
  {
   "cell_type": "markdown",
   "metadata": {},
   "source": [
    "In this session, you will look at at dataset of teeth from different animals.\n",
    "\n",
    "Each row contains the name of an animal with measurements of these variables for teeth:\n",
    "\n",
    "| Variable | Type  | Description                    |\n",
    "|:----------|:-------|:--------------------------------|\n",
    "| Name     | Nominal | the name of the animal         |\n",
    "| I        | Ratio | the number of top incisors     |\n",
    "| i        | Ratio | the number of bottom incisors  |\n",
    "| C        | Ratio | the number of top canines      |\n",
    "| c        | Ratio | the number of bottom canines   |\n",
    "| P        | Ratio | the number of top premolars    |\n",
    "| p        | Ratio | the number of bottom premolars |\n",
    "| M        | Ratio | the number of top molars       |\n",
    "| m        | Ratio | the number of bottom molars    |\n",
    "\n",
    "from *Dentition of Mammals*, Hartigan (1975), p 170.\n",
    "\n",
    "First, you will cluster the data using hierarchical clustering (a dendrogram), followed by k-means clusters with different sizes of *g*."
   ]
  },
  {
   "cell_type": "markdown",
   "metadata": {},
   "source": [
    "## Hierarchical clustering"
   ]
  },
  {
   "cell_type": "markdown",
   "metadata": {},
   "source": [
    "We need to load the data into a dataframe, so start with importing `pandas`."
   ]
  },
  {
   "cell_type": "code",
   "execution_count": 3,
   "metadata": {
    "user_blocks": [
     "importAs"
    ],
    "user_blocks_xml": "<xml xmlns=\"https://developers.google.com/blockly/xml\"><variables><variable id=\"mC[uX4U|oLK=BVZP#Kfx\">pd</variable></variables><block type=\"importAs\" id=\"wK54u3LS3m+Ce1wKHTHo\" x=\"46\" y=\"69\"><field name=\"libraryName\">pandas</field><field name=\"VAR\" id=\"mC[uX4U|oLK=BVZP#Kfx\">pd</field></block></xml>",
    "user_code_from_blocks": "import pandas as pd\n"
   },
   "outputs": [],
   "source": [
    "import pandas as pd\n",
    "\n",
    "#<xml xmlns=\"https://developers.google.com/blockly/xml\"><variables><variable id=\"mC[uX4U|oLK=BVZP#Kfx\">pd</variable></variables><block type=\"importAs\" id=\"wK54u3LS3m+Ce1wKHTHo\" x=\"46\" y=\"69\"><field name=\"libraryName\">pandas</field><field name=\"VAR\" id=\"mC[uX4U|oLK=BVZP#Kfx\">pd</field></block></xml>"
   ]
  },
  {
   "cell_type": "markdown",
   "metadata": {},
   "source": [
    "Now load the data in `\"datasets/teeth.csv\"` into a dataframe, remembering that `Name` is an ID column."
   ]
  },
  {
   "cell_type": "code",
   "execution_count": 5,
   "metadata": {
    "user_blocks": [
     "variables_set",
     "varDoMethod",
     "text",
     "dummyOutputCodeBlock",
     "variables_get"
    ],
    "user_blocks_xml": "<xml xmlns=\"https://developers.google.com/blockly/xml\"><variables><variable id=\"w0MtU$GK$_0i(vCQ@}s{\">dataframe</variable><variable id=\"mC[uX4U|oLK=BVZP#Kfx\">pd</variable></variables><block type=\"variables_set\" id=\"KuM+Lztpz,t0b!J7}N|,\" x=\"50\" y=\"208\"><field name=\"VAR\" id=\"w0MtU$GK$_0i(vCQ@}s{\">dataframe</field><value name=\"VALUE\"><block type=\"varDoMethod\" id=\":xzb]Ha/C/-.*NCGILgi\"><mutation items=\"2\"></mutation><field name=\"VAR\" id=\"mC[uX4U|oLK=BVZP#Kfx\">pd</field><field name=\"MEMBER\">read_csv</field><data>pd:read_csv</data><value name=\"ADD0\"><block type=\"text\" id=\"q6UO9z*=pZ(n5Nnu0ihn\"><field name=\"TEXT\">datasets/teeth.csv</field></block></value><value name=\"ADD1\"><block type=\"dummyOutputCodeBlock\" id=\"RsfI_:+.WWNPE?H5U3bO\"><field name=\"CODE\">index_col=\"Name\"</field></block></value></block></value></block><block type=\"variables_get\" id=\"sZ#pek-1Uu0@L62P^GQW\" x=\"8\" y=\"296\"><field name=\"VAR\" id=\"w0MtU$GK$_0i(vCQ@}s{\">dataframe</field></block></xml>",
    "user_code_from_blocks": "dataframe = pd.read_csv('datasets/teeth.csv',index_col=\"Name\")\n\ndataframe\n"
   },
   "outputs": [
    {
     "data": {
      "text/html": [
       "<div>\n",
       "<style scoped>\n",
       "    .dataframe tbody tr th:only-of-type {\n",
       "        vertical-align: middle;\n",
       "    }\n",
       "\n",
       "    .dataframe tbody tr th {\n",
       "        vertical-align: top;\n",
       "    }\n",
       "\n",
       "    .dataframe thead th {\n",
       "        text-align: right;\n",
       "    }\n",
       "</style>\n",
       "<table border=\"1\" class=\"dataframe\">\n",
       "  <thead>\n",
       "    <tr style=\"text-align: right;\">\n",
       "      <th></th>\n",
       "      <th>I</th>\n",
       "      <th>i</th>\n",
       "      <th>C</th>\n",
       "      <th>c</th>\n",
       "      <th>P</th>\n",
       "      <th>p</th>\n",
       "      <th>M</th>\n",
       "      <th>m</th>\n",
       "    </tr>\n",
       "    <tr>\n",
       "      <th>Name</th>\n",
       "      <th></th>\n",
       "      <th></th>\n",
       "      <th></th>\n",
       "      <th></th>\n",
       "      <th></th>\n",
       "      <th></th>\n",
       "      <th></th>\n",
       "      <th></th>\n",
       "    </tr>\n",
       "  </thead>\n",
       "  <tbody>\n",
       "    <tr>\n",
       "      <th>Opossum</th>\n",
       "      <td>5</td>\n",
       "      <td>4</td>\n",
       "      <td>1</td>\n",
       "      <td>1</td>\n",
       "      <td>3</td>\n",
       "      <td>3</td>\n",
       "      <td>4</td>\n",
       "      <td>4</td>\n",
       "    </tr>\n",
       "    <tr>\n",
       "      <th>Hairy_tail_mole</th>\n",
       "      <td>3</td>\n",
       "      <td>3</td>\n",
       "      <td>1</td>\n",
       "      <td>1</td>\n",
       "      <td>4</td>\n",
       "      <td>4</td>\n",
       "      <td>3</td>\n",
       "      <td>3</td>\n",
       "    </tr>\n",
       "    <tr>\n",
       "      <th>Common_mole</th>\n",
       "      <td>3</td>\n",
       "      <td>2</td>\n",
       "      <td>1</td>\n",
       "      <td>0</td>\n",
       "      <td>3</td>\n",
       "      <td>3</td>\n",
       "      <td>3</td>\n",
       "      <td>3</td>\n",
       "    </tr>\n",
       "    <tr>\n",
       "      <th>Star_nose_mole</th>\n",
       "      <td>3</td>\n",
       "      <td>3</td>\n",
       "      <td>1</td>\n",
       "      <td>1</td>\n",
       "      <td>4</td>\n",
       "      <td>4</td>\n",
       "      <td>3</td>\n",
       "      <td>3</td>\n",
       "    </tr>\n",
       "    <tr>\n",
       "      <th>Brown_bat</th>\n",
       "      <td>2</td>\n",
       "      <td>3</td>\n",
       "      <td>1</td>\n",
       "      <td>1</td>\n",
       "      <td>3</td>\n",
       "      <td>3</td>\n",
       "      <td>3</td>\n",
       "      <td>3</td>\n",
       "    </tr>\n",
       "    <tr>\n",
       "      <th>...</th>\n",
       "      <td>...</td>\n",
       "      <td>...</td>\n",
       "      <td>...</td>\n",
       "      <td>...</td>\n",
       "      <td>...</td>\n",
       "      <td>...</td>\n",
       "      <td>...</td>\n",
       "      <td>...</td>\n",
       "    </tr>\n",
       "    <tr>\n",
       "      <th>Antelope</th>\n",
       "      <td>0</td>\n",
       "      <td>4</td>\n",
       "      <td>0</td>\n",
       "      <td>0</td>\n",
       "      <td>3</td>\n",
       "      <td>3</td>\n",
       "      <td>3</td>\n",
       "      <td>3</td>\n",
       "    </tr>\n",
       "    <tr>\n",
       "      <th>Bison</th>\n",
       "      <td>0</td>\n",
       "      <td>4</td>\n",
       "      <td>0</td>\n",
       "      <td>0</td>\n",
       "      <td>3</td>\n",
       "      <td>3</td>\n",
       "      <td>3</td>\n",
       "      <td>3</td>\n",
       "    </tr>\n",
       "    <tr>\n",
       "      <th>Mountain_goat</th>\n",
       "      <td>0</td>\n",
       "      <td>4</td>\n",
       "      <td>0</td>\n",
       "      <td>0</td>\n",
       "      <td>3</td>\n",
       "      <td>3</td>\n",
       "      <td>3</td>\n",
       "      <td>3</td>\n",
       "    </tr>\n",
       "    <tr>\n",
       "      <th>Musk_ox</th>\n",
       "      <td>0</td>\n",
       "      <td>4</td>\n",
       "      <td>0</td>\n",
       "      <td>0</td>\n",
       "      <td>3</td>\n",
       "      <td>3</td>\n",
       "      <td>3</td>\n",
       "      <td>3</td>\n",
       "    </tr>\n",
       "    <tr>\n",
       "      <th>Mountain_sheep</th>\n",
       "      <td>0</td>\n",
       "      <td>4</td>\n",
       "      <td>0</td>\n",
       "      <td>0</td>\n",
       "      <td>3</td>\n",
       "      <td>3</td>\n",
       "      <td>3</td>\n",
       "      <td>3</td>\n",
       "    </tr>\n",
       "  </tbody>\n",
       "</table>\n",
       "<p>66 rows × 8 columns</p>\n",
       "</div>"
      ],
      "text/plain": [
       "                 I  i  C  c  P  p  M  m\n",
       "Name                                   \n",
       "Opossum          5  4  1  1  3  3  4  4\n",
       "Hairy_tail_mole  3  3  1  1  4  4  3  3\n",
       "Common_mole      3  2  1  0  3  3  3  3\n",
       "Star_nose_mole   3  3  1  1  4  4  3  3\n",
       "Brown_bat        2  3  1  1  3  3  3  3\n",
       "...             .. .. .. .. .. .. .. ..\n",
       "Antelope         0  4  0  0  3  3  3  3\n",
       "Bison            0  4  0  0  3  3  3  3\n",
       "Mountain_goat    0  4  0  0  3  3  3  3\n",
       "Musk_ox          0  4  0  0  3  3  3  3\n",
       "Mountain_sheep   0  4  0  0  3  3  3  3\n",
       "\n",
       "[66 rows x 8 columns]"
      ]
     },
     "execution_count": 5,
     "metadata": {},
     "output_type": "execute_result"
    }
   ],
   "source": [
    "dataframe = pd.read_csv('datasets/teeth.csv',index_col=\"Name\")\n",
    "\n",
    "dataframe\n",
    "\n",
    "#<xml xmlns=\"https://developers.google.com/blockly/xml\"><variables><variable id=\"w0MtU$GK$_0i(vCQ@}s{\">dataframe</variable><variable id=\"mC[uX4U|oLK=BVZP#Kfx\">pd</variable></variables><block type=\"variables_set\" id=\"KuM+Lztpz,t0b!J7}N|,\" x=\"50\" y=\"208\"><field name=\"VAR\" id=\"w0MtU$GK$_0i(vCQ@}s{\">dataframe</field><value name=\"VALUE\"><block type=\"varDoMethod\" id=\":xzb]Ha/C/-.*NCGILgi\"><mutation items=\"2\"></mutation><field name=\"VAR\" id=\"mC[uX4U|oLK=BVZP#Kfx\">pd</field><field name=\"MEMBER\">read_csv</field><data>pd:read_csv</data><value name=\"ADD0\"><block type=\"text\" id=\"q6UO9z*=pZ(n5Nnu0ihn\"><field name=\"TEXT\">datasets/teeth.csv</field></block></value><value name=\"ADD1\"><block type=\"dummyOutputCodeBlock\" id=\"RsfI_:+.WWNPE?H5U3bO\"><field name=\"CODE\">index_col=\"Name\"</field></block></value></block></value></block><block type=\"variables_get\" id=\"sZ#pek-1Uu0@L62P^GQW\" x=\"8\" y=\"296\"><field name=\"VAR\" id=\"w0MtU$GK$_0i(vCQ@}s{\">dataframe</field></block></xml>"
   ]
  },
  {
   "cell_type": "markdown",
   "metadata": {},
   "source": [
    "Now create a dendrogram using this dataframe.\n",
    "\n",
    "Start by importing `plotly.figure_factory` and from importing `scipy.cluster.hierarchy`."
   ]
  },
  {
   "cell_type": "code",
   "execution_count": 9,
   "metadata": {
    "user_blocks": [
     "importAs",
     "importFrom"
    ],
    "user_blocks_xml": "<xml xmlns=\"https://developers.google.com/blockly/xml\"><variables><variable id=\"%;`~.nPXEejOY1;C=99]\">ff</variable><variable id=\"ILvYb;i4@WP!P5Jwp){@\">linkage</variable></variables><block type=\"importAs\" id=\"ik?}Kh}Yq-Oj[NMa2UQ=\" x=\"16\" y=\"10\"><field name=\"libraryName\">plotly.figure_factory</field><field name=\"VAR\" id=\"%;`~.nPXEejOY1;C=99]\">ff</field><next><block type=\"importFrom\" id=\",=q^gd8SM.^z;BY+jxcJ\"><field name=\"libraryName\">scipy.cluster.hierarchy</field><field name=\"VAR\" id=\"ILvYb;i4@WP!P5Jwp){@\">linkage</field></block></next></block></xml>",
    "user_code_from_blocks": "import plotly.figure_factory as ff\nfrom scipy.cluster.hierarchy import linkage\n"
   },
   "outputs": [],
   "source": [
    "import plotly.figure_factory as ff\n",
    "from scipy.cluster.hierarchy import linkage\n",
    "\n",
    "#<xml xmlns=\"https://developers.google.com/blockly/xml\"><variables><variable id=\"%;`~.nPXEejOY1;C=99]\">ff</variable><variable id=\"ILvYb;i4@WP!P5Jwp){@\">linkage</variable></variables><block type=\"importAs\" id=\"ik?}Kh}Yq-Oj[NMa2UQ=\" x=\"16\" y=\"10\"><field name=\"libraryName\">plotly.figure_factory</field><field name=\"VAR\" id=\"%;`~.nPXEejOY1;C=99]\">ff</field><next><block type=\"importFrom\" id=\",=q^gd8SM.^z;BY+jxcJ\"><field name=\"libraryName\">scipy.cluster.hierarchy</field><field name=\"VAR\" id=\"ILvYb;i4@WP!P5Jwp){@\">linkage</field></block></next></block></xml>"
   ]
  },
  {
   "cell_type": "markdown",
   "metadata": {},
   "source": [
    "Now create a dendrogram using a `linkagfun` like before.  "
   ]
  },
  {
   "cell_type": "code",
   "execution_count": 11,
   "metadata": {
    "user_blocks": [
     "varDoMethod",
     "variables_get",
     "dummyOutputCodeBlock",
     "dummyOutputCodeBlock"
    ],
    "user_blocks_xml": "<xml xmlns=\"https://developers.google.com/blockly/xml\"><variables><variable id=\"%;`~.nPXEejOY1;C=99]\">ff</variable><variable id=\"w0MtU$GK$_0i(vCQ@}s{\">dataframe</variable></variables><block type=\"varDoMethod\" id=\"+O_0iEpbpse+?QPja?B)\" x=\"8\" y=\"176\"><mutation items=\"3\"></mutation><field name=\"VAR\" id=\"%;`~.nPXEejOY1;C=99]\">ff</field><field name=\"MEMBER\">create_dendrogram</field><data>ff:create_dendrogram</data><value name=\"ADD0\"><block type=\"variables_get\" id=\"{KzeCp3;G1:ZheyGIA.A\"><field name=\"VAR\" id=\"w0MtU$GK$_0i(vCQ@}s{\">dataframe</field></block></value><value name=\"ADD1\"><block type=\"dummyOutputCodeBlock\" id=\"m=Jnsk{m#k?|oDDuIZau\"><field name=\"CODE\">labels=dataframe.index</field></block></value><value name=\"ADD2\"><block type=\"dummyOutputCodeBlock\" id=\"9:Ae#!2koBrVX~m34|_l\"><field name=\"CODE\">linkagefun=lambda x: linkage(dataframe, 'single', metric='euclidean')</field></block></value></block></xml>",
    "user_code_from_blocks": "ff.create_dendrogram(dataframe,labels=dataframe.index,linkagefun=lambda x: linkage(dataframe, 'single', metric='euclidean'))\n"
   },
   "outputs": [
    {
     "data": {
      "application/vnd.plotly.v1+json": {
       "config": {
        "plotlyServerURL": "https://plot.ly"
       },
       "data": [
        {
         "hoverinfo": "text",
         "marker": {
          "color": "rgb(61,153,112)"
         },
         "mode": "lines",
         "type": "scatter",
         "x": {
          "bdata": "AAAAAACAQUAAAAAAAIBBQAAAAAAAgEZAAAAAAACARkA=",
          "dtype": "f8"
         },
         "xaxis": "x",
         "y": {
          "bdata": "AAAAAAAAAAAAAAAAAAAAAAAAAAAAAAAAAAAAAAAAAAA=",
          "dtype": "f8"
         },
         "yaxis": "y"
        },
        {
         "hoverinfo": "text",
         "marker": {
          "color": "rgb(61,153,112)"
         },
         "mode": "lines",
         "type": "scatter",
         "x": {
          "bdata": "AAAAAABAWkAAAAAAAEBaQAAAAAAAwFxAAAAAAADAXEA=",
          "dtype": "f8"
         },
         "xaxis": "x",
         "y": {
          "bdata": "AAAAAAAAAAAAAAAAAAAAAAAAAAAAAAAAAAAAAAAAAAA=",
          "dtype": "f8"
         },
         "yaxis": "y"
        },
        {
         "hoverinfo": "text",
         "marker": {
          "color": "rgb(61,153,112)"
         },
         "mode": "lines",
         "type": "scatter",
         "x": {
          "bdata": "AAAAAADAV0AAAAAAAMBXQAAAAAAAgFtAAAAAAACAW0A=",
          "dtype": "f8"
         },
         "xaxis": "x",
         "y": {
          "bdata": "AAAAAAAAAAAAAAAAAAAAAAAAAAAAAAAAAAAAAAAAAAA=",
          "dtype": "f8"
         },
         "yaxis": "y"
        },
        {
         "hoverinfo": "text",
         "marker": {
          "color": "rgb(61,153,112)"
         },
         "mode": "lines",
         "type": "scatter",
         "x": {
          "bdata": "AAAAAABAVUAAAAAAAEBVQAAAAAAAoFlAAAAAAACgWUA=",
          "dtype": "f8"
         },
         "xaxis": "x",
         "y": {
          "bdata": "AAAAAAAAAAAAAAAAAAAAAAAAAAAAAAAAAAAAAAAAAAA=",
          "dtype": "f8"
         },
         "yaxis": "y"
        },
        {
         "hoverinfo": "text",
         "marker": {
          "color": "rgb(61,153,112)"
         },
         "mode": "lines",
         "type": "scatter",
         "x": {
          "bdata": "AAAAAADAUkAAAAAAAMBSQAAAAAAAcFdAAAAAAABwV0A=",
          "dtype": "f8"
         },
         "xaxis": "x",
         "y": {
          "bdata": "AAAAAAAAAAAAAAAAAAAAAAAAAAAAAAAAAAAAAAAAAAA=",
          "dtype": "f8"
         },
         "yaxis": "y"
        },
        {
         "hoverinfo": "text",
         "marker": {
          "color": "rgb(61,153,112)"
         },
         "mode": "lines",
         "type": "scatter",
         "x": {
          "bdata": "AAAAAABAUEAAAAAAAEBQQAAAAAAAGFVAAAAAAAAYVUA=",
          "dtype": "f8"
         },
         "xaxis": "x",
         "y": {
          "bdata": "AAAAAAAAAAAAAAAAAAAAAAAAAAAAAAAAAAAAAAAAAAA=",
          "dtype": "f8"
         },
         "yaxis": "y"
        },
        {
         "hoverinfo": "text",
         "marker": {
          "color": "rgb(61,153,112)"
         },
         "mode": "lines",
         "type": "scatter",
         "x": {
          "bdata": "AAAAAACAS0AAAAAAAIBLQAAAAAAArFJAAAAAAACsUkA=",
          "dtype": "f8"
         },
         "xaxis": "x",
         "y": {
          "bdata": "AAAAAAAAAAAAAAAAAAAAAAAAAAAAAAAAAAAAAAAAAAA=",
          "dtype": "f8"
         },
         "yaxis": "y"
        },
        {
         "hoverinfo": "text",
         "marker": {
          "color": "rgb(61,153,112)"
         },
         "mode": "lines",
         "type": "scatter",
         "x": {
          "bdata": "AAAAAAAAREAAAAAAAABEQAAAAAAANlBAAAAAAAA2UEA=",
          "dtype": "f8"
         },
         "xaxis": "x",
         "y": {
          "bdata": "AAAAAAAAAAAAAAAAAADwPwAAAAAAAPA/AAAAAAAAAAA=",
          "dtype": "f8"
         },
         "yaxis": "y"
        },
        {
         "hoverinfo": "text",
         "marker": {
          "color": "rgb(61,153,112)"
         },
         "mode": "lines",
         "type": "scatter",
         "x": {
          "bdata": "AAAAAABgY0AAAAAAAGBjQAAAAAAAoGRAAAAAAACgZEA=",
          "dtype": "f8"
         },
         "xaxis": "x",
         "y": {
          "bdata": "AAAAAAAAAAAAAAAAAAAAAAAAAAAAAAAAAAAAAAAAAAA=",
          "dtype": "f8"
         },
         "yaxis": "y"
        },
        {
         "hoverinfo": "text",
         "marker": {
          "color": "rgb(61,153,112)"
         },
         "mode": "lines",
         "type": "scatter",
         "x": {
          "bdata": "AAAAAAAgYkAAAAAAACBiQAAAAAAAAGRAAAAAAAAAZEA=",
          "dtype": "f8"
         },
         "xaxis": "x",
         "y": {
          "bdata": "AAAAAAAAAAAAAAAAAAAAAAAAAAAAAAAAAAAAAAAAAAA=",
          "dtype": "f8"
         },
         "yaxis": "y"
        },
        {
         "hoverinfo": "text",
         "marker": {
          "color": "rgb(61,153,112)"
         },
         "mode": "lines",
         "type": "scatter",
         "x": {
          "bdata": "AAAAAADgYEAAAAAAAOBgQAAAAAAAEGNAAAAAAAAQY0A=",
          "dtype": "f8"
         },
         "xaxis": "x",
         "y": {
          "bdata": "AAAAAAAAAAAAAAAAAAAAAAAAAAAAAAAAAAAAAAAAAAA=",
          "dtype": "f8"
         },
         "yaxis": "y"
        },
        {
         "hoverinfo": "text",
         "marker": {
          "color": "rgb(61,153,112)"
         },
         "mode": "lines",
         "type": "scatter",
         "x": {
          "bdata": "AAAAAABAX0AAAAAAAEBfQAAAAAAA+GFAAAAAAAD4YUA=",
          "dtype": "f8"
         },
         "xaxis": "x",
         "y": {
          "bdata": "AAAAAAAAAAAAAAAAAAAAAAAAAAAAAAAAAAAAAAAAAAA=",
          "dtype": "f8"
         },
         "yaxis": "y"
        },
        {
         "hoverinfo": "text",
         "marker": {
          "color": "rgb(61,153,112)"
         },
         "mode": "lines",
         "type": "scatter",
         "x": {
          "bdata": "AAAAAADgZUAAAAAAAOBlQAAAAAAAIGdAAAAAAAAgZ0A=",
          "dtype": "f8"
         },
         "xaxis": "x",
         "y": {
          "bdata": "AAAAAAAAAAAAAAAAAADwPwAAAAAAAPA/AAAAAAAAAAA=",
          "dtype": "f8"
         },
         "yaxis": "y"
        },
        {
         "hoverinfo": "text",
         "marker": {
          "color": "rgb(61,153,112)"
         },
         "mode": "lines",
         "type": "scatter",
         "x": {
          "bdata": "AAAAAABgbUAAAAAAAGBtQAAAAAAAoG5AAAAAAACgbkA=",
          "dtype": "f8"
         },
         "xaxis": "x",
         "y": {
          "bdata": "AAAAAAAAAAAAAAAAAAAAAAAAAAAAAAAAAAAAAAAAAAA=",
          "dtype": "f8"
         },
         "yaxis": "y"
        },
        {
         "hoverinfo": "text",
         "marker": {
          "color": "rgb(61,153,112)"
         },
         "mode": "lines",
         "type": "scatter",
         "x": {
          "bdata": "AAAAAAAgbEAAAAAAACBsQAAAAAAAAG5AAAAAAAAAbkA=",
          "dtype": "f8"
         },
         "xaxis": "x",
         "y": {
          "bdata": "AAAAAAAAAAAAAAAAAAAAAAAAAAAAAAAAAAAAAAAAAAA=",
          "dtype": "f8"
         },
         "yaxis": "y"
        },
        {
         "hoverinfo": "text",
         "marker": {
          "color": "rgb(61,153,112)"
         },
         "mode": "lines",
         "type": "scatter",
         "x": {
          "bdata": "AAAAAADgakAAAAAAAOBqQAAAAAAAEG1AAAAAAAAQbUA=",
          "dtype": "f8"
         },
         "xaxis": "x",
         "y": {
          "bdata": "AAAAAAAAAAAAAAAAAAAAAAAAAAAAAAAAAAAAAAAAAAA=",
          "dtype": "f8"
         },
         "yaxis": "y"
        },
        {
         "hoverinfo": "text",
         "marker": {
          "color": "rgb(61,153,112)"
         },
         "mode": "lines",
         "type": "scatter",
         "x": {
          "bdata": "AAAAAACgaUAAAAAAAKBpQAAAAAAA+GtAAAAAAAD4a0A=",
          "dtype": "f8"
         },
         "xaxis": "x",
         "y": {
          "bdata": "AAAAAAAAAAAAAAAAAAAAAAAAAAAAAAAAAAAAAAAAAAA=",
          "dtype": "f8"
         },
         "yaxis": "y"
        },
        {
         "hoverinfo": "text",
         "marker": {
          "color": "rgb(61,153,112)"
         },
         "mode": "lines",
         "type": "scatter",
         "x": {
          "bdata": "AAAAAABgaEAAAAAAAGBoQAAAAAAAzGpAAAAAAADMakA=",
          "dtype": "f8"
         },
         "xaxis": "x",
         "y": {
          "bdata": "AAAAAAAAAAAAAAAAAAAAAAAAAAAAAAAAAAAAAAAAAAA=",
          "dtype": "f8"
         },
         "yaxis": "y"
        },
        {
         "hoverinfo": "text",
         "marker": {
          "color": "rgb(61,153,112)"
         },
         "mode": "lines",
         "type": "scatter",
         "x": {
          "bdata": "AAAAAABwckAAAAAAAHByQAAAAAAAEHNAAAAAAAAQc0A=",
          "dtype": "f8"
         },
         "xaxis": "x",
         "y": {
          "bdata": "AAAAAAAAAAAAAAAAAAAAAAAAAAAAAAAAAAAAAAAAAAA=",
          "dtype": "f8"
         },
         "yaxis": "y"
        },
        {
         "hoverinfo": "text",
         "marker": {
          "color": "rgb(61,153,112)"
         },
         "mode": "lines",
         "type": "scatter",
         "x": {
          "bdata": "AAAAAADQcUAAAAAAANBxQAAAAAAAwHJAAAAAAADAckA=",
          "dtype": "f8"
         },
         "xaxis": "x",
         "y": {
          "bdata": "AAAAAAAAAAAAAAAAAAAAAAAAAAAAAAAAAAAAAAAAAAA=",
          "dtype": "f8"
         },
         "yaxis": "y"
        },
        {
         "hoverinfo": "text",
         "marker": {
          "color": "rgb(61,153,112)"
         },
         "mode": "lines",
         "type": "scatter",
         "x": {
          "bdata": "AAAAAAAwcUAAAAAAADBxQAAAAAAASHJAAAAAAABIckA=",
          "dtype": "f8"
         },
         "xaxis": "x",
         "y": {
          "bdata": "AAAAAAAAAAAAAAAAAAAAAAAAAAAAAAAAAAAAAAAAAAA=",
          "dtype": "f8"
         },
         "yaxis": "y"
        },
        {
         "hoverinfo": "text",
         "marker": {
          "color": "rgb(61,153,112)"
         },
         "mode": "lines",
         "type": "scatter",
         "x": {
          "bdata": "AAAAAACQcEAAAAAAAJBwQAAAAAAAvHFAAAAAAAC8cUA=",
          "dtype": "f8"
         },
         "xaxis": "x",
         "y": {
          "bdata": "AAAAAAAAAAAAAAAAAAAAAAAAAAAAAAAAAAAAAAAAAAA=",
          "dtype": "f8"
         },
         "yaxis": "y"
        },
        {
         "hoverinfo": "text",
         "marker": {
          "color": "rgb(61,153,112)"
         },
         "mode": "lines",
         "type": "scatter",
         "x": {
          "bdata": "AAAAAADgb0AAAAAAAOBvQAAAAAAAJnFAAAAAAAAmcUA=",
          "dtype": "f8"
         },
         "xaxis": "x",
         "y": {
          "bdata": "AAAAAAAAAAAAAAAAAAAAAAAAAAAAAAAAAAAAAAAAAAA=",
          "dtype": "f8"
         },
         "yaxis": "y"
        },
        {
         "hoverinfo": "text",
         "marker": {
          "color": "rgb(61,153,112)"
         },
         "mode": "lines",
         "type": "scatter",
         "x": {
          "bdata": "AAAAAACWaUAAAAAAAJZpQAAAAAAAi3BAAAAAAACLcEA=",
          "dtype": "f8"
         },
         "xaxis": "x",
         "y": {
          "bdata": "AAAAAAAAAAAAAAAAAADwPwAAAAAAAPA/AAAAAAAAAAA=",
          "dtype": "f8"
         },
         "yaxis": "y"
        },
        {
         "hoverinfo": "text",
         "marker": {
          "color": "rgb(61,153,112)"
         },
         "mode": "lines",
         "type": "scatter",
         "x": {
          "bdata": "AAAAAACAZkAAAAAAAIBmQAAAAAAAVm1AAAAAAABWbUA=",
          "dtype": "f8"
         },
         "xaxis": "x",
         "y": {
          "bdata": "AAAAAAAA8D/NO39mnqD2P807f2aeoPY/AAAAAAAA8D8=",
          "dtype": "f8"
         },
         "yaxis": "y"
        },
        {
         "hoverinfo": "text",
         "marker": {
          "color": "rgb(61,153,112)"
         },
         "mode": "lines",
         "type": "scatter",
         "x": {
          "bdata": "AAAAAADMYEAAAAAAAMxgQAAAAAAA62lAAAAAAADraUA=",
          "dtype": "f8"
         },
         "xaxis": "x",
         "y": {
          "bdata": "AAAAAAAAAADNO39mnqD2P807f2aeoPY/zTt/Zp6g9j8=",
          "dtype": "f8"
         },
         "yaxis": "y"
        },
        {
         "hoverinfo": "text",
         "marker": {
          "color": "rgb(61,153,112)"
         },
         "mode": "lines",
         "type": "scatter",
         "x": {
          "bdata": "AAAAAABQdEAAAAAAAFB0QAAAAAAA8HRAAAAAAADwdEA=",
          "dtype": "f8"
         },
         "xaxis": "x",
         "y": {
          "bdata": "AAAAAAAAAAAAAAAAAAAAAAAAAAAAAAAAAAAAAAAAAAA=",
          "dtype": "f8"
         },
         "yaxis": "y"
        },
        {
         "hoverinfo": "text",
         "marker": {
          "color": "rgb(61,153,112)"
         },
         "mode": "lines",
         "type": "scatter",
         "x": {
          "bdata": "AAAAAADQdkAAAAAAANB2QAAAAAAAcHdAAAAAAABwd0A=",
          "dtype": "f8"
         },
         "xaxis": "x",
         "y": {
          "bdata": "AAAAAAAAAAAAAAAAAAAAAAAAAAAAAAAAAAAAAAAAAAA=",
          "dtype": "f8"
         },
         "yaxis": "y"
        },
        {
         "hoverinfo": "text",
         "marker": {
          "color": "rgb(61,153,112)"
         },
         "mode": "lines",
         "type": "scatter",
         "x": {
          "bdata": "AAAAAAAQeEAAAAAAABB4QAAAAAAAsHhAAAAAAACweEA=",
          "dtype": "f8"
         },
         "xaxis": "x",
         "y": {
          "bdata": "AAAAAAAAAAAAAAAAAAAAAAAAAAAAAAAAAAAAAAAAAAA=",
          "dtype": "f8"
         },
         "yaxis": "y"
        },
        {
         "hoverinfo": "text",
         "marker": {
          "color": "rgb(61,153,112)"
         },
         "mode": "lines",
         "type": "scatter",
         "x": {
          "bdata": "AAAAAAAgd0AAAAAAACB3QAAAAAAAYHhAAAAAAABgeEA=",
          "dtype": "f8"
         },
         "xaxis": "x",
         "y": {
          "bdata": "AAAAAAAAAAAAAAAAAADwPwAAAAAAAPA/AAAAAAAAAAA=",
          "dtype": "f8"
         },
         "yaxis": "y"
        },
        {
         "hoverinfo": "text",
         "marker": {
          "color": "rgb(61,153,112)"
         },
         "mode": "lines",
         "type": "scatter",
         "x": {
          "bdata": "AAAAAAAwdkAAAAAAADB2QAAAAAAAwHdAAAAAAADAd0A=",
          "dtype": "f8"
         },
         "xaxis": "x",
         "y": {
          "bdata": "AAAAAAAAAAAAAAAAAADwPwAAAAAAAPA/AAAAAAAA8D8=",
          "dtype": "f8"
         },
         "yaxis": "y"
        },
        {
         "hoverinfo": "text",
         "marker": {
          "color": "rgb(61,153,112)"
         },
         "mode": "lines",
         "type": "scatter",
         "x": {
          "bdata": "AAAAAACQdUAAAAAAAJB1QAAAAAAA+HZAAAAAAAD4dkA=",
          "dtype": "f8"
         },
         "xaxis": "x",
         "y": {
          "bdata": "AAAAAAAAAAAAAAAAAADwPwAAAAAAAPA/AAAAAAAA8D8=",
          "dtype": "f8"
         },
         "yaxis": "y"
        },
        {
         "hoverinfo": "text",
         "marker": {
          "color": "rgb(61,153,112)"
         },
         "mode": "lines",
         "type": "scatter",
         "x": {
          "bdata": "AAAAAACgdEAAAAAAAKB0QAAAAAAARHZAAAAAAABEdkA=",
          "dtype": "f8"
         },
         "xaxis": "x",
         "y": {
          "bdata": "AAAAAAAAAAAAAAAAAADwPwAAAAAAAPA/AAAAAAAA8D8=",
          "dtype": "f8"
         },
         "yaxis": "y"
        },
        {
         "hoverinfo": "text",
         "marker": {
          "color": "rgb(61,153,112)"
         },
         "mode": "lines",
         "type": "scatter",
         "x": {
          "bdata": "AAAAAACQekAAAAAAAJB6QAAAAAAAMHtAAAAAAAAwe0A=",
          "dtype": "f8"
         },
         "xaxis": "x",
         "y": {
          "bdata": "AAAAAAAAAAAAAAAAAAAAAAAAAAAAAAAAAAAAAAAAAAA=",
          "dtype": "f8"
         },
         "yaxis": "y"
        },
        {
         "hoverinfo": "text",
         "marker": {
          "color": "rgb(61,153,112)"
         },
         "mode": "lines",
         "type": "scatter",
         "x": {
          "bdata": "AAAAAAAQfUAAAAAAABB9QAAAAAAAsH1AAAAAAACwfUA=",
          "dtype": "f8"
         },
         "xaxis": "x",
         "y": {
          "bdata": "AAAAAAAAAAAAAAAAAAAAAAAAAAAAAAAAAAAAAAAAAAA=",
          "dtype": "f8"
         },
         "yaxis": "y"
        },
        {
         "hoverinfo": "text",
         "marker": {
          "color": "rgb(61,153,112)"
         },
         "mode": "lines",
         "type": "scatter",
         "x": {
          "bdata": "AAAAAABwfEAAAAAAAHB8QAAAAAAAYH1AAAAAAABgfUA=",
          "dtype": "f8"
         },
         "xaxis": "x",
         "y": {
          "bdata": "AAAAAAAAAAAAAAAAAAAAAAAAAAAAAAAAAAAAAAAAAAA=",
          "dtype": "f8"
         },
         "yaxis": "y"
        },
        {
         "hoverinfo": "text",
         "marker": {
          "color": "rgb(61,153,112)"
         },
         "mode": "lines",
         "type": "scatter",
         "x": {
          "bdata": "AAAAAADQe0AAAAAAANB7QAAAAAAA6HxAAAAAAADofEA=",
          "dtype": "f8"
         },
         "xaxis": "x",
         "y": {
          "bdata": "AAAAAAAAAAAAAAAAAAAAAAAAAAAAAAAAAAAAAAAAAAA=",
          "dtype": "f8"
         },
         "yaxis": "y"
        },
        {
         "hoverinfo": "text",
         "marker": {
          "color": "rgb(61,153,112)"
         },
         "mode": "lines",
         "type": "scatter",
         "x": {
          "bdata": "AAAAAAC4gEAAAAAAALiAQAAAAAAACIFAAAAAAAAIgUA=",
          "dtype": "f8"
         },
         "xaxis": "x",
         "y": {
          "bdata": "AAAAAAAAAAAAAAAAAAAAAAAAAAAAAAAAAAAAAAAAAAA=",
          "dtype": "f8"
         },
         "yaxis": "y"
        },
        {
         "hoverinfo": "text",
         "marker": {
          "color": "rgb(61,153,112)"
         },
         "mode": "lines",
         "type": "scatter",
         "x": {
          "bdata": "AAAAAABogEAAAAAAAGiAQAAAAAAA4IBAAAAAAADggEA=",
          "dtype": "f8"
         },
         "xaxis": "x",
         "y": {
          "bdata": "AAAAAAAAAAAAAAAAAAAAAAAAAAAAAAAAAAAAAAAAAAA=",
          "dtype": "f8"
         },
         "yaxis": "y"
        },
        {
         "hoverinfo": "text",
         "marker": {
          "color": "rgb(61,153,112)"
         },
         "mode": "lines",
         "type": "scatter",
         "x": {
          "bdata": "AAAAAAAYgEAAAAAAABiAQAAAAAAApIBAAAAAAACkgEA=",
          "dtype": "f8"
         },
         "xaxis": "x",
         "y": {
          "bdata": "AAAAAAAAAAAAAAAAAAAAAAAAAAAAAAAAAAAAAAAAAAA=",
          "dtype": "f8"
         },
         "yaxis": "y"
        },
        {
         "hoverinfo": "text",
         "marker": {
          "color": "rgb(61,153,112)"
         },
         "mode": "lines",
         "type": "scatter",
         "x": {
          "bdata": "AAAAAACQf0AAAAAAAJB/QAAAAAAAXoBAAAAAAABegEA=",
          "dtype": "f8"
         },
         "xaxis": "x",
         "y": {
          "bdata": "AAAAAAAAAAAAAAAAAAAAAAAAAAAAAAAAAAAAAAAAAAA=",
          "dtype": "f8"
         },
         "yaxis": "y"
        },
        {
         "hoverinfo": "text",
         "marker": {
          "color": "rgb(61,153,112)"
         },
         "mode": "lines",
         "type": "scatter",
         "x": {
          "bdata": "AAAAAAD4gUAAAAAAAPiBQAAAAAAASIJAAAAAAABIgkA=",
          "dtype": "f8"
         },
         "xaxis": "x",
         "y": {
          "bdata": "AAAAAAAAAAAAAAAAAAAAAAAAAAAAAAAAAAAAAAAAAAA=",
          "dtype": "f8"
         },
         "yaxis": "y"
        },
        {
         "hoverinfo": "text",
         "marker": {
          "color": "rgb(61,153,112)"
         },
         "mode": "lines",
         "type": "scatter",
         "x": {
          "bdata": "AAAAAACogUAAAAAAAKiBQAAAAAAAIIJAAAAAAAAggkA=",
          "dtype": "f8"
         },
         "xaxis": "x",
         "y": {
          "bdata": "AAAAAAAAAAAAAAAAAAAAAAAAAAAAAAAAAAAAAAAAAAA=",
          "dtype": "f8"
         },
         "yaxis": "y"
        },
        {
         "hoverinfo": "text",
         "marker": {
          "color": "rgb(61,153,112)"
         },
         "mode": "lines",
         "type": "scatter",
         "x": {
          "bdata": "AAAAAAA4g0AAAAAAADiDQAAAAAAAiINAAAAAAACIg0A=",
          "dtype": "f8"
         },
         "xaxis": "x",
         "y": {
          "bdata": "AAAAAAAAAAAAAAAAAAAAAAAAAAAAAAAAAAAAAAAAAAA=",
          "dtype": "f8"
         },
         "yaxis": "y"
        },
        {
         "hoverinfo": "text",
         "marker": {
          "color": "rgb(61,153,112)"
         },
         "mode": "lines",
         "type": "scatter",
         "x": {
          "bdata": "AAAAAAAohEAAAAAAACiEQAAAAAAAeIRAAAAAAAB4hEA=",
          "dtype": "f8"
         },
         "xaxis": "x",
         "y": {
          "bdata": "AAAAAAAAAAAAAAAAAAAAAAAAAAAAAAAAAAAAAAAAAAA=",
          "dtype": "f8"
         },
         "yaxis": "y"
        },
        {
         "hoverinfo": "text",
         "marker": {
          "color": "rgb(61,153,112)"
         },
         "mode": "lines",
         "type": "scatter",
         "x": {
          "bdata": "AAAAAADYg0AAAAAAANiDQAAAAAAAUIRAAAAAAABQhEA=",
          "dtype": "f8"
         },
         "xaxis": "x",
         "y": {
          "bdata": "AAAAAAAAAAAAAAAAAAAAAAAAAAAAAAAAAAAAAAAAAAA=",
          "dtype": "f8"
         },
         "yaxis": "y"
        },
        {
         "hoverinfo": "text",
         "marker": {
          "color": "rgb(61,153,112)"
         },
         "mode": "lines",
         "type": "scatter",
         "x": {
          "bdata": "AAAAAABgg0AAAAAAAGCDQAAAAAAAFIRAAAAAAAAUhEA=",
          "dtype": "f8"
         },
         "xaxis": "x",
         "y": {
          "bdata": "AAAAAAAAAAAAAAAAAADwPwAAAAAAAPA/AAAAAAAAAAA=",
          "dtype": "f8"
         },
         "yaxis": "y"
        },
        {
         "hoverinfo": "text",
         "marker": {
          "color": "rgb(61,153,112)"
         },
         "mode": "lines",
         "type": "scatter",
         "x": {
          "bdata": "AAAAAADogkAAAAAAAOiCQAAAAAAAuoNAAAAAAAC6g0A=",
          "dtype": "f8"
         },
         "xaxis": "x",
         "y": {
          "bdata": "AAAAAAAAAAAAAAAAAADwPwAAAAAAAPA/AAAAAAAA8D8=",
          "dtype": "f8"
         },
         "yaxis": "y"
        },
        {
         "hoverinfo": "text",
         "marker": {
          "color": "rgb(61,153,112)"
         },
         "mode": "lines",
         "type": "scatter",
         "x": {
          "bdata": "AAAAAACYgkAAAAAAAJiCQAAAAAAAUYNAAAAAAABRg0A=",
          "dtype": "f8"
         },
         "xaxis": "x",
         "y": {
          "bdata": "AAAAAAAAAAAAAAAAAADwPwAAAAAAAPA/AAAAAAAA8D8=",
          "dtype": "f8"
         },
         "yaxis": "y"
        },
        {
         "hoverinfo": "text",
         "marker": {
          "color": "rgb(61,153,112)"
         },
         "mode": "lines",
         "type": "scatter",
         "x": {
          "bdata": "AAAAAADkgUAAAAAAAOSBQAAAAACA9IJAAAAAAID0gkA=",
          "dtype": "f8"
         },
         "xaxis": "x",
         "y": {
          "bdata": "AAAAAAAAAAAAAAAAAADwPwAAAAAAAPA/AAAAAAAA8D8=",
          "dtype": "f8"
         },
         "yaxis": "y"
        },
        {
         "hoverinfo": "text",
         "marker": {
          "color": "rgb(61,153,112)"
         },
         "mode": "lines",
         "type": "scatter",
         "x": {
          "bdata": "AAAAAABYgUAAAAAAAFiBQAAAAABAbIJAAAAAAEBsgkA=",
          "dtype": "f8"
         },
         "xaxis": "x",
         "y": {
          "bdata": "AAAAAAAAAAAAAAAAAADwPwAAAAAAAPA/AAAAAAAA8D8=",
          "dtype": "f8"
         },
         "yaxis": "y"
        },
        {
         "hoverinfo": "text",
         "marker": {
          "color": "rgb(61,153,112)"
         },
         "mode": "lines",
         "type": "scatter",
         "x": {
          "bdata": "AAAAAAATgEAAAAAAABOAQAAAAAAg4oFAAAAAACDigUA=",
          "dtype": "f8"
         },
         "xaxis": "x",
         "y": {
          "bdata": "AAAAAAAAAAAAAAAAAADwPwAAAAAAAPA/AAAAAAAA8D8=",
          "dtype": "f8"
         },
         "yaxis": "y"
        },
        {
         "hoverinfo": "text",
         "marker": {
          "color": "rgb(61,153,112)"
         },
         "mode": "lines",
         "type": "scatter",
         "x": {
          "bdata": "AAAAAADwfkAAAAAAAPB+QAAAAACQ+oBAAAAAAJD6gEA=",
          "dtype": "f8"
         },
         "xaxis": "x",
         "y": {
          "bdata": "AAAAAAAAAAAAAAAAAADwPwAAAAAAAPA/AAAAAAAA8D8=",
          "dtype": "f8"
         },
         "yaxis": "y"
        },
        {
         "hoverinfo": "text",
         "marker": {
          "color": "rgb(61,153,112)"
         },
         "mode": "lines",
         "type": "scatter",
         "x": {
          "bdata": "AAAAAABQfkAAAAAAAFB+QAAAAABIOYBAAAAAAEg5gEA=",
          "dtype": "f8"
         },
         "xaxis": "x",
         "y": {
          "bdata": "AAAAAAAAAAAAAAAAAADwPwAAAAAAAPA/AAAAAAAA8D8=",
          "dtype": "f8"
         },
         "yaxis": "y"
        },
        {
         "hoverinfo": "text",
         "marker": {
          "color": "rgb(61,153,112)"
         },
         "mode": "lines",
         "type": "scatter",
         "x": {
          "bdata": "AAAAAABcfEAAAAAAAFx8QAAAAABIYX9AAAAAAEhhf0A=",
          "dtype": "f8"
         },
         "xaxis": "x",
         "y": {
          "bdata": "AAAAAAAAAADNO39mnqD2P807f2aeoPY/AAAAAAAA8D8=",
          "dtype": "f8"
         },
         "yaxis": "y"
        },
        {
         "hoverinfo": "text",
         "marker": {
          "color": "rgb(61,153,112)"
         },
         "mode": "lines",
         "type": "scatter",
         "x": {
          "bdata": "AAAAAADgekAAAAAAAOB6QAAAAACk3n1AAAAAAKTefUA=",
          "dtype": "f8"
         },
         "xaxis": "x",
         "y": {
          "bdata": "AAAAAAAAAADNO39mnqD2P807f2aeoPY/zTt/Zp6g9j8=",
          "dtype": "f8"
         },
         "yaxis": "y"
        },
        {
         "hoverinfo": "text",
         "marker": {
          "color": "rgb(61,153,112)"
         },
         "mode": "lines",
         "type": "scatter",
         "x": {
          "bdata": "AAAAAADweUAAAAAAAPB5QAAAAABSX3xAAAAAAFJffEA=",
          "dtype": "f8"
         },
         "xaxis": "x",
         "y": {
          "bdata": "AAAAAAAAAADNO39mnqD2P807f2aeoPY/zTt/Zp6g9j8=",
          "dtype": "f8"
         },
         "yaxis": "y"
        },
        {
         "hoverinfo": "text",
         "marker": {
          "color": "rgb(61,153,112)"
         },
         "mode": "lines",
         "type": "scatter",
         "x": {
          "bdata": "AAAAAABQeUAAAAAAAFB5QAAAAACpJ3tAAAAAAKkne0A=",
          "dtype": "f8"
         },
         "xaxis": "x",
         "y": {
          "bdata": "AAAAAAAAAACqTFjoerb7P6pMWOh6tvs/zTt/Zp6g9j8=",
          "dtype": "f8"
         },
         "yaxis": "y"
        },
        {
         "hoverinfo": "text",
         "marker": {
          "color": "rgb(61,153,112)"
         },
         "mode": "lines",
         "type": "scatter",
         "x": {
          "bdata": "AAAAAABydUAAAAAAAHJ1QAAAAIDUO3pAAAAAgNQ7ekA=",
          "dtype": "f8"
         },
         "xaxis": "x",
         "y": {
          "bdata": "AAAAAAAA8D+qTFjoerb7P6pMWOh6tvs/qkxY6Hq2+z8=",
          "dtype": "f8"
         },
         "yaxis": "y"
        },
        {
         "hoverinfo": "text",
         "marker": {
          "color": "rgb(61,153,112)"
         },
         "mode": "lines",
         "type": "scatter",
         "x": {
          "bdata": "AAAAAACwc0AAAAAAALBzQAAAAEDq1ndAAAAAQOrWd0A=",
          "dtype": "f8"
         },
         "xaxis": "x",
         "y": {
          "bdata": "AAAAAAAAAACqTFjoerb7P6pMWOh6tvs/qkxY6Hq2+z8=",
          "dtype": "f8"
         },
         "yaxis": "y"
        },
        {
         "hoverinfo": "text",
         "marker": {
          "color": "rgb(61,153,112)"
         },
         "mode": "lines",
         "type": "scatter",
         "x": {
          "bdata": "AAAAAIBbZUAAAAAAgFtlQAAAACB1w3VAAAAAIHXDdUA=",
          "dtype": "f8"
         },
         "xaxis": "x",
         "y": {
          "bdata": "zTt/Zp6g9j8AAAAAAAAAQAAAAAAAAABAqkxY6Hq2+z8=",
          "dtype": "f8"
         },
         "yaxis": "y"
        },
        {
         "hoverinfo": "text",
         "marker": {
          "color": "rgb(61,153,112)"
         },
         "mode": "lines",
         "type": "scatter",
         "x": {
          "bdata": "AAAAAAA2SkAAAAAAADZKQAAAAJCaOHBAAAAAkJo4cEA=",
          "dtype": "f8"
         },
         "xaxis": "x",
         "y": {
          "bdata": "AAAAAAAA8D+o9Jebd+MBQKj0l5t34wFAAAAAAAAAAEA=",
          "dtype": "f8"
         },
         "yaxis": "y"
        },
        {
         "hoverinfo": "text",
         "marker": {
          "color": "rgb(61,153,112)"
         },
         "mode": "lines",
         "type": "scatter",
         "x": {
          "bdata": "AAAAAAAAOUAAAAAAAAA5QAAAAJBaf2NAAAAAkFp/Y0A=",
          "dtype": "f8"
         },
         "xaxis": "x",
         "y": {
          "bdata": "AAAAAAAAAAAuIQkUjpgDQC4hCRSOmANAqPSXm3fjAUA=",
          "dtype": "f8"
         },
         "yaxis": "y"
        },
        {
         "hoverinfo": "text",
         "marker": {
          "color": "rgb(61,153,112)"
         },
         "mode": "lines",
         "type": "scatter",
         "x": {
          "bdata": "AAAAAAAALkAAAAAAAAAuQAAAAJBan1ZAAAAAkFqfVkA=",
          "dtype": "f8"
         },
         "xaxis": "x",
         "y": {
          "bdata": "AAAAAAAAAAAAAAAAAAAIQAAAAAAAAAhALiEJFI6YA0A=",
          "dtype": "f8"
         },
         "yaxis": "y"
        },
        {
         "hoverinfo": "text",
         "marker": {
          "color": "rgb(0,116,217)"
         },
         "mode": "lines",
         "type": "scatter",
         "x": {
          "bdata": "AAAAAAAAFEAAAAAAAAAUQAAAAJBaX0pAAAAAkFpfSkA=",
          "dtype": "f8"
         },
         "xaxis": "x",
         "y": {
          "bdata": "AAAAAAAAAADzWWFEK9gcQPNZYUQr2BxAAAAAAAAACEA=",
          "dtype": "f8"
         },
         "yaxis": "y"
        }
       ],
       "layout": {
        "autosize": false,
        "height": null,
        "hovermode": "closest",
        "showlegend": false,
        "template": {
         "data": {
          "bar": [
           {
            "error_x": {
             "color": "#2a3f5f"
            },
            "error_y": {
             "color": "#2a3f5f"
            },
            "marker": {
             "line": {
              "color": "#E5ECF6",
              "width": 0.5
             },
             "pattern": {
              "fillmode": "overlay",
              "size": 10,
              "solidity": 0.2
             }
            },
            "type": "bar"
           }
          ],
          "barpolar": [
           {
            "marker": {
             "line": {
              "color": "#E5ECF6",
              "width": 0.5
             },
             "pattern": {
              "fillmode": "overlay",
              "size": 10,
              "solidity": 0.2
             }
            },
            "type": "barpolar"
           }
          ],
          "carpet": [
           {
            "aaxis": {
             "endlinecolor": "#2a3f5f",
             "gridcolor": "white",
             "linecolor": "white",
             "minorgridcolor": "white",
             "startlinecolor": "#2a3f5f"
            },
            "baxis": {
             "endlinecolor": "#2a3f5f",
             "gridcolor": "white",
             "linecolor": "white",
             "minorgridcolor": "white",
             "startlinecolor": "#2a3f5f"
            },
            "type": "carpet"
           }
          ],
          "choropleth": [
           {
            "colorbar": {
             "outlinewidth": 0,
             "ticks": ""
            },
            "type": "choropleth"
           }
          ],
          "contour": [
           {
            "colorbar": {
             "outlinewidth": 0,
             "ticks": ""
            },
            "colorscale": [
             [
              0,
              "#0d0887"
             ],
             [
              0.1111111111111111,
              "#46039f"
             ],
             [
              0.2222222222222222,
              "#7201a8"
             ],
             [
              0.3333333333333333,
              "#9c179e"
             ],
             [
              0.4444444444444444,
              "#bd3786"
             ],
             [
              0.5555555555555556,
              "#d8576b"
             ],
             [
              0.6666666666666666,
              "#ed7953"
             ],
             [
              0.7777777777777778,
              "#fb9f3a"
             ],
             [
              0.8888888888888888,
              "#fdca26"
             ],
             [
              1,
              "#f0f921"
             ]
            ],
            "type": "contour"
           }
          ],
          "contourcarpet": [
           {
            "colorbar": {
             "outlinewidth": 0,
             "ticks": ""
            },
            "type": "contourcarpet"
           }
          ],
          "heatmap": [
           {
            "colorbar": {
             "outlinewidth": 0,
             "ticks": ""
            },
            "colorscale": [
             [
              0,
              "#0d0887"
             ],
             [
              0.1111111111111111,
              "#46039f"
             ],
             [
              0.2222222222222222,
              "#7201a8"
             ],
             [
              0.3333333333333333,
              "#9c179e"
             ],
             [
              0.4444444444444444,
              "#bd3786"
             ],
             [
              0.5555555555555556,
              "#d8576b"
             ],
             [
              0.6666666666666666,
              "#ed7953"
             ],
             [
              0.7777777777777778,
              "#fb9f3a"
             ],
             [
              0.8888888888888888,
              "#fdca26"
             ],
             [
              1,
              "#f0f921"
             ]
            ],
            "type": "heatmap"
           }
          ],
          "histogram": [
           {
            "marker": {
             "pattern": {
              "fillmode": "overlay",
              "size": 10,
              "solidity": 0.2
             }
            },
            "type": "histogram"
           }
          ],
          "histogram2d": [
           {
            "colorbar": {
             "outlinewidth": 0,
             "ticks": ""
            },
            "colorscale": [
             [
              0,
              "#0d0887"
             ],
             [
              0.1111111111111111,
              "#46039f"
             ],
             [
              0.2222222222222222,
              "#7201a8"
             ],
             [
              0.3333333333333333,
              "#9c179e"
             ],
             [
              0.4444444444444444,
              "#bd3786"
             ],
             [
              0.5555555555555556,
              "#d8576b"
             ],
             [
              0.6666666666666666,
              "#ed7953"
             ],
             [
              0.7777777777777778,
              "#fb9f3a"
             ],
             [
              0.8888888888888888,
              "#fdca26"
             ],
             [
              1,
              "#f0f921"
             ]
            ],
            "type": "histogram2d"
           }
          ],
          "histogram2dcontour": [
           {
            "colorbar": {
             "outlinewidth": 0,
             "ticks": ""
            },
            "colorscale": [
             [
              0,
              "#0d0887"
             ],
             [
              0.1111111111111111,
              "#46039f"
             ],
             [
              0.2222222222222222,
              "#7201a8"
             ],
             [
              0.3333333333333333,
              "#9c179e"
             ],
             [
              0.4444444444444444,
              "#bd3786"
             ],
             [
              0.5555555555555556,
              "#d8576b"
             ],
             [
              0.6666666666666666,
              "#ed7953"
             ],
             [
              0.7777777777777778,
              "#fb9f3a"
             ],
             [
              0.8888888888888888,
              "#fdca26"
             ],
             [
              1,
              "#f0f921"
             ]
            ],
            "type": "histogram2dcontour"
           }
          ],
          "mesh3d": [
           {
            "colorbar": {
             "outlinewidth": 0,
             "ticks": ""
            },
            "type": "mesh3d"
           }
          ],
          "parcoords": [
           {
            "line": {
             "colorbar": {
              "outlinewidth": 0,
              "ticks": ""
             }
            },
            "type": "parcoords"
           }
          ],
          "pie": [
           {
            "automargin": true,
            "type": "pie"
           }
          ],
          "scatter": [
           {
            "fillpattern": {
             "fillmode": "overlay",
             "size": 10,
             "solidity": 0.2
            },
            "type": "scatter"
           }
          ],
          "scatter3d": [
           {
            "line": {
             "colorbar": {
              "outlinewidth": 0,
              "ticks": ""
             }
            },
            "marker": {
             "colorbar": {
              "outlinewidth": 0,
              "ticks": ""
             }
            },
            "type": "scatter3d"
           }
          ],
          "scattercarpet": [
           {
            "marker": {
             "colorbar": {
              "outlinewidth": 0,
              "ticks": ""
             }
            },
            "type": "scattercarpet"
           }
          ],
          "scattergeo": [
           {
            "marker": {
             "colorbar": {
              "outlinewidth": 0,
              "ticks": ""
             }
            },
            "type": "scattergeo"
           }
          ],
          "scattergl": [
           {
            "marker": {
             "colorbar": {
              "outlinewidth": 0,
              "ticks": ""
             }
            },
            "type": "scattergl"
           }
          ],
          "scattermap": [
           {
            "marker": {
             "colorbar": {
              "outlinewidth": 0,
              "ticks": ""
             }
            },
            "type": "scattermap"
           }
          ],
          "scattermapbox": [
           {
            "marker": {
             "colorbar": {
              "outlinewidth": 0,
              "ticks": ""
             }
            },
            "type": "scattermapbox"
           }
          ],
          "scatterpolar": [
           {
            "marker": {
             "colorbar": {
              "outlinewidth": 0,
              "ticks": ""
             }
            },
            "type": "scatterpolar"
           }
          ],
          "scatterpolargl": [
           {
            "marker": {
             "colorbar": {
              "outlinewidth": 0,
              "ticks": ""
             }
            },
            "type": "scatterpolargl"
           }
          ],
          "scatterternary": [
           {
            "marker": {
             "colorbar": {
              "outlinewidth": 0,
              "ticks": ""
             }
            },
            "type": "scatterternary"
           }
          ],
          "surface": [
           {
            "colorbar": {
             "outlinewidth": 0,
             "ticks": ""
            },
            "colorscale": [
             [
              0,
              "#0d0887"
             ],
             [
              0.1111111111111111,
              "#46039f"
             ],
             [
              0.2222222222222222,
              "#7201a8"
             ],
             [
              0.3333333333333333,
              "#9c179e"
             ],
             [
              0.4444444444444444,
              "#bd3786"
             ],
             [
              0.5555555555555556,
              "#d8576b"
             ],
             [
              0.6666666666666666,
              "#ed7953"
             ],
             [
              0.7777777777777778,
              "#fb9f3a"
             ],
             [
              0.8888888888888888,
              "#fdca26"
             ],
             [
              1,
              "#f0f921"
             ]
            ],
            "type": "surface"
           }
          ],
          "table": [
           {
            "cells": {
             "fill": {
              "color": "#EBF0F8"
             },
             "line": {
              "color": "white"
             }
            },
            "header": {
             "fill": {
              "color": "#C8D4E3"
             },
             "line": {
              "color": "white"
             }
            },
            "type": "table"
           }
          ]
         },
         "layout": {
          "annotationdefaults": {
           "arrowcolor": "#2a3f5f",
           "arrowhead": 0,
           "arrowwidth": 1
          },
          "autotypenumbers": "strict",
          "coloraxis": {
           "colorbar": {
            "outlinewidth": 0,
            "ticks": ""
           }
          },
          "colorscale": {
           "diverging": [
            [
             0,
             "#8e0152"
            ],
            [
             0.1,
             "#c51b7d"
            ],
            [
             0.2,
             "#de77ae"
            ],
            [
             0.3,
             "#f1b6da"
            ],
            [
             0.4,
             "#fde0ef"
            ],
            [
             0.5,
             "#f7f7f7"
            ],
            [
             0.6,
             "#e6f5d0"
            ],
            [
             0.7,
             "#b8e186"
            ],
            [
             0.8,
             "#7fbc41"
            ],
            [
             0.9,
             "#4d9221"
            ],
            [
             1,
             "#276419"
            ]
           ],
           "sequential": [
            [
             0,
             "#0d0887"
            ],
            [
             0.1111111111111111,
             "#46039f"
            ],
            [
             0.2222222222222222,
             "#7201a8"
            ],
            [
             0.3333333333333333,
             "#9c179e"
            ],
            [
             0.4444444444444444,
             "#bd3786"
            ],
            [
             0.5555555555555556,
             "#d8576b"
            ],
            [
             0.6666666666666666,
             "#ed7953"
            ],
            [
             0.7777777777777778,
             "#fb9f3a"
            ],
            [
             0.8888888888888888,
             "#fdca26"
            ],
            [
             1,
             "#f0f921"
            ]
           ],
           "sequentialminus": [
            [
             0,
             "#0d0887"
            ],
            [
             0.1111111111111111,
             "#46039f"
            ],
            [
             0.2222222222222222,
             "#7201a8"
            ],
            [
             0.3333333333333333,
             "#9c179e"
            ],
            [
             0.4444444444444444,
             "#bd3786"
            ],
            [
             0.5555555555555556,
             "#d8576b"
            ],
            [
             0.6666666666666666,
             "#ed7953"
            ],
            [
             0.7777777777777778,
             "#fb9f3a"
            ],
            [
             0.8888888888888888,
             "#fdca26"
            ],
            [
             1,
             "#f0f921"
            ]
           ]
          },
          "colorway": [
           "#636efa",
           "#EF553B",
           "#00cc96",
           "#ab63fa",
           "#FFA15A",
           "#19d3f3",
           "#FF6692",
           "#B6E880",
           "#FF97FF",
           "#FECB52"
          ],
          "font": {
           "color": "#2a3f5f"
          },
          "geo": {
           "bgcolor": "white",
           "lakecolor": "white",
           "landcolor": "#E5ECF6",
           "showlakes": true,
           "showland": true,
           "subunitcolor": "white"
          },
          "hoverlabel": {
           "align": "left"
          },
          "hovermode": "closest",
          "mapbox": {
           "style": "light"
          },
          "paper_bgcolor": "white",
          "plot_bgcolor": "#E5ECF6",
          "polar": {
           "angularaxis": {
            "gridcolor": "white",
            "linecolor": "white",
            "ticks": ""
           },
           "bgcolor": "#E5ECF6",
           "radialaxis": {
            "gridcolor": "white",
            "linecolor": "white",
            "ticks": ""
           }
          },
          "scene": {
           "xaxis": {
            "backgroundcolor": "#E5ECF6",
            "gridcolor": "white",
            "gridwidth": 2,
            "linecolor": "white",
            "showbackground": true,
            "ticks": "",
            "zerolinecolor": "white"
           },
           "yaxis": {
            "backgroundcolor": "#E5ECF6",
            "gridcolor": "white",
            "gridwidth": 2,
            "linecolor": "white",
            "showbackground": true,
            "ticks": "",
            "zerolinecolor": "white"
           },
           "zaxis": {
            "backgroundcolor": "#E5ECF6",
            "gridcolor": "white",
            "gridwidth": 2,
            "linecolor": "white",
            "showbackground": true,
            "ticks": "",
            "zerolinecolor": "white"
           }
          },
          "shapedefaults": {
           "line": {
            "color": "#2a3f5f"
           }
          },
          "ternary": {
           "aaxis": {
            "gridcolor": "white",
            "linecolor": "white",
            "ticks": ""
           },
           "baxis": {
            "gridcolor": "white",
            "linecolor": "white",
            "ticks": ""
           },
           "bgcolor": "#E5ECF6",
           "caxis": {
            "gridcolor": "white",
            "linecolor": "white",
            "ticks": ""
           }
          },
          "title": {
           "x": 0.05
          },
          "xaxis": {
           "automargin": true,
           "gridcolor": "white",
           "linecolor": "white",
           "ticks": "",
           "title": {
            "standoff": 15
           },
           "zerolinecolor": "white",
           "zerolinewidth": 2
          },
          "yaxis": {
           "automargin": true,
           "gridcolor": "white",
           "linecolor": "white",
           "ticks": "",
           "title": {
            "standoff": 15
           },
           "zerolinecolor": "white",
           "zerolinewidth": 2
          }
         }
        },
        "width": null,
        "xaxis": {
         "mirror": "allticks",
         "rangemode": "tozero",
         "showgrid": false,
         "showline": true,
         "showticklabels": true,
         "tickmode": "array",
         "ticks": "outside",
         "ticktext": [
          "Armadillo",
          "Opossum",
          "Walrus",
          "Elk",
          "Reindeer",
          "Mountain_sheep",
          "Musk_ox",
          "Mountain_goat",
          "Bison",
          "Antelope",
          "Deer",
          "Moose",
          "House_mouse",
          "Black_rat",
          "Muskrat",
          "Pack_rat",
          "Field_mouse",
          "Pika",
          "Snowshoe_rabbit",
          "Chipmunk",
          "Ground_Squirrel",
          "Prairie_Dog",
          "Groundhog",
          "Beaver",
          "Marmot",
          "Guinea_pig",
          "Porcupine",
          "Kangaroo_rat",
          "Pocket_gopher",
          "Gray_squirrel",
          "Fox_squirrel",
          "Coyote",
          "Red_bat",
          "Hoary_bat",
          "House_bat",
          "Pigmy_bat",
          "Brown_bat",
          "Peccary",
          "Silver_hair_bat",
          "Lump_nose_bat",
          "Common_mole",
          "Elephant_seal",
          "Fur_seal",
          "Sea_lion",
          "Lynx",
          "Cougar",
          "Jaguar",
          "Ocelot",
          "Grey_seal",
          "Sea_otter",
          "Skunk",
          "Badger",
          "Ferrer",
          "Weasel",
          "Mink",
          "River_otter",
          "Wolverine",
          "Marten",
          "Fisher",
          "Raccoon",
          "Civet_cat",
          "Hairy_tail_mole",
          "Star_nose_mole",
          "Bear",
          "Wolf",
          "Fox"
         ],
         "tickvals": [
          5,
          15,
          25,
          35,
          45,
          55,
          65,
          75,
          85,
          95,
          105,
          115,
          125,
          135,
          145,
          155,
          165,
          175,
          185,
          195,
          205,
          215,
          225,
          235,
          245,
          255,
          265,
          275,
          285,
          295,
          305,
          315,
          325,
          335,
          345,
          355,
          365,
          375,
          385,
          395,
          405,
          415,
          425,
          435,
          445,
          455,
          465,
          475,
          485,
          495,
          505,
          515,
          525,
          535,
          545,
          555,
          565,
          575,
          585,
          595,
          605,
          615,
          625,
          635,
          645,
          655
         ],
         "type": "linear",
         "zeroline": false
        },
        "yaxis": {
         "mirror": "allticks",
         "rangemode": "tozero",
         "showgrid": false,
         "showline": true,
         "showticklabels": true,
         "ticks": "outside",
         "type": "linear",
         "zeroline": false
        }
       }
      },
      "image/png": "[encoded data removed]"
     },
     "metadata": {},
     "output_type": "display_data"
    }
   ],
   "source": [
    "ff.create_dendrogram(dataframe,labels=dataframe.index,linkagefun=lambda x: linkage(dataframe, 'single', metric='euclidean'))\n",
    "\n",
    "#<xml xmlns=\"https://developers.google.com/blockly/xml\"><variables><variable id=\"%;`~.nPXEejOY1;C=99]\">ff</variable><variable id=\"w0MtU$GK$_0i(vCQ@}s{\">dataframe</variable></variables><block type=\"varDoMethod\" id=\"+O_0iEpbpse+?QPja?B)\" x=\"8\" y=\"176\"><mutation items=\"3\"></mutation><field name=\"VAR\" id=\"%;`~.nPXEejOY1;C=99]\">ff</field><field name=\"MEMBER\">create_dendrogram</field><data>ff:create_dendrogram</data><value name=\"ADD0\"><block type=\"variables_get\" id=\"{KzeCp3;G1:ZheyGIA.A\"><field name=\"VAR\" id=\"w0MtU$GK$_0i(vCQ@}s{\">dataframe</field></block></value><value name=\"ADD1\"><block type=\"dummyOutputCodeBlock\" id=\"m=Jnsk{m#k?|oDDuIZau\"><field name=\"CODE\">labels=dataframe.index</field></block></value><value name=\"ADD2\"><block type=\"dummyOutputCodeBlock\" id=\"9:Ae#!2koBrVX~m34|_l\"><field name=\"CODE\">linkagefun=lambda x: linkage(dataframe, 'single', metric='euclidean')</field></block></value></block></xml>"
   ]
  },
  {
   "cell_type": "markdown",
   "metadata": {},
   "source": [
    "If it's hard to read because of the size, try using the plot interactive tools that appear in the top right of the plot when you hover over it."
   ]
  },
  {
   "cell_type": "markdown",
   "metadata": {},
   "source": [
    "-----------------\n",
    "**QUESTION:**\n",
    "\n",
    "At what point on the y-axis (between 0 and 7) would you draw a horizontal line to get the best clusters?\n",
    "Why wouldn't you draw it higher or lower?\n",
    "How many clusters would this give you?"
   ]
  },
  {
   "cell_type": "markdown",
   "metadata": {},
   "source": [
    "**ANSWER: (click here to edit)**\n",
    "\n",
    "*About 1.7. This would group all the grazing animals together, all the rat-type animals together, the bats together, and the predators together. This would give 6 real clusters with maybe another 3-4 junk clusters.*\n",
    "\n",
    "\n",
    "<hr>"
   ]
  },
  {
   "cell_type": "markdown",
   "metadata": {},
   "source": [
    "## K-means\n",
    "\n",
    "Do K-means with this same data, using the number of clusters you identified above using the dendrogram."
   ]
  },
  {
   "cell_type": "markdown",
   "metadata": {},
   "source": [
    "First import `sklearn.cluster`."
   ]
  },
  {
   "cell_type": "code",
   "execution_count": 14,
   "metadata": {
    "user_blocks": [
     "importAs"
    ],
    "user_blocks_xml": "<xml xmlns=\"https://developers.google.com/blockly/xml\"><variables><variable id=\"=4%?D}KQzh(;hT$}4r1B\">cluster</variable></variables><block type=\"importAs\" id=\"V!Slhkt7E`ZS,(q7,q?4\" x=\"16\" y=\"10\"><field name=\"libraryName\">sklearn.cluster</field><field name=\"VAR\" id=\"=4%?D}KQzh(;hT$}4r1B\">cluster</field></block></xml>",
    "user_code_from_blocks": "import sklearn.cluster as cluster\n"
   },
   "outputs": [],
   "source": [
    "import sklearn.cluster as cluster\n",
    "\n",
    "#<xml xmlns=\"https://developers.google.com/blockly/xml\"><variables><variable id=\"=4%?D}KQzh(;hT$}4r1B\">cluster</variable></variables><block type=\"importAs\" id=\"V!Slhkt7E`ZS,(q7,q?4\" x=\"16\" y=\"10\"><field name=\"libraryName\">sklearn.cluster</field><field name=\"VAR\" id=\"=4%?D}KQzh(;hT$}4r1B\">cluster</field></block></xml>"
   ]
  },
  {
   "cell_type": "markdown",
   "metadata": {},
   "source": [
    "Create a `KMeans` with your number of clusters and store it in a variable."
   ]
  },
  {
   "cell_type": "code",
   "execution_count": 16,
   "metadata": {
    "user_blocks": [
     "variables_set",
     "varCreateObject",
     "dummyOutputCodeBlock"
    ],
    "user_blocks_xml": "<xml xmlns=\"https://developers.google.com/blockly/xml\"><variables><variable id=\"8$7LU#7XT!kIhX2_B{h!\">kmeans</variable><variable id=\"=4%?D}KQzh(;hT$}4r1B\">cluster</variable></variables><block type=\"variables_set\" id=\"?4-jgMaj`8xuGn2JXC|K\" x=\"-51\" y=\"167\"><field name=\"VAR\" id=\"8$7LU#7XT!kIhX2_B{h!\">kmeans</field><value name=\"VALUE\"><block type=\"varCreateObject\" id=\"2zBw%H,SCeuvo;eWIqNE\"><mutation items=\"1\"></mutation><field name=\"VAR\" id=\"=4%?D}KQzh(;hT$}4r1B\">cluster</field><field name=\"MEMBER\">KMeans</field><data>cluster:KMeans</data><value name=\"ADD0\"><block type=\"dummyOutputCodeBlock\" id=\"~P+jUJFNkLea!lJvEq{O\"><field name=\"CODE\">n_clusters=6</field></block></value></block></value></block></xml>",
    "user_code_from_blocks": "kmeans = cluster.KMeans(n_clusters=6)\n"
   },
   "outputs": [],
   "source": [
    "kmeans = cluster.KMeans(n_clusters=6)\n",
    "\n",
    "#<xml xmlns=\"https://developers.google.com/blockly/xml\"><variables><variable id=\"8$7LU#7XT!kIhX2_B{h!\">kmeans</variable><variable id=\"=4%?D}KQzh(;hT$}4r1B\">cluster</variable></variables><block type=\"variables_set\" id=\"?4-jgMaj`8xuGn2JXC|K\" x=\"-51\" y=\"167\"><field name=\"VAR\" id=\"8$7LU#7XT!kIhX2_B{h!\">kmeans</field><value name=\"VALUE\"><block type=\"varCreateObject\" id=\"2zBw%H,SCeuvo;eWIqNE\"><mutation items=\"1\"></mutation><field name=\"VAR\" id=\"=4%?D}KQzh(;hT$}4r1B\">cluster</field><field name=\"MEMBER\">KMeans</field><data>cluster:KMeans</data><value name=\"ADD0\"><block type=\"dummyOutputCodeBlock\" id=\"~P+jUJFNkLea!lJvEq{O\"><field name=\"CODE\">n_clusters=6</field></block></value></block></value></block></xml>"
   ]
  },
  {
   "cell_type": "markdown",
   "metadata": {},
   "source": [
    "Using `fit_predict` get clusters and display them."
   ]
  },
  {
   "cell_type": "code",
   "execution_count": 18,
   "metadata": {
    "user_blocks": [
     "variables_set",
     "varDoMethod",
     "variables_get",
     "variables_get"
    ],
    "user_blocks_xml": "<xml xmlns=\"https://developers.google.com/blockly/xml\"><variables><variable id=\"%tOoU9%wt$a7gwK!}w6I\">kmeansPredictions</variable><variable id=\"8$7LU#7XT!kIhX2_B{h!\">kmeans</variable><variable id=\"w0MtU$GK$_0i(vCQ@}s{\">dataframe</variable></variables><block type=\"variables_set\" id=\"eW`j#vgy%L}_2,!aFrk$\" x=\"-14\" y=\"150\"><field name=\"VAR\" id=\"%tOoU9%wt$a7gwK!}w6I\">kmeansPredictions</field><value name=\"VALUE\"><block type=\"varDoMethod\" id=\"f@W.Y*=7*XvrYClk$b6^\"><mutation items=\"1\"></mutation><field name=\"VAR\" id=\"8$7LU#7XT!kIhX2_B{h!\">kmeans</field><field name=\"MEMBER\">fit_predict</field><data>kmeans:fit_predict</data><value name=\"ADD0\"><block type=\"variables_get\" id=\"+D|]0Am8;GATjh#ckRhz\"><field name=\"VAR\" id=\"w0MtU$GK$_0i(vCQ@}s{\">dataframe</field></block></value></block></value></block><block type=\"variables_get\" id=\"05l$^=D]KUe2C:Rd]8Lr\" x=\"-20\" y=\"233\"><field name=\"VAR\" id=\"%tOoU9%wt$a7gwK!}w6I\">kmeansPredictions</field></block></xml>",
    "user_code_from_blocks": "kmeansPredictions = kmeans.fit_predict(dataframe)\n\nkmeansPredictions\n"
   },
   "outputs": [
    {
     "data": {
      "text/plain": [
       "array([5, 5, 4, 5, 4, 4, 4, 4, 4, 4, 4, 2, 2, 2, 2, 2, 2, 2, 2, 2, 2, 2,\n",
       "       2, 2, 2, 2, 2, 2, 2, 2, 2, 4, 5, 5, 5, 5, 5, 3, 3, 3, 3, 3, 3, 3,\n",
       "       3, 3, 3, 3, 3, 3, 3, 0, 0, 0, 3, 0, 4, 1, 1, 1, 1, 1, 1, 1, 1, 1],\n",
       "      dtype=int32)"
      ]
     },
     "execution_count": 18,
     "metadata": {},
     "output_type": "execute_result"
    }
   ],
   "source": [
    "kmeansPredictions = kmeans.fit_predict(dataframe)\n",
    "\n",
    "kmeansPredictions\n",
    "\n",
    "#<xml xmlns=\"https://developers.google.com/blockly/xml\"><variables><variable id=\"%tOoU9%wt$a7gwK!}w6I\">kmeansPredictions</variable><variable id=\"8$7LU#7XT!kIhX2_B{h!\">kmeans</variable><variable id=\"w0MtU$GK$_0i(vCQ@}s{\">dataframe</variable></variables><block type=\"variables_set\" id=\"eW`j#vgy%L}_2,!aFrk$\" x=\"-14\" y=\"150\"><field name=\"VAR\" id=\"%tOoU9%wt$a7gwK!}w6I\">kmeansPredictions</field><value name=\"VALUE\"><block type=\"varDoMethod\" id=\"f@W.Y*=7*XvrYClk$b6^\"><mutation items=\"1\"></mutation><field name=\"VAR\" id=\"8$7LU#7XT!kIhX2_B{h!\">kmeans</field><field name=\"MEMBER\">fit_predict</field><data>kmeans:fit_predict</data><value name=\"ADD0\"><block type=\"variables_get\" id=\"+D|]0Am8;GATjh#ckRhz\"><field name=\"VAR\" id=\"w0MtU$GK$_0i(vCQ@}s{\">dataframe</field></block></value></block></value></block><block type=\"variables_get\" id=\"05l$^=D]KUe2C:Rd]8Lr\" x=\"-20\" y=\"233\"><field name=\"VAR\" id=\"%tOoU9%wt$a7gwK!}w6I\">kmeansPredictions</field></block></xml>"
   ]
  },
  {
   "cell_type": "markdown",
   "metadata": {},
   "source": [
    "Insert these predictions as a new column, `cluster` in your dataframe, converting them to `str` type for plotting:"
   ]
  },
  {
   "cell_type": "code",
   "execution_count": 20,
   "metadata": {
    "user_blocks": [
     "varDoMethod",
     "dummyOutputCodeBlock",
     "dummyOutputCodeBlock",
     "varDoMethod",
     "dummyOutputCodeBlock",
     "variables_get"
    ],
    "user_blocks_xml": "<xml xmlns=\"https://developers.google.com/blockly/xml\"><variables><variable id=\"w0MtU$GK$_0i(vCQ@}s{\">dataframe</variable><variable id=\"%tOoU9%wt$a7gwK!}w6I\">kmeansPredictions</variable></variables><block type=\"varDoMethod\" id=\"v+8hRH^+Pm[2z_D0y:/8\" x=\"28\" y=\"70\"><mutation items=\"3\"></mutation><field name=\"VAR\" id=\"w0MtU$GK$_0i(vCQ@}s{\">dataframe</field><field name=\"MEMBER\">insert</field><data>dataframe:insert</data><value name=\"ADD0\"><block type=\"dummyOutputCodeBlock\" id=\"JUB-{[/SKYxUH7K/o#QV\"><field name=\"CODE\">0</field></block></value><value name=\"ADD1\"><block type=\"dummyOutputCodeBlock\" id=\"Z3jF/VwtsuU27hFT6eBb\"><field name=\"CODE\">\"cluster\"</field></block></value><value name=\"ADD2\"><block type=\"varDoMethod\" id=\"^G$n(gB1tSV7s$y`ZTex\"><mutation items=\"1\"></mutation><field name=\"VAR\" id=\"%tOoU9%wt$a7gwK!}w6I\">kmeansPredictions</field><field name=\"MEMBER\">astype</field><data>kmeansPredictions:astype</data><value name=\"ADD0\"><block type=\"dummyOutputCodeBlock\" id=\":--7H/U:ySsbwmv9bG9|\"><field name=\"CODE\">str</field></block></value></block></value></block><block type=\"variables_get\" id=\"kl*dsWU=Y?#A=Lqr9t`4\" x=\"17\" y=\"243\"><field name=\"VAR\" id=\"w0MtU$GK$_0i(vCQ@}s{\">dataframe</field></block></xml>",
    "user_code_from_blocks": "dataframe.insert(0,\"cluster\",kmeansPredictions.astype(str))\n\ndataframe\n"
   },
   "outputs": [
    {
     "data": {
      "text/html": [
       "<div>\n",
       "<style scoped>\n",
       "    .dataframe tbody tr th:only-of-type {\n",
       "        vertical-align: middle;\n",
       "    }\n",
       "\n",
       "    .dataframe tbody tr th {\n",
       "        vertical-align: top;\n",
       "    }\n",
       "\n",
       "    .dataframe thead th {\n",
       "        text-align: right;\n",
       "    }\n",
       "</style>\n",
       "<table border=\"1\" class=\"dataframe\">\n",
       "  <thead>\n",
       "    <tr style=\"text-align: right;\">\n",
       "      <th></th>\n",
       "      <th>cluster</th>\n",
       "      <th>I</th>\n",
       "      <th>i</th>\n",
       "      <th>C</th>\n",
       "      <th>c</th>\n",
       "      <th>P</th>\n",
       "      <th>p</th>\n",
       "      <th>M</th>\n",
       "      <th>m</th>\n",
       "    </tr>\n",
       "    <tr>\n",
       "      <th>Name</th>\n",
       "      <th></th>\n",
       "      <th></th>\n",
       "      <th></th>\n",
       "      <th></th>\n",
       "      <th></th>\n",
       "      <th></th>\n",
       "      <th></th>\n",
       "      <th></th>\n",
       "      <th></th>\n",
       "    </tr>\n",
       "  </thead>\n",
       "  <tbody>\n",
       "    <tr>\n",
       "      <th>Opossum</th>\n",
       "      <td>5</td>\n",
       "      <td>5</td>\n",
       "      <td>4</td>\n",
       "      <td>1</td>\n",
       "      <td>1</td>\n",
       "      <td>3</td>\n",
       "      <td>3</td>\n",
       "      <td>4</td>\n",
       "      <td>4</td>\n",
       "    </tr>\n",
       "    <tr>\n",
       "      <th>Hairy_tail_mole</th>\n",
       "      <td>5</td>\n",
       "      <td>3</td>\n",
       "      <td>3</td>\n",
       "      <td>1</td>\n",
       "      <td>1</td>\n",
       "      <td>4</td>\n",
       "      <td>4</td>\n",
       "      <td>3</td>\n",
       "      <td>3</td>\n",
       "    </tr>\n",
       "    <tr>\n",
       "      <th>Common_mole</th>\n",
       "      <td>4</td>\n",
       "      <td>3</td>\n",
       "      <td>2</td>\n",
       "      <td>1</td>\n",
       "      <td>0</td>\n",
       "      <td>3</td>\n",
       "      <td>3</td>\n",
       "      <td>3</td>\n",
       "      <td>3</td>\n",
       "    </tr>\n",
       "    <tr>\n",
       "      <th>Star_nose_mole</th>\n",
       "      <td>5</td>\n",
       "      <td>3</td>\n",
       "      <td>3</td>\n",
       "      <td>1</td>\n",
       "      <td>1</td>\n",
       "      <td>4</td>\n",
       "      <td>4</td>\n",
       "      <td>3</td>\n",
       "      <td>3</td>\n",
       "    </tr>\n",
       "    <tr>\n",
       "      <th>Brown_bat</th>\n",
       "      <td>4</td>\n",
       "      <td>2</td>\n",
       "      <td>3</td>\n",
       "      <td>1</td>\n",
       "      <td>1</td>\n",
       "      <td>3</td>\n",
       "      <td>3</td>\n",
       "      <td>3</td>\n",
       "      <td>3</td>\n",
       "    </tr>\n",
       "    <tr>\n",
       "      <th>...</th>\n",
       "      <td>...</td>\n",
       "      <td>...</td>\n",
       "      <td>...</td>\n",
       "      <td>...</td>\n",
       "      <td>...</td>\n",
       "      <td>...</td>\n",
       "      <td>...</td>\n",
       "      <td>...</td>\n",
       "      <td>...</td>\n",
       "    </tr>\n",
       "    <tr>\n",
       "      <th>Antelope</th>\n",
       "      <td>1</td>\n",
       "      <td>0</td>\n",
       "      <td>4</td>\n",
       "      <td>0</td>\n",
       "      <td>0</td>\n",
       "      <td>3</td>\n",
       "      <td>3</td>\n",
       "      <td>3</td>\n",
       "      <td>3</td>\n",
       "    </tr>\n",
       "    <tr>\n",
       "      <th>Bison</th>\n",
       "      <td>1</td>\n",
       "      <td>0</td>\n",
       "      <td>4</td>\n",
       "      <td>0</td>\n",
       "      <td>0</td>\n",
       "      <td>3</td>\n",
       "      <td>3</td>\n",
       "      <td>3</td>\n",
       "      <td>3</td>\n",
       "    </tr>\n",
       "    <tr>\n",
       "      <th>Mountain_goat</th>\n",
       "      <td>1</td>\n",
       "      <td>0</td>\n",
       "      <td>4</td>\n",
       "      <td>0</td>\n",
       "      <td>0</td>\n",
       "      <td>3</td>\n",
       "      <td>3</td>\n",
       "      <td>3</td>\n",
       "      <td>3</td>\n",
       "    </tr>\n",
       "    <tr>\n",
       "      <th>Musk_ox</th>\n",
       "      <td>1</td>\n",
       "      <td>0</td>\n",
       "      <td>4</td>\n",
       "      <td>0</td>\n",
       "      <td>0</td>\n",
       "      <td>3</td>\n",
       "      <td>3</td>\n",
       "      <td>3</td>\n",
       "      <td>3</td>\n",
       "    </tr>\n",
       "    <tr>\n",
       "      <th>Mountain_sheep</th>\n",
       "      <td>1</td>\n",
       "      <td>0</td>\n",
       "      <td>4</td>\n",
       "      <td>0</td>\n",
       "      <td>0</td>\n",
       "      <td>3</td>\n",
       "      <td>3</td>\n",
       "      <td>3</td>\n",
       "      <td>3</td>\n",
       "    </tr>\n",
       "  </tbody>\n",
       "</table>\n",
       "<p>66 rows × 9 columns</p>\n",
       "</div>"
      ],
      "text/plain": [
       "                cluster  I  i  C  c  P  p  M  m\n",
       "Name                                           \n",
       "Opossum               5  5  4  1  1  3  3  4  4\n",
       "Hairy_tail_mole       5  3  3  1  1  4  4  3  3\n",
       "Common_mole           4  3  2  1  0  3  3  3  3\n",
       "Star_nose_mole        5  3  3  1  1  4  4  3  3\n",
       "Brown_bat             4  2  3  1  1  3  3  3  3\n",
       "...                 ... .. .. .. .. .. .. .. ..\n",
       "Antelope              1  0  4  0  0  3  3  3  3\n",
       "Bison                 1  0  4  0  0  3  3  3  3\n",
       "Mountain_goat         1  0  4  0  0  3  3  3  3\n",
       "Musk_ox               1  0  4  0  0  3  3  3  3\n",
       "Mountain_sheep        1  0  4  0  0  3  3  3  3\n",
       "\n",
       "[66 rows x 9 columns]"
      ]
     },
     "execution_count": 20,
     "metadata": {},
     "output_type": "execute_result"
    }
   ],
   "source": [
    "dataframe.insert(0,\"cluster\",kmeansPredictions.astype(str))\n",
    "\n",
    "dataframe\n",
    "\n",
    "#<xml xmlns=\"https://developers.google.com/blockly/xml\"><variables><variable id=\"w0MtU$GK$_0i(vCQ@}s{\">dataframe</variable><variable id=\"%tOoU9%wt$a7gwK!}w6I\">kmeansPredictions</variable></variables><block type=\"varDoMethod\" id=\"v+8hRH^+Pm[2z_D0y:/8\" x=\"28\" y=\"70\"><mutation items=\"3\"></mutation><field name=\"VAR\" id=\"w0MtU$GK$_0i(vCQ@}s{\">dataframe</field><field name=\"MEMBER\">insert</field><data>dataframe:insert</data><value name=\"ADD0\"><block type=\"dummyOutputCodeBlock\" id=\"JUB-{[/SKYxUH7K/o#QV\"><field name=\"CODE\">0</field></block></value><value name=\"ADD1\"><block type=\"dummyOutputCodeBlock\" id=\"Z3jF/VwtsuU27hFT6eBb\"><field name=\"CODE\">\"cluster\"</field></block></value><value name=\"ADD2\"><block type=\"varDoMethod\" id=\"^G$n(gB1tSV7s$y`ZTex\"><mutation items=\"1\"></mutation><field name=\"VAR\" id=\"%tOoU9%wt$a7gwK!}w6I\">kmeansPredictions</field><field name=\"MEMBER\">astype</field><data>kmeansPredictions:astype</data><value name=\"ADD0\"><block type=\"dummyOutputCodeBlock\" id=\":--7H/U:ySsbwmv9bG9|\"><field name=\"CODE\">str</field></block></value></block></value></block><block type=\"variables_get\" id=\"kl*dsWU=Y?#A=Lqr9t`4\" x=\"17\" y=\"243\"><field name=\"VAR\" id=\"w0MtU$GK$_0i(vCQ@}s{\">dataframe</field></block></xml>"
   ]
  },
  {
   "cell_type": "markdown",
   "metadata": {},
   "source": [
    "Take a look at your clusters with this trick to show the whole thing:\n",
    "\n",
    "- `print with dataframe do to_string using`"
   ]
  },
  {
   "cell_type": "code",
   "execution_count": 27,
   "metadata": {
    "user_blocks": [
     "text_print",
     "varDoMethod"
    ],
    "user_blocks_xml": "<xml xmlns=\"https://developers.google.com/blockly/xml\"><variables><variable id=\"w0MtU$GK$_0i(vCQ@}s{\">dataframe</variable></variables><block type=\"text_print\" id=\"bD+I+Zcqh}ln]Z$PkFg9\" x=\"35\" y=\"27\"><value name=\"TEXT\"><block type=\"varDoMethod\" id=\"%kFDvIpl1]#$XQQS!{mW\"><mutation items=\"1\"></mutation><field name=\"VAR\" id=\"w0MtU$GK$_0i(vCQ@}s{\">dataframe</field><field name=\"MEMBER\">to_string</field><data>dataframe:to_string</data></block></value></block></xml>",
    "user_code_from_blocks": "print(dataframe.to_string())\n"
   },
   "outputs": [
    {
     "name": "stdout",
     "output_type": "stream",
     "text": [
      "                cluster  I  i  C  c  P  p  M  m\n",
      "Name                                           \n",
      "Opossum               5  5  4  1  1  3  3  4  4\n",
      "Hairy_tail_mole       5  3  3  1  1  4  4  3  3\n",
      "Common_mole           4  3  2  1  0  3  3  3  3\n",
      "Star_nose_mole        5  3  3  1  1  4  4  3  3\n",
      "Brown_bat             4  2  3  1  1  3  3  3  3\n",
      "Silver_hair_bat       4  2  3  1  1  2  3  3  3\n",
      "Pigmy_bat             4  2  3  1  1  2  2  3  3\n",
      "House_bat             4  2  3  1  1  1  2  3  3\n",
      "Red_bat               4  1  3  1  1  2  2  3  3\n",
      "Hoary_bat             4  1  3  1  1  2  2  3  3\n",
      "Lump_nose_bat         4  2  3  1  1  2  3  3  3\n",
      "Armadillo             2  0  0  0  0  0  0  8  8\n",
      "Pika                  2  2  1  0  0  2  2  3  3\n",
      "Snowshoe_rabbit       2  2  1  0  0  3  2  3  3\n",
      "Beaver                2  1  1  0  0  2  1  3  3\n",
      "Marmot                2  1  1  0  0  2  1  3  3\n",
      "Groundhog             2  1  1  0  0  2  1  3  3\n",
      "Prairie_Dog           2  1  1  0  0  2  1  3  3\n",
      "Ground_Squirrel       2  1  1  0  0  2  1  3  3\n",
      "Chipmunk              2  1  1  0  0  2  1  3  3\n",
      "Gray_squirrel         2  1  1  0  0  1  1  3  3\n",
      "Fox_squirrel          2  1  1  0  0  1  1  3  3\n",
      "Pocket_gopher         2  1  1  0  0  1  1  3  3\n",
      "Kangaroo_rat          2  1  1  0  0  1  1  3  3\n",
      "Pack_rat              2  1  1  0  0  0  0  3  3\n",
      "Field_mouse           2  1  1  0  0  0  0  3  3\n",
      "Muskrat               2  1  1  0  0  0  0  3  3\n",
      "Black_rat             2  1  1  0  0  0  0  3  3\n",
      "House_mouse           2  1  1  0  0  0  0  3  3\n",
      "Porcupine             2  1  1  0  0  1  1  3  3\n",
      "Guinea_pig            2  1  1  0  0  1  1  3  3\n",
      "Coyote                4  1  3  1  1  4  4  3  3\n",
      "Wolf                  5  3  3  1  1  4  4  2  3\n",
      "Fox                   5  3  3  1  1  4  4  2  3\n",
      "Bear                  5  3  3  1  1  4  4  2  3\n",
      "Civet_cat             5  3  3  1  1  4  4  2  2\n",
      "Raccoon               5  3  3  1  1  4  4  3  2\n",
      "Marten                3  3  3  1  1  4  4  1  2\n",
      "Fisher                3  3  3  1  1  4  4  1  2\n",
      "Weasel                3  3  3  1  1  3  3  1  2\n",
      "Mink                  3  3  3  1  1  3  3  1  2\n",
      "Ferrer                3  3  3  1  1  3  3  1  2\n",
      "Wolverine             3  3  3  1  1  4  4  1  2\n",
      "Badger                3  3  3  1  1  3  3  1  2\n",
      "Skunk                 3  3  3  1  1  3  3  1  2\n",
      "River_otter           3  3  3  1  1  4  3  1  2\n",
      "Sea_otter             3  3  2  1  1  3  3  1  2\n",
      "Jaguar                3  3  3  1  1  3  2  1  1\n",
      "Ocelot                3  3  3  1  1  3  2  1  1\n",
      "Cougar                3  3  3  1  1  3  2  1  1\n",
      "Lynx                  3  3  3  1  1  3  2  1  1\n",
      "Fur_seal              0  3  2  1  1  4  4  1  1\n",
      "Sea_lion              0  3  2  1  1  4  4  1  1\n",
      "Walrus                0  1  0  1  1  3  3  0  0\n",
      "Grey_seal             3  3  2  1  1  3  3  2  2\n",
      "Elephant_seal         0  2  1  1  1  4  4  1  1\n",
      "Peccary               4  2  3  1  1  3  3  3  3\n",
      "Elk                   1  0  4  1  0  3  3  3  3\n",
      "Deer                  1  0  4  0  0  3  3  3  3\n",
      "Moose                 1  0  4  0  0  3  3  3  3\n",
      "Reindeer              1  0  4  1  0  3  3  3  3\n",
      "Antelope              1  0  4  0  0  3  3  3  3\n",
      "Bison                 1  0  4  0  0  3  3  3  3\n",
      "Mountain_goat         1  0  4  0  0  3  3  3  3\n",
      "Musk_ox               1  0  4  0  0  3  3  3  3\n",
      "Mountain_sheep        1  0  4  0  0  3  3  3  3\n"
     ]
    }
   ],
   "source": [
    "print(dataframe.to_string())\n",
    "\n",
    "#<xml xmlns=\"https://developers.google.com/blockly/xml\"><variables><variable id=\"w0MtU$GK$_0i(vCQ@}s{\">dataframe</variable></variables><block type=\"text_print\" id=\"bD+I+Zcqh}ln]Z$PkFg9\" x=\"35\" y=\"27\"><value name=\"TEXT\"><block type=\"varDoMethod\" id=\"%kFDvIpl1]#$XQQS!{mW\"><mutation items=\"1\"></mutation><field name=\"VAR\" id=\"w0MtU$GK$_0i(vCQ@}s{\">dataframe</field><field name=\"MEMBER\">to_string</field><data>dataframe:to_string</data></block></value></block></xml>"
   ]
  },
  {
   "cell_type": "markdown",
   "metadata": {},
   "source": [
    "-----------------\n",
    "**QUESTION:**\n",
    "\n",
    "For each one of your clusters, what kind of animal does the cluster correspond to?"
   ]
  },
  {
   "cell_type": "markdown",
   "metadata": {},
   "source": [
    "**ANSWER: (click here to edit)**\n",
    "\n",
    "- 5 is moles and large predators\n",
    "- 4 is bats\n",
    "- 1 is rats\n",
    "- 0 is predators\n",
    "- 2 is hearding animals\n",
    "- 3 is junk/armadillo\n",
    "\n",
    "<hr>"
   ]
  },
  {
   "cell_type": "markdown",
   "metadata": {},
   "source": [
    "### Scatterplots\n",
    "\n",
    "Make 3 scatterplots\n",
    "\n",
    "- I vs. P\n",
    "- I vs. M\n",
    "- P vs. M\n",
    "\n",
    "and color the categories in each one.\n",
    "This is necessary because our data has many dimensions, but our plots only have two dimensions.\n",
    "\n",
    "First, import `plotly.express`."
   ]
  },
  {
   "cell_type": "code",
   "execution_count": 30,
   "metadata": {
    "user_blocks": [
     "importAs"
    ],
    "user_blocks_xml": "<xml xmlns=\"https://developers.google.com/blockly/xml\"><variables><variable id=\"o]8d]RxO,Gcx(.ogOS#{\">px</variable></variables><block type=\"importAs\" id=\"[})$jZc$15Z?OmY2rm3M\" x=\"16\" y=\"10\"><field name=\"libraryName\">plotly.express</field><field name=\"VAR\" id=\"o]8d]RxO,Gcx(.ogOS#{\">px</field></block></xml>",
    "user_code_from_blocks": "import plotly.express as px\n"
   },
   "outputs": [],
   "source": [
    "import plotly.express as px\n",
    "\n",
    "#<xml xmlns=\"https://developers.google.com/blockly/xml\"><variables><variable id=\"o]8d]RxO,Gcx(.ogOS#{\">px</variable></variables><block type=\"importAs\" id=\"[})$jZc$15Z?OmY2rm3M\" x=\"16\" y=\"10\"><field name=\"libraryName\">plotly.express</field><field name=\"VAR\" id=\"o]8d]RxO,Gcx(.ogOS#{\">px</field></block></xml>"
   ]
  },
  {
   "cell_type": "markdown",
   "metadata": {},
   "source": [
    "Create the I vs P scatterplot, but remove `ols`."
   ]
  },
  {
   "cell_type": "code",
   "execution_count": 32,
   "metadata": {
    "user_blocks": [
     "varDoMethod",
     "variables_get",
     "dummyOutputCodeBlock",
     "dummyOutputCodeBlock",
     "dummyOutputCodeBlock"
    ],
    "user_blocks_xml": "<xml xmlns=\"https://developers.google.com/blockly/xml\"><variables><variable id=\"o]8d]RxO,Gcx(.ogOS#{\">px</variable><variable id=\"w0MtU$GK$_0i(vCQ@}s{\">dataframe</variable></variables><block type=\"varDoMethod\" id=\"Dn5fvKUj5b*)^9)1eTd8\" x=\"-72\" y=\"81\"><mutation items=\"4\"></mutation><field name=\"VAR\" id=\"o]8d]RxO,Gcx(.ogOS#{\">px</field><field name=\"MEMBER\">scatter</field><data>px:scatter</data><value name=\"ADD0\"><block type=\"variables_get\" id=\"j7;K-#L?vCt~imZ?=Oax\"><field name=\"VAR\" id=\"w0MtU$GK$_0i(vCQ@}s{\">dataframe</field></block></value><value name=\"ADD1\"><block type=\"dummyOutputCodeBlock\" id=\"Od4~8dz?HlhMIYS8s~gV\"><field name=\"CODE\">x = \"I\"</field></block></value><value name=\"ADD2\"><block type=\"dummyOutputCodeBlock\" id=\"pwXKi)V{FZ:PE[jU!H,r\"><field name=\"CODE\">y = \"P\"</field></block></value><value name=\"ADD3\"><block type=\"dummyOutputCodeBlock\" id=\"-O+U-Gyb3EVUUL/h0pO?\"><field name=\"CODE\">color = \"cluster\"</field></block></value></block></xml>",
    "user_code_from_blocks": "px.scatter(dataframe,x = \"I\",y = \"P\",color = \"cluster\")\n"
   },
   "outputs": [
    {
     "data": {
      "application/vnd.plotly.v1+json": {
       "config": {
        "plotlyServerURL": "https://plot.ly"
       },
       "data": [
        {
         "hovertemplate": "cluster=5<br>I=%{x}<br>P=%{y}<extra></extra>",
         "legendgroup": "5",
         "marker": {
          "color": "#636efa",
          "symbol": "circle"
         },
         "mode": "markers",
         "name": "5",
         "orientation": "v",
         "showlegend": true,
         "type": "scatter",
         "x": {
          "bdata": "BQMDAwMDAwM=",
          "dtype": "i1"
         },
         "xaxis": "x",
         "y": {
          "bdata": "AwQEBAQEBAQ=",
          "dtype": "i1"
         },
         "yaxis": "y"
        },
        {
         "hovertemplate": "cluster=4<br>I=%{x}<br>P=%{y}<extra></extra>",
         "legendgroup": "4",
         "marker": {
          "color": "#EF553B",
          "symbol": "circle"
         },
         "mode": "markers",
         "name": "4",
         "orientation": "v",
         "showlegend": true,
         "type": "scatter",
         "x": {
          "bdata": "AwICAgIBAQIBAg==",
          "dtype": "i1"
         },
         "xaxis": "x",
         "y": {
          "bdata": "AwMCAgECAgIEAw==",
          "dtype": "i1"
         },
         "yaxis": "y"
        },
        {
         "hovertemplate": "cluster=2<br>I=%{x}<br>P=%{y}<extra></extra>",
         "legendgroup": "2",
         "marker": {
          "color": "#00cc96",
          "symbol": "circle"
         },
         "mode": "markers",
         "name": "2",
         "orientation": "v",
         "showlegend": true,
         "type": "scatter",
         "x": {
          "bdata": "AAICAQEBAQEBAQEBAQEBAQEBAQE=",
          "dtype": "i1"
         },
         "xaxis": "x",
         "y": {
          "bdata": "AAIDAgICAgICAQEBAQAAAAAAAQE=",
          "dtype": "i1"
         },
         "yaxis": "y"
        },
        {
         "hovertemplate": "cluster=3<br>I=%{x}<br>P=%{y}<extra></extra>",
         "legendgroup": "3",
         "marker": {
          "color": "#ab63fa",
          "symbol": "circle"
         },
         "mode": "markers",
         "name": "3",
         "orientation": "v",
         "showlegend": true,
         "type": "scatter",
         "x": {
          "bdata": "AwMDAwMDAwMDAwMDAwMD",
          "dtype": "i1"
         },
         "xaxis": "x",
         "y": {
          "bdata": "BAQDAwMEAwMEAwMDAwMD",
          "dtype": "i1"
         },
         "yaxis": "y"
        },
        {
         "hovertemplate": "cluster=0<br>I=%{x}<br>P=%{y}<extra></extra>",
         "legendgroup": "0",
         "marker": {
          "color": "#FFA15A",
          "symbol": "circle"
         },
         "mode": "markers",
         "name": "0",
         "orientation": "v",
         "showlegend": true,
         "type": "scatter",
         "x": {
          "bdata": "AwMBAg==",
          "dtype": "i1"
         },
         "xaxis": "x",
         "y": {
          "bdata": "BAQDBA==",
          "dtype": "i1"
         },
         "yaxis": "y"
        },
        {
         "hovertemplate": "cluster=1<br>I=%{x}<br>P=%{y}<extra></extra>",
         "legendgroup": "1",
         "marker": {
          "color": "#19d3f3",
          "symbol": "circle"
         },
         "mode": "markers",
         "name": "1",
         "orientation": "v",
         "showlegend": true,
         "type": "scatter",
         "x": {
          "bdata": "AAAAAAAAAAAA",
          "dtype": "i1"
         },
         "xaxis": "x",
         "y": {
          "bdata": "AwMDAwMDAwMD",
          "dtype": "i1"
         },
         "yaxis": "y"
        }
       ],
       "layout": {
        "legend": {
         "title": {
          "text": "cluster"
         },
         "tracegroupgap": 0
        },
        "margin": {
         "t": 60
        },
        "template": {
         "data": {
          "bar": [
           {
            "error_x": {
             "color": "#2a3f5f"
            },
            "error_y": {
             "color": "#2a3f5f"
            },
            "marker": {
             "line": {
              "color": "#E5ECF6",
              "width": 0.5
             },
             "pattern": {
              "fillmode": "overlay",
              "size": 10,
              "solidity": 0.2
             }
            },
            "type": "bar"
           }
          ],
          "barpolar": [
           {
            "marker": {
             "line": {
              "color": "#E5ECF6",
              "width": 0.5
             },
             "pattern": {
              "fillmode": "overlay",
              "size": 10,
              "solidity": 0.2
             }
            },
            "type": "barpolar"
           }
          ],
          "carpet": [
           {
            "aaxis": {
             "endlinecolor": "#2a3f5f",
             "gridcolor": "white",
             "linecolor": "white",
             "minorgridcolor": "white",
             "startlinecolor": "#2a3f5f"
            },
            "baxis": {
             "endlinecolor": "#2a3f5f",
             "gridcolor": "white",
             "linecolor": "white",
             "minorgridcolor": "white",
             "startlinecolor": "#2a3f5f"
            },
            "type": "carpet"
           }
          ],
          "choropleth": [
           {
            "colorbar": {
             "outlinewidth": 0,
             "ticks": ""
            },
            "type": "choropleth"
           }
          ],
          "contour": [
           {
            "colorbar": {
             "outlinewidth": 0,
             "ticks": ""
            },
            "colorscale": [
             [
              0,
              "#0d0887"
             ],
             [
              0.1111111111111111,
              "#46039f"
             ],
             [
              0.2222222222222222,
              "#7201a8"
             ],
             [
              0.3333333333333333,
              "#9c179e"
             ],
             [
              0.4444444444444444,
              "#bd3786"
             ],
             [
              0.5555555555555556,
              "#d8576b"
             ],
             [
              0.6666666666666666,
              "#ed7953"
             ],
             [
              0.7777777777777778,
              "#fb9f3a"
             ],
             [
              0.8888888888888888,
              "#fdca26"
             ],
             [
              1,
              "#f0f921"
             ]
            ],
            "type": "contour"
           }
          ],
          "contourcarpet": [
           {
            "colorbar": {
             "outlinewidth": 0,
             "ticks": ""
            },
            "type": "contourcarpet"
           }
          ],
          "heatmap": [
           {
            "colorbar": {
             "outlinewidth": 0,
             "ticks": ""
            },
            "colorscale": [
             [
              0,
              "#0d0887"
             ],
             [
              0.1111111111111111,
              "#46039f"
             ],
             [
              0.2222222222222222,
              "#7201a8"
             ],
             [
              0.3333333333333333,
              "#9c179e"
             ],
             [
              0.4444444444444444,
              "#bd3786"
             ],
             [
              0.5555555555555556,
              "#d8576b"
             ],
             [
              0.6666666666666666,
              "#ed7953"
             ],
             [
              0.7777777777777778,
              "#fb9f3a"
             ],
             [
              0.8888888888888888,
              "#fdca26"
             ],
             [
              1,
              "#f0f921"
             ]
            ],
            "type": "heatmap"
           }
          ],
          "histogram": [
           {
            "marker": {
             "pattern": {
              "fillmode": "overlay",
              "size": 10,
              "solidity": 0.2
             }
            },
            "type": "histogram"
           }
          ],
          "histogram2d": [
           {
            "colorbar": {
             "outlinewidth": 0,
             "ticks": ""
            },
            "colorscale": [
             [
              0,
              "#0d0887"
             ],
             [
              0.1111111111111111,
              "#46039f"
             ],
             [
              0.2222222222222222,
              "#7201a8"
             ],
             [
              0.3333333333333333,
              "#9c179e"
             ],
             [
              0.4444444444444444,
              "#bd3786"
             ],
             [
              0.5555555555555556,
              "#d8576b"
             ],
             [
              0.6666666666666666,
              "#ed7953"
             ],
             [
              0.7777777777777778,
              "#fb9f3a"
             ],
             [
              0.8888888888888888,
              "#fdca26"
             ],
             [
              1,
              "#f0f921"
             ]
            ],
            "type": "histogram2d"
           }
          ],
          "histogram2dcontour": [
           {
            "colorbar": {
             "outlinewidth": 0,
             "ticks": ""
            },
            "colorscale": [
             [
              0,
              "#0d0887"
             ],
             [
              0.1111111111111111,
              "#46039f"
             ],
             [
              0.2222222222222222,
              "#7201a8"
             ],
             [
              0.3333333333333333,
              "#9c179e"
             ],
             [
              0.4444444444444444,
              "#bd3786"
             ],
             [
              0.5555555555555556,
              "#d8576b"
             ],
             [
              0.6666666666666666,
              "#ed7953"
             ],
             [
              0.7777777777777778,
              "#fb9f3a"
             ],
             [
              0.8888888888888888,
              "#fdca26"
             ],
             [
              1,
              "#f0f921"
             ]
            ],
            "type": "histogram2dcontour"
           }
          ],
          "mesh3d": [
           {
            "colorbar": {
             "outlinewidth": 0,
             "ticks": ""
            },
            "type": "mesh3d"
           }
          ],
          "parcoords": [
           {
            "line": {
             "colorbar": {
              "outlinewidth": 0,
              "ticks": ""
             }
            },
            "type": "parcoords"
           }
          ],
          "pie": [
           {
            "automargin": true,
            "type": "pie"
           }
          ],
          "scatter": [
           {
            "fillpattern": {
             "fillmode": "overlay",
             "size": 10,
             "solidity": 0.2
            },
            "type": "scatter"
           }
          ],
          "scatter3d": [
           {
            "line": {
             "colorbar": {
              "outlinewidth": 0,
              "ticks": ""
             }
            },
            "marker": {
             "colorbar": {
              "outlinewidth": 0,
              "ticks": ""
             }
            },
            "type": "scatter3d"
           }
          ],
          "scattercarpet": [
           {
            "marker": {
             "colorbar": {
              "outlinewidth": 0,
              "ticks": ""
             }
            },
            "type": "scattercarpet"
           }
          ],
          "scattergeo": [
           {
            "marker": {
             "colorbar": {
              "outlinewidth": 0,
              "ticks": ""
             }
            },
            "type": "scattergeo"
           }
          ],
          "scattergl": [
           {
            "marker": {
             "colorbar": {
              "outlinewidth": 0,
              "ticks": ""
             }
            },
            "type": "scattergl"
           }
          ],
          "scattermap": [
           {
            "marker": {
             "colorbar": {
              "outlinewidth": 0,
              "ticks": ""
             }
            },
            "type": "scattermap"
           }
          ],
          "scattermapbox": [
           {
            "marker": {
             "colorbar": {
              "outlinewidth": 0,
              "ticks": ""
             }
            },
            "type": "scattermapbox"
           }
          ],
          "scatterpolar": [
           {
            "marker": {
             "colorbar": {
              "outlinewidth": 0,
              "ticks": ""
             }
            },
            "type": "scatterpolar"
           }
          ],
          "scatterpolargl": [
           {
            "marker": {
             "colorbar": {
              "outlinewidth": 0,
              "ticks": ""
             }
            },
            "type": "scatterpolargl"
           }
          ],
          "scatterternary": [
           {
            "marker": {
             "colorbar": {
              "outlinewidth": 0,
              "ticks": ""
             }
            },
            "type": "scatterternary"
           }
          ],
          "surface": [
           {
            "colorbar": {
             "outlinewidth": 0,
             "ticks": ""
            },
            "colorscale": [
             [
              0,
              "#0d0887"
             ],
             [
              0.1111111111111111,
              "#46039f"
             ],
             [
              0.2222222222222222,
              "#7201a8"
             ],
             [
              0.3333333333333333,
              "#9c179e"
             ],
             [
              0.4444444444444444,
              "#bd3786"
             ],
             [
              0.5555555555555556,
              "#d8576b"
             ],
             [
              0.6666666666666666,
              "#ed7953"
             ],
             [
              0.7777777777777778,
              "#fb9f3a"
             ],
             [
              0.8888888888888888,
              "#fdca26"
             ],
             [
              1,
              "#f0f921"
             ]
            ],
            "type": "surface"
           }
          ],
          "table": [
           {
            "cells": {
             "fill": {
              "color": "#EBF0F8"
             },
             "line": {
              "color": "white"
             }
            },
            "header": {
             "fill": {
              "color": "#C8D4E3"
             },
             "line": {
              "color": "white"
             }
            },
            "type": "table"
           }
          ]
         },
         "layout": {
          "annotationdefaults": {
           "arrowcolor": "#2a3f5f",
           "arrowhead": 0,
           "arrowwidth": 1
          },
          "autotypenumbers": "strict",
          "coloraxis": {
           "colorbar": {
            "outlinewidth": 0,
            "ticks": ""
           }
          },
          "colorscale": {
           "diverging": [
            [
             0,
             "#8e0152"
            ],
            [
             0.1,
             "#c51b7d"
            ],
            [
             0.2,
             "#de77ae"
            ],
            [
             0.3,
             "#f1b6da"
            ],
            [
             0.4,
             "#fde0ef"
            ],
            [
             0.5,
             "#f7f7f7"
            ],
            [
             0.6,
             "#e6f5d0"
            ],
            [
             0.7,
             "#b8e186"
            ],
            [
             0.8,
             "#7fbc41"
            ],
            [
             0.9,
             "#4d9221"
            ],
            [
             1,
             "#276419"
            ]
           ],
           "sequential": [
            [
             0,
             "#0d0887"
            ],
            [
             0.1111111111111111,
             "#46039f"
            ],
            [
             0.2222222222222222,
             "#7201a8"
            ],
            [
             0.3333333333333333,
             "#9c179e"
            ],
            [
             0.4444444444444444,
             "#bd3786"
            ],
            [
             0.5555555555555556,
             "#d8576b"
            ],
            [
             0.6666666666666666,
             "#ed7953"
            ],
            [
             0.7777777777777778,
             "#fb9f3a"
            ],
            [
             0.8888888888888888,
             "#fdca26"
            ],
            [
             1,
             "#f0f921"
            ]
           ],
           "sequentialminus": [
            [
             0,
             "#0d0887"
            ],
            [
             0.1111111111111111,
             "#46039f"
            ],
            [
             0.2222222222222222,
             "#7201a8"
            ],
            [
             0.3333333333333333,
             "#9c179e"
            ],
            [
             0.4444444444444444,
             "#bd3786"
            ],
            [
             0.5555555555555556,
             "#d8576b"
            ],
            [
             0.6666666666666666,
             "#ed7953"
            ],
            [
             0.7777777777777778,
             "#fb9f3a"
            ],
            [
             0.8888888888888888,
             "#fdca26"
            ],
            [
             1,
             "#f0f921"
            ]
           ]
          },
          "colorway": [
           "#636efa",
           "#EF553B",
           "#00cc96",
           "#ab63fa",
           "#FFA15A",
           "#19d3f3",
           "#FF6692",
           "#B6E880",
           "#FF97FF",
           "#FECB52"
          ],
          "font": {
           "color": "#2a3f5f"
          },
          "geo": {
           "bgcolor": "white",
           "lakecolor": "white",
           "landcolor": "#E5ECF6",
           "showlakes": true,
           "showland": true,
           "subunitcolor": "white"
          },
          "hoverlabel": {
           "align": "left"
          },
          "hovermode": "closest",
          "mapbox": {
           "style": "light"
          },
          "paper_bgcolor": "white",
          "plot_bgcolor": "#E5ECF6",
          "polar": {
           "angularaxis": {
            "gridcolor": "white",
            "linecolor": "white",
            "ticks": ""
           },
           "bgcolor": "#E5ECF6",
           "radialaxis": {
            "gridcolor": "white",
            "linecolor": "white",
            "ticks": ""
           }
          },
          "scene": {
           "xaxis": {
            "backgroundcolor": "#E5ECF6",
            "gridcolor": "white",
            "gridwidth": 2,
            "linecolor": "white",
            "showbackground": true,
            "ticks": "",
            "zerolinecolor": "white"
           },
           "yaxis": {
            "backgroundcolor": "#E5ECF6",
            "gridcolor": "white",
            "gridwidth": 2,
            "linecolor": "white",
            "showbackground": true,
            "ticks": "",
            "zerolinecolor": "white"
           },
           "zaxis": {
            "backgroundcolor": "#E5ECF6",
            "gridcolor": "white",
            "gridwidth": 2,
            "linecolor": "white",
            "showbackground": true,
            "ticks": "",
            "zerolinecolor": "white"
           }
          },
          "shapedefaults": {
           "line": {
            "color": "#2a3f5f"
           }
          },
          "ternary": {
           "aaxis": {
            "gridcolor": "white",
            "linecolor": "white",
            "ticks": ""
           },
           "baxis": {
            "gridcolor": "white",
            "linecolor": "white",
            "ticks": ""
           },
           "bgcolor": "#E5ECF6",
           "caxis": {
            "gridcolor": "white",
            "linecolor": "white",
            "ticks": ""
           }
          },
          "title": {
           "x": 0.05
          },
          "xaxis": {
           "automargin": true,
           "gridcolor": "white",
           "linecolor": "white",
           "ticks": "",
           "title": {
            "standoff": 15
           },
           "zerolinecolor": "white",
           "zerolinewidth": 2
          },
          "yaxis": {
           "automargin": true,
           "gridcolor": "white",
           "linecolor": "white",
           "ticks": "",
           "title": {
            "standoff": 15
           },
           "zerolinecolor": "white",
           "zerolinewidth": 2
          }
         }
        },
        "xaxis": {
         "anchor": "y",
         "domain": [
          0,
          1
         ],
         "title": {
          "text": "I"
         }
        },
        "yaxis": {
         "anchor": "x",
         "domain": [
          0,
          1
         ],
         "title": {
          "text": "P"
         }
        }
       }
      },
      "image/png": "[encoded data removed]"
     },
     "metadata": {},
     "output_type": "display_data"
    }
   ],
   "source": [
    "px.scatter(dataframe,x = \"I\",y = \"P\",color = \"cluster\")\n",
    "\n",
    "#<xml xmlns=\"https://developers.google.com/blockly/xml\"><variables><variable id=\"o]8d]RxO,Gcx(.ogOS#{\">px</variable><variable id=\"w0MtU$GK$_0i(vCQ@}s{\">dataframe</variable></variables><block type=\"varDoMethod\" id=\"Dn5fvKUj5b*)^9)1eTd8\" x=\"-72\" y=\"81\"><mutation items=\"4\"></mutation><field name=\"VAR\" id=\"o]8d]RxO,Gcx(.ogOS#{\">px</field><field name=\"MEMBER\">scatter</field><data>px:scatter</data><value name=\"ADD0\"><block type=\"variables_get\" id=\"j7;K-#L?vCt~imZ?=Oax\"><field name=\"VAR\" id=\"w0MtU$GK$_0i(vCQ@}s{\">dataframe</field></block></value><value name=\"ADD1\"><block type=\"dummyOutputCodeBlock\" id=\"Od4~8dz?HlhMIYS8s~gV\"><field name=\"CODE\">x = \"I\"</field></block></value><value name=\"ADD2\"><block type=\"dummyOutputCodeBlock\" id=\"pwXKi)V{FZ:PE[jU!H,r\"><field name=\"CODE\">y = \"P\"</field></block></value><value name=\"ADD3\"><block type=\"dummyOutputCodeBlock\" id=\"-O+U-Gyb3EVUUL/h0pO?\"><field name=\"CODE\">color = \"cluster\"</field></block></value></block></xml>"
   ]
  },
  {
   "cell_type": "markdown",
   "metadata": {},
   "source": [
    "-----------------\n",
    "**QUESTION:**\n",
    "\n",
    "Mouse over each do to see what cluster it belongs to (it will be darker if there are many datapoints under it). \n",
    "Which clusters are well separated? \n",
    "Which are not?"
   ]
  },
  {
   "cell_type": "markdown",
   "metadata": {},
   "source": [
    "**ANSWER: (click here to edit)**\n",
    "\n",
    "Well separated:\n",
    "\n",
    "- 2\n",
    "- 3\n",
    "- 4\n",
    "\n",
    "The rest are mixed in with each other\n",
    "\n",
    "<hr>"
   ]
  },
  {
   "cell_type": "markdown",
   "metadata": {},
   "source": [
    "Create the I vs M scatterplot."
   ]
  },
  {
   "cell_type": "code",
   "execution_count": 34,
   "metadata": {
    "user_blocks": [
     "varDoMethod",
     "variables_get",
     "dummyOutputCodeBlock",
     "dummyOutputCodeBlock",
     "dummyOutputCodeBlock"
    ],
    "user_blocks_xml": "<xml xmlns=\"https://developers.google.com/blockly/xml\"><variables><variable id=\"o]8d]RxO,Gcx(.ogOS#{\">px</variable><variable id=\"w0MtU$GK$_0i(vCQ@}s{\">dataframe</variable></variables><block type=\"varDoMethod\" id=\"Dn5fvKUj5b*)^9)1eTd8\" x=\"-72\" y=\"81\"><mutation items=\"4\"></mutation><field name=\"VAR\" id=\"o]8d]RxO,Gcx(.ogOS#{\">px</field><field name=\"MEMBER\">scatter</field><data>px:scatter</data><value name=\"ADD0\"><block type=\"variables_get\" id=\"j7;K-#L?vCt~imZ?=Oax\"><field name=\"VAR\" id=\"w0MtU$GK$_0i(vCQ@}s{\">dataframe</field></block></value><value name=\"ADD1\"><block type=\"dummyOutputCodeBlock\" id=\"Od4~8dz?HlhMIYS8s~gV\"><field name=\"CODE\">x = \"I\"</field></block></value><value name=\"ADD2\"><block type=\"dummyOutputCodeBlock\" id=\"pwXKi)V{FZ:PE[jU!H,r\"><field name=\"CODE\">y = \"M\"</field></block></value><value name=\"ADD3\"><block type=\"dummyOutputCodeBlock\" id=\"-O+U-Gyb3EVUUL/h0pO?\"><field name=\"CODE\">color = \"cluster\"</field></block></value></block></xml>",
    "user_code_from_blocks": "px.scatter(dataframe,x = \"I\",y = \"M\",color = \"cluster\")\n"
   },
   "outputs": [
    {
     "data": {
      "application/vnd.plotly.v1+json": {
       "config": {
        "plotlyServerURL": "https://plot.ly"
       },
       "data": [
        {
         "hovertemplate": "cluster=5<br>I=%{x}<br>M=%{y}<extra></extra>",
         "legendgroup": "5",
         "marker": {
          "color": "#636efa",
          "symbol": "circle"
         },
         "mode": "markers",
         "name": "5",
         "orientation": "v",
         "showlegend": true,
         "type": "scatter",
         "x": {
          "bdata": "BQMDAwMDAwM=",
          "dtype": "i1"
         },
         "xaxis": "x",
         "y": {
          "bdata": "BAMDAgICAgM=",
          "dtype": "i1"
         },
         "yaxis": "y"
        },
        {
         "hovertemplate": "cluster=4<br>I=%{x}<br>M=%{y}<extra></extra>",
         "legendgroup": "4",
         "marker": {
          "color": "#EF553B",
          "symbol": "circle"
         },
         "mode": "markers",
         "name": "4",
         "orientation": "v",
         "showlegend": true,
         "type": "scatter",
         "x": {
          "bdata": "AwICAgIBAQIBAg==",
          "dtype": "i1"
         },
         "xaxis": "x",
         "y": {
          "bdata": "AwMDAwMDAwMDAw==",
          "dtype": "i1"
         },
         "yaxis": "y"
        },
        {
         "hovertemplate": "cluster=2<br>I=%{x}<br>M=%{y}<extra></extra>",
         "legendgroup": "2",
         "marker": {
          "color": "#00cc96",
          "symbol": "circle"
         },
         "mode": "markers",
         "name": "2",
         "orientation": "v",
         "showlegend": true,
         "type": "scatter",
         "x": {
          "bdata": "AAICAQEBAQEBAQEBAQEBAQEBAQE=",
          "dtype": "i1"
         },
         "xaxis": "x",
         "y": {
          "bdata": "CAMDAwMDAwMDAwMDAwMDAwMDAwM=",
          "dtype": "i1"
         },
         "yaxis": "y"
        },
        {
         "hovertemplate": "cluster=3<br>I=%{x}<br>M=%{y}<extra></extra>",
         "legendgroup": "3",
         "marker": {
          "color": "#ab63fa",
          "symbol": "circle"
         },
         "mode": "markers",
         "name": "3",
         "orientation": "v",
         "showlegend": true,
         "type": "scatter",
         "x": {
          "bdata": "AwMDAwMDAwMDAwMDAwMD",
          "dtype": "i1"
         },
         "xaxis": "x",
         "y": {
          "bdata": "AQEBAQEBAQEBAQEBAQEC",
          "dtype": "i1"
         },
         "yaxis": "y"
        },
        {
         "hovertemplate": "cluster=0<br>I=%{x}<br>M=%{y}<extra></extra>",
         "legendgroup": "0",
         "marker": {
          "color": "#FFA15A",
          "symbol": "circle"
         },
         "mode": "markers",
         "name": "0",
         "orientation": "v",
         "showlegend": true,
         "type": "scatter",
         "x": {
          "bdata": "AwMBAg==",
          "dtype": "i1"
         },
         "xaxis": "x",
         "y": {
          "bdata": "AQEAAQ==",
          "dtype": "i1"
         },
         "yaxis": "y"
        },
        {
         "hovertemplate": "cluster=1<br>I=%{x}<br>M=%{y}<extra></extra>",
         "legendgroup": "1",
         "marker": {
          "color": "#19d3f3",
          "symbol": "circle"
         },
         "mode": "markers",
         "name": "1",
         "orientation": "v",
         "showlegend": true,
         "type": "scatter",
         "x": {
          "bdata": "AAAAAAAAAAAA",
          "dtype": "i1"
         },
         "xaxis": "x",
         "y": {
          "bdata": "AwMDAwMDAwMD",
          "dtype": "i1"
         },
         "yaxis": "y"
        }
       ],
       "layout": {
        "legend": {
         "title": {
          "text": "cluster"
         },
         "tracegroupgap": 0
        },
        "margin": {
         "t": 60
        },
        "template": {
         "data": {
          "bar": [
           {
            "error_x": {
             "color": "#2a3f5f"
            },
            "error_y": {
             "color": "#2a3f5f"
            },
            "marker": {
             "line": {
              "color": "#E5ECF6",
              "width": 0.5
             },
             "pattern": {
              "fillmode": "overlay",
              "size": 10,
              "solidity": 0.2
             }
            },
            "type": "bar"
           }
          ],
          "barpolar": [
           {
            "marker": {
             "line": {
              "color": "#E5ECF6",
              "width": 0.5
             },
             "pattern": {
              "fillmode": "overlay",
              "size": 10,
              "solidity": 0.2
             }
            },
            "type": "barpolar"
           }
          ],
          "carpet": [
           {
            "aaxis": {
             "endlinecolor": "#2a3f5f",
             "gridcolor": "white",
             "linecolor": "white",
             "minorgridcolor": "white",
             "startlinecolor": "#2a3f5f"
            },
            "baxis": {
             "endlinecolor": "#2a3f5f",
             "gridcolor": "white",
             "linecolor": "white",
             "minorgridcolor": "white",
             "startlinecolor": "#2a3f5f"
            },
            "type": "carpet"
           }
          ],
          "choropleth": [
           {
            "colorbar": {
             "outlinewidth": 0,
             "ticks": ""
            },
            "type": "choropleth"
           }
          ],
          "contour": [
           {
            "colorbar": {
             "outlinewidth": 0,
             "ticks": ""
            },
            "colorscale": [
             [
              0,
              "#0d0887"
             ],
             [
              0.1111111111111111,
              "#46039f"
             ],
             [
              0.2222222222222222,
              "#7201a8"
             ],
             [
              0.3333333333333333,
              "#9c179e"
             ],
             [
              0.4444444444444444,
              "#bd3786"
             ],
             [
              0.5555555555555556,
              "#d8576b"
             ],
             [
              0.6666666666666666,
              "#ed7953"
             ],
             [
              0.7777777777777778,
              "#fb9f3a"
             ],
             [
              0.8888888888888888,
              "#fdca26"
             ],
             [
              1,
              "#f0f921"
             ]
            ],
            "type": "contour"
           }
          ],
          "contourcarpet": [
           {
            "colorbar": {
             "outlinewidth": 0,
             "ticks": ""
            },
            "type": "contourcarpet"
           }
          ],
          "heatmap": [
           {
            "colorbar": {
             "outlinewidth": 0,
             "ticks": ""
            },
            "colorscale": [
             [
              0,
              "#0d0887"
             ],
             [
              0.1111111111111111,
              "#46039f"
             ],
             [
              0.2222222222222222,
              "#7201a8"
             ],
             [
              0.3333333333333333,
              "#9c179e"
             ],
             [
              0.4444444444444444,
              "#bd3786"
             ],
             [
              0.5555555555555556,
              "#d8576b"
             ],
             [
              0.6666666666666666,
              "#ed7953"
             ],
             [
              0.7777777777777778,
              "#fb9f3a"
             ],
             [
              0.8888888888888888,
              "#fdca26"
             ],
             [
              1,
              "#f0f921"
             ]
            ],
            "type": "heatmap"
           }
          ],
          "histogram": [
           {
            "marker": {
             "pattern": {
              "fillmode": "overlay",
              "size": 10,
              "solidity": 0.2
             }
            },
            "type": "histogram"
           }
          ],
          "histogram2d": [
           {
            "colorbar": {
             "outlinewidth": 0,
             "ticks": ""
            },
            "colorscale": [
             [
              0,
              "#0d0887"
             ],
             [
              0.1111111111111111,
              "#46039f"
             ],
             [
              0.2222222222222222,
              "#7201a8"
             ],
             [
              0.3333333333333333,
              "#9c179e"
             ],
             [
              0.4444444444444444,
              "#bd3786"
             ],
             [
              0.5555555555555556,
              "#d8576b"
             ],
             [
              0.6666666666666666,
              "#ed7953"
             ],
             [
              0.7777777777777778,
              "#fb9f3a"
             ],
             [
              0.8888888888888888,
              "#fdca26"
             ],
             [
              1,
              "#f0f921"
             ]
            ],
            "type": "histogram2d"
           }
          ],
          "histogram2dcontour": [
           {
            "colorbar": {
             "outlinewidth": 0,
             "ticks": ""
            },
            "colorscale": [
             [
              0,
              "#0d0887"
             ],
             [
              0.1111111111111111,
              "#46039f"
             ],
             [
              0.2222222222222222,
              "#7201a8"
             ],
             [
              0.3333333333333333,
              "#9c179e"
             ],
             [
              0.4444444444444444,
              "#bd3786"
             ],
             [
              0.5555555555555556,
              "#d8576b"
             ],
             [
              0.6666666666666666,
              "#ed7953"
             ],
             [
              0.7777777777777778,
              "#fb9f3a"
             ],
             [
              0.8888888888888888,
              "#fdca26"
             ],
             [
              1,
              "#f0f921"
             ]
            ],
            "type": "histogram2dcontour"
           }
          ],
          "mesh3d": [
           {
            "colorbar": {
             "outlinewidth": 0,
             "ticks": ""
            },
            "type": "mesh3d"
           }
          ],
          "parcoords": [
           {
            "line": {
             "colorbar": {
              "outlinewidth": 0,
              "ticks": ""
             }
            },
            "type": "parcoords"
           }
          ],
          "pie": [
           {
            "automargin": true,
            "type": "pie"
           }
          ],
          "scatter": [
           {
            "fillpattern": {
             "fillmode": "overlay",
             "size": 10,
             "solidity": 0.2
            },
            "type": "scatter"
           }
          ],
          "scatter3d": [
           {
            "line": {
             "colorbar": {
              "outlinewidth": 0,
              "ticks": ""
             }
            },
            "marker": {
             "colorbar": {
              "outlinewidth": 0,
              "ticks": ""
             }
            },
            "type": "scatter3d"
           }
          ],
          "scattercarpet": [
           {
            "marker": {
             "colorbar": {
              "outlinewidth": 0,
              "ticks": ""
             }
            },
            "type": "scattercarpet"
           }
          ],
          "scattergeo": [
           {
            "marker": {
             "colorbar": {
              "outlinewidth": 0,
              "ticks": ""
             }
            },
            "type": "scattergeo"
           }
          ],
          "scattergl": [
           {
            "marker": {
             "colorbar": {
              "outlinewidth": 0,
              "ticks": ""
             }
            },
            "type": "scattergl"
           }
          ],
          "scattermap": [
           {
            "marker": {
             "colorbar": {
              "outlinewidth": 0,
              "ticks": ""
             }
            },
            "type": "scattermap"
           }
          ],
          "scattermapbox": [
           {
            "marker": {
             "colorbar": {
              "outlinewidth": 0,
              "ticks": ""
             }
            },
            "type": "scattermapbox"
           }
          ],
          "scatterpolar": [
           {
            "marker": {
             "colorbar": {
              "outlinewidth": 0,
              "ticks": ""
             }
            },
            "type": "scatterpolar"
           }
          ],
          "scatterpolargl": [
           {
            "marker": {
             "colorbar": {
              "outlinewidth": 0,
              "ticks": ""
             }
            },
            "type": "scatterpolargl"
           }
          ],
          "scatterternary": [
           {
            "marker": {
             "colorbar": {
              "outlinewidth": 0,
              "ticks": ""
             }
            },
            "type": "scatterternary"
           }
          ],
          "surface": [
           {
            "colorbar": {
             "outlinewidth": 0,
             "ticks": ""
            },
            "colorscale": [
             [
              0,
              "#0d0887"
             ],
             [
              0.1111111111111111,
              "#46039f"
             ],
             [
              0.2222222222222222,
              "#7201a8"
             ],
             [
              0.3333333333333333,
              "#9c179e"
             ],
             [
              0.4444444444444444,
              "#bd3786"
             ],
             [
              0.5555555555555556,
              "#d8576b"
             ],
             [
              0.6666666666666666,
              "#ed7953"
             ],
             [
              0.7777777777777778,
              "#fb9f3a"
             ],
             [
              0.8888888888888888,
              "#fdca26"
             ],
             [
              1,
              "#f0f921"
             ]
            ],
            "type": "surface"
           }
          ],
          "table": [
           {
            "cells": {
             "fill": {
              "color": "#EBF0F8"
             },
             "line": {
              "color": "white"
             }
            },
            "header": {
             "fill": {
              "color": "#C8D4E3"
             },
             "line": {
              "color": "white"
             }
            },
            "type": "table"
           }
          ]
         },
         "layout": {
          "annotationdefaults": {
           "arrowcolor": "#2a3f5f",
           "arrowhead": 0,
           "arrowwidth": 1
          },
          "autotypenumbers": "strict",
          "coloraxis": {
           "colorbar": {
            "outlinewidth": 0,
            "ticks": ""
           }
          },
          "colorscale": {
           "diverging": [
            [
             0,
             "#8e0152"
            ],
            [
             0.1,
             "#c51b7d"
            ],
            [
             0.2,
             "#de77ae"
            ],
            [
             0.3,
             "#f1b6da"
            ],
            [
             0.4,
             "#fde0ef"
            ],
            [
             0.5,
             "#f7f7f7"
            ],
            [
             0.6,
             "#e6f5d0"
            ],
            [
             0.7,
             "#b8e186"
            ],
            [
             0.8,
             "#7fbc41"
            ],
            [
             0.9,
             "#4d9221"
            ],
            [
             1,
             "#276419"
            ]
           ],
           "sequential": [
            [
             0,
             "#0d0887"
            ],
            [
             0.1111111111111111,
             "#46039f"
            ],
            [
             0.2222222222222222,
             "#7201a8"
            ],
            [
             0.3333333333333333,
             "#9c179e"
            ],
            [
             0.4444444444444444,
             "#bd3786"
            ],
            [
             0.5555555555555556,
             "#d8576b"
            ],
            [
             0.6666666666666666,
             "#ed7953"
            ],
            [
             0.7777777777777778,
             "#fb9f3a"
            ],
            [
             0.8888888888888888,
             "#fdca26"
            ],
            [
             1,
             "#f0f921"
            ]
           ],
           "sequentialminus": [
            [
             0,
             "#0d0887"
            ],
            [
             0.1111111111111111,
             "#46039f"
            ],
            [
             0.2222222222222222,
             "#7201a8"
            ],
            [
             0.3333333333333333,
             "#9c179e"
            ],
            [
             0.4444444444444444,
             "#bd3786"
            ],
            [
             0.5555555555555556,
             "#d8576b"
            ],
            [
             0.6666666666666666,
             "#ed7953"
            ],
            [
             0.7777777777777778,
             "#fb9f3a"
            ],
            [
             0.8888888888888888,
             "#fdca26"
            ],
            [
             1,
             "#f0f921"
            ]
           ]
          },
          "colorway": [
           "#636efa",
           "#EF553B",
           "#00cc96",
           "#ab63fa",
           "#FFA15A",
           "#19d3f3",
           "#FF6692",
           "#B6E880",
           "#FF97FF",
           "#FECB52"
          ],
          "font": {
           "color": "#2a3f5f"
          },
          "geo": {
           "bgcolor": "white",
           "lakecolor": "white",
           "landcolor": "#E5ECF6",
           "showlakes": true,
           "showland": true,
           "subunitcolor": "white"
          },
          "hoverlabel": {
           "align": "left"
          },
          "hovermode": "closest",
          "mapbox": {
           "style": "light"
          },
          "paper_bgcolor": "white",
          "plot_bgcolor": "#E5ECF6",
          "polar": {
           "angularaxis": {
            "gridcolor": "white",
            "linecolor": "white",
            "ticks": ""
           },
           "bgcolor": "#E5ECF6",
           "radialaxis": {
            "gridcolor": "white",
            "linecolor": "white",
            "ticks": ""
           }
          },
          "scene": {
           "xaxis": {
            "backgroundcolor": "#E5ECF6",
            "gridcolor": "white",
            "gridwidth": 2,
            "linecolor": "white",
            "showbackground": true,
            "ticks": "",
            "zerolinecolor": "white"
           },
           "yaxis": {
            "backgroundcolor": "#E5ECF6",
            "gridcolor": "white",
            "gridwidth": 2,
            "linecolor": "white",
            "showbackground": true,
            "ticks": "",
            "zerolinecolor": "white"
           },
           "zaxis": {
            "backgroundcolor": "#E5ECF6",
            "gridcolor": "white",
            "gridwidth": 2,
            "linecolor": "white",
            "showbackground": true,
            "ticks": "",
            "zerolinecolor": "white"
           }
          },
          "shapedefaults": {
           "line": {
            "color": "#2a3f5f"
           }
          },
          "ternary": {
           "aaxis": {
            "gridcolor": "white",
            "linecolor": "white",
            "ticks": ""
           },
           "baxis": {
            "gridcolor": "white",
            "linecolor": "white",
            "ticks": ""
           },
           "bgcolor": "#E5ECF6",
           "caxis": {
            "gridcolor": "white",
            "linecolor": "white",
            "ticks": ""
           }
          },
          "title": {
           "x": 0.05
          },
          "xaxis": {
           "automargin": true,
           "gridcolor": "white",
           "linecolor": "white",
           "ticks": "",
           "title": {
            "standoff": 15
           },
           "zerolinecolor": "white",
           "zerolinewidth": 2
          },
          "yaxis": {
           "automargin": true,
           "gridcolor": "white",
           "linecolor": "white",
           "ticks": "",
           "title": {
            "standoff": 15
           },
           "zerolinecolor": "white",
           "zerolinewidth": 2
          }
         }
        },
        "xaxis": {
         "anchor": "y",
         "domain": [
          0,
          1
         ],
         "title": {
          "text": "I"
         }
        },
        "yaxis": {
         "anchor": "x",
         "domain": [
          0,
          1
         ],
         "title": {
          "text": "M"
         }
        }
       }
      },
      "image/png": "[encoded data removed]"
     },
     "metadata": {},
     "output_type": "display_data"
    }
   ],
   "source": [
    "px.scatter(dataframe,x = \"I\",y = \"M\",color = \"cluster\")\n",
    "\n",
    "#<xml xmlns=\"https://developers.google.com/blockly/xml\"><variables><variable id=\"o]8d]RxO,Gcx(.ogOS#{\">px</variable><variable id=\"w0MtU$GK$_0i(vCQ@}s{\">dataframe</variable></variables><block type=\"varDoMethod\" id=\"Dn5fvKUj5b*)^9)1eTd8\" x=\"-72\" y=\"81\"><mutation items=\"4\"></mutation><field name=\"VAR\" id=\"o]8d]RxO,Gcx(.ogOS#{\">px</field><field name=\"MEMBER\">scatter</field><data>px:scatter</data><value name=\"ADD0\"><block type=\"variables_get\" id=\"j7;K-#L?vCt~imZ?=Oax\"><field name=\"VAR\" id=\"w0MtU$GK$_0i(vCQ@}s{\">dataframe</field></block></value><value name=\"ADD1\"><block type=\"dummyOutputCodeBlock\" id=\"Od4~8dz?HlhMIYS8s~gV\"><field name=\"CODE\">x = \"I\"</field></block></value><value name=\"ADD2\"><block type=\"dummyOutputCodeBlock\" id=\"pwXKi)V{FZ:PE[jU!H,r\"><field name=\"CODE\">y = \"M\"</field></block></value><value name=\"ADD3\"><block type=\"dummyOutputCodeBlock\" id=\"-O+U-Gyb3EVUUL/h0pO?\"><field name=\"CODE\">color = \"cluster\"</field></block></value></block></xml>"
   ]
  },
  {
   "cell_type": "markdown",
   "metadata": {},
   "source": [
    "-----------------\n",
    "\n",
    "**QUESTION:**\n",
    "\n",
    "Mouse over each do to see what cluster it belongs to (it will be darker if there are many datapoints under it). \n",
    "Which clusters are well separated? \n",
    "Which are not?"
   ]
  },
  {
   "cell_type": "markdown",
   "metadata": {},
   "source": [
    "**ANSWER: (click here to edit)**\n",
    "\n",
    "All clusters are well separated\n",
    "\n",
    "\n",
    "<hr>"
   ]
  },
  {
   "cell_type": "markdown",
   "metadata": {},
   "source": [
    "Create the P vs M scatterplot."
   ]
  },
  {
   "cell_type": "code",
   "execution_count": 36,
   "metadata": {
    "user_blocks": [
     "varDoMethod",
     "variables_get",
     "dummyOutputCodeBlock",
     "dummyOutputCodeBlock",
     "dummyOutputCodeBlock"
    ],
    "user_blocks_xml": "<xml xmlns=\"https://developers.google.com/blockly/xml\"><variables><variable id=\"o]8d]RxO,Gcx(.ogOS#{\">px</variable><variable id=\"w0MtU$GK$_0i(vCQ@}s{\">dataframe</variable></variables><block type=\"varDoMethod\" id=\"Dn5fvKUj5b*)^9)1eTd8\" x=\"-72\" y=\"81\"><mutation items=\"4\"></mutation><field name=\"VAR\" id=\"o]8d]RxO,Gcx(.ogOS#{\">px</field><field name=\"MEMBER\">scatter</field><data>px:scatter</data><value name=\"ADD0\"><block type=\"variables_get\" id=\"j7;K-#L?vCt~imZ?=Oax\"><field name=\"VAR\" id=\"w0MtU$GK$_0i(vCQ@}s{\">dataframe</field></block></value><value name=\"ADD1\"><block type=\"dummyOutputCodeBlock\" id=\"Od4~8dz?HlhMIYS8s~gV\"><field name=\"CODE\">x = \"P\"</field></block></value><value name=\"ADD2\"><block type=\"dummyOutputCodeBlock\" id=\"pwXKi)V{FZ:PE[jU!H,r\"><field name=\"CODE\">y = \"M\"</field></block></value><value name=\"ADD3\"><block type=\"dummyOutputCodeBlock\" id=\"-O+U-Gyb3EVUUL/h0pO?\"><field name=\"CODE\">color = \"cluster\"</field></block></value></block></xml>",
    "user_code_from_blocks": "px.scatter(dataframe,x = \"P\",y = \"M\",color = \"cluster\")\n"
   },
   "outputs": [
    {
     "data": {
      "application/vnd.plotly.v1+json": {
       "config": {
        "plotlyServerURL": "https://plot.ly"
       },
       "data": [
        {
         "hovertemplate": "cluster=5<br>P=%{x}<br>M=%{y}<extra></extra>",
         "legendgroup": "5",
         "marker": {
          "color": "#636efa",
          "symbol": "circle"
         },
         "mode": "markers",
         "name": "5",
         "orientation": "v",
         "showlegend": true,
         "type": "scatter",
         "x": {
          "bdata": "AwQEBAQEBAQ=",
          "dtype": "i1"
         },
         "xaxis": "x",
         "y": {
          "bdata": "BAMDAgICAgM=",
          "dtype": "i1"
         },
         "yaxis": "y"
        },
        {
         "hovertemplate": "cluster=4<br>P=%{x}<br>M=%{y}<extra></extra>",
         "legendgroup": "4",
         "marker": {
          "color": "#EF553B",
          "symbol": "circle"
         },
         "mode": "markers",
         "name": "4",
         "orientation": "v",
         "showlegend": true,
         "type": "scatter",
         "x": {
          "bdata": "AwMCAgECAgIEAw==",
          "dtype": "i1"
         },
         "xaxis": "x",
         "y": {
          "bdata": "AwMDAwMDAwMDAw==",
          "dtype": "i1"
         },
         "yaxis": "y"
        },
        {
         "hovertemplate": "cluster=2<br>P=%{x}<br>M=%{y}<extra></extra>",
         "legendgroup": "2",
         "marker": {
          "color": "#00cc96",
          "symbol": "circle"
         },
         "mode": "markers",
         "name": "2",
         "orientation": "v",
         "showlegend": true,
         "type": "scatter",
         "x": {
          "bdata": "AAIDAgICAgICAQEBAQAAAAAAAQE=",
          "dtype": "i1"
         },
         "xaxis": "x",
         "y": {
          "bdata": "CAMDAwMDAwMDAwMDAwMDAwMDAwM=",
          "dtype": "i1"
         },
         "yaxis": "y"
        },
        {
         "hovertemplate": "cluster=3<br>P=%{x}<br>M=%{y}<extra></extra>",
         "legendgroup": "3",
         "marker": {
          "color": "#ab63fa",
          "symbol": "circle"
         },
         "mode": "markers",
         "name": "3",
         "orientation": "v",
         "showlegend": true,
         "type": "scatter",
         "x": {
          "bdata": "BAQDAwMEAwMEAwMDAwMD",
          "dtype": "i1"
         },
         "xaxis": "x",
         "y": {
          "bdata": "AQEBAQEBAQEBAQEBAQEC",
          "dtype": "i1"
         },
         "yaxis": "y"
        },
        {
         "hovertemplate": "cluster=0<br>P=%{x}<br>M=%{y}<extra></extra>",
         "legendgroup": "0",
         "marker": {
          "color": "#FFA15A",
          "symbol": "circle"
         },
         "mode": "markers",
         "name": "0",
         "orientation": "v",
         "showlegend": true,
         "type": "scatter",
         "x": {
          "bdata": "BAQDBA==",
          "dtype": "i1"
         },
         "xaxis": "x",
         "y": {
          "bdata": "AQEAAQ==",
          "dtype": "i1"
         },
         "yaxis": "y"
        },
        {
         "hovertemplate": "cluster=1<br>P=%{x}<br>M=%{y}<extra></extra>",
         "legendgroup": "1",
         "marker": {
          "color": "#19d3f3",
          "symbol": "circle"
         },
         "mode": "markers",
         "name": "1",
         "orientation": "v",
         "showlegend": true,
         "type": "scatter",
         "x": {
          "bdata": "AwMDAwMDAwMD",
          "dtype": "i1"
         },
         "xaxis": "x",
         "y": {
          "bdata": "AwMDAwMDAwMD",
          "dtype": "i1"
         },
         "yaxis": "y"
        }
       ],
       "layout": {
        "legend": {
         "title": {
          "text": "cluster"
         },
         "tracegroupgap": 0
        },
        "margin": {
         "t": 60
        },
        "template": {
         "data": {
          "bar": [
           {
            "error_x": {
             "color": "#2a3f5f"
            },
            "error_y": {
             "color": "#2a3f5f"
            },
            "marker": {
             "line": {
              "color": "#E5ECF6",
              "width": 0.5
             },
             "pattern": {
              "fillmode": "overlay",
              "size": 10,
              "solidity": 0.2
             }
            },
            "type": "bar"
           }
          ],
          "barpolar": [
           {
            "marker": {
             "line": {
              "color": "#E5ECF6",
              "width": 0.5
             },
             "pattern": {
              "fillmode": "overlay",
              "size": 10,
              "solidity": 0.2
             }
            },
            "type": "barpolar"
           }
          ],
          "carpet": [
           {
            "aaxis": {
             "endlinecolor": "#2a3f5f",
             "gridcolor": "white",
             "linecolor": "white",
             "minorgridcolor": "white",
             "startlinecolor": "#2a3f5f"
            },
            "baxis": {
             "endlinecolor": "#2a3f5f",
             "gridcolor": "white",
             "linecolor": "white",
             "minorgridcolor": "white",
             "startlinecolor": "#2a3f5f"
            },
            "type": "carpet"
           }
          ],
          "choropleth": [
           {
            "colorbar": {
             "outlinewidth": 0,
             "ticks": ""
            },
            "type": "choropleth"
           }
          ],
          "contour": [
           {
            "colorbar": {
             "outlinewidth": 0,
             "ticks": ""
            },
            "colorscale": [
             [
              0,
              "#0d0887"
             ],
             [
              0.1111111111111111,
              "#46039f"
             ],
             [
              0.2222222222222222,
              "#7201a8"
             ],
             [
              0.3333333333333333,
              "#9c179e"
             ],
             [
              0.4444444444444444,
              "#bd3786"
             ],
             [
              0.5555555555555556,
              "#d8576b"
             ],
             [
              0.6666666666666666,
              "#ed7953"
             ],
             [
              0.7777777777777778,
              "#fb9f3a"
             ],
             [
              0.8888888888888888,
              "#fdca26"
             ],
             [
              1,
              "#f0f921"
             ]
            ],
            "type": "contour"
           }
          ],
          "contourcarpet": [
           {
            "colorbar": {
             "outlinewidth": 0,
             "ticks": ""
            },
            "type": "contourcarpet"
           }
          ],
          "heatmap": [
           {
            "colorbar": {
             "outlinewidth": 0,
             "ticks": ""
            },
            "colorscale": [
             [
              0,
              "#0d0887"
             ],
             [
              0.1111111111111111,
              "#46039f"
             ],
             [
              0.2222222222222222,
              "#7201a8"
             ],
             [
              0.3333333333333333,
              "#9c179e"
             ],
             [
              0.4444444444444444,
              "#bd3786"
             ],
             [
              0.5555555555555556,
              "#d8576b"
             ],
             [
              0.6666666666666666,
              "#ed7953"
             ],
             [
              0.7777777777777778,
              "#fb9f3a"
             ],
             [
              0.8888888888888888,
              "#fdca26"
             ],
             [
              1,
              "#f0f921"
             ]
            ],
            "type": "heatmap"
           }
          ],
          "histogram": [
           {
            "marker": {
             "pattern": {
              "fillmode": "overlay",
              "size": 10,
              "solidity": 0.2
             }
            },
            "type": "histogram"
           }
          ],
          "histogram2d": [
           {
            "colorbar": {
             "outlinewidth": 0,
             "ticks": ""
            },
            "colorscale": [
             [
              0,
              "#0d0887"
             ],
             [
              0.1111111111111111,
              "#46039f"
             ],
             [
              0.2222222222222222,
              "#7201a8"
             ],
             [
              0.3333333333333333,
              "#9c179e"
             ],
             [
              0.4444444444444444,
              "#bd3786"
             ],
             [
              0.5555555555555556,
              "#d8576b"
             ],
             [
              0.6666666666666666,
              "#ed7953"
             ],
             [
              0.7777777777777778,
              "#fb9f3a"
             ],
             [
              0.8888888888888888,
              "#fdca26"
             ],
             [
              1,
              "#f0f921"
             ]
            ],
            "type": "histogram2d"
           }
          ],
          "histogram2dcontour": [
           {
            "colorbar": {
             "outlinewidth": 0,
             "ticks": ""
            },
            "colorscale": [
             [
              0,
              "#0d0887"
             ],
             [
              0.1111111111111111,
              "#46039f"
             ],
             [
              0.2222222222222222,
              "#7201a8"
             ],
             [
              0.3333333333333333,
              "#9c179e"
             ],
             [
              0.4444444444444444,
              "#bd3786"
             ],
             [
              0.5555555555555556,
              "#d8576b"
             ],
             [
              0.6666666666666666,
              "#ed7953"
             ],
             [
              0.7777777777777778,
              "#fb9f3a"
             ],
             [
              0.8888888888888888,
              "#fdca26"
             ],
             [
              1,
              "#f0f921"
             ]
            ],
            "type": "histogram2dcontour"
           }
          ],
          "mesh3d": [
           {
            "colorbar": {
             "outlinewidth": 0,
             "ticks": ""
            },
            "type": "mesh3d"
           }
          ],
          "parcoords": [
           {
            "line": {
             "colorbar": {
              "outlinewidth": 0,
              "ticks": ""
             }
            },
            "type": "parcoords"
           }
          ],
          "pie": [
           {
            "automargin": true,
            "type": "pie"
           }
          ],
          "scatter": [
           {
            "fillpattern": {
             "fillmode": "overlay",
             "size": 10,
             "solidity": 0.2
            },
            "type": "scatter"
           }
          ],
          "scatter3d": [
           {
            "line": {
             "colorbar": {
              "outlinewidth": 0,
              "ticks": ""
             }
            },
            "marker": {
             "colorbar": {
              "outlinewidth": 0,
              "ticks": ""
             }
            },
            "type": "scatter3d"
           }
          ],
          "scattercarpet": [
           {
            "marker": {
             "colorbar": {
              "outlinewidth": 0,
              "ticks": ""
             }
            },
            "type": "scattercarpet"
           }
          ],
          "scattergeo": [
           {
            "marker": {
             "colorbar": {
              "outlinewidth": 0,
              "ticks": ""
             }
            },
            "type": "scattergeo"
           }
          ],
          "scattergl": [
           {
            "marker": {
             "colorbar": {
              "outlinewidth": 0,
              "ticks": ""
             }
            },
            "type": "scattergl"
           }
          ],
          "scattermap": [
           {
            "marker": {
             "colorbar": {
              "outlinewidth": 0,
              "ticks": ""
             }
            },
            "type": "scattermap"
           }
          ],
          "scattermapbox": [
           {
            "marker": {
             "colorbar": {
              "outlinewidth": 0,
              "ticks": ""
             }
            },
            "type": "scattermapbox"
           }
          ],
          "scatterpolar": [
           {
            "marker": {
             "colorbar": {
              "outlinewidth": 0,
              "ticks": ""
             }
            },
            "type": "scatterpolar"
           }
          ],
          "scatterpolargl": [
           {
            "marker": {
             "colorbar": {
              "outlinewidth": 0,
              "ticks": ""
             }
            },
            "type": "scatterpolargl"
           }
          ],
          "scatterternary": [
           {
            "marker": {
             "colorbar": {
              "outlinewidth": 0,
              "ticks": ""
             }
            },
            "type": "scatterternary"
           }
          ],
          "surface": [
           {
            "colorbar": {
             "outlinewidth": 0,
             "ticks": ""
            },
            "colorscale": [
             [
              0,
              "#0d0887"
             ],
             [
              0.1111111111111111,
              "#46039f"
             ],
             [
              0.2222222222222222,
              "#7201a8"
             ],
             [
              0.3333333333333333,
              "#9c179e"
             ],
             [
              0.4444444444444444,
              "#bd3786"
             ],
             [
              0.5555555555555556,
              "#d8576b"
             ],
             [
              0.6666666666666666,
              "#ed7953"
             ],
             [
              0.7777777777777778,
              "#fb9f3a"
             ],
             [
              0.8888888888888888,
              "#fdca26"
             ],
             [
              1,
              "#f0f921"
             ]
            ],
            "type": "surface"
           }
          ],
          "table": [
           {
            "cells": {
             "fill": {
              "color": "#EBF0F8"
             },
             "line": {
              "color": "white"
             }
            },
            "header": {
             "fill": {
              "color": "#C8D4E3"
             },
             "line": {
              "color": "white"
             }
            },
            "type": "table"
           }
          ]
         },
         "layout": {
          "annotationdefaults": {
           "arrowcolor": "#2a3f5f",
           "arrowhead": 0,
           "arrowwidth": 1
          },
          "autotypenumbers": "strict",
          "coloraxis": {
           "colorbar": {
            "outlinewidth": 0,
            "ticks": ""
           }
          },
          "colorscale": {
           "diverging": [
            [
             0,
             "#8e0152"
            ],
            [
             0.1,
             "#c51b7d"
            ],
            [
             0.2,
             "#de77ae"
            ],
            [
             0.3,
             "#f1b6da"
            ],
            [
             0.4,
             "#fde0ef"
            ],
            [
             0.5,
             "#f7f7f7"
            ],
            [
             0.6,
             "#e6f5d0"
            ],
            [
             0.7,
             "#b8e186"
            ],
            [
             0.8,
             "#7fbc41"
            ],
            [
             0.9,
             "#4d9221"
            ],
            [
             1,
             "#276419"
            ]
           ],
           "sequential": [
            [
             0,
             "#0d0887"
            ],
            [
             0.1111111111111111,
             "#46039f"
            ],
            [
             0.2222222222222222,
             "#7201a8"
            ],
            [
             0.3333333333333333,
             "#9c179e"
            ],
            [
             0.4444444444444444,
             "#bd3786"
            ],
            [
             0.5555555555555556,
             "#d8576b"
            ],
            [
             0.6666666666666666,
             "#ed7953"
            ],
            [
             0.7777777777777778,
             "#fb9f3a"
            ],
            [
             0.8888888888888888,
             "#fdca26"
            ],
            [
             1,
             "#f0f921"
            ]
           ],
           "sequentialminus": [
            [
             0,
             "#0d0887"
            ],
            [
             0.1111111111111111,
             "#46039f"
            ],
            [
             0.2222222222222222,
             "#7201a8"
            ],
            [
             0.3333333333333333,
             "#9c179e"
            ],
            [
             0.4444444444444444,
             "#bd3786"
            ],
            [
             0.5555555555555556,
             "#d8576b"
            ],
            [
             0.6666666666666666,
             "#ed7953"
            ],
            [
             0.7777777777777778,
             "#fb9f3a"
            ],
            [
             0.8888888888888888,
             "#fdca26"
            ],
            [
             1,
             "#f0f921"
            ]
           ]
          },
          "colorway": [
           "#636efa",
           "#EF553B",
           "#00cc96",
           "#ab63fa",
           "#FFA15A",
           "#19d3f3",
           "#FF6692",
           "#B6E880",
           "#FF97FF",
           "#FECB52"
          ],
          "font": {
           "color": "#2a3f5f"
          },
          "geo": {
           "bgcolor": "white",
           "lakecolor": "white",
           "landcolor": "#E5ECF6",
           "showlakes": true,
           "showland": true,
           "subunitcolor": "white"
          },
          "hoverlabel": {
           "align": "left"
          },
          "hovermode": "closest",
          "mapbox": {
           "style": "light"
          },
          "paper_bgcolor": "white",
          "plot_bgcolor": "#E5ECF6",
          "polar": {
           "angularaxis": {
            "gridcolor": "white",
            "linecolor": "white",
            "ticks": ""
           },
           "bgcolor": "#E5ECF6",
           "radialaxis": {
            "gridcolor": "white",
            "linecolor": "white",
            "ticks": ""
           }
          },
          "scene": {
           "xaxis": {
            "backgroundcolor": "#E5ECF6",
            "gridcolor": "white",
            "gridwidth": 2,
            "linecolor": "white",
            "showbackground": true,
            "ticks": "",
            "zerolinecolor": "white"
           },
           "yaxis": {
            "backgroundcolor": "#E5ECF6",
            "gridcolor": "white",
            "gridwidth": 2,
            "linecolor": "white",
            "showbackground": true,
            "ticks": "",
            "zerolinecolor": "white"
           },
           "zaxis": {
            "backgroundcolor": "#E5ECF6",
            "gridcolor": "white",
            "gridwidth": 2,
            "linecolor": "white",
            "showbackground": true,
            "ticks": "",
            "zerolinecolor": "white"
           }
          },
          "shapedefaults": {
           "line": {
            "color": "#2a3f5f"
           }
          },
          "ternary": {
           "aaxis": {
            "gridcolor": "white",
            "linecolor": "white",
            "ticks": ""
           },
           "baxis": {
            "gridcolor": "white",
            "linecolor": "white",
            "ticks": ""
           },
           "bgcolor": "#E5ECF6",
           "caxis": {
            "gridcolor": "white",
            "linecolor": "white",
            "ticks": ""
           }
          },
          "title": {
           "x": 0.05
          },
          "xaxis": {
           "automargin": true,
           "gridcolor": "white",
           "linecolor": "white",
           "ticks": "",
           "title": {
            "standoff": 15
           },
           "zerolinecolor": "white",
           "zerolinewidth": 2
          },
          "yaxis": {
           "automargin": true,
           "gridcolor": "white",
           "linecolor": "white",
           "ticks": "",
           "title": {
            "standoff": 15
           },
           "zerolinecolor": "white",
           "zerolinewidth": 2
          }
         }
        },
        "xaxis": {
         "anchor": "y",
         "domain": [
          0,
          1
         ],
         "title": {
          "text": "P"
         }
        },
        "yaxis": {
         "anchor": "x",
         "domain": [
          0,
          1
         ],
         "title": {
          "text": "M"
         }
        }
       }
      },
      "image/png": "[encoded data removed]"
     },
     "metadata": {},
     "output_type": "display_data"
    }
   ],
   "source": [
    "px.scatter(dataframe,x = \"P\",y = \"M\",color = \"cluster\")\n",
    "\n",
    "#<xml xmlns=\"https://developers.google.com/blockly/xml\"><variables><variable id=\"o]8d]RxO,Gcx(.ogOS#{\">px</variable><variable id=\"w0MtU$GK$_0i(vCQ@}s{\">dataframe</variable></variables><block type=\"varDoMethod\" id=\"Dn5fvKUj5b*)^9)1eTd8\" x=\"-72\" y=\"81\"><mutation items=\"4\"></mutation><field name=\"VAR\" id=\"o]8d]RxO,Gcx(.ogOS#{\">px</field><field name=\"MEMBER\">scatter</field><data>px:scatter</data><value name=\"ADD0\"><block type=\"variables_get\" id=\"j7;K-#L?vCt~imZ?=Oax\"><field name=\"VAR\" id=\"w0MtU$GK$_0i(vCQ@}s{\">dataframe</field></block></value><value name=\"ADD1\"><block type=\"dummyOutputCodeBlock\" id=\"Od4~8dz?HlhMIYS8s~gV\"><field name=\"CODE\">x = \"P\"</field></block></value><value name=\"ADD2\"><block type=\"dummyOutputCodeBlock\" id=\"pwXKi)V{FZ:PE[jU!H,r\"><field name=\"CODE\">y = \"M\"</field></block></value><value name=\"ADD3\"><block type=\"dummyOutputCodeBlock\" id=\"-O+U-Gyb3EVUUL/h0pO?\"><field name=\"CODE\">color = \"cluster\"</field></block></value></block></xml>"
   ]
  },
  {
   "cell_type": "markdown",
   "metadata": {},
   "source": [
    "-----------------\n",
    "\n",
    "**QUESTION:**\n",
    "\n",
    "Mouse over each do to see what cluster it belongs to (it will be darker if there are many datapoints under it). \n",
    "Which clusters are well separated? \n",
    "Which are not?"
   ]
  },
  {
   "cell_type": "markdown",
   "metadata": {},
   "source": [
    "**ANSWER: (click here to edit)**\n",
    "\n",
    "All clusters are well separated\n",
    "\n",
    "<hr>"
   ]
  },
  {
   "cell_type": "markdown",
   "metadata": {},
   "source": [
    "### Summary\n",
    "\n",
    "Now consider all your plots and clusters."
   ]
  },
  {
   "cell_type": "markdown",
   "metadata": {},
   "source": [
    "-----------------\n",
    "**QUESTION:**\n",
    "\n",
    "Do you still think your number of clusters is the best? \n",
    "Why or why not?"
   ]
  },
  {
   "cell_type": "markdown",
   "metadata": {},
   "source": [
    "**ANSWER: (click here to edit)**\n",
    "\n",
    "\n",
    "*The junk clusters suggest a lower cluster number might be better. However, there is good separation in 2 of 3 k-means plots, so the clusters aren't too bad as they are.*\n",
    "\n",
    "<hr>"
   ]
  },
  {
   "cell_type": "markdown",
   "metadata": {},
   "source": [
    "**QUESTION:**\n",
    "\n",
    "If any of your scatterplot clusters were not well separated, does that concern you?"
   ]
  },
  {
   "cell_type": "markdown",
   "metadata": {},
   "source": [
    "**ANSWER: (click here to edit)**\n",
    "\n",
    "\n",
    "*It would if more than 1 was. Some overlap in one dimension is not that concerning when the other two dimensions are well separated.*\n",
    "<hr>"
   ]
  },
  {
   "cell_type": "markdown",
   "metadata": {},
   "source": [
    "<!--  -->"
   ]
  },
  {
   "cell_type": "code",
   "execution_count": null,
   "metadata": {},
   "outputs": [],
   "source": []
  }
 ],
 "metadata": {
  "kernelspec": {
   "display_name": "Python 3 (ipykernel)",
   "language": "python",
   "name": "python3"
  },
  "language_info": {
   "codemirror_mode": {
    "name": "ipython",
    "version": 3
   },
   "file_extension": ".py",
   "mimetype": "text/x-python",
   "name": "python",
   "nbconvert_exporter": "python",
   "pygments_lexer": "ipython3",
   "version": "3.12.6"
  }
 },
 "nbformat": 4,
 "nbformat_minor": 4
}
