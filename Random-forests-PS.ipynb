{
 "cells": [
  {
   "cell_type": "markdown",
   "metadata": {
    "deletable": false,
    "editable": false
   },
   "source": [
    "Copyright 2020 Andrew M. Olney and made available under [CC BY-SA](https://creativecommons.org/licenses/by-sa/4.0) for text and [Apache-2.0](http://www.apache.org/licenses/LICENSE-2.0) for code.\n"
   ]
  },
  {
   "cell_type": "markdown",
   "metadata": {},
   "source": [
    "# Random forests: Problem solving\n",
    "\n",
    "In this session, we'll use the `boston` dataset, which has been used to examine the relationship between clean air and house prices:\n",
    "\n",
    "\n",
    "| Variable | Type | Description |\n",
    "|:----|:-----|:----------|\n",
    "|crim | Ratio | per capita crime rate by town | \n",
    "|zn | Ratio | proportion of residential land zoned for lots over 25,000 sq. ft. | \n",
    "|indus | Ratio | proportion of non-retain business acres per town | \n",
    "|chas | Nominal (binary) | Charles River dummy variable (=1 if tract bounds river, =0 otherwise) | \n",
    "|nox | Ratio | nitrogen oxides concentration (parts per 10 million) | \n",
    "|rm | Ratio | average number of rooms per dwelling | \n",
    "|age | Ratio | proportion of owner-occupied units built prior to 1940 | \n",
    "|dis | Ratio | weighted mean of distances to fie Boston employment centers | \n",
    "|rad | Ordinal | index of accessibility to radial highways | \n",
    "|tax | Ratio | full-value proporty tax rate per \\$10,000 | \n",
    "|ptratio | Ratio | pupil-teacher ratio by town | \n",
    "|lstat | Ratio | percent lower status of population (defined as non-high school graduate, manual labor) | \n",
    "|medv | Ratio | median value of owner-occupied homes in $1000s | \n",
    "\n",
    "<div style=\"text-align:center;font-size: smaller\">\n",
    "    <b>Source:</b> This dataset was taken from the StatLib library which is maintained at Carnegie Mellon University.\n",
    "</div>\n",
    "<br>\n",
    "    \n",
    "As before, we'll try to predict `medv` using the rest of the variables.\n",
    "\n",
    "**Because `medv` is a ratio variable, we will do random forest regression trees not decision trees.**\n",
    "\n",
    "Additionally, we will compare the performance of three models on this problem:\n",
    "\n",
    "- Regression trees\n",
    "- Bagged regression trees\n",
    "- Random forest regression trees"
   ]
  },
  {
   "cell_type": "markdown",
   "metadata": {},
   "source": [
    "## Load data\n",
    "\n",
    "Import `pandas` to load a dataframe."
   ]
  },
  {
   "cell_type": "code",
   "execution_count": 1,
   "metadata": {
    "user_blocks": [
     "importAs"
    ],
    "user_blocks_xml": "<xml xmlns=\"https://developers.google.com/blockly/xml\"><variables><variable id=\"A]5Vf/x,=8dk=KKk3OrJ\">pd</variable></variables><block type=\"importAs\" id=\"/k@:}OLWtAh)hpx[.2^]\" x=\"150\" y=\"308\"><field name=\"libraryName\">pandas</field><field name=\"VAR\" id=\"A]5Vf/x,=8dk=KKk3OrJ\">pd</field></block></xml>",
    "user_code_from_blocks": "import pandas as pd\n"
   },
   "outputs": [],
   "source": [
    "import pandas as pd\n",
    "\n",
    "#<xml xmlns=\"https://developers.google.com/blockly/xml\"><variables><variable id=\"A]5Vf/x,=8dk=KKk3OrJ\">pd</variable></variables><block type=\"importAs\" id=\"/k@:}OLWtAh)hpx[.2^]\" x=\"150\" y=\"308\"><field name=\"libraryName\">pandas</field><field name=\"VAR\" id=\"A]5Vf/x,=8dk=KKk3OrJ\">pd</field></block></xml>"
   ]
  },
  {
   "cell_type": "markdown",
   "metadata": {},
   "source": [
    "Load the dataframe."
   ]
  },
  {
   "cell_type": "code",
   "execution_count": 2,
   "metadata": {
    "user_blocks": [
     "variables_set",
     "varDoMethod",
     "text",
     "variables_get"
    ],
    "user_blocks_xml": "<xml xmlns=\"https://developers.google.com/blockly/xml\"><variables><variable id=\"Y+grzOaS*0=OHV6zO8m/\">dataframe</variable><variable id=\"A]5Vf/x,=8dk=KKk3OrJ\">pd</variable></variables><block type=\"variables_set\" id=\"FJGldw(qFp?V=E]uaN)4\" x=\"42\" y=\"64\"><field name=\"VAR\" id=\"Y+grzOaS*0=OHV6zO8m/\">dataframe</field><value name=\"VALUE\"><block type=\"varDoMethod\" id=\"4s18v%0iqE%_l@{fLYCo\"><mutation items=\"1\"></mutation><field name=\"VAR\" id=\"A]5Vf/x,=8dk=KKk3OrJ\">pd</field><field name=\"MEMBER\">read_csv</field><data>pd:read_csv</data><value name=\"ADD0\"><block type=\"text\" id=\"tN4Jmaffy/={ZFo;uu;W\"><field name=\"TEXT\">datasets/boston.csv</field></block></value></block></value></block><block type=\"variables_get\" id=\"kd_[EnCEx6O}:gck{;r5\" x=\"46\" y=\"162\"><field name=\"VAR\" id=\"Y+grzOaS*0=OHV6zO8m/\">dataframe</field></block></xml>",
    "user_code_from_blocks": "dataframe = pd.read_csv('datasets/boston.csv')\n\ndataframe\n"
   },
   "outputs": [
    {
     "data": {
      "text/html": [
       "<div>\n",
       "<style scoped>\n",
       "    .dataframe tbody tr th:only-of-type {\n",
       "        vertical-align: middle;\n",
       "    }\n",
       "\n",
       "    .dataframe tbody tr th {\n",
       "        vertical-align: top;\n",
       "    }\n",
       "\n",
       "    .dataframe thead th {\n",
       "        text-align: right;\n",
       "    }\n",
       "</style>\n",
       "<table border=\"1\" class=\"dataframe\">\n",
       "  <thead>\n",
       "    <tr style=\"text-align: right;\">\n",
       "      <th></th>\n",
       "      <th>crim</th>\n",
       "      <th>zn</th>\n",
       "      <th>indus</th>\n",
       "      <th>chas</th>\n",
       "      <th>nox</th>\n",
       "      <th>rm</th>\n",
       "      <th>age</th>\n",
       "      <th>dis</th>\n",
       "      <th>rad</th>\n",
       "      <th>tax</th>\n",
       "      <th>ptratio</th>\n",
       "      <th>lstat</th>\n",
       "      <th>medv</th>\n",
       "    </tr>\n",
       "  </thead>\n",
       "  <tbody>\n",
       "    <tr>\n",
       "      <th>0</th>\n",
       "      <td>0.00632</td>\n",
       "      <td>18.0</td>\n",
       "      <td>2.31</td>\n",
       "      <td>0</td>\n",
       "      <td>0.538</td>\n",
       "      <td>6.575</td>\n",
       "      <td>65.2</td>\n",
       "      <td>4.0900</td>\n",
       "      <td>1</td>\n",
       "      <td>296</td>\n",
       "      <td>15.3</td>\n",
       "      <td>4.98</td>\n",
       "      <td>24.0</td>\n",
       "    </tr>\n",
       "    <tr>\n",
       "      <th>1</th>\n",
       "      <td>0.02731</td>\n",
       "      <td>0.0</td>\n",
       "      <td>7.07</td>\n",
       "      <td>0</td>\n",
       "      <td>0.469</td>\n",
       "      <td>6.421</td>\n",
       "      <td>78.9</td>\n",
       "      <td>4.9671</td>\n",
       "      <td>2</td>\n",
       "      <td>242</td>\n",
       "      <td>17.8</td>\n",
       "      <td>9.14</td>\n",
       "      <td>21.6</td>\n",
       "    </tr>\n",
       "    <tr>\n",
       "      <th>2</th>\n",
       "      <td>0.02729</td>\n",
       "      <td>0.0</td>\n",
       "      <td>7.07</td>\n",
       "      <td>0</td>\n",
       "      <td>0.469</td>\n",
       "      <td>7.185</td>\n",
       "      <td>61.1</td>\n",
       "      <td>4.9671</td>\n",
       "      <td>2</td>\n",
       "      <td>242</td>\n",
       "      <td>17.8</td>\n",
       "      <td>4.03</td>\n",
       "      <td>34.7</td>\n",
       "    </tr>\n",
       "    <tr>\n",
       "      <th>3</th>\n",
       "      <td>0.03237</td>\n",
       "      <td>0.0</td>\n",
       "      <td>2.18</td>\n",
       "      <td>0</td>\n",
       "      <td>0.458</td>\n",
       "      <td>6.998</td>\n",
       "      <td>45.8</td>\n",
       "      <td>6.0622</td>\n",
       "      <td>3</td>\n",
       "      <td>222</td>\n",
       "      <td>18.7</td>\n",
       "      <td>2.94</td>\n",
       "      <td>33.4</td>\n",
       "    </tr>\n",
       "    <tr>\n",
       "      <th>4</th>\n",
       "      <td>0.06905</td>\n",
       "      <td>0.0</td>\n",
       "      <td>2.18</td>\n",
       "      <td>0</td>\n",
       "      <td>0.458</td>\n",
       "      <td>7.147</td>\n",
       "      <td>54.2</td>\n",
       "      <td>6.0622</td>\n",
       "      <td>3</td>\n",
       "      <td>222</td>\n",
       "      <td>18.7</td>\n",
       "      <td>5.33</td>\n",
       "      <td>36.2</td>\n",
       "    </tr>\n",
       "    <tr>\n",
       "      <th>...</th>\n",
       "      <td>...</td>\n",
       "      <td>...</td>\n",
       "      <td>...</td>\n",
       "      <td>...</td>\n",
       "      <td>...</td>\n",
       "      <td>...</td>\n",
       "      <td>...</td>\n",
       "      <td>...</td>\n",
       "      <td>...</td>\n",
       "      <td>...</td>\n",
       "      <td>...</td>\n",
       "      <td>...</td>\n",
       "      <td>...</td>\n",
       "    </tr>\n",
       "    <tr>\n",
       "      <th>501</th>\n",
       "      <td>0.06263</td>\n",
       "      <td>0.0</td>\n",
       "      <td>11.93</td>\n",
       "      <td>0</td>\n",
       "      <td>0.573</td>\n",
       "      <td>6.593</td>\n",
       "      <td>69.1</td>\n",
       "      <td>2.4786</td>\n",
       "      <td>1</td>\n",
       "      <td>273</td>\n",
       "      <td>21.0</td>\n",
       "      <td>9.67</td>\n",
       "      <td>22.4</td>\n",
       "    </tr>\n",
       "    <tr>\n",
       "      <th>502</th>\n",
       "      <td>0.04527</td>\n",
       "      <td>0.0</td>\n",
       "      <td>11.93</td>\n",
       "      <td>0</td>\n",
       "      <td>0.573</td>\n",
       "      <td>6.120</td>\n",
       "      <td>76.7</td>\n",
       "      <td>2.2875</td>\n",
       "      <td>1</td>\n",
       "      <td>273</td>\n",
       "      <td>21.0</td>\n",
       "      <td>9.08</td>\n",
       "      <td>20.6</td>\n",
       "    </tr>\n",
       "    <tr>\n",
       "      <th>503</th>\n",
       "      <td>0.06076</td>\n",
       "      <td>0.0</td>\n",
       "      <td>11.93</td>\n",
       "      <td>0</td>\n",
       "      <td>0.573</td>\n",
       "      <td>6.976</td>\n",
       "      <td>91.0</td>\n",
       "      <td>2.1675</td>\n",
       "      <td>1</td>\n",
       "      <td>273</td>\n",
       "      <td>21.0</td>\n",
       "      <td>5.64</td>\n",
       "      <td>23.9</td>\n",
       "    </tr>\n",
       "    <tr>\n",
       "      <th>504</th>\n",
       "      <td>0.10959</td>\n",
       "      <td>0.0</td>\n",
       "      <td>11.93</td>\n",
       "      <td>0</td>\n",
       "      <td>0.573</td>\n",
       "      <td>6.794</td>\n",
       "      <td>89.3</td>\n",
       "      <td>2.3889</td>\n",
       "      <td>1</td>\n",
       "      <td>273</td>\n",
       "      <td>21.0</td>\n",
       "      <td>6.48</td>\n",
       "      <td>22.0</td>\n",
       "    </tr>\n",
       "    <tr>\n",
       "      <th>505</th>\n",
       "      <td>0.04741</td>\n",
       "      <td>0.0</td>\n",
       "      <td>11.93</td>\n",
       "      <td>0</td>\n",
       "      <td>0.573</td>\n",
       "      <td>6.030</td>\n",
       "      <td>80.8</td>\n",
       "      <td>2.5050</td>\n",
       "      <td>1</td>\n",
       "      <td>273</td>\n",
       "      <td>21.0</td>\n",
       "      <td>7.88</td>\n",
       "      <td>11.9</td>\n",
       "    </tr>\n",
       "  </tbody>\n",
       "</table>\n",
       "<p>506 rows × 13 columns</p>\n",
       "</div>"
      ],
      "text/plain": [
       "        crim    zn  indus  chas    nox     rm   age     dis  rad  tax  \\\n",
       "0    0.00632  18.0   2.31     0  0.538  6.575  65.2  4.0900    1  296   \n",
       "1    0.02731   0.0   7.07     0  0.469  6.421  78.9  4.9671    2  242   \n",
       "2    0.02729   0.0   7.07     0  0.469  7.185  61.1  4.9671    2  242   \n",
       "3    0.03237   0.0   2.18     0  0.458  6.998  45.8  6.0622    3  222   \n",
       "4    0.06905   0.0   2.18     0  0.458  7.147  54.2  6.0622    3  222   \n",
       "..       ...   ...    ...   ...    ...    ...   ...     ...  ...  ...   \n",
       "501  0.06263   0.0  11.93     0  0.573  6.593  69.1  2.4786    1  273   \n",
       "502  0.04527   0.0  11.93     0  0.573  6.120  76.7  2.2875    1  273   \n",
       "503  0.06076   0.0  11.93     0  0.573  6.976  91.0  2.1675    1  273   \n",
       "504  0.10959   0.0  11.93     0  0.573  6.794  89.3  2.3889    1  273   \n",
       "505  0.04741   0.0  11.93     0  0.573  6.030  80.8  2.5050    1  273   \n",
       "\n",
       "     ptratio  lstat  medv  \n",
       "0       15.3   4.98  24.0  \n",
       "1       17.8   9.14  21.6  \n",
       "2       17.8   4.03  34.7  \n",
       "3       18.7   2.94  33.4  \n",
       "4       18.7   5.33  36.2  \n",
       "..       ...    ...   ...  \n",
       "501     21.0   9.67  22.4  \n",
       "502     21.0   9.08  20.6  \n",
       "503     21.0   5.64  23.9  \n",
       "504     21.0   6.48  22.0  \n",
       "505     21.0   7.88  11.9  \n",
       "\n",
       "[506 rows x 13 columns]"
      ]
     },
     "execution_count": 2,
     "metadata": {},
     "output_type": "execute_result"
    }
   ],
   "source": [
    "dataframe = pd.read_csv('datasets/boston.csv')\n",
    "\n",
    "dataframe\n",
    "\n",
    "#<xml xmlns=\"https://developers.google.com/blockly/xml\"><variables><variable id=\"Y+grzOaS*0=OHV6zO8m/\">dataframe</variable><variable id=\"A]5Vf/x,=8dk=KKk3OrJ\">pd</variable></variables><block type=\"variables_set\" id=\"FJGldw(qFp?V=E]uaN)4\" x=\"42\" y=\"64\"><field name=\"VAR\" id=\"Y+grzOaS*0=OHV6zO8m/\">dataframe</field><value name=\"VALUE\"><block type=\"varDoMethod\" id=\"4s18v%0iqE%_l@{fLYCo\"><mutation items=\"1\"></mutation><field name=\"VAR\" id=\"A]5Vf/x,=8dk=KKk3OrJ\">pd</field><field name=\"MEMBER\">read_csv</field><data>pd:read_csv</data><value name=\"ADD0\"><block type=\"text\" id=\"tN4Jmaffy/={ZFo;uu;W\"><field name=\"TEXT\">datasets/boston.csv</field></block></value></block></value></block><block type=\"variables_get\" id=\"kd_[EnCEx6O}:gck{;r5\" x=\"46\" y=\"162\"><field name=\"VAR\" id=\"Y+grzOaS*0=OHV6zO8m/\">dataframe</field></block></xml>"
   ]
  },
  {
   "cell_type": "markdown",
   "metadata": {},
   "source": [
    "## Explore data\n",
    "\n",
    "Some of these steps we've done before with these data, so we'll skip the normal interpretation steps on those parts.\n",
    "\n",
    "Describe the data."
   ]
  },
  {
   "cell_type": "code",
   "execution_count": 3,
   "metadata": {
    "user_blocks": [
     "varDoMethod"
    ],
    "user_blocks_xml": "<xml xmlns=\"https://developers.google.com/blockly/xml\"><variables><variable id=\"Y+grzOaS*0=OHV6zO8m/\">dataframe</variable></variables><block type=\"varDoMethod\" id=\"-[lX-}4sT`|#7E(Sti)^\" x=\"8\" y=\"188\"><mutation items=\"1\"></mutation><field name=\"VAR\" id=\"Y+grzOaS*0=OHV6zO8m/\">dataframe</field><field name=\"MEMBER\">describe</field><data>dataframe:describe</data></block></xml>",
    "user_code_from_blocks": "dataframe.describe()\n"
   },
   "outputs": [
    {
     "data": {
      "text/html": [
       "<div>\n",
       "<style scoped>\n",
       "    .dataframe tbody tr th:only-of-type {\n",
       "        vertical-align: middle;\n",
       "    }\n",
       "\n",
       "    .dataframe tbody tr th {\n",
       "        vertical-align: top;\n",
       "    }\n",
       "\n",
       "    .dataframe thead th {\n",
       "        text-align: right;\n",
       "    }\n",
       "</style>\n",
       "<table border=\"1\" class=\"dataframe\">\n",
       "  <thead>\n",
       "    <tr style=\"text-align: right;\">\n",
       "      <th></th>\n",
       "      <th>crim</th>\n",
       "      <th>zn</th>\n",
       "      <th>indus</th>\n",
       "      <th>chas</th>\n",
       "      <th>nox</th>\n",
       "      <th>rm</th>\n",
       "      <th>age</th>\n",
       "      <th>dis</th>\n",
       "      <th>rad</th>\n",
       "      <th>tax</th>\n",
       "      <th>ptratio</th>\n",
       "      <th>lstat</th>\n",
       "      <th>medv</th>\n",
       "    </tr>\n",
       "  </thead>\n",
       "  <tbody>\n",
       "    <tr>\n",
       "      <th>count</th>\n",
       "      <td>506.000000</td>\n",
       "      <td>506.000000</td>\n",
       "      <td>506.000000</td>\n",
       "      <td>506.000000</td>\n",
       "      <td>506.000000</td>\n",
       "      <td>506.000000</td>\n",
       "      <td>506.000000</td>\n",
       "      <td>506.000000</td>\n",
       "      <td>506.000000</td>\n",
       "      <td>506.000000</td>\n",
       "      <td>506.000000</td>\n",
       "      <td>506.000000</td>\n",
       "      <td>506.000000</td>\n",
       "    </tr>\n",
       "    <tr>\n",
       "      <th>mean</th>\n",
       "      <td>3.613524</td>\n",
       "      <td>11.363636</td>\n",
       "      <td>11.136779</td>\n",
       "      <td>0.069170</td>\n",
       "      <td>0.554695</td>\n",
       "      <td>6.284634</td>\n",
       "      <td>68.574901</td>\n",
       "      <td>3.795043</td>\n",
       "      <td>9.549407</td>\n",
       "      <td>408.237154</td>\n",
       "      <td>18.455534</td>\n",
       "      <td>12.653063</td>\n",
       "      <td>22.532806</td>\n",
       "    </tr>\n",
       "    <tr>\n",
       "      <th>std</th>\n",
       "      <td>8.601545</td>\n",
       "      <td>23.322453</td>\n",
       "      <td>6.860353</td>\n",
       "      <td>0.253994</td>\n",
       "      <td>0.115878</td>\n",
       "      <td>0.702617</td>\n",
       "      <td>28.148861</td>\n",
       "      <td>2.105710</td>\n",
       "      <td>8.707259</td>\n",
       "      <td>168.537116</td>\n",
       "      <td>2.164946</td>\n",
       "      <td>7.141062</td>\n",
       "      <td>9.197104</td>\n",
       "    </tr>\n",
       "    <tr>\n",
       "      <th>min</th>\n",
       "      <td>0.006320</td>\n",
       "      <td>0.000000</td>\n",
       "      <td>0.460000</td>\n",
       "      <td>0.000000</td>\n",
       "      <td>0.385000</td>\n",
       "      <td>3.561000</td>\n",
       "      <td>2.900000</td>\n",
       "      <td>1.129600</td>\n",
       "      <td>1.000000</td>\n",
       "      <td>187.000000</td>\n",
       "      <td>12.600000</td>\n",
       "      <td>1.730000</td>\n",
       "      <td>5.000000</td>\n",
       "    </tr>\n",
       "    <tr>\n",
       "      <th>25%</th>\n",
       "      <td>0.082045</td>\n",
       "      <td>0.000000</td>\n",
       "      <td>5.190000</td>\n",
       "      <td>0.000000</td>\n",
       "      <td>0.449000</td>\n",
       "      <td>5.885500</td>\n",
       "      <td>45.025000</td>\n",
       "      <td>2.100175</td>\n",
       "      <td>4.000000</td>\n",
       "      <td>279.000000</td>\n",
       "      <td>17.400000</td>\n",
       "      <td>6.950000</td>\n",
       "      <td>17.025000</td>\n",
       "    </tr>\n",
       "    <tr>\n",
       "      <th>50%</th>\n",
       "      <td>0.256510</td>\n",
       "      <td>0.000000</td>\n",
       "      <td>9.690000</td>\n",
       "      <td>0.000000</td>\n",
       "      <td>0.538000</td>\n",
       "      <td>6.208500</td>\n",
       "      <td>77.500000</td>\n",
       "      <td>3.207450</td>\n",
       "      <td>5.000000</td>\n",
       "      <td>330.000000</td>\n",
       "      <td>19.050000</td>\n",
       "      <td>11.360000</td>\n",
       "      <td>21.200000</td>\n",
       "    </tr>\n",
       "    <tr>\n",
       "      <th>75%</th>\n",
       "      <td>3.677083</td>\n",
       "      <td>12.500000</td>\n",
       "      <td>18.100000</td>\n",
       "      <td>0.000000</td>\n",
       "      <td>0.624000</td>\n",
       "      <td>6.623500</td>\n",
       "      <td>94.075000</td>\n",
       "      <td>5.188425</td>\n",
       "      <td>24.000000</td>\n",
       "      <td>666.000000</td>\n",
       "      <td>20.200000</td>\n",
       "      <td>16.955000</td>\n",
       "      <td>25.000000</td>\n",
       "    </tr>\n",
       "    <tr>\n",
       "      <th>max</th>\n",
       "      <td>88.976200</td>\n",
       "      <td>100.000000</td>\n",
       "      <td>27.740000</td>\n",
       "      <td>1.000000</td>\n",
       "      <td>0.871000</td>\n",
       "      <td>8.780000</td>\n",
       "      <td>100.000000</td>\n",
       "      <td>12.126500</td>\n",
       "      <td>24.000000</td>\n",
       "      <td>711.000000</td>\n",
       "      <td>22.000000</td>\n",
       "      <td>37.970000</td>\n",
       "      <td>50.000000</td>\n",
       "    </tr>\n",
       "  </tbody>\n",
       "</table>\n",
       "</div>"
      ],
      "text/plain": [
       "             crim          zn       indus        chas         nox          rm  \\\n",
       "count  506.000000  506.000000  506.000000  506.000000  506.000000  506.000000   \n",
       "mean     3.613524   11.363636   11.136779    0.069170    0.554695    6.284634   \n",
       "std      8.601545   23.322453    6.860353    0.253994    0.115878    0.702617   \n",
       "min      0.006320    0.000000    0.460000    0.000000    0.385000    3.561000   \n",
       "25%      0.082045    0.000000    5.190000    0.000000    0.449000    5.885500   \n",
       "50%      0.256510    0.000000    9.690000    0.000000    0.538000    6.208500   \n",
       "75%      3.677083   12.500000   18.100000    0.000000    0.624000    6.623500   \n",
       "max     88.976200  100.000000   27.740000    1.000000    0.871000    8.780000   \n",
       "\n",
       "              age         dis         rad         tax     ptratio       lstat  \\\n",
       "count  506.000000  506.000000  506.000000  506.000000  506.000000  506.000000   \n",
       "mean    68.574901    3.795043    9.549407  408.237154   18.455534   12.653063   \n",
       "std     28.148861    2.105710    8.707259  168.537116    2.164946    7.141062   \n",
       "min      2.900000    1.129600    1.000000  187.000000   12.600000    1.730000   \n",
       "25%     45.025000    2.100175    4.000000  279.000000   17.400000    6.950000   \n",
       "50%     77.500000    3.207450    5.000000  330.000000   19.050000   11.360000   \n",
       "75%     94.075000    5.188425   24.000000  666.000000   20.200000   16.955000   \n",
       "max    100.000000   12.126500   24.000000  711.000000   22.000000   37.970000   \n",
       "\n",
       "             medv  \n",
       "count  506.000000  \n",
       "mean    22.532806  \n",
       "std      9.197104  \n",
       "min      5.000000  \n",
       "25%     17.025000  \n",
       "50%     21.200000  \n",
       "75%     25.000000  \n",
       "max     50.000000  "
      ]
     },
     "execution_count": 3,
     "metadata": {},
     "output_type": "execute_result"
    }
   ],
   "source": [
    "dataframe.describe()\n",
    "\n",
    "#<xml xmlns=\"https://developers.google.com/blockly/xml\"><variables><variable id=\"Y+grzOaS*0=OHV6zO8m/\">dataframe</variable></variables><block type=\"varDoMethod\" id=\"-[lX-}4sT`|#7E(Sti)^\" x=\"8\" y=\"188\"><mutation items=\"1\"></mutation><field name=\"VAR\" id=\"Y+grzOaS*0=OHV6zO8m/\">dataframe</field><field name=\"MEMBER\">describe</field><data>dataframe:describe</data></block></xml>"
   ]
  },
  {
   "cell_type": "markdown",
   "metadata": {},
   "source": [
    "Make a correlation heatmap.\n",
    "\n",
    "First import `plotly.express`."
   ]
  },
  {
   "cell_type": "code",
   "execution_count": 4,
   "metadata": {
    "user_blocks": [
     "importAs"
    ],
    "user_blocks_xml": "<xml xmlns=\"https://developers.google.com/blockly/xml\"><variables><variable id=\"+yh,Zg{hON]zy6D~.rH#\">px</variable></variables><block type=\"importAs\" id=\"JKd}DIrGfV*IelKZ!4ls\" x=\"129\" y=\"219\"><field name=\"libraryName\">plotly.express</field><field name=\"VAR\" id=\"+yh,Zg{hON]zy6D~.rH#\">px</field></block></xml>",
    "user_code_from_blocks": "import plotly.express as px\n"
   },
   "outputs": [],
   "source": [
    "import plotly.express as px\n",
    "\n",
    "#<xml xmlns=\"https://developers.google.com/blockly/xml\"><variables><variable id=\"+yh,Zg{hON]zy6D~.rH#\">px</variable></variables><block type=\"importAs\" id=\"JKd}DIrGfV*IelKZ!4ls\" x=\"129\" y=\"219\"><field name=\"libraryName\">plotly.express</field><field name=\"VAR\" id=\"+yh,Zg{hON]zy6D~.rH#\">px</field></block></xml>"
   ]
  },
  {
   "cell_type": "markdown",
   "metadata": {},
   "source": [
    "Create a correlation matrix."
   ]
  },
  {
   "cell_type": "code",
   "execution_count": 5,
   "metadata": {
    "user_blocks": [
     "variables_set",
     "varDoMethod"
    ],
    "user_blocks_xml": "<xml xmlns=\"https://developers.google.com/blockly/xml\"><variables><variable id=\"Km/Jt%8YE.[}?9^E?9N;\">corr</variable><variable id=\"Y+grzOaS*0=OHV6zO8m/\">dataframe</variable></variables><block type=\"variables_set\" id=\"/i824a)~PM!?y(vR5o.7\" x=\"88\" y=\"75\"><field name=\"VAR\" id=\"Km/Jt%8YE.[}?9^E?9N;\">corr</field><value name=\"VALUE\"><block type=\"varDoMethod\" id=\"W{%v1dBEDnD_:orevoPY\"><mutation items=\"1\"></mutation><field name=\"VAR\" id=\"Y+grzOaS*0=OHV6zO8m/\">dataframe</field><field name=\"MEMBER\">corr</field><data>dataframe:corr</data></block></value></block></xml>",
    "user_code_from_blocks": "corr = dataframe.corr()\n"
   },
   "outputs": [],
   "source": [
    "corr = dataframe.corr()\n",
    "\n",
    "#<xml xmlns=\"https://developers.google.com/blockly/xml\"><variables><variable id=\"Km/Jt%8YE.[}?9^E?9N;\">corr</variable><variable id=\"Y+grzOaS*0=OHV6zO8m/\">dataframe</variable></variables><block type=\"variables_set\" id=\"/i824a)~PM!?y(vR5o.7\" x=\"88\" y=\"75\"><field name=\"VAR\" id=\"Km/Jt%8YE.[}?9^E?9N;\">corr</field><value name=\"VALUE\"><block type=\"varDoMethod\" id=\"W{%v1dBEDnD_:orevoPY\"><mutation items=\"1\"></mutation><field name=\"VAR\" id=\"Y+grzOaS*0=OHV6zO8m/\">dataframe</field><field name=\"MEMBER\">corr</field><data>dataframe:corr</data></block></value></block></xml>"
   ]
  },
  {
   "cell_type": "markdown",
   "metadata": {},
   "source": [
    "And show the correlation heatmap with row/column labels."
   ]
  },
  {
   "cell_type": "code",
   "execution_count": 6,
   "metadata": {
    "user_blocks": [
     "varDoMethod",
     "variables_get",
     "valueOutputCodeBlock",
     "varGetProperty",
     "valueOutputCodeBlock",
     "varGetProperty"
    ],
    "user_blocks_xml": "<xml xmlns=\"https://developers.google.com/blockly/xml\"><variables><variable id=\"+yh,Zg{hON]zy6D~.rH#\">px</variable><variable id=\"Km/Jt%8YE.[}?9^E?9N;\">corr</variable></variables><block type=\"varDoMethod\" id=\"7PkTI5@+A6#C}J7CTmyF\" x=\"0\" y=\"0\"><mutation items=\"3\"></mutation><field name=\"VAR\" id=\"+yh,Zg{hON]zy6D~.rH#\">px</field><field name=\"MEMBER\">imshow</field><data>px:imshow</data><value name=\"ADD0\"><block type=\"variables_get\" id=\":;^8]9y7jv$I.u56eu+w\"><field name=\"VAR\" id=\"Km/Jt%8YE.[}?9^E?9N;\">corr</field></block></value><value name=\"ADD1\"><block type=\"valueOutputCodeBlock\" id=\"azE.sa4Vaf3Tqnxg+Wj$\"><field name=\"CODE\">x=</field><value name=\"INPUT\"><block type=\"varGetProperty\" id=\",Xr0Xc;@G;@aMs+upu)L\"><field name=\"VAR\" id=\"Km/Jt%8YE.[}?9^E?9N;\">corr</field><field name=\"MEMBER\">columns</field><data>corr:columns</data></block></value></block></value><value name=\"ADD2\"><block type=\"valueOutputCodeBlock\" id=\"OG/hi7jGihv_4MF;pM(i\"><field name=\"CODE\">y=</field><value name=\"INPUT\"><block type=\"varGetProperty\" id=\".$GSSp$+O[)pLmOP[sk@\"><field name=\"VAR\" id=\"Km/Jt%8YE.[}?9^E?9N;\">corr</field><field name=\"MEMBER\">columns</field><data>corr:columns</data></block></value></block></value></block></xml>",
    "user_code_from_blocks": "px.imshow(corr,x= (corr.columns),y= (corr.columns))\n"
   },
   "outputs": [
    {
     "data": {
      "application/vnd.plotly.v1+json": {
       "config": {
        "plotlyServerURL": "https://plot.ly"
       },
       "data": [
        {
         "coloraxis": "coloraxis",
         "hovertemplate": "x: %{x}<br>y: %{y}<br>color: %{z}<extra></extra>",
         "name": "0",
         "type": "heatmap",
         "x": [
          "crim",
          "zn",
          "indus",
          "chas",
          "nox",
          "rm",
          "age",
          "dis",
          "rad",
          "tax",
          "ptratio",
          "lstat",
          "medv"
         ],
         "xaxis": "x",
         "y": [
          "crim",
          "zn",
          "indus",
          "chas",
          "nox",
          "rm",
          "age",
          "dis",
          "rad",
          "tax",
          "ptratio",
          "lstat",
          "medv"
         ],
         "yaxis": "y",
         "z": {
          "bdata": "AAAAAAAA8D92Eyez+ajJv/yAxW12Bdo/UU6IS9KdrL8ZMT5VM/HaP/5wRqVGEMy//TnzrTKT1j8aWK7Dg0zYv1A+zF0jBOQ/rpauVwGm4j9SBSjnd47SP1RhZf7mKN0/Sw2xkvvZ2L92Eyez+ajJvwAAAAAAAPA/yoo72R4V4b+K8gsqWNylvw2iw38EiOC/gJ5bXqf30z8KV0Vgpjniv62dfgjVQuU/2bSzA/T20795uQA2ziHUv3+Se+ZCEdm/2jXBy4Bu2r/HhHRXiRHXP/yAxW12Bdo/yoo72R4V4b8AAAAAAADwPyAsvuG0HLA/YDDCKNVv6D/J0XKYNxHZv3/mbYsGouQ/zLwqNyio5r97GmqMTAvjP5LUJKd3EOc/XZNIwiCH2D+zPHPIU1LjPyTApF9a9d6/UU6IS9KdrL+K8gsqWNylvyAsvuG0HLA/AAAAAAAA8D/nIbEwEVm3P9MVSIM9XLc/XSvyYgcmtj+z3md8lWO5v//yJxopLn6/j4drYmU4or9mQtRQnhu/vxzBo/menKu/Ymip7Oxuxj8ZMT5VM/HaPw2iw38EiOC/YDDCKNVv6D/nIbEwEVm3PwAAAAAAAPA/10sDIA1X07/AZbj9M2jnP+nnbHiInei/nsnzzOuQ4z9NaNYwcmDlP0ArrCryLsg/Loci6Xro4j9GqY85OVnbv/5wRqVGEMy/gJ5bXqf30z/J0XKYNxHZv9MVSIM9XLc/10sDIA1X078AAAAAAADwP37mnFIAwc6/q8oUBoJFyj8OcZ1vQdzKv4YAf2TpsNK/e90zV4nA1r82xrU+UaTjv5jb84BjQOY//TnzrTKT1j8KV0Vgpjniv3/mbYsGouQ/XSvyYgcmtj/AZbj9M2jnP37mnFIAwc6/AAAAAAAA8D/gDgsso+7nv270IMt4L90/RqZlXOI04D/b0qJ1qbzQP6L/P3NbRuM/CnMxCgYg2L8aWK7Dg0zYv62dfgjVQuU/zLwqNyio5r+z3md8lWO5v+nnbHiInei/q8oUBoJFyj/gDgsso+7nvwAAAAAAAPA/xwa8IVSn3780ex9EEBrhvwijdkCYwc2/NLTzmcfO37/IZJ0tqv3PP1A+zF0jBOQ/2bSzA/T20797GmqMTAvjP//yJxopLn6/nsnzzOuQ4z8OcZ1vQdzKv270IMt4L90/xwa8IVSn378AAAAAAADwPym3tN2WIO0/85uxyFG+3T/mAkMbeUbfP7Ew+WyQbNi/rpauVwGm4j95uQA2ziHUv5LUJKd3EOc/j4drYmU4or9NaNYwcmDlP4YAf2TpsNK/RqZlXOI04D80ex9EEBrhvym3tN2WIO0/AAAAAAAA8D8qpHe6nX7dP4UoOd9kaOE/JinrI3783b9SBSjnd47SP3+Se+ZCEdm/XZNIwiCH2D9mQtRQnhu/v0ArrCryLsg/e90zV4nA1r/b0qJ1qbzQPwijdkCYwc2/85uxyFG+3T8qpHe6nX7dPwAAAAAAAPA/QNTiklfw1z9STPfcyT/gv1RhZf7mKN0/2jXBy4Bu2r+zPHPIU1LjPxzBo/menKu/Loci6Xro4j82xrU+UaTjv6L/P3NbRuM/NLTzmcfO37/mAkMbeUbfP4UoOd9kaOE/QNTiklfw1z8AAAAAAADwP7iojNzumue/Sw2xkvvZ2L/HhHRXiRHXPyTApF9a9d6/Ymip7Oxuxj9GqY85OVnbv5jb84BjQOY/CnMxCgYg2L/IZJ0tqv3PP7Ew+WyQbNi/JinrI3783b9STPfcyT/gv7iojNzumue/AAAAAAAA8D8=",
          "dtype": "f8",
          "shape": "13, 13"
         }
        }
       ],
       "layout": {
        "coloraxis": {
         "colorscale": [
          [
           0,
           "#0d0887"
          ],
          [
           0.1111111111111111,
           "#46039f"
          ],
          [
           0.2222222222222222,
           "#7201a8"
          ],
          [
           0.3333333333333333,
           "#9c179e"
          ],
          [
           0.4444444444444444,
           "#bd3786"
          ],
          [
           0.5555555555555556,
           "#d8576b"
          ],
          [
           0.6666666666666666,
           "#ed7953"
          ],
          [
           0.7777777777777778,
           "#fb9f3a"
          ],
          [
           0.8888888888888888,
           "#fdca26"
          ],
          [
           1,
           "#f0f921"
          ]
         ]
        },
        "margin": {
         "t": 60
        },
        "template": {
         "data": {
          "bar": [
           {
            "error_x": {
             "color": "#2a3f5f"
            },
            "error_y": {
             "color": "#2a3f5f"
            },
            "marker": {
             "line": {
              "color": "#E5ECF6",
              "width": 0.5
             },
             "pattern": {
              "fillmode": "overlay",
              "size": 10,
              "solidity": 0.2
             }
            },
            "type": "bar"
           }
          ],
          "barpolar": [
           {
            "marker": {
             "line": {
              "color": "#E5ECF6",
              "width": 0.5
             },
             "pattern": {
              "fillmode": "overlay",
              "size": 10,
              "solidity": 0.2
             }
            },
            "type": "barpolar"
           }
          ],
          "carpet": [
           {
            "aaxis": {
             "endlinecolor": "#2a3f5f",
             "gridcolor": "white",
             "linecolor": "white",
             "minorgridcolor": "white",
             "startlinecolor": "#2a3f5f"
            },
            "baxis": {
             "endlinecolor": "#2a3f5f",
             "gridcolor": "white",
             "linecolor": "white",
             "minorgridcolor": "white",
             "startlinecolor": "#2a3f5f"
            },
            "type": "carpet"
           }
          ],
          "choropleth": [
           {
            "colorbar": {
             "outlinewidth": 0,
             "ticks": ""
            },
            "type": "choropleth"
           }
          ],
          "contour": [
           {
            "colorbar": {
             "outlinewidth": 0,
             "ticks": ""
            },
            "colorscale": [
             [
              0,
              "#0d0887"
             ],
             [
              0.1111111111111111,
              "#46039f"
             ],
             [
              0.2222222222222222,
              "#7201a8"
             ],
             [
              0.3333333333333333,
              "#9c179e"
             ],
             [
              0.4444444444444444,
              "#bd3786"
             ],
             [
              0.5555555555555556,
              "#d8576b"
             ],
             [
              0.6666666666666666,
              "#ed7953"
             ],
             [
              0.7777777777777778,
              "#fb9f3a"
             ],
             [
              0.8888888888888888,
              "#fdca26"
             ],
             [
              1,
              "#f0f921"
             ]
            ],
            "type": "contour"
           }
          ],
          "contourcarpet": [
           {
            "colorbar": {
             "outlinewidth": 0,
             "ticks": ""
            },
            "type": "contourcarpet"
           }
          ],
          "heatmap": [
           {
            "colorbar": {
             "outlinewidth": 0,
             "ticks": ""
            },
            "colorscale": [
             [
              0,
              "#0d0887"
             ],
             [
              0.1111111111111111,
              "#46039f"
             ],
             [
              0.2222222222222222,
              "#7201a8"
             ],
             [
              0.3333333333333333,
              "#9c179e"
             ],
             [
              0.4444444444444444,
              "#bd3786"
             ],
             [
              0.5555555555555556,
              "#d8576b"
             ],
             [
              0.6666666666666666,
              "#ed7953"
             ],
             [
              0.7777777777777778,
              "#fb9f3a"
             ],
             [
              0.8888888888888888,
              "#fdca26"
             ],
             [
              1,
              "#f0f921"
             ]
            ],
            "type": "heatmap"
           }
          ],
          "histogram": [
           {
            "marker": {
             "pattern": {
              "fillmode": "overlay",
              "size": 10,
              "solidity": 0.2
             }
            },
            "type": "histogram"
           }
          ],
          "histogram2d": [
           {
            "colorbar": {
             "outlinewidth": 0,
             "ticks": ""
            },
            "colorscale": [
             [
              0,
              "#0d0887"
             ],
             [
              0.1111111111111111,
              "#46039f"
             ],
             [
              0.2222222222222222,
              "#7201a8"
             ],
             [
              0.3333333333333333,
              "#9c179e"
             ],
             [
              0.4444444444444444,
              "#bd3786"
             ],
             [
              0.5555555555555556,
              "#d8576b"
             ],
             [
              0.6666666666666666,
              "#ed7953"
             ],
             [
              0.7777777777777778,
              "#fb9f3a"
             ],
             [
              0.8888888888888888,
              "#fdca26"
             ],
             [
              1,
              "#f0f921"
             ]
            ],
            "type": "histogram2d"
           }
          ],
          "histogram2dcontour": [
           {
            "colorbar": {
             "outlinewidth": 0,
             "ticks": ""
            },
            "colorscale": [
             [
              0,
              "#0d0887"
             ],
             [
              0.1111111111111111,
              "#46039f"
             ],
             [
              0.2222222222222222,
              "#7201a8"
             ],
             [
              0.3333333333333333,
              "#9c179e"
             ],
             [
              0.4444444444444444,
              "#bd3786"
             ],
             [
              0.5555555555555556,
              "#d8576b"
             ],
             [
              0.6666666666666666,
              "#ed7953"
             ],
             [
              0.7777777777777778,
              "#fb9f3a"
             ],
             [
              0.8888888888888888,
              "#fdca26"
             ],
             [
              1,
              "#f0f921"
             ]
            ],
            "type": "histogram2dcontour"
           }
          ],
          "mesh3d": [
           {
            "colorbar": {
             "outlinewidth": 0,
             "ticks": ""
            },
            "type": "mesh3d"
           }
          ],
          "parcoords": [
           {
            "line": {
             "colorbar": {
              "outlinewidth": 0,
              "ticks": ""
             }
            },
            "type": "parcoords"
           }
          ],
          "pie": [
           {
            "automargin": true,
            "type": "pie"
           }
          ],
          "scatter": [
           {
            "fillpattern": {
             "fillmode": "overlay",
             "size": 10,
             "solidity": 0.2
            },
            "type": "scatter"
           }
          ],
          "scatter3d": [
           {
            "line": {
             "colorbar": {
              "outlinewidth": 0,
              "ticks": ""
             }
            },
            "marker": {
             "colorbar": {
              "outlinewidth": 0,
              "ticks": ""
             }
            },
            "type": "scatter3d"
           }
          ],
          "scattercarpet": [
           {
            "marker": {
             "colorbar": {
              "outlinewidth": 0,
              "ticks": ""
             }
            },
            "type": "scattercarpet"
           }
          ],
          "scattergeo": [
           {
            "marker": {
             "colorbar": {
              "outlinewidth": 0,
              "ticks": ""
             }
            },
            "type": "scattergeo"
           }
          ],
          "scattergl": [
           {
            "marker": {
             "colorbar": {
              "outlinewidth": 0,
              "ticks": ""
             }
            },
            "type": "scattergl"
           }
          ],
          "scattermap": [
           {
            "marker": {
             "colorbar": {
              "outlinewidth": 0,
              "ticks": ""
             }
            },
            "type": "scattermap"
           }
          ],
          "scattermapbox": [
           {
            "marker": {
             "colorbar": {
              "outlinewidth": 0,
              "ticks": ""
             }
            },
            "type": "scattermapbox"
           }
          ],
          "scatterpolar": [
           {
            "marker": {
             "colorbar": {
              "outlinewidth": 0,
              "ticks": ""
             }
            },
            "type": "scatterpolar"
           }
          ],
          "scatterpolargl": [
           {
            "marker": {
             "colorbar": {
              "outlinewidth": 0,
              "ticks": ""
             }
            },
            "type": "scatterpolargl"
           }
          ],
          "scatterternary": [
           {
            "marker": {
             "colorbar": {
              "outlinewidth": 0,
              "ticks": ""
             }
            },
            "type": "scatterternary"
           }
          ],
          "surface": [
           {
            "colorbar": {
             "outlinewidth": 0,
             "ticks": ""
            },
            "colorscale": [
             [
              0,
              "#0d0887"
             ],
             [
              0.1111111111111111,
              "#46039f"
             ],
             [
              0.2222222222222222,
              "#7201a8"
             ],
             [
              0.3333333333333333,
              "#9c179e"
             ],
             [
              0.4444444444444444,
              "#bd3786"
             ],
             [
              0.5555555555555556,
              "#d8576b"
             ],
             [
              0.6666666666666666,
              "#ed7953"
             ],
             [
              0.7777777777777778,
              "#fb9f3a"
             ],
             [
              0.8888888888888888,
              "#fdca26"
             ],
             [
              1,
              "#f0f921"
             ]
            ],
            "type": "surface"
           }
          ],
          "table": [
           {
            "cells": {
             "fill": {
              "color": "#EBF0F8"
             },
             "line": {
              "color": "white"
             }
            },
            "header": {
             "fill": {
              "color": "#C8D4E3"
             },
             "line": {
              "color": "white"
             }
            },
            "type": "table"
           }
          ]
         },
         "layout": {
          "annotationdefaults": {
           "arrowcolor": "#2a3f5f",
           "arrowhead": 0,
           "arrowwidth": 1
          },
          "autotypenumbers": "strict",
          "coloraxis": {
           "colorbar": {
            "outlinewidth": 0,
            "ticks": ""
           }
          },
          "colorscale": {
           "diverging": [
            [
             0,
             "#8e0152"
            ],
            [
             0.1,
             "#c51b7d"
            ],
            [
             0.2,
             "#de77ae"
            ],
            [
             0.3,
             "#f1b6da"
            ],
            [
             0.4,
             "#fde0ef"
            ],
            [
             0.5,
             "#f7f7f7"
            ],
            [
             0.6,
             "#e6f5d0"
            ],
            [
             0.7,
             "#b8e186"
            ],
            [
             0.8,
             "#7fbc41"
            ],
            [
             0.9,
             "#4d9221"
            ],
            [
             1,
             "#276419"
            ]
           ],
           "sequential": [
            [
             0,
             "#0d0887"
            ],
            [
             0.1111111111111111,
             "#46039f"
            ],
            [
             0.2222222222222222,
             "#7201a8"
            ],
            [
             0.3333333333333333,
             "#9c179e"
            ],
            [
             0.4444444444444444,
             "#bd3786"
            ],
            [
             0.5555555555555556,
             "#d8576b"
            ],
            [
             0.6666666666666666,
             "#ed7953"
            ],
            [
             0.7777777777777778,
             "#fb9f3a"
            ],
            [
             0.8888888888888888,
             "#fdca26"
            ],
            [
             1,
             "#f0f921"
            ]
           ],
           "sequentialminus": [
            [
             0,
             "#0d0887"
            ],
            [
             0.1111111111111111,
             "#46039f"
            ],
            [
             0.2222222222222222,
             "#7201a8"
            ],
            [
             0.3333333333333333,
             "#9c179e"
            ],
            [
             0.4444444444444444,
             "#bd3786"
            ],
            [
             0.5555555555555556,
             "#d8576b"
            ],
            [
             0.6666666666666666,
             "#ed7953"
            ],
            [
             0.7777777777777778,
             "#fb9f3a"
            ],
            [
             0.8888888888888888,
             "#fdca26"
            ],
            [
             1,
             "#f0f921"
            ]
           ]
          },
          "colorway": [
           "#636efa",
           "#EF553B",
           "#00cc96",
           "#ab63fa",
           "#FFA15A",
           "#19d3f3",
           "#FF6692",
           "#B6E880",
           "#FF97FF",
           "#FECB52"
          ],
          "font": {
           "color": "#2a3f5f"
          },
          "geo": {
           "bgcolor": "white",
           "lakecolor": "white",
           "landcolor": "#E5ECF6",
           "showlakes": true,
           "showland": true,
           "subunitcolor": "white"
          },
          "hoverlabel": {
           "align": "left"
          },
          "hovermode": "closest",
          "mapbox": {
           "style": "light"
          },
          "paper_bgcolor": "white",
          "plot_bgcolor": "#E5ECF6",
          "polar": {
           "angularaxis": {
            "gridcolor": "white",
            "linecolor": "white",
            "ticks": ""
           },
           "bgcolor": "#E5ECF6",
           "radialaxis": {
            "gridcolor": "white",
            "linecolor": "white",
            "ticks": ""
           }
          },
          "scene": {
           "xaxis": {
            "backgroundcolor": "#E5ECF6",
            "gridcolor": "white",
            "gridwidth": 2,
            "linecolor": "white",
            "showbackground": true,
            "ticks": "",
            "zerolinecolor": "white"
           },
           "yaxis": {
            "backgroundcolor": "#E5ECF6",
            "gridcolor": "white",
            "gridwidth": 2,
            "linecolor": "white",
            "showbackground": true,
            "ticks": "",
            "zerolinecolor": "white"
           },
           "zaxis": {
            "backgroundcolor": "#E5ECF6",
            "gridcolor": "white",
            "gridwidth": 2,
            "linecolor": "white",
            "showbackground": true,
            "ticks": "",
            "zerolinecolor": "white"
           }
          },
          "shapedefaults": {
           "line": {
            "color": "#2a3f5f"
           }
          },
          "ternary": {
           "aaxis": {
            "gridcolor": "white",
            "linecolor": "white",
            "ticks": ""
           },
           "baxis": {
            "gridcolor": "white",
            "linecolor": "white",
            "ticks": ""
           },
           "bgcolor": "#E5ECF6",
           "caxis": {
            "gridcolor": "white",
            "linecolor": "white",
            "ticks": ""
           }
          },
          "title": {
           "x": 0.05
          },
          "xaxis": {
           "automargin": true,
           "gridcolor": "white",
           "linecolor": "white",
           "ticks": "",
           "title": {
            "standoff": 15
           },
           "zerolinecolor": "white",
           "zerolinewidth": 2
          },
          "yaxis": {
           "automargin": true,
           "gridcolor": "white",
           "linecolor": "white",
           "ticks": "",
           "title": {
            "standoff": 15
           },
           "zerolinecolor": "white",
           "zerolinewidth": 2
          }
         }
        },
        "xaxis": {
         "anchor": "y",
         "constrain": "domain",
         "domain": [
          0,
          1
         ],
         "scaleanchor": "y"
        },
        "yaxis": {
         "anchor": "x",
         "autorange": "reversed",
         "constrain": "domain",
         "domain": [
          0,
          1
         ]
        }
       }
      },
      "image/png": "[encoded data removed]"
     },
     "metadata": {},
     "output_type": "display_data"
    }
   ],
   "source": [
    "px.imshow(corr,x= (corr.columns),y= (corr.columns))\n",
    "\n",
    "#<xml xmlns=\"https://developers.google.com/blockly/xml\"><variables><variable id=\"+yh,Zg{hON]zy6D~.rH#\">px</variable><variable id=\"Km/Jt%8YE.[}?9^E?9N;\">corr</variable></variables><block type=\"varDoMethod\" id=\"7PkTI5@+A6#C}J7CTmyF\" x=\"0\" y=\"0\"><mutation items=\"3\"></mutation><field name=\"VAR\" id=\"+yh,Zg{hON]zy6D~.rH#\">px</field><field name=\"MEMBER\">imshow</field><data>px:imshow</data><value name=\"ADD0\"><block type=\"variables_get\" id=\":;^8]9y7jv$I.u56eu+w\"><field name=\"VAR\" id=\"Km/Jt%8YE.[}?9^E?9N;\">corr</field></block></value><value name=\"ADD1\"><block type=\"valueOutputCodeBlock\" id=\"azE.sa4Vaf3Tqnxg+Wj$\"><field name=\"CODE\">x=</field><value name=\"INPUT\"><block type=\"varGetProperty\" id=\",Xr0Xc;@G;@aMs+upu)L\"><field name=\"VAR\" id=\"Km/Jt%8YE.[}?9^E?9N;\">corr</field><field name=\"MEMBER\">columns</field><data>corr:columns</data></block></value></block></value><value name=\"ADD2\"><block type=\"valueOutputCodeBlock\" id=\"OG/hi7jGihv_4MF;pM(i\"><field name=\"CODE\">y=</field><value name=\"INPUT\"><block type=\"varGetProperty\" id=\".$GSSp$+O[)pLmOP[sk@\"><field name=\"VAR\" id=\"Km/Jt%8YE.[}?9^E?9N;\">corr</field><field name=\"MEMBER\">columns</field><data>corr:columns</data></block></value></block></value></block></xml>"
   ]
  },
  {
   "cell_type": "markdown",
   "metadata": {},
   "source": [
    "Because these variables are highly correlated (an numeric), a scatterplot matrix would make a lot of sense.\n",
    "\n",
    "Use `plotly` to make a `scatter_matrix` of the dataframe.\n",
    "If you have a hard time reading the labels, you can give it something like `width=1000` and `height=1000` to make it bigger."
   ]
  },
  {
   "cell_type": "code",
   "execution_count": 7,
   "metadata": {
    "user_blocks": [
     "varDoMethod",
     "variables_get",
     "dummyOutputCodeBlock",
     "dummyOutputCodeBlock"
    ],
    "user_blocks_xml": "<xml xmlns=\"https://developers.google.com/blockly/xml\"><variables><variable id=\"+yh,Zg{hON]zy6D~.rH#\">px</variable><variable id=\"Y+grzOaS*0=OHV6zO8m/\">dataframe</variable></variables><block type=\"varDoMethod\" id=\"K_Y0K-1=:jF)7/~qEX=/\" x=\"0\" y=\"0\"><mutation items=\"3\"></mutation><field name=\"VAR\" id=\"+yh,Zg{hON]zy6D~.rH#\">px</field><field name=\"MEMBER\">scatter_matrix</field><data>px:scatter_matrix</data><value name=\"ADD0\"><block type=\"variables_get\" id=\"%h3}=^{z3cVOb@/:fg6J\"><field name=\"VAR\" id=\"Y+grzOaS*0=OHV6zO8m/\">dataframe</field></block></value><value name=\"ADD1\"><block type=\"dummyOutputCodeBlock\" id=\"]Npu=MiIi:j@dVoiGHgt\"><field name=\"CODE\">height=1000</field></block></value><value name=\"ADD2\"><block type=\"dummyOutputCodeBlock\" id=\"8n!ZYE^-6}84#rqNVNl/\"><field name=\"CODE\">width=1000</field></block></value></block></xml>",
    "user_code_from_blocks": "px.scatter_matrix(dataframe,height=1000,width=1000)\n"
   },
   "outputs": [
    {
     "data": {
      "application/vnd.plotly.v1+json": {
       "config": {
        "plotlyServerURL": "https://plot.ly"
       },
       "data": [
        {
         "dimensions": [
          {
           "axis": {
            "matches": true
           },
           "label": "crim",
           "values": {
            "bdata": "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",
            "dtype": "f8"
           }
          },
          {
           "axis": {
            "matches": true
           },
           "label": "zn",
           "values": {
            "bdata": "AAAAAAAAMkAAAAAAAAAAAAAAAAAAAAAAAAAAAAAAAAAAAAAAAAAAAAAAAAAAAAAAAAAAAAAAKUAAAAAAAAApQAAAAAAAAClAAAAAAAAAKUAAAAAAAAApQAAAAAAAAClAAAAAAAAAKUAAAAAAAAAAAAAAAAAAAAAAAAAAAAAAAAAAAAAAAAAAAAAAAAAAAAAAAAAAAAAAAAAAAAAAAAAAAAAAAAAAAAAAAAAAAAAAAAAAAAAAAAAAAAAAAAAAAAAAAAAAAAAAAAAAAAAAAAAAAAAAAAAAAAAAAAAAAAAAAAAAAAAAAAAAAAAAAAAAAAAAAAAAAAAAAAAAAAAAAAAAAAAAAAAAAAAAAAAAAAAAAAAAAAAAAAAAAAAAAAAAAAAAAAAAAAAAAAAAAAAAAAAAAAAAAAAAAAAAAAAAAADAUkAAAAAAAMBSQAAAAAAAAAAAAAAAAAAAAAAAAAAAAAAAAAAAAAAAAAAAAAAAAAAAAAAAAAAAAAAAAAAAAAAAAAAAAAAAAAAAAAAAAAAAAAAAAAAAAAAAADVAAAAAAAAANUAAAAAAAAA1QAAAAAAAADVAAAAAAADAUkAAAAAAAIBWQAAAAAAAQFVAAAAAAAAAWUAAAAAAAAA5QAAAAAAAADlAAAAAAAAAOUAAAAAAAAA5QAAAAAAAADlAAAAAAAAAOUAAAAAAAIAxQAAAAAAAAFRAAAAAAAAAVEAAAAAAAAApQAAAAAAAAClAAAAAAAAAKUAAAAAAAAAAAAAAAAAAAAAAAAAAAAAAAAAAAAAAAAAAAAAAAAAAAAAAAAAAAAAAAAAAAAAAAAAAAAAAAAAAAAAAAAAAAAAAAAAAAAAAAAAAAAAAAAAAADlAAAAAAAAAOUAAAAAAAAA5QAAAAAAAADlAAAAAAAAAAAAAAAAAAAAAAAAAAAAAAAAAAAAAAAAAAAAAAAAAAAAAAAAAAAAAAAAAAAAAAAAAAAAAAAAAAAAAAAAAAAAAADxAAAAAAAAAPEAAAAAAAAA8QAAAAAAAAAAAAAAAAAAAAAAAAAAAAAAAAAAAAAAAAAAAAAAAAAAAAAAAAAAAAAAAAAAAAAAAAAAAAAAAAAAAAAAAAAAAAAAAAAAAAAAAAAAAAAAAAAAAAAAAAAAAAAAAAAAAAAAAAAAAAAAAAAAAAAAAAAAAAAAAAAAAAAAAAAAAAAAAAAAAAAAAAAAAAAAAAAAAAAAAAAAAAAAAAAAAAAAAAAAAAAAAAAAAAAAAAAAAAAAAAAAAAAAAAAAAAAAAAAAAAAAAAAAAAAAAAAAAAAAAAAAAAAAAAAAAAAAAAAAAAAAAAAAAAAAAAAAAAAAAAAAAAAAAAAAAAAAAAAAAAAAAAAAAAAAAAAAAAAAAAAAAAAAAAAAAAAAAAAAAAAAAAAAAAAAAAAAAAAAAAAAAAAAAAAAAAAAAAAAAAAAAAAAAAAAAAAAAAAAAAAAAAAAAAAAAAAAAAAAAAAAAAAAAAAAAAAAAAAAAAAAAAAAAAAAAAAAAAAAAAAAAAAAAAAAAAAAAAAAAAAAAAAAAAAAAAAAAAAAAAAAAAAAAAAAAAAAAAAAAAAAAAAAAAAAAAAAAAAAAAAAAAAAAAAAAAAAAAAAAAAAAAAAAAAAAAAAAAAAAAAAAAAAAAAAAAAAAAAAAAAAAAAAAAAAAAAAAAAAAAAAAAAAAAAAAAAAAAAAAAAAAAAAAAAAAAAAAAAAAAAAAAAAAAAAAAAAAAAAAAAAAAAAAAAAAAAAAAAAAAAAAAAAAAAAAAAAAAAAAAAAAAAAAAAAAAAAAAAAAAAAAAAAAAAAAAAAAAAAAAAAAAAAAAAAAAAAAAAAAAAAAAAAAAAAAAAAAAAAAAAAAAAAAAAAAAAAAAAAAAAAAAAAAAAAAAAAAAAAAAAAAAAAAAAAAAAAAAAAAAAAAAAAAAAAAAAAAAAAAAAAAAAAAAAAAAAAAAAAAAAAAAAAAAAAAAAAAAAAAAAAAAAAAAAAAAAAAAAAAAAAAAAAAAIBGQAAAAAAAgEZAAAAAAACARkAAAAAAAIBGQAAAAAAAgEZAAAAAAACARkAAAAAAAABOQAAAAAAAAE5AAAAAAAAAVEAAAAAAAABUQAAAAAAAAFRAAAAAAAAAVEAAAAAAAMBXQAAAAAAAwFdAAAAAAACgVEAAAAAAAKBUQAAAAAAAwFdAAAAAAADAV0AAAAAAAAAAAAAAAAAAAAAAAAAAAAAAAAAAAAAAAAAAAAAAAAAAAAAAAAAAAAAAAAAAAAAAAAAAAAAAAAAAAAAAAAAAAAAAAAAAAAAAAAAAAAAAAAAAAAAAAAAAAAAAAAAAAAAAAAAAAAAAAAAAAAAAAAAAAAAAAAAAAAAAAAAAAAAAAAAAAAAAAAAAAAAAAAAAAAAAAAAAAAAAAAAAAAAAAAAAAAAAAAAAAAAAAAAAAAAAAAAAAAAAAAAAAAAAAAAAAAAAAAAAAAAAAAAAAAAAAAAAAAAAAAAAAAAAAAAAAAAAAAAAAAAAAAAAAAAAAAAAAAAAAAAAAAAAAAAAAAAAAAAAAAAAAAAAAAAAAAA+QAAAAAAAAD5AAAAAAAAAPkAAAAAAAAA+QAAAAAAAAD5AAAAAAAAAPkAAAAAAAAA2QAAAAAAAADZAAAAAAAAANkAAAAAAAAA2QAAAAAAAADZAAAAAAAAANkAAAAAAAAA2QAAAAAAAADZAAAAAAAAANkAAAAAAAAA2QAAAAAAAAFRAAAAAAAAAVEAAAAAAAIBWQAAAAAAAADRAAAAAAAAANEAAAAAAAAA0QAAAAAAAADRAAAAAAAAANEAAAAAAAAA0QAAAAAAAADRAAAAAAAAANEAAAAAAAAA0QAAAAAAAADRAAAAAAAAANEAAAAAAAAA0QAAAAAAAADRAAAAAAAAANEAAAAAAAAA0QAAAAAAAADRAAAAAAAAANEAAAAAAAABEQAAAAAAAAERAAAAAAAAAREAAAAAAAABEQAAAAAAAAERAAAAAAAAANEAAAAAAAAA0QAAAAAAAADRAAAAAAAAANEAAAAAAAIBWQAAAAAAAgFZAAAAAAACAS0AAAAAAAABUQAAAAAAAQEpAAAAAAABASkAAAAAAAEBKQAAAAAAAAFRAAAAAAAAAVEAAAAAAAABUQAAAAAAAAAAAAAAAAAAAAAAAAAAAAAAAAAAAAAAAAAAAAAAAAAAAAAAAAAAAAIBRQAAAAAAAgFFAAAAAAACAUUAAAAAAAABBQAAAAAAAAEFAAAAAAAAAQUAAAAAAAIBAQAAAAAAAgEBAAAAAAACAQEAAAAAAAIBAQAAAAAAAAAAAAAAAAAAAAAAAAAAAAAAAAAAAAAAAAAAAAAAAAAAAAAAAAAAAAAAAAAAAAAAAAAAAAAAAAAAAAAAAAAAAAAAAAAAAAAAAAAAAAAAAAAAAAAAAAAAAAAAAAAAAAAAAAAAAAAAAAAAAAAAAAAAAAAAAAAAAAAAAAAAAAAAAAAAAAAAAAAAAAAAAAAAAAAAAAAAAAAAAAAAAAAAAAAAAAAAAAAAAAAAAAAAAAAAAAAAAAAAAAAAAAIBBQAAAAAAAgEFAAAAAAAAAAAAAAAAAAAAAAAAAAAAAAAAAAAAAAAAAAAAAAAAAAAAAAAAAAAAAAAAAAAAAAAAAAAAAAAAAAAAAAAAAAAAAgEFAAAAAAAAAAAAAAAAAAIBLQAAAAAAAgEtAAAAAAAAAAAAAAAAAAAAAAAAAAAAAQFVAAAAAAAAAVEAAAAAAAABEQAAAAAAAAERAAAAAAAAATkAAAAAAAABOQAAAAAAAgFZAAAAAAAAAVEAAAAAAAABUQAAAAAAAAAAAAAAAAAAAAAAAAAAAAAAAAAAAAAAAAAAAAAAAAAAAAAAAAAAAAAAAAAAAAAAAAAAAAAAAAAAAAAAAAAAAAAAAAAAAAAAAAAAAAAAAAAAAAAAAAAAAAAAAAAAAAAAAAAAAAAAAAAAAAAAAAAAAAAAAAAAAAAAAAAAAAAAAAAAAAAAAAAAAAAAAAAAAAAAAAAAAAAAAAAAAAAAAAAAAAAAAAAAAAAAAAAAAAAAAAAAAAAAAAAAAAAAAAAAAAAAAAAAAAAAAAAAAAAAAAAAAAAAAAAAAAAAAAAAAAAAAAAAAAAAAAAAAAAAAAAAAAAAAAAAAAAAAAAAAAAAAAAAAAAAAAAAAAAAAAAAAAAAAAAAAAAAAAAAAAAAAAAAAAAAAAAAAAAAAAAAAAAAAAAAAAAAAAAAAAAAAAAAAAAAAAAAAAAAAAAAAAAAAAAAAAAAAAAAAAAAAAAAAAAAAAAAAAAAAAAAAAAAAAAAAAAAAAAAAAAAAAAAAAAAAAAAAAAAAAAAAAAAAAAAAAAAAAAAAAAAAAAAAAAAAAAAAAAAAAAAAAAAAAAAAAAAAAAAAAAAAAAAAAAAAAAAAAAAAAAAAAAAAAAAAAAAAAAAAAAAAAAAAAAAAAAAAAAAAAAAAAAAAAAAAAAAAAAAAAAAAAAAAAAAAAAAAAAAAAAAAAAAAAAAAAAAAAAAAAAAAAAAAAAAAAAAAAAAAAAAAAAAAAAAAAAAAAAAAAAAAAAAAAAAAAAAAAAAAAAAAAAAAAAAAAAAAAAAAAAAAAAAAAAAAAAAAAAAAAAAAAAAAAAAAAAAAAAAAAAAAAAAAAAAAAAAAAAAAAAAAAAAAAAAAAAAAAAAAAAAAAAAAAAAAAAAAAAAAAAAAAAAAAAAAAAAAAAAAAAAAAAAAAAAAAAAAAAAAAAAAAAAAAAAAAAAAAAAAAAAAAAAAAAAAAAAAAAAAAAAAAAAAAAAAAAAAAAAAAAAAAAAAAAAAAAAAAAAAAAAAAAAAAAAAAAAAAAAAAAAAAAAAAAAAAAAAAAAAAAAAAAAAAAAAAAAAAAAAAAAAAAAAAAAAAAAAAAAAAAAAAAAAAAAAAAAAAAAAAAAAAAAAAAAAAAAAAAAAAAAAAAAAAAAAAAAAAAAAAAAAAAAAAAAAAAAAAAAAAAAAAAAAAAAAAAAAAAAAAAAAAAAAAAAAAAAAAAAAAAAAAAAAAAAAAAAAAAAAAAAAAAAAAAAAAAAAAAAAAAAAAAAAAAAAAAAAAAAAAAAAAAAAAAAAAAAAAAAAAAAAAAAAAAAAAAAAAAAAAAAAAAAAAAAAAAAAAAAAAAAAAAAAAAAAAAAAAAAAAAAAAAAAAAAAAAAAAAAAAAAAAAAAAAAAAAAAAAAAAAAAAAAAAAAAAAAAAAAAAAAAAAAAAAAAAAAAAAAAAAAAAAAAAAAAAAAAAAAAAAAAAAAAAAAAAAAAAAAAAAAAAAAAAAAAAAAAAAAAAAAAAAAAAAAAAAAAAAAAAAAAAAAAAAAAAAAAAAAAAAAAAAAAAAAAAAAAAAAAAAAAAAAAAAAAAAAAAAAAAAAAAAAAAAAAAAAAAAAAAAAAAAAAAAAAAAAAAAAAAA==",
            "dtype": "f8"
           }
          },
          {
           "axis": {
            "matches": true
           },
           "label": "indus",
           "values": {
            "bdata": "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",
            "dtype": "f8"
           }
          },
          {
           "axis": {
            "matches": true
           },
           "label": "chas",
           "values": {
            "bdata": "AAAAAAAAAAAAAAAAAAAAAAAAAAAAAAAAAAAAAAAAAAAAAAAAAAAAAAAAAAAAAAAAAAAAAAAAAAAAAAAAAAAAAAAAAAAAAAAAAAAAAAAAAAAAAAAAAAAAAAAAAAAAAAAAAAAAAAAAAAAAAAAAAAAAAAAAAAAAAAAAAAAAAAAAAAAAAAAAAAAAAAAAAAAAAAEAAAAAAAAAAAABAAEBAAAAAAEAAQEAAAAAAAAAAAAAAAAAAAAAAAAAAAAAAAAAAAAAAAAAAAAAAAAAAAAAAAAAAAEBAQEBAAAAAQABAQEBAQAAAAAAAAAAAAAAAQABAAAAAAAAAAAAAAAAAAAAAAAAAAAAAAAAAAAAAAAAAAABAAAAAQEAAQEAAAAAAQEAAAAAAAAAAAAAAAAAAAAAAAAAAAAAAAAAAAAAAAAAAAAAAAAAAAAAAAAAAAAAAAAAAAAAAAAAAAAAAAAAAAAAAAAAAAAAAAABAQEAAAAAAQEAAAAAAQEAAQAAAAAAAAAAAAAAAAAAAAAAAAAAAAAAAAAAAAAAAAAAAAAAAAAAAAAAAAAAAAAAAAAAAAAAAAAAAAAAAAAAAAAAAAAAAAAAAAAAAAAAAAAAAAAAAAAAAAAAAAAAAAAAAAAAAAAAAAAAAAAAAAAAAAAAAAAAAAAAAAAAAAAAAAAAAAAAAAA=",
            "dtype": "i1"
           }
          },
          {
           "axis": {
            "matches": true
           },
           "label": "nox",
           "values": {
            "bdata": "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",
            "dtype": "f8"
           }
          },
          {
           "axis": {
            "matches": true
           },
           "label": "rm",
           "values": {
            "bdata": "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",
            "dtype": "f8"
           }
          },
          {
           "axis": {
            "matches": true
           },
           "label": "age",
           "values": {
            "bdata": "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",
            "dtype": "f8"
           }
          },
          {
           "axis": {
            "matches": true
           },
           "label": "dis",
           "values": {
            "bdata": "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",
            "dtype": "f8"
           }
          },
          {
           "axis": {
            "matches": true
           },
           "label": "rad",
           "values": {
            "bdata": "AQICAwMDBQUFBQUFBQQEBAQEBAQEBAQEBAQEBAQEBAQEBAQFBQUFAwMDAwMDAwMDAwMEBAQEAwUCBQgICAgICAMEBAQEBAQEBAQFBQUFBQUEBAQEAwMDAwICAgIEBAQCAgICAgUFBQUFBQUFBQUFBgYGBgYGBgYGAgICAgICAgQEBAQEBAQEBAQEBAQEBAUFBQUFBQUFBQUFBQUFBQUFBQUFBQUFBQUFBQUFBQUFBQUFBQUDAwMDAwMDAwUFBQUFBQEBBAICAgMDAgIEBAQEBAQEBAQEBAQEBQUFBQgICAgICAgICAgICAgICAgICAYGBgYGBgcHBwcHBwcHBwcBAQMFBQUFBQUFBQUFBQUDAwMDAwQEBAQEBQUFBQEBAQEGBgYEBAQEBAQEBAUFBQcHBwcHBwcEBAQEBAQEBAQEBAQFBQUFBQUFBQQEBAEBBQUFBQUFBQUBAQUFAwMEBAEBBAQFBAQYGBgYGBgYGBgYGBgYGBgYGBgYGBgYGBgYGBgYGBgYGBgYGBgYGBgYGBgYGBgYGBgYGBgYGBgYGBgYGBgYGBgYGBgYGBgYGBgYGBgYGBgYGBgYGBgYGBgYGBgYGBgYGBgYGBgYGBgYGBgYGBgYGBgYGBgYGBgYGBgYGBgYGBgYGBgYGBgEBAQEBAYGBgYGBgYGAQEBAQE=",
            "dtype": "i1"
           }
          },
          {
           "axis": {
            "matches": true
           },
           "label": "tax",
           "values": {
            "bdata": "KAHyAPIA3gDeAN4ANwE3ATcBNwE3ATcBNwEzATMBMwEzATMBMwEzATMBMwEzATMBMwEzATMBMwEzATMBMwEzATMBMwEzARcBFwEXARcB/AD8AOkA6QDpAOkA6QDpAOkA6QDpAPMA8wDzAPMA1QHiADkBAAEcARwBHAEcARwBHAHYAFEBUQFZAVkBWQExATEBMQExAY4BjgGOAY4BjgGOARkBGQEZARkB9wD3APcA9wAOAQ4BDgEOAQ4BDgEOARQBFAEUARQBFAGAAYABgAGAAYABgAGAAYABgAGAAYABsAGwAbABsAGwAbABsAGwAbABvAC8ALwAvAC8ALwAvAC1AbUBtQG1AbUBtQG1AbUBtQG1AbUBtQG1AbUBtQGTAZMBkwGTAZMBkwGTAZMBkwGTAZMBkwGTAZMBkwGTAZMBkwGTAZMBkwGTAZMBkwGTAZMBkwGTAZMBkwEoASgBKAEoASgBKAEoAcEAwQDBAMEAwQDBAMEAwQCOAY4BjgGOAY4BjgEJAQkB/wBJAUkBSQGSAZIBXAFcAeAA4AAVARUBFQEVARUBFQEVARUBFQEVARUBFAEUARQBFAEzATMBMwEzATMBMwEzATMBMwEzATMBMwEzATMBMwEzATMBMwEsASwBLAEsASwBLAFKAUoBSgFKAUoBSgFKAUoBSgFKATsBOwH0AAgBCAEIAQgBCAEIAQgBCAEIAQgBCAEIAd8A3wDfAN8A3wD+AP4A/gD+AP4A2ADYANgA2ADGAB0BLAHxACUBJQElAfUA9QD1ACEBIQEhASEBIQFmAWYBZgFJAUkBSQHeAN4A3gDeADABMAEwATABMAEwATABMAEwATABMAEwAR8BHwEfAR8BHwEfAR8BHwGuAa4BrgEwATAB4ADgAOAA4ADgAOAA4ADgABwBpgFyAXIBYAFgAV8BGAFPAU8BmwGbAbsATgFOAZoCmgKaApoCmgKaApoCmgKaApoCmgKaApoCmgKaApoCmgKaApoCmgKaApoCmgKaApoCmgKaApoCmgKaApoCmgKaApoCmgKaApoCmgKaApoCmgKaApoCmgKaApoCmgKaApoCmgKaApoCmgKaApoCmgKaApoCmgKaApoCmgKaApoCmgKaApoCmgKaApoCmgKaApoCmgKaApoCmgKaApoCmgKaApoCmgKaApoCmgKaApoCmgKaApoCmgKaApoCmgKaApoCmgKaApoCmgKaApoCmgKaApoCmgKaApoCmgKaApoCmgKaApoCmgKaApoCmgKaApoCmgKaApoCmgKaApoCmgKaApoCmgKaAscCxwLHAscCxwKHAYcBhwGHAYcBhwGHAYcBEQERAREBEQERAQ==",
            "dtype": "i2"
           }
          },
          {
           "axis": {
            "matches": true
           },
           "label": "ptratio",
           "values": {
            "bdata": "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",
            "dtype": "f8"
           }
          },
          {
           "axis": {
            "matches": true
           },
           "label": "lstat",
           "values": {
            "bdata": "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",
            "dtype": "f8"
           }
          },
          {
           "axis": {
            "matches": true
           },
           "label": "medv",
           "values": {
            "bdata": "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",
            "dtype": "f8"
           }
          }
         ],
         "hovertemplate": "%{xaxis.title.text}=%{x}<br>%{yaxis.title.text}=%{y}<extra></extra>",
         "legendgroup": "",
         "marker": {
          "color": "#636efa",
          "symbol": "circle"
         },
         "name": "",
         "showlegend": false,
         "type": "splom"
        }
       ],
       "layout": {
        "dragmode": "select",
        "height": 1000,
        "legend": {
         "tracegroupgap": 0
        },
        "margin": {
         "t": 60
        },
        "template": {
         "data": {
          "bar": [
           {
            "error_x": {
             "color": "#2a3f5f"
            },
            "error_y": {
             "color": "#2a3f5f"
            },
            "marker": {
             "line": {
              "color": "#E5ECF6",
              "width": 0.5
             },
             "pattern": {
              "fillmode": "overlay",
              "size": 10,
              "solidity": 0.2
             }
            },
            "type": "bar"
           }
          ],
          "barpolar": [
           {
            "marker": {
             "line": {
              "color": "#E5ECF6",
              "width": 0.5
             },
             "pattern": {
              "fillmode": "overlay",
              "size": 10,
              "solidity": 0.2
             }
            },
            "type": "barpolar"
           }
          ],
          "carpet": [
           {
            "aaxis": {
             "endlinecolor": "#2a3f5f",
             "gridcolor": "white",
             "linecolor": "white",
             "minorgridcolor": "white",
             "startlinecolor": "#2a3f5f"
            },
            "baxis": {
             "endlinecolor": "#2a3f5f",
             "gridcolor": "white",
             "linecolor": "white",
             "minorgridcolor": "white",
             "startlinecolor": "#2a3f5f"
            },
            "type": "carpet"
           }
          ],
          "choropleth": [
           {
            "colorbar": {
             "outlinewidth": 0,
             "ticks": ""
            },
            "type": "choropleth"
           }
          ],
          "contour": [
           {
            "colorbar": {
             "outlinewidth": 0,
             "ticks": ""
            },
            "colorscale": [
             [
              0,
              "#0d0887"
             ],
             [
              0.1111111111111111,
              "#46039f"
             ],
             [
              0.2222222222222222,
              "#7201a8"
             ],
             [
              0.3333333333333333,
              "#9c179e"
             ],
             [
              0.4444444444444444,
              "#bd3786"
             ],
             [
              0.5555555555555556,
              "#d8576b"
             ],
             [
              0.6666666666666666,
              "#ed7953"
             ],
             [
              0.7777777777777778,
              "#fb9f3a"
             ],
             [
              0.8888888888888888,
              "#fdca26"
             ],
             [
              1,
              "#f0f921"
             ]
            ],
            "type": "contour"
           }
          ],
          "contourcarpet": [
           {
            "colorbar": {
             "outlinewidth": 0,
             "ticks": ""
            },
            "type": "contourcarpet"
           }
          ],
          "heatmap": [
           {
            "colorbar": {
             "outlinewidth": 0,
             "ticks": ""
            },
            "colorscale": [
             [
              0,
              "#0d0887"
             ],
             [
              0.1111111111111111,
              "#46039f"
             ],
             [
              0.2222222222222222,
              "#7201a8"
             ],
             [
              0.3333333333333333,
              "#9c179e"
             ],
             [
              0.4444444444444444,
              "#bd3786"
             ],
             [
              0.5555555555555556,
              "#d8576b"
             ],
             [
              0.6666666666666666,
              "#ed7953"
             ],
             [
              0.7777777777777778,
              "#fb9f3a"
             ],
             [
              0.8888888888888888,
              "#fdca26"
             ],
             [
              1,
              "#f0f921"
             ]
            ],
            "type": "heatmap"
           }
          ],
          "histogram": [
           {
            "marker": {
             "pattern": {
              "fillmode": "overlay",
              "size": 10,
              "solidity": 0.2
             }
            },
            "type": "histogram"
           }
          ],
          "histogram2d": [
           {
            "colorbar": {
             "outlinewidth": 0,
             "ticks": ""
            },
            "colorscale": [
             [
              0,
              "#0d0887"
             ],
             [
              0.1111111111111111,
              "#46039f"
             ],
             [
              0.2222222222222222,
              "#7201a8"
             ],
             [
              0.3333333333333333,
              "#9c179e"
             ],
             [
              0.4444444444444444,
              "#bd3786"
             ],
             [
              0.5555555555555556,
              "#d8576b"
             ],
             [
              0.6666666666666666,
              "#ed7953"
             ],
             [
              0.7777777777777778,
              "#fb9f3a"
             ],
             [
              0.8888888888888888,
              "#fdca26"
             ],
             [
              1,
              "#f0f921"
             ]
            ],
            "type": "histogram2d"
           }
          ],
          "histogram2dcontour": [
           {
            "colorbar": {
             "outlinewidth": 0,
             "ticks": ""
            },
            "colorscale": [
             [
              0,
              "#0d0887"
             ],
             [
              0.1111111111111111,
              "#46039f"
             ],
             [
              0.2222222222222222,
              "#7201a8"
             ],
             [
              0.3333333333333333,
              "#9c179e"
             ],
             [
              0.4444444444444444,
              "#bd3786"
             ],
             [
              0.5555555555555556,
              "#d8576b"
             ],
             [
              0.6666666666666666,
              "#ed7953"
             ],
             [
              0.7777777777777778,
              "#fb9f3a"
             ],
             [
              0.8888888888888888,
              "#fdca26"
             ],
             [
              1,
              "#f0f921"
             ]
            ],
            "type": "histogram2dcontour"
           }
          ],
          "mesh3d": [
           {
            "colorbar": {
             "outlinewidth": 0,
             "ticks": ""
            },
            "type": "mesh3d"
           }
          ],
          "parcoords": [
           {
            "line": {
             "colorbar": {
              "outlinewidth": 0,
              "ticks": ""
             }
            },
            "type": "parcoords"
           }
          ],
          "pie": [
           {
            "automargin": true,
            "type": "pie"
           }
          ],
          "scatter": [
           {
            "fillpattern": {
             "fillmode": "overlay",
             "size": 10,
             "solidity": 0.2
            },
            "type": "scatter"
           }
          ],
          "scatter3d": [
           {
            "line": {
             "colorbar": {
              "outlinewidth": 0,
              "ticks": ""
             }
            },
            "marker": {
             "colorbar": {
              "outlinewidth": 0,
              "ticks": ""
             }
            },
            "type": "scatter3d"
           }
          ],
          "scattercarpet": [
           {
            "marker": {
             "colorbar": {
              "outlinewidth": 0,
              "ticks": ""
             }
            },
            "type": "scattercarpet"
           }
          ],
          "scattergeo": [
           {
            "marker": {
             "colorbar": {
              "outlinewidth": 0,
              "ticks": ""
             }
            },
            "type": "scattergeo"
           }
          ],
          "scattergl": [
           {
            "marker": {
             "colorbar": {
              "outlinewidth": 0,
              "ticks": ""
             }
            },
            "type": "scattergl"
           }
          ],
          "scattermap": [
           {
            "marker": {
             "colorbar": {
              "outlinewidth": 0,
              "ticks": ""
             }
            },
            "type": "scattermap"
           }
          ],
          "scattermapbox": [
           {
            "marker": {
             "colorbar": {
              "outlinewidth": 0,
              "ticks": ""
             }
            },
            "type": "scattermapbox"
           }
          ],
          "scatterpolar": [
           {
            "marker": {
             "colorbar": {
              "outlinewidth": 0,
              "ticks": ""
             }
            },
            "type": "scatterpolar"
           }
          ],
          "scatterpolargl": [
           {
            "marker": {
             "colorbar": {
              "outlinewidth": 0,
              "ticks": ""
             }
            },
            "type": "scatterpolargl"
           }
          ],
          "scatterternary": [
           {
            "marker": {
             "colorbar": {
              "outlinewidth": 0,
              "ticks": ""
             }
            },
            "type": "scatterternary"
           }
          ],
          "surface": [
           {
            "colorbar": {
             "outlinewidth": 0,
             "ticks": ""
            },
            "colorscale": [
             [
              0,
              "#0d0887"
             ],
             [
              0.1111111111111111,
              "#46039f"
             ],
             [
              0.2222222222222222,
              "#7201a8"
             ],
             [
              0.3333333333333333,
              "#9c179e"
             ],
             [
              0.4444444444444444,
              "#bd3786"
             ],
             [
              0.5555555555555556,
              "#d8576b"
             ],
             [
              0.6666666666666666,
              "#ed7953"
             ],
             [
              0.7777777777777778,
              "#fb9f3a"
             ],
             [
              0.8888888888888888,
              "#fdca26"
             ],
             [
              1,
              "#f0f921"
             ]
            ],
            "type": "surface"
           }
          ],
          "table": [
           {
            "cells": {
             "fill": {
              "color": "#EBF0F8"
             },
             "line": {
              "color": "white"
             }
            },
            "header": {
             "fill": {
              "color": "#C8D4E3"
             },
             "line": {
              "color": "white"
             }
            },
            "type": "table"
           }
          ]
         },
         "layout": {
          "annotationdefaults": {
           "arrowcolor": "#2a3f5f",
           "arrowhead": 0,
           "arrowwidth": 1
          },
          "autotypenumbers": "strict",
          "coloraxis": {
           "colorbar": {
            "outlinewidth": 0,
            "ticks": ""
           }
          },
          "colorscale": {
           "diverging": [
            [
             0,
             "#8e0152"
            ],
            [
             0.1,
             "#c51b7d"
            ],
            [
             0.2,
             "#de77ae"
            ],
            [
             0.3,
             "#f1b6da"
            ],
            [
             0.4,
             "#fde0ef"
            ],
            [
             0.5,
             "#f7f7f7"
            ],
            [
             0.6,
             "#e6f5d0"
            ],
            [
             0.7,
             "#b8e186"
            ],
            [
             0.8,
             "#7fbc41"
            ],
            [
             0.9,
             "#4d9221"
            ],
            [
             1,
             "#276419"
            ]
           ],
           "sequential": [
            [
             0,
             "#0d0887"
            ],
            [
             0.1111111111111111,
             "#46039f"
            ],
            [
             0.2222222222222222,
             "#7201a8"
            ],
            [
             0.3333333333333333,
             "#9c179e"
            ],
            [
             0.4444444444444444,
             "#bd3786"
            ],
            [
             0.5555555555555556,
             "#d8576b"
            ],
            [
             0.6666666666666666,
             "#ed7953"
            ],
            [
             0.7777777777777778,
             "#fb9f3a"
            ],
            [
             0.8888888888888888,
             "#fdca26"
            ],
            [
             1,
             "#f0f921"
            ]
           ],
           "sequentialminus": [
            [
             0,
             "#0d0887"
            ],
            [
             0.1111111111111111,
             "#46039f"
            ],
            [
             0.2222222222222222,
             "#7201a8"
            ],
            [
             0.3333333333333333,
             "#9c179e"
            ],
            [
             0.4444444444444444,
             "#bd3786"
            ],
            [
             0.5555555555555556,
             "#d8576b"
            ],
            [
             0.6666666666666666,
             "#ed7953"
            ],
            [
             0.7777777777777778,
             "#fb9f3a"
            ],
            [
             0.8888888888888888,
             "#fdca26"
            ],
            [
             1,
             "#f0f921"
            ]
           ]
          },
          "colorway": [
           "#636efa",
           "#EF553B",
           "#00cc96",
           "#ab63fa",
           "#FFA15A",
           "#19d3f3",
           "#FF6692",
           "#B6E880",
           "#FF97FF",
           "#FECB52"
          ],
          "font": {
           "color": "#2a3f5f"
          },
          "geo": {
           "bgcolor": "white",
           "lakecolor": "white",
           "landcolor": "#E5ECF6",
           "showlakes": true,
           "showland": true,
           "subunitcolor": "white"
          },
          "hoverlabel": {
           "align": "left"
          },
          "hovermode": "closest",
          "mapbox": {
           "style": "light"
          },
          "paper_bgcolor": "white",
          "plot_bgcolor": "#E5ECF6",
          "polar": {
           "angularaxis": {
            "gridcolor": "white",
            "linecolor": "white",
            "ticks": ""
           },
           "bgcolor": "#E5ECF6",
           "radialaxis": {
            "gridcolor": "white",
            "linecolor": "white",
            "ticks": ""
           }
          },
          "scene": {
           "xaxis": {
            "backgroundcolor": "#E5ECF6",
            "gridcolor": "white",
            "gridwidth": 2,
            "linecolor": "white",
            "showbackground": true,
            "ticks": "",
            "zerolinecolor": "white"
           },
           "yaxis": {
            "backgroundcolor": "#E5ECF6",
            "gridcolor": "white",
            "gridwidth": 2,
            "linecolor": "white",
            "showbackground": true,
            "ticks": "",
            "zerolinecolor": "white"
           },
           "zaxis": {
            "backgroundcolor": "#E5ECF6",
            "gridcolor": "white",
            "gridwidth": 2,
            "linecolor": "white",
            "showbackground": true,
            "ticks": "",
            "zerolinecolor": "white"
           }
          },
          "shapedefaults": {
           "line": {
            "color": "#2a3f5f"
           }
          },
          "ternary": {
           "aaxis": {
            "gridcolor": "white",
            "linecolor": "white",
            "ticks": ""
           },
           "baxis": {
            "gridcolor": "white",
            "linecolor": "white",
            "ticks": ""
           },
           "bgcolor": "#E5ECF6",
           "caxis": {
            "gridcolor": "white",
            "linecolor": "white",
            "ticks": ""
           }
          },
          "title": {
           "x": 0.05
          },
          "xaxis": {
           "automargin": true,
           "gridcolor": "white",
           "linecolor": "white",
           "ticks": "",
           "title": {
            "standoff": 15
           },
           "zerolinecolor": "white",
           "zerolinewidth": 2
          },
          "yaxis": {
           "automargin": true,
           "gridcolor": "white",
           "linecolor": "white",
           "ticks": "",
           "title": {
            "standoff": 15
           },
           "zerolinecolor": "white",
           "zerolinewidth": 2
          }
         }
        },
        "width": 1000
       }
      },
      "image/png": "[encoded data removed]"
     },
     "metadata": {},
     "output_type": "display_data"
    }
   ],
   "source": [
    "px.scatter_matrix(dataframe,height=1000,width=1000)\n",
    "\n",
    "#<xml xmlns=\"https://developers.google.com/blockly/xml\"><variables><variable id=\"+yh,Zg{hON]zy6D~.rH#\">px</variable><variable id=\"Y+grzOaS*0=OHV6zO8m/\">dataframe</variable></variables><block type=\"varDoMethod\" id=\"K_Y0K-1=:jF)7/~qEX=/\" x=\"0\" y=\"0\"><mutation items=\"3\"></mutation><field name=\"VAR\" id=\"+yh,Zg{hON]zy6D~.rH#\">px</field><field name=\"MEMBER\">scatter_matrix</field><data>px:scatter_matrix</data><value name=\"ADD0\"><block type=\"variables_get\" id=\"%h3}=^{z3cVOb@/:fg6J\"><field name=\"VAR\" id=\"Y+grzOaS*0=OHV6zO8m/\">dataframe</field></block></value><value name=\"ADD1\"><block type=\"dummyOutputCodeBlock\" id=\"]Npu=MiIi:j@dVoiGHgt\"><field name=\"CODE\">height=1000</field></block></value><value name=\"ADD2\"><block type=\"dummyOutputCodeBlock\" id=\"8n!ZYE^-6}84#rqNVNl/\"><field name=\"CODE\">width=1000</field></block></value></block></xml>"
   ]
  },
  {
   "cell_type": "markdown",
   "metadata": {},
   "source": [
    "-----------\n",
    "**QUESTION:**\n",
    "\n",
    "Remembering that a perfect correlation is a line, and no correlation is a uniform random scattering of datapoints, what would you say about the pattern of these scatterplots overall?\n",
    "Of the scatterplots in the last row (i.e. correlated with `medv`) in particular?"
   ]
  },
  {
   "cell_type": "markdown",
   "metadata": {},
   "source": [
    "**ANSWER: (click here to edit)**\n",
    "\n",
    "*There is a huge variety in relationships.\n",
    "Some are loosely linear with outliers, some are clearly nonlinear are curved.\n",
    "Many are wedge shaped or triangular.\n",
    "And many are \"L\" shaped, or smeared across two axes.\n",
    "Overall, I would decribe many of these as mixtures of multiple patterns rather than single patterns.\n",
    "Mixtures suggest complex relationships in the data.*\n",
    "<hr>"
   ]
  },
  {
   "cell_type": "markdown",
   "metadata": {},
   "source": [
    "Ultimately we want to predict median house value (`medv`), so make a histogram of that."
   ]
  },
  {
   "cell_type": "code",
   "execution_count": 8,
   "metadata": {
    "user_blocks": [
     "varDoMethod",
     "variables_get",
     "dummyOutputCodeBlock"
    ],
    "user_blocks_xml": "<xml xmlns=\"https://developers.google.com/blockly/xml\"><variables><variable id=\"+yh,Zg{hON]zy6D~.rH#\">px</variable><variable id=\"Y+grzOaS*0=OHV6zO8m/\">dataframe</variable></variables><block type=\"varDoMethod\" id=\"#Tiud2f{UIkXM/h4;AmX\" x=\"0\" y=\"0\"><mutation items=\"2\"></mutation><field name=\"VAR\" id=\"+yh,Zg{hON]zy6D~.rH#\">px</field><field name=\"MEMBER\">histogram</field><data>px:histogram</data><value name=\"ADD0\"><block type=\"variables_get\" id=\")gY)bM`$Mtsdq-Pdit#N\"><field name=\"VAR\" id=\"Y+grzOaS*0=OHV6zO8m/\">dataframe</field></block></value><value name=\"ADD1\"><block type=\"dummyOutputCodeBlock\" id=\"PI-[,1QmMDguHkVLv_Sc\"><field name=\"CODE\">x=\"medv\"</field></block></value></block></xml>",
    "user_code_from_blocks": "px.histogram(dataframe,x=\"medv\")\n"
   },
   "outputs": [
    {
     "data": {
      "application/vnd.plotly.v1+json": {
       "config": {
        "plotlyServerURL": "https://plot.ly"
       },
       "data": [
        {
         "bingroup": "x",
         "hovertemplate": "medv=%{x}<br>count=%{y}<extra></extra>",
         "legendgroup": "",
         "marker": {
          "color": "#636efa",
          "pattern": {
           "shape": ""
          }
         },
         "name": "",
         "orientation": "v",
         "showlegend": false,
         "type": "histogram",
         "x": {
          "bdata": "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",
          "dtype": "f8"
         },
         "xaxis": "x",
         "yaxis": "y"
        }
       ],
       "layout": {
        "barmode": "relative",
        "legend": {
         "tracegroupgap": 0
        },
        "margin": {
         "t": 60
        },
        "template": {
         "data": {
          "bar": [
           {
            "error_x": {
             "color": "#2a3f5f"
            },
            "error_y": {
             "color": "#2a3f5f"
            },
            "marker": {
             "line": {
              "color": "#E5ECF6",
              "width": 0.5
             },
             "pattern": {
              "fillmode": "overlay",
              "size": 10,
              "solidity": 0.2
             }
            },
            "type": "bar"
           }
          ],
          "barpolar": [
           {
            "marker": {
             "line": {
              "color": "#E5ECF6",
              "width": 0.5
             },
             "pattern": {
              "fillmode": "overlay",
              "size": 10,
              "solidity": 0.2
             }
            },
            "type": "barpolar"
           }
          ],
          "carpet": [
           {
            "aaxis": {
             "endlinecolor": "#2a3f5f",
             "gridcolor": "white",
             "linecolor": "white",
             "minorgridcolor": "white",
             "startlinecolor": "#2a3f5f"
            },
            "baxis": {
             "endlinecolor": "#2a3f5f",
             "gridcolor": "white",
             "linecolor": "white",
             "minorgridcolor": "white",
             "startlinecolor": "#2a3f5f"
            },
            "type": "carpet"
           }
          ],
          "choropleth": [
           {
            "colorbar": {
             "outlinewidth": 0,
             "ticks": ""
            },
            "type": "choropleth"
           }
          ],
          "contour": [
           {
            "colorbar": {
             "outlinewidth": 0,
             "ticks": ""
            },
            "colorscale": [
             [
              0,
              "#0d0887"
             ],
             [
              0.1111111111111111,
              "#46039f"
             ],
             [
              0.2222222222222222,
              "#7201a8"
             ],
             [
              0.3333333333333333,
              "#9c179e"
             ],
             [
              0.4444444444444444,
              "#bd3786"
             ],
             [
              0.5555555555555556,
              "#d8576b"
             ],
             [
              0.6666666666666666,
              "#ed7953"
             ],
             [
              0.7777777777777778,
              "#fb9f3a"
             ],
             [
              0.8888888888888888,
              "#fdca26"
             ],
             [
              1,
              "#f0f921"
             ]
            ],
            "type": "contour"
           }
          ],
          "contourcarpet": [
           {
            "colorbar": {
             "outlinewidth": 0,
             "ticks": ""
            },
            "type": "contourcarpet"
           }
          ],
          "heatmap": [
           {
            "colorbar": {
             "outlinewidth": 0,
             "ticks": ""
            },
            "colorscale": [
             [
              0,
              "#0d0887"
             ],
             [
              0.1111111111111111,
              "#46039f"
             ],
             [
              0.2222222222222222,
              "#7201a8"
             ],
             [
              0.3333333333333333,
              "#9c179e"
             ],
             [
              0.4444444444444444,
              "#bd3786"
             ],
             [
              0.5555555555555556,
              "#d8576b"
             ],
             [
              0.6666666666666666,
              "#ed7953"
             ],
             [
              0.7777777777777778,
              "#fb9f3a"
             ],
             [
              0.8888888888888888,
              "#fdca26"
             ],
             [
              1,
              "#f0f921"
             ]
            ],
            "type": "heatmap"
           }
          ],
          "histogram": [
           {
            "marker": {
             "pattern": {
              "fillmode": "overlay",
              "size": 10,
              "solidity": 0.2
             }
            },
            "type": "histogram"
           }
          ],
          "histogram2d": [
           {
            "colorbar": {
             "outlinewidth": 0,
             "ticks": ""
            },
            "colorscale": [
             [
              0,
              "#0d0887"
             ],
             [
              0.1111111111111111,
              "#46039f"
             ],
             [
              0.2222222222222222,
              "#7201a8"
             ],
             [
              0.3333333333333333,
              "#9c179e"
             ],
             [
              0.4444444444444444,
              "#bd3786"
             ],
             [
              0.5555555555555556,
              "#d8576b"
             ],
             [
              0.6666666666666666,
              "#ed7953"
             ],
             [
              0.7777777777777778,
              "#fb9f3a"
             ],
             [
              0.8888888888888888,
              "#fdca26"
             ],
             [
              1,
              "#f0f921"
             ]
            ],
            "type": "histogram2d"
           }
          ],
          "histogram2dcontour": [
           {
            "colorbar": {
             "outlinewidth": 0,
             "ticks": ""
            },
            "colorscale": [
             [
              0,
              "#0d0887"
             ],
             [
              0.1111111111111111,
              "#46039f"
             ],
             [
              0.2222222222222222,
              "#7201a8"
             ],
             [
              0.3333333333333333,
              "#9c179e"
             ],
             [
              0.4444444444444444,
              "#bd3786"
             ],
             [
              0.5555555555555556,
              "#d8576b"
             ],
             [
              0.6666666666666666,
              "#ed7953"
             ],
             [
              0.7777777777777778,
              "#fb9f3a"
             ],
             [
              0.8888888888888888,
              "#fdca26"
             ],
             [
              1,
              "#f0f921"
             ]
            ],
            "type": "histogram2dcontour"
           }
          ],
          "mesh3d": [
           {
            "colorbar": {
             "outlinewidth": 0,
             "ticks": ""
            },
            "type": "mesh3d"
           }
          ],
          "parcoords": [
           {
            "line": {
             "colorbar": {
              "outlinewidth": 0,
              "ticks": ""
             }
            },
            "type": "parcoords"
           }
          ],
          "pie": [
           {
            "automargin": true,
            "type": "pie"
           }
          ],
          "scatter": [
           {
            "fillpattern": {
             "fillmode": "overlay",
             "size": 10,
             "solidity": 0.2
            },
            "type": "scatter"
           }
          ],
          "scatter3d": [
           {
            "line": {
             "colorbar": {
              "outlinewidth": 0,
              "ticks": ""
             }
            },
            "marker": {
             "colorbar": {
              "outlinewidth": 0,
              "ticks": ""
             }
            },
            "type": "scatter3d"
           }
          ],
          "scattercarpet": [
           {
            "marker": {
             "colorbar": {
              "outlinewidth": 0,
              "ticks": ""
             }
            },
            "type": "scattercarpet"
           }
          ],
          "scattergeo": [
           {
            "marker": {
             "colorbar": {
              "outlinewidth": 0,
              "ticks": ""
             }
            },
            "type": "scattergeo"
           }
          ],
          "scattergl": [
           {
            "marker": {
             "colorbar": {
              "outlinewidth": 0,
              "ticks": ""
             }
            },
            "type": "scattergl"
           }
          ],
          "scattermap": [
           {
            "marker": {
             "colorbar": {
              "outlinewidth": 0,
              "ticks": ""
             }
            },
            "type": "scattermap"
           }
          ],
          "scattermapbox": [
           {
            "marker": {
             "colorbar": {
              "outlinewidth": 0,
              "ticks": ""
             }
            },
            "type": "scattermapbox"
           }
          ],
          "scatterpolar": [
           {
            "marker": {
             "colorbar": {
              "outlinewidth": 0,
              "ticks": ""
             }
            },
            "type": "scatterpolar"
           }
          ],
          "scatterpolargl": [
           {
            "marker": {
             "colorbar": {
              "outlinewidth": 0,
              "ticks": ""
             }
            },
            "type": "scatterpolargl"
           }
          ],
          "scatterternary": [
           {
            "marker": {
             "colorbar": {
              "outlinewidth": 0,
              "ticks": ""
             }
            },
            "type": "scatterternary"
           }
          ],
          "surface": [
           {
            "colorbar": {
             "outlinewidth": 0,
             "ticks": ""
            },
            "colorscale": [
             [
              0,
              "#0d0887"
             ],
             [
              0.1111111111111111,
              "#46039f"
             ],
             [
              0.2222222222222222,
              "#7201a8"
             ],
             [
              0.3333333333333333,
              "#9c179e"
             ],
             [
              0.4444444444444444,
              "#bd3786"
             ],
             [
              0.5555555555555556,
              "#d8576b"
             ],
             [
              0.6666666666666666,
              "#ed7953"
             ],
             [
              0.7777777777777778,
              "#fb9f3a"
             ],
             [
              0.8888888888888888,
              "#fdca26"
             ],
             [
              1,
              "#f0f921"
             ]
            ],
            "type": "surface"
           }
          ],
          "table": [
           {
            "cells": {
             "fill": {
              "color": "#EBF0F8"
             },
             "line": {
              "color": "white"
             }
            },
            "header": {
             "fill": {
              "color": "#C8D4E3"
             },
             "line": {
              "color": "white"
             }
            },
            "type": "table"
           }
          ]
         },
         "layout": {
          "annotationdefaults": {
           "arrowcolor": "#2a3f5f",
           "arrowhead": 0,
           "arrowwidth": 1
          },
          "autotypenumbers": "strict",
          "coloraxis": {
           "colorbar": {
            "outlinewidth": 0,
            "ticks": ""
           }
          },
          "colorscale": {
           "diverging": [
            [
             0,
             "#8e0152"
            ],
            [
             0.1,
             "#c51b7d"
            ],
            [
             0.2,
             "#de77ae"
            ],
            [
             0.3,
             "#f1b6da"
            ],
            [
             0.4,
             "#fde0ef"
            ],
            [
             0.5,
             "#f7f7f7"
            ],
            [
             0.6,
             "#e6f5d0"
            ],
            [
             0.7,
             "#b8e186"
            ],
            [
             0.8,
             "#7fbc41"
            ],
            [
             0.9,
             "#4d9221"
            ],
            [
             1,
             "#276419"
            ]
           ],
           "sequential": [
            [
             0,
             "#0d0887"
            ],
            [
             0.1111111111111111,
             "#46039f"
            ],
            [
             0.2222222222222222,
             "#7201a8"
            ],
            [
             0.3333333333333333,
             "#9c179e"
            ],
            [
             0.4444444444444444,
             "#bd3786"
            ],
            [
             0.5555555555555556,
             "#d8576b"
            ],
            [
             0.6666666666666666,
             "#ed7953"
            ],
            [
             0.7777777777777778,
             "#fb9f3a"
            ],
            [
             0.8888888888888888,
             "#fdca26"
            ],
            [
             1,
             "#f0f921"
            ]
           ],
           "sequentialminus": [
            [
             0,
             "#0d0887"
            ],
            [
             0.1111111111111111,
             "#46039f"
            ],
            [
             0.2222222222222222,
             "#7201a8"
            ],
            [
             0.3333333333333333,
             "#9c179e"
            ],
            [
             0.4444444444444444,
             "#bd3786"
            ],
            [
             0.5555555555555556,
             "#d8576b"
            ],
            [
             0.6666666666666666,
             "#ed7953"
            ],
            [
             0.7777777777777778,
             "#fb9f3a"
            ],
            [
             0.8888888888888888,
             "#fdca26"
            ],
            [
             1,
             "#f0f921"
            ]
           ]
          },
          "colorway": [
           "#636efa",
           "#EF553B",
           "#00cc96",
           "#ab63fa",
           "#FFA15A",
           "#19d3f3",
           "#FF6692",
           "#B6E880",
           "#FF97FF",
           "#FECB52"
          ],
          "font": {
           "color": "#2a3f5f"
          },
          "geo": {
           "bgcolor": "white",
           "lakecolor": "white",
           "landcolor": "#E5ECF6",
           "showlakes": true,
           "showland": true,
           "subunitcolor": "white"
          },
          "hoverlabel": {
           "align": "left"
          },
          "hovermode": "closest",
          "mapbox": {
           "style": "light"
          },
          "paper_bgcolor": "white",
          "plot_bgcolor": "#E5ECF6",
          "polar": {
           "angularaxis": {
            "gridcolor": "white",
            "linecolor": "white",
            "ticks": ""
           },
           "bgcolor": "#E5ECF6",
           "radialaxis": {
            "gridcolor": "white",
            "linecolor": "white",
            "ticks": ""
           }
          },
          "scene": {
           "xaxis": {
            "backgroundcolor": "#E5ECF6",
            "gridcolor": "white",
            "gridwidth": 2,
            "linecolor": "white",
            "showbackground": true,
            "ticks": "",
            "zerolinecolor": "white"
           },
           "yaxis": {
            "backgroundcolor": "#E5ECF6",
            "gridcolor": "white",
            "gridwidth": 2,
            "linecolor": "white",
            "showbackground": true,
            "ticks": "",
            "zerolinecolor": "white"
           },
           "zaxis": {
            "backgroundcolor": "#E5ECF6",
            "gridcolor": "white",
            "gridwidth": 2,
            "linecolor": "white",
            "showbackground": true,
            "ticks": "",
            "zerolinecolor": "white"
           }
          },
          "shapedefaults": {
           "line": {
            "color": "#2a3f5f"
           }
          },
          "ternary": {
           "aaxis": {
            "gridcolor": "white",
            "linecolor": "white",
            "ticks": ""
           },
           "baxis": {
            "gridcolor": "white",
            "linecolor": "white",
            "ticks": ""
           },
           "bgcolor": "#E5ECF6",
           "caxis": {
            "gridcolor": "white",
            "linecolor": "white",
            "ticks": ""
           }
          },
          "title": {
           "x": 0.05
          },
          "xaxis": {
           "automargin": true,
           "gridcolor": "white",
           "linecolor": "white",
           "ticks": "",
           "title": {
            "standoff": 15
           },
           "zerolinecolor": "white",
           "zerolinewidth": 2
          },
          "yaxis": {
           "automargin": true,
           "gridcolor": "white",
           "linecolor": "white",
           "ticks": "",
           "title": {
            "standoff": 15
           },
           "zerolinecolor": "white",
           "zerolinewidth": 2
          }
         }
        },
        "xaxis": {
         "anchor": "y",
         "domain": [
          0,
          1
         ],
         "title": {
          "text": "medv"
         }
        },
        "yaxis": {
         "anchor": "x",
         "domain": [
          0,
          1
         ],
         "title": {
          "text": "count"
         }
        }
       }
      },
      "image/png": "[encoded data removed]"
     },
     "metadata": {},
     "output_type": "display_data"
    }
   ],
   "source": [
    "px.histogram(dataframe,x=\"medv\")\n",
    "\n",
    "#<xml xmlns=\"https://developers.google.com/blockly/xml\"><variables><variable id=\"+yh,Zg{hON]zy6D~.rH#\">px</variable><variable id=\"Y+grzOaS*0=OHV6zO8m/\">dataframe</variable></variables><block type=\"varDoMethod\" id=\"#Tiud2f{UIkXM/h4;AmX\" x=\"0\" y=\"0\"><mutation items=\"2\"></mutation><field name=\"VAR\" id=\"+yh,Zg{hON]zy6D~.rH#\">px</field><field name=\"MEMBER\">histogram</field><data>px:histogram</data><value name=\"ADD0\"><block type=\"variables_get\" id=\")gY)bM`$Mtsdq-Pdit#N\"><field name=\"VAR\" id=\"Y+grzOaS*0=OHV6zO8m/\">dataframe</field></block></value><value name=\"ADD1\"><block type=\"dummyOutputCodeBlock\" id=\"PI-[,1QmMDguHkVLv_Sc\"><field name=\"CODE\">x=\"medv\"</field></block></value></block></xml>"
   ]
  },
  {
   "cell_type": "markdown",
   "metadata": {},
   "source": [
    "------------------\n",
    "**QUESTION:**\n",
    "\n",
    "Do you think we need to transform `medv` to make it more normal? Why or why not?"
   ]
  },
  {
   "cell_type": "markdown",
   "metadata": {},
   "source": [
    "**ANSWER: (click here to edit)**\n",
    "\n",
    "*It's pretty much bell shaped now, so I wouldn't.\n",
    "However, I would note the spike at the high end of the scale.\n",
    "Potentially those datapoints, as outliers, could skew model predictions in that direction.*\n",
    "<hr>"
   ]
  },
  {
   "cell_type": "markdown",
   "metadata": {},
   "source": [
    "## Prepare train/test sets\n",
    "\n",
    "If we were just using bagging or random forests, we could use OOB performance instead of splitting the data into training and testing sets.\n",
    "\n",
    "However, splitting is necessary if we want to compare to regression trees.\n",
    "\n",
    "Start by dropping the response variable, `medv` to make a new dataframe called `X`.\n",
    "\n",
    "Save a dataframe with just `medv` in `Y`. "
   ]
  },
  {
   "cell_type": "code",
   "execution_count": 9,
   "metadata": {
    "user_blocks": [
     "variables_set",
     "varDoMethod",
     "dummyOutputCodeBlock",
     "variables_set",
     "indexer",
     "lists_create_with",
     "text"
    ],
    "user_blocks_xml": "<xml xmlns=\"https://developers.google.com/blockly/xml\"><variables><variable id=\"_z/H/tTnOYS1Lla2~;*0\">X</variable><variable id=\"o8#tp%!,_Okj2aVwX(DL\">Y</variable><variable id=\"Y+grzOaS*0=OHV6zO8m/\">dataframe</variable></variables><block type=\"variables_set\" id=\"M9g^9:hbZQ0Cb9jKq9V6\" x=\"64\" y=\"111\"><field name=\"VAR\" id=\"_z/H/tTnOYS1Lla2~;*0\">X</field><value name=\"VALUE\"><block type=\"varDoMethod\" id=\"k7t38%eJz)@=B8{vW^(u\"><mutation items=\"1\"></mutation><field name=\"VAR\" id=\"Y+grzOaS*0=OHV6zO8m/\">dataframe</field><field name=\"MEMBER\">drop</field><data>dataframe:drop</data><value name=\"ADD0\"><block type=\"dummyOutputCodeBlock\" id=\"fk{P(H^@/_!^1+tw-Hi*\"><field name=\"CODE\">columns=[\"medv\"]</field></block></value></block></value></block><block type=\"variables_set\" id=\"AfS6+vO/i%7i^LvFLvFa\" x=\"76\" y=\"214\"><field name=\"VAR\" id=\"o8#tp%!,_Okj2aVwX(DL\">Y</field><value name=\"VALUE\"><block type=\"indexer\" id=\"TL#b!#{[zvX*;C.Hv/0I\"><field name=\"VAR\" id=\"Y+grzOaS*0=OHV6zO8m/\">dataframe</field><value name=\"INDEX\"><block type=\"lists_create_with\" id=\"x3z0}lY0DE*JB:y/OH|M\"><mutation items=\"1\"></mutation><value name=\"ADD0\"><block type=\"text\" id=\"O2`:Q-pVIpQx2m6U6ly]\"><field name=\"TEXT\">medv</field></block></value></block></value></block></value></block></xml>",
    "user_code_from_blocks": "X = dataframe.drop(columns=[\"medv\"])\n\nY = dataframe[['medv']]\n"
   },
   "outputs": [],
   "source": [
    "X = dataframe.drop(columns=[\"medv\"])\n",
    "\n",
    "Y = dataframe[['medv']]\n",
    "\n",
    "#<xml xmlns=\"https://developers.google.com/blockly/xml\"><variables><variable id=\"_z/H/tTnOYS1Lla2~;*0\">X</variable><variable id=\"o8#tp%!,_Okj2aVwX(DL\">Y</variable><variable id=\"Y+grzOaS*0=OHV6zO8m/\">dataframe</variable></variables><block type=\"variables_set\" id=\"M9g^9:hbZQ0Cb9jKq9V6\" x=\"64\" y=\"111\"><field name=\"VAR\" id=\"_z/H/tTnOYS1Lla2~;*0\">X</field><value name=\"VALUE\"><block type=\"varDoMethod\" id=\"k7t38%eJz)@=B8{vW^(u\"><mutation items=\"1\"></mutation><field name=\"VAR\" id=\"Y+grzOaS*0=OHV6zO8m/\">dataframe</field><field name=\"MEMBER\">drop</field><data>dataframe:drop</data><value name=\"ADD0\"><block type=\"dummyOutputCodeBlock\" id=\"fk{P(H^@/_!^1+tw-Hi*\"><field name=\"CODE\">columns=[\"medv\"]</field></block></value></block></value></block><block type=\"variables_set\" id=\"AfS6+vO/i%7i^LvFLvFa\" x=\"76\" y=\"214\"><field name=\"VAR\" id=\"o8#tp%!,_Okj2aVwX(DL\">Y</field><value name=\"VALUE\"><block type=\"indexer\" id=\"TL#b!#{[zvX*;C.Hv/0I\"><field name=\"VAR\" id=\"Y+grzOaS*0=OHV6zO8m/\">dataframe</field><value name=\"INDEX\"><block type=\"lists_create_with\" id=\"x3z0}lY0DE*JB:y/OH|M\"><mutation items=\"1\"></mutation><value name=\"ADD0\"><block type=\"text\" id=\"O2`:Q-pVIpQx2m6U6ly]\"><field name=\"TEXT\">medv</field></block></value></block></value></block></value></block></xml>"
   ]
  },
  {
   "cell_type": "markdown",
   "metadata": {},
   "source": [
    "Import `sklearn.model_selection` to split the data into train/test sets."
   ]
  },
  {
   "cell_type": "code",
   "execution_count": 10,
   "metadata": {
    "user_blocks": [
     "importAs"
    ],
    "user_blocks_xml": "<xml xmlns=\"https://developers.google.com/blockly/xml\"><variables><variable id=\"-q~R*yx.VGQ@%!0Q+!gh\">model_selection</variable></variables><block type=\"importAs\" id=\"E{QJ$O@lc8u.;OTWdVgf\" x=\"-89\" y=\"168\"><field name=\"libraryName\">sklearn.model_selection</field><field name=\"VAR\" id=\"-q~R*yx.VGQ@%!0Q+!gh\">model_selection</field></block></xml>",
    "user_code_from_blocks": "import sklearn.model_selection as model_selection\n"
   },
   "outputs": [],
   "source": [
    "import sklearn.model_selection as model_selection\n",
    "\n",
    "#<xml xmlns=\"https://developers.google.com/blockly/xml\"><variables><variable id=\"-q~R*yx.VGQ@%!0Q+!gh\">model_selection</variable></variables><block type=\"importAs\" id=\"E{QJ$O@lc8u.;OTWdVgf\" x=\"-89\" y=\"168\"><field name=\"libraryName\">sklearn.model_selection</field><field name=\"VAR\" id=\"-q~R*yx.VGQ@%!0Q+!gh\">model_selection</field></block></xml>"
   ]
  },
  {
   "cell_type": "markdown",
   "metadata": {},
   "source": [
    "And do the actual split."
   ]
  },
  {
   "cell_type": "code",
   "execution_count": 11,
   "metadata": {
    "user_blocks": [
     "variables_set",
     "varDoMethod",
     "variables_get",
     "variables_get",
     "dummyOutputCodeBlock"
    ],
    "user_blocks_xml": "<xml xmlns=\"https://developers.google.com/blockly/xml\"><variables><variable id=\"{Yt*9=2tTC$JepE9BcRz\">splits</variable><variable id=\"-q~R*yx.VGQ@%!0Q+!gh\">model_selection</variable><variable id=\"_z/H/tTnOYS1Lla2~;*0\">X</variable><variable id=\"o8#tp%!,_Okj2aVwX(DL\">Y</variable></variables><block type=\"variables_set\" id=\"HpD!.HSC`PPRg]21i*7c\" x=\"26\" y=\"81\"><field name=\"VAR\" id=\"{Yt*9=2tTC$JepE9BcRz\">splits</field><value name=\"VALUE\"><block type=\"varDoMethod\" id=\"fUetl3$Ak=SI~T6T5!6c\"><mutation items=\"3\"></mutation><field name=\"VAR\" id=\"-q~R*yx.VGQ@%!0Q+!gh\">model_selection</field><field name=\"MEMBER\">train_test_split</field><data>model_selection:train_test_split</data><value name=\"ADD0\"><block type=\"variables_get\" id=\"jN^;NIVaV%22*W_^|!uK\"><field name=\"VAR\" id=\"_z/H/tTnOYS1Lla2~;*0\">X</field></block></value><value name=\"ADD1\"><block type=\"variables_get\" id=\"OOZSj;YDm{T6q%{~5?B1\"><field name=\"VAR\" id=\"o8#tp%!,_Okj2aVwX(DL\">Y</field></block></value><value name=\"ADD2\"><block type=\"dummyOutputCodeBlock\" id=\"Gg*^%q4qIJwc*of,V|rb\"><field name=\"CODE\">random_state=1</field></block></value></block></value></block></xml>",
    "user_code_from_blocks": "splits = model_selection.train_test_split(X,Y,random_state=1)\n"
   },
   "outputs": [],
   "source": [
    "splits = model_selection.train_test_split(X,Y,random_state=1)\n",
    "\n",
    "#<xml xmlns=\"https://developers.google.com/blockly/xml\"><variables><variable id=\"{Yt*9=2tTC$JepE9BcRz\">splits</variable><variable id=\"-q~R*yx.VGQ@%!0Q+!gh\">model_selection</variable><variable id=\"_z/H/tTnOYS1Lla2~;*0\">X</variable><variable id=\"o8#tp%!,_Okj2aVwX(DL\">Y</variable></variables><block type=\"variables_set\" id=\"HpD!.HSC`PPRg]21i*7c\" x=\"26\" y=\"81\"><field name=\"VAR\" id=\"{Yt*9=2tTC$JepE9BcRz\">splits</field><value name=\"VALUE\"><block type=\"varDoMethod\" id=\"fUetl3$Ak=SI~T6T5!6c\"><mutation items=\"3\"></mutation><field name=\"VAR\" id=\"-q~R*yx.VGQ@%!0Q+!gh\">model_selection</field><field name=\"MEMBER\">train_test_split</field><data>model_selection:train_test_split</data><value name=\"ADD0\"><block type=\"variables_get\" id=\"jN^;NIVaV%22*W_^|!uK\"><field name=\"VAR\" id=\"_z/H/tTnOYS1Lla2~;*0\">X</field></block></value><value name=\"ADD1\"><block type=\"variables_get\" id=\"OOZSj;YDm{T6q%{~5?B1\"><field name=\"VAR\" id=\"o8#tp%!,_Okj2aVwX(DL\">Y</field></block></value><value name=\"ADD2\"><block type=\"dummyOutputCodeBlock\" id=\"Gg*^%q4qIJwc*of,V|rb\"><field name=\"CODE\">random_state=1</field></block></value></block></value></block></xml>"
   ]
  },
  {
   "cell_type": "markdown",
   "metadata": {},
   "source": [
    "## Fit models\n",
    "\n",
    "Fit three models in turn:\n",
    "\n",
    "- Regression tree\n",
    "- Bagged regression tree\n",
    "- Random forest regression tree\n",
    "\n",
    "Import the `sklearn.tree` and `sklearn.ensemble` libraries."
   ]
  },
  {
   "cell_type": "code",
   "execution_count": 12,
   "metadata": {
    "user_blocks": [
     "importAs",
     "importAs"
    ],
    "user_blocks_xml": "<xml xmlns=\"https://developers.google.com/blockly/xml\"><variables><variable id=\"tkeU~z;dQ]^6[?rbF?)9\">tree</variable><variable id=\"YrOLY99XD^WJhuTK)IFx\">ensemble</variable></variables><block type=\"importAs\" id=\"B:2{AB~*s},^$L!3{LPk\" x=\"69\" y=\"73\"><field name=\"libraryName\">sklearn.tree</field><field name=\"VAR\" id=\"tkeU~z;dQ]^6[?rbF?)9\">tree</field><next><block type=\"importAs\" id=\"aH_~S~W~@4D,8tXvn_s6\"><field name=\"libraryName\">sklearn.ensemble</field><field name=\"VAR\" id=\"YrOLY99XD^WJhuTK)IFx\">ensemble</field></block></next></block></xml>",
    "user_code_from_blocks": "import sklearn.tree as tree\nimport sklearn.ensemble as ensemble\n"
   },
   "outputs": [],
   "source": [
    "import sklearn.tree as tree\n",
    "import sklearn.ensemble as ensemble\n",
    "\n",
    "#<xml xmlns=\"https://developers.google.com/blockly/xml\"><variables><variable id=\"tkeU~z;dQ]^6[?rbF?)9\">tree</variable><variable id=\"YrOLY99XD^WJhuTK)IFx\">ensemble</variable></variables><block type=\"importAs\" id=\"B:2{AB~*s},^$L!3{LPk\" x=\"69\" y=\"73\"><field name=\"libraryName\">sklearn.tree</field><field name=\"VAR\" id=\"tkeU~z;dQ]^6[?rbF?)9\">tree</field><next><block type=\"importAs\" id=\"aH_~S~W~@4D,8tXvn_s6\"><field name=\"libraryName\">sklearn.ensemble</field><field name=\"VAR\" id=\"YrOLY99XD^WJhuTK)IFx\">ensemble</field></block></next></block></xml>"
   ]
  },
  {
   "cell_type": "markdown",
   "metadata": {},
   "source": [
    "### Regression tree\n",
    "\n",
    "Create the regression tree model.\n",
    "Go ahead and create it with a freestyle `random_state=1` so we all get the same results."
   ]
  },
  {
   "cell_type": "code",
   "execution_count": 13,
   "metadata": {
    "user_blocks": [
     "variables_set",
     "varCreateObject",
     "dummyOutputCodeBlock"
    ],
    "user_blocks_xml": "<xml xmlns=\"https://developers.google.com/blockly/xml\"><variables><variable id=\"dE3=o8T5`CCHo%,m,2(A\">regressionTree</variable><variable id=\"tkeU~z;dQ]^6[?rbF?)9\">tree</variable></variables><block type=\"variables_set\" id=\"zW~dc)uX.9yIdvHf.vvz\" x=\"1\" y=\"178\"><field name=\"VAR\" id=\"dE3=o8T5`CCHo%,m,2(A\">regressionTree</field><value name=\"VALUE\"><block type=\"varCreateObject\" id=\"0I6gCe=.wV.oI1[UHnIf\"><mutation items=\"1\"></mutation><field name=\"VAR\" id=\"tkeU~z;dQ]^6[?rbF?)9\">tree</field><field name=\"MEMBER\">DecisionTreeRegressor</field><data>tree:DecisionTreeRegressor</data><value name=\"ADD0\"><block type=\"dummyOutputCodeBlock\" id=\"!`-E%6XkL$v~(l2o|@vx\"><field name=\"CODE\">random_state=1</field></block></value></block></value></block></xml>",
    "user_code_from_blocks": "regressionTree = tree.DecisionTreeRegressor(random_state=1)\n"
   },
   "outputs": [],
   "source": [
    "regressionTree = tree.DecisionTreeRegressor(random_state=1)\n",
    "\n",
    "#<xml xmlns=\"https://developers.google.com/blockly/xml\"><variables><variable id=\"dE3=o8T5`CCHo%,m,2(A\">regressionTree</variable><variable id=\"tkeU~z;dQ]^6[?rbF?)9\">tree</variable></variables><block type=\"variables_set\" id=\"zW~dc)uX.9yIdvHf.vvz\" x=\"1\" y=\"178\"><field name=\"VAR\" id=\"dE3=o8T5`CCHo%,m,2(A\">regressionTree</field><value name=\"VALUE\"><block type=\"varCreateObject\" id=\"0I6gCe=.wV.oI1[UHnIf\"><mutation items=\"1\"></mutation><field name=\"VAR\" id=\"tkeU~z;dQ]^6[?rbF?)9\">tree</field><field name=\"MEMBER\">DecisionTreeRegressor</field><data>tree:DecisionTreeRegressor</data><value name=\"ADD0\"><block type=\"dummyOutputCodeBlock\" id=\"!`-E%6XkL$v~(l2o|@vx\"><field name=\"CODE\">random_state=1</field></block></value></block></value></block></xml>"
   ]
  },
  {
   "cell_type": "markdown",
   "metadata": {},
   "source": [
    "Fit the regression tree model and get predictions."
   ]
  },
  {
   "cell_type": "code",
   "execution_count": 14,
   "metadata": {
    "user_blocks": [
     "varDoMethod",
     "lists_getIndex",
     "variables_get",
     "math_number",
     "lists_getIndex",
     "variables_get",
     "math_number",
     "variables_set",
     "varDoMethod",
     "lists_getIndex",
     "variables_get",
     "math_number"
    ],
    "user_blocks_xml": "<xml xmlns=\"https://developers.google.com/blockly/xml\"><variables><variable id=\"dE3=o8T5`CCHo%,m,2(A\">regressionTree</variable><variable id=\"v4b`=H5!0=v2ZUg#rwdc\">predictionsRegressionTree</variable><variable id=\"{Yt*9=2tTC$JepE9BcRz\">splits</variable></variables><block type=\"varDoMethod\" id=\"-@fm,911cJiCu@jkys%R\" x=\"15\" y=\"36\"><mutation items=\"2\"></mutation><field name=\"VAR\" id=\"dE3=o8T5`CCHo%,m,2(A\">regressionTree</field><field name=\"MEMBER\">fit</field><data>regressionTree:fit</data><value name=\"ADD0\"><block type=\"lists_getIndex\" id=\"W~.ZU([-)(,-i3=bTsB|\"><mutation statement=\"false\" at=\"true\"></mutation><field name=\"MODE\">GET</field><field name=\"WHERE\">FROM_START</field><value name=\"VALUE\"><block type=\"variables_get\" id=\"GIJn[jpD_~wa}#7IO!1K\"><field name=\"VAR\" id=\"{Yt*9=2tTC$JepE9BcRz\">splits</field></block></value><value name=\"AT\"><block type=\"math_number\" id=\"Rh[;nrMLN$[cFFsZC~T|\"><field name=\"NUM\">1</field></block></value></block></value><value name=\"ADD1\"><block type=\"lists_getIndex\" id=\"YkCD57xF*SSN3[`_op{u\"><mutation statement=\"false\" at=\"true\"></mutation><field name=\"MODE\">GET</field><field name=\"WHERE\">FROM_START</field><value name=\"VALUE\"><block type=\"variables_get\" id=\"M@?wn}aoHxJYan0=AE3$\"><field name=\"VAR\" id=\"{Yt*9=2tTC$JepE9BcRz\">splits</field></block></value><value name=\"AT\"><block type=\"math_number\" id=\"jNUa2BdXPG?H8|.br*@e\"><field name=\"NUM\">3</field></block></value></block></value></block><block type=\"variables_set\" id=\"hYTHG6w/4_XrC:bR/Tg6\" x=\"-12\" y=\"253\"><field name=\"VAR\" id=\"v4b`=H5!0=v2ZUg#rwdc\">predictionsRegressionTree</field><value name=\"VALUE\"><block type=\"varDoMethod\" id=\"6wcPa{b$~7!fP,(9Haqr\"><mutation items=\"1\"></mutation><field name=\"VAR\" id=\"dE3=o8T5`CCHo%,m,2(A\">regressionTree</field><field name=\"MEMBER\">predict</field><data>regressionTree:predict</data><value name=\"ADD0\"><block type=\"lists_getIndex\" id=\"(b.Ja7F_dbv:extS3!R#\"><mutation statement=\"false\" at=\"true\"></mutation><field name=\"MODE\">GET</field><field name=\"WHERE\">FROM_START</field><value name=\"VALUE\"><block type=\"variables_get\" id=\"]z^sd:]CSl!6.?CCL.94\"><field name=\"VAR\" id=\"{Yt*9=2tTC$JepE9BcRz\">splits</field></block></value><value name=\"AT\"><block type=\"math_number\" id=\"#`:Dto*gHNUBL~{WuQz?\"><field name=\"NUM\">2</field></block></value></block></value></block></value></block></xml>",
    "user_code_from_blocks": "regressionTree.fit(splits[0],splits[2])\n\npredictionsRegressionTree = regressionTree.predict(splits[1])\n"
   },
   "outputs": [],
   "source": [
    "regressionTree.fit(splits[0],splits[2])\n",
    "\n",
    "predictionsRegressionTree = regressionTree.predict(splits[1])\n",
    "\n",
    "#<xml xmlns=\"https://developers.google.com/blockly/xml\"><variables><variable id=\"dE3=o8T5`CCHo%,m,2(A\">regressionTree</variable><variable id=\"v4b`=H5!0=v2ZUg#rwdc\">predictionsRegressionTree</variable><variable id=\"{Yt*9=2tTC$JepE9BcRz\">splits</variable></variables><block type=\"varDoMethod\" id=\"-@fm,911cJiCu@jkys%R\" x=\"15\" y=\"36\"><mutation items=\"2\"></mutation><field name=\"VAR\" id=\"dE3=o8T5`CCHo%,m,2(A\">regressionTree</field><field name=\"MEMBER\">fit</field><data>regressionTree:fit</data><value name=\"ADD0\"><block type=\"lists_getIndex\" id=\"W~.ZU([-)(,-i3=bTsB|\"><mutation statement=\"false\" at=\"true\"></mutation><field name=\"MODE\">GET</field><field name=\"WHERE\">FROM_START</field><value name=\"VALUE\"><block type=\"variables_get\" id=\"GIJn[jpD_~wa}#7IO!1K\"><field name=\"VAR\" id=\"{Yt*9=2tTC$JepE9BcRz\">splits</field></block></value><value name=\"AT\"><block type=\"math_number\" id=\"Rh[;nrMLN$[cFFsZC~T|\"><field name=\"NUM\">1</field></block></value></block></value><value name=\"ADD1\"><block type=\"lists_getIndex\" id=\"YkCD57xF*SSN3[`_op{u\"><mutation statement=\"false\" at=\"true\"></mutation><field name=\"MODE\">GET</field><field name=\"WHERE\">FROM_START</field><value name=\"VALUE\"><block type=\"variables_get\" id=\"M@?wn}aoHxJYan0=AE3$\"><field name=\"VAR\" id=\"{Yt*9=2tTC$JepE9BcRz\">splits</field></block></value><value name=\"AT\"><block type=\"math_number\" id=\"jNUa2BdXPG?H8|.br*@e\"><field name=\"NUM\">3</field></block></value></block></value></block><block type=\"variables_set\" id=\"hYTHG6w/4_XrC:bR/Tg6\" x=\"-12\" y=\"253\"><field name=\"VAR\" id=\"v4b`=H5!0=v2ZUg#rwdc\">predictionsRegressionTree</field><value name=\"VALUE\"><block type=\"varDoMethod\" id=\"6wcPa{b$~7!fP,(9Haqr\"><mutation items=\"1\"></mutation><field name=\"VAR\" id=\"dE3=o8T5`CCHo%,m,2(A\">regressionTree</field><field name=\"MEMBER\">predict</field><data>regressionTree:predict</data><value name=\"ADD0\"><block type=\"lists_getIndex\" id=\"(b.Ja7F_dbv:extS3!R#\"><mutation statement=\"false\" at=\"true\"></mutation><field name=\"MODE\">GET</field><field name=\"WHERE\">FROM_START</field><value name=\"VALUE\"><block type=\"variables_get\" id=\"]z^sd:]CSl!6.?CCL.94\"><field name=\"VAR\" id=\"{Yt*9=2tTC$JepE9BcRz\">splits</field></block></value><value name=\"AT\"><block type=\"math_number\" id=\"#`:Dto*gHNUBL~{WuQz?\"><field name=\"NUM\">2</field></block></value></block></value></block></value></block></xml>"
   ]
  },
  {
   "cell_type": "markdown",
   "metadata": {},
   "source": [
    "### Bagged regression tree\n",
    "\n",
    "Next create the bagged regression tree model by using `BaggingRegressor`.\n",
    "Just as `BaggingClassifier` uses a decision tree by default, `BaggingRegressor` uses a regression tree by default.\n",
    "Use the same parameters as the random forest notebook (e.g. 100 trees, etc)."
   ]
  },
  {
   "cell_type": "code",
   "execution_count": 15,
   "metadata": {
    "user_blocks": [
     "variables_set",
     "varCreateObject",
     "dummyOutputCodeBlock",
     "dummyOutputCodeBlock",
     "dummyOutputCodeBlock",
     "dummyOutputCodeBlock"
    ],
    "user_blocks_xml": "<xml xmlns=\"https://developers.google.com/blockly/xml\"><variables><variable id=\"XuKv*{qNU92..^WV;EO*\">baggedRegressionTree</variable><variable id=\"YrOLY99XD^WJhuTK)IFx\">ensemble</variable></variables><block type=\"variables_set\" id=\"Fyby#Z6`$J{8yxJ#gF-6\" x=\"30\" y=\"140\"><field name=\"VAR\" id=\"XuKv*{qNU92..^WV;EO*\">baggedRegressionTree</field><value name=\"VALUE\"><block type=\"varCreateObject\" id=\"r3OQ@H/8b[IQZMW^g~*k\"><mutation items=\"4\"></mutation><field name=\"VAR\" id=\"YrOLY99XD^WJhuTK)IFx\">ensemble</field><field name=\"MEMBER\">BaggingRegressor</field><data>ensemble:BaggingRegressor</data><value name=\"ADD0\"><block type=\"dummyOutputCodeBlock\" id=\"1Ngu=B.6@#0XXY3Ee}pw\"><field name=\"CODE\">n_estimators=100</field></block></value><value name=\"ADD1\"><block type=\"dummyOutputCodeBlock\" id=\"u*E7?6w]CWy9HrFCCq!Z\"><field name=\"CODE\">max_samples=.3</field></block></value><value name=\"ADD2\"><block type=\"dummyOutputCodeBlock\" id=\"A{D~w8=/nI[ik_-n`@2y\"><field name=\"CODE\">oob_score=True</field></block></value><value name=\"ADD3\"><block type=\"dummyOutputCodeBlock\" id=\"x%*#E(klF:]smI~uzw!/\"><field name=\"CODE\">random_state=1</field></block></value></block></value></block></xml>",
    "user_code_from_blocks": "baggedRegressionTree = ensemble.BaggingRegressor(n_estimators=100,max_samples=.3,oob_score=True,random_state=1)\n"
   },
   "outputs": [],
   "source": [
    "baggedRegressionTree = ensemble.BaggingRegressor(n_estimators=100,max_samples=.3,oob_score=True,random_state=1)\n",
    "\n",
    "#<xml xmlns=\"https://developers.google.com/blockly/xml\"><variables><variable id=\"XuKv*{qNU92..^WV;EO*\">baggedRegressionTree</variable><variable id=\"YrOLY99XD^WJhuTK)IFx\">ensemble</variable></variables><block type=\"variables_set\" id=\"Fyby#Z6`$J{8yxJ#gF-6\" x=\"30\" y=\"140\"><field name=\"VAR\" id=\"XuKv*{qNU92..^WV;EO*\">baggedRegressionTree</field><value name=\"VALUE\"><block type=\"varCreateObject\" id=\"r3OQ@H/8b[IQZMW^g~*k\"><mutation items=\"4\"></mutation><field name=\"VAR\" id=\"YrOLY99XD^WJhuTK)IFx\">ensemble</field><field name=\"MEMBER\">BaggingRegressor</field><data>ensemble:BaggingRegressor</data><value name=\"ADD0\"><block type=\"dummyOutputCodeBlock\" id=\"1Ngu=B.6@#0XXY3Ee}pw\"><field name=\"CODE\">n_estimators=100</field></block></value><value name=\"ADD1\"><block type=\"dummyOutputCodeBlock\" id=\"u*E7?6w]CWy9HrFCCq!Z\"><field name=\"CODE\">max_samples=.3</field></block></value><value name=\"ADD2\"><block type=\"dummyOutputCodeBlock\" id=\"A{D~w8=/nI[ik_-n`@2y\"><field name=\"CODE\">oob_score=True</field></block></value><value name=\"ADD3\"><block type=\"dummyOutputCodeBlock\" id=\"x%*#E(klF:]smI~uzw!/\"><field name=\"CODE\">random_state=1</field></block></value></block></value></block></xml>"
   ]
  },
  {
   "cell_type": "markdown",
   "metadata": {},
   "source": [
    "Interestingly, for this model, `sklearn` requires us to use `ravel` on `Y` when fitting the model, so import `numpy`."
   ]
  },
  {
   "cell_type": "code",
   "execution_count": 16,
   "metadata": {
    "user_blocks": [
     "importAs"
    ],
    "user_blocks_xml": "<xml xmlns=\"https://developers.google.com/blockly/xml\"><variables><variable id=\"hxqH|@PJU~wrI]t*tHgd\">np</variable></variables><block type=\"importAs\" id=\"aJlH?2f)a*NvrcMcn@dA\" x=\"16\" y=\"10\"><field name=\"libraryName\">numpy</field><field name=\"VAR\" id=\"hxqH|@PJU~wrI]t*tHgd\">np</field></block></xml>",
    "user_code_from_blocks": "import numpy as np\n"
   },
   "outputs": [],
   "source": [
    "import numpy as np\n",
    "\n",
    "#<xml xmlns=\"https://developers.google.com/blockly/xml\"><variables><variable id=\"hxqH|@PJU~wrI]t*tHgd\">np</variable></variables><block type=\"importAs\" id=\"aJlH?2f)a*NvrcMcn@dA\" x=\"16\" y=\"10\"><field name=\"libraryName\">numpy</field><field name=\"VAR\" id=\"hxqH|@PJU~wrI]t*tHgd\">np</field></block></xml>"
   ]
  },
  {
   "cell_type": "markdown",
   "metadata": {},
   "source": [
    "Fit the bagged regression tree using `ravel` on `Y` and get predictions."
   ]
  },
  {
   "cell_type": "code",
   "execution_count": 17,
   "metadata": {
    "user_blocks": [
     "varDoMethod",
     "lists_getIndex",
     "variables_get",
     "math_number",
     "varDoMethod",
     "lists_getIndex",
     "variables_get",
     "math_number",
     "variables_set",
     "varDoMethod",
     "lists_getIndex",
     "variables_get",
     "math_number"
    ],
    "user_blocks_xml": "<xml xmlns=\"https://developers.google.com/blockly/xml\"><variables><variable id=\"XuKv*{qNU92..^WV;EO*\">baggedRegressionTree</variable><variable id=\"A$dO:gbBFcasm~tQ$WNX\">predictionsBaggedRegressionTree</variable><variable id=\"hxqH|@PJU~wrI]t*tHgd\">np</variable><variable id=\"{Yt*9=2tTC$JepE9BcRz\">splits</variable></variables><block type=\"varDoMethod\" id=\"-@fm,911cJiCu@jkys%R\" x=\"15\" y=\"36\"><mutation items=\"2\"></mutation><field name=\"VAR\" id=\"XuKv*{qNU92..^WV;EO*\">baggedRegressionTree</field><field name=\"MEMBER\">fit</field><data>baggedRegressionTree:fit</data><value name=\"ADD0\"><block type=\"lists_getIndex\" id=\"W~.ZU([-)(,-i3=bTsB|\"><mutation statement=\"false\" at=\"true\"></mutation><field name=\"MODE\">GET</field><field name=\"WHERE\">FROM_START</field><value name=\"VALUE\"><block type=\"variables_get\" id=\"GIJn[jpD_~wa}#7IO!1K\"><field name=\"VAR\" id=\"{Yt*9=2tTC$JepE9BcRz\">splits</field></block></value><value name=\"AT\"><block type=\"math_number\" id=\"Rh[;nrMLN$[cFFsZC~T|\"><field name=\"NUM\">1</field></block></value></block></value><value name=\"ADD1\"><block type=\"varDoMethod\" id=\",k`5;Cqc+i`C#J$mzc4P\"><mutation items=\"1\"></mutation><field name=\"VAR\" id=\"hxqH|@PJU~wrI]t*tHgd\">np</field><field name=\"MEMBER\">ravel</field><data>np:ravel</data><value name=\"ADD0\"><block type=\"lists_getIndex\" id=\"YkCD57xF*SSN3[`_op{u\"><mutation statement=\"false\" at=\"true\"></mutation><field name=\"MODE\">GET</field><field name=\"WHERE\">FROM_START</field><value name=\"VALUE\"><block type=\"variables_get\" id=\"M@?wn}aoHxJYan0=AE3$\"><field name=\"VAR\" id=\"{Yt*9=2tTC$JepE9BcRz\">splits</field></block></value><value name=\"AT\"><block type=\"math_number\" id=\"jNUa2BdXPG?H8|.br*@e\"><field name=\"NUM\">3</field></block></value></block></value></block></value></block><block type=\"variables_set\" id=\"hYTHG6w/4_XrC:bR/Tg6\" x=\"-12\" y=\"253\"><field name=\"VAR\" id=\"A$dO:gbBFcasm~tQ$WNX\">predictionsBaggedRegressionTree</field><value name=\"VALUE\"><block type=\"varDoMethod\" id=\"6wcPa{b$~7!fP,(9Haqr\"><mutation items=\"1\"></mutation><field name=\"VAR\" id=\"XuKv*{qNU92..^WV;EO*\">baggedRegressionTree</field><field name=\"MEMBER\">predict</field><data>baggedRegressionTree:predict</data><value name=\"ADD0\"><block type=\"lists_getIndex\" id=\"(b.Ja7F_dbv:extS3!R#\"><mutation statement=\"false\" at=\"true\"></mutation><field name=\"MODE\">GET</field><field name=\"WHERE\">FROM_START</field><value name=\"VALUE\"><block type=\"variables_get\" id=\"]z^sd:]CSl!6.?CCL.94\"><field name=\"VAR\" id=\"{Yt*9=2tTC$JepE9BcRz\">splits</field></block></value><value name=\"AT\"><block type=\"math_number\" id=\"#`:Dto*gHNUBL~{WuQz?\"><field name=\"NUM\">2</field></block></value></block></value></block></value></block></xml>",
    "user_code_from_blocks": "baggedRegressionTree.fit(splits[0],np.ravel(splits[2]))\n\npredictionsBaggedRegressionTree = baggedRegressionTree.predict(splits[1])\n"
   },
   "outputs": [],
   "source": [
    "baggedRegressionTree.fit(splits[0],np.ravel(splits[2]))\n",
    "\n",
    "predictionsBaggedRegressionTree = baggedRegressionTree.predict(splits[1])\n",
    "\n",
    "#<xml xmlns=\"https://developers.google.com/blockly/xml\"><variables><variable id=\"XuKv*{qNU92..^WV;EO*\">baggedRegressionTree</variable><variable id=\"A$dO:gbBFcasm~tQ$WNX\">predictionsBaggedRegressionTree</variable><variable id=\"hxqH|@PJU~wrI]t*tHgd\">np</variable><variable id=\"{Yt*9=2tTC$JepE9BcRz\">splits</variable></variables><block type=\"varDoMethod\" id=\"-@fm,911cJiCu@jkys%R\" x=\"15\" y=\"36\"><mutation items=\"2\"></mutation><field name=\"VAR\" id=\"XuKv*{qNU92..^WV;EO*\">baggedRegressionTree</field><field name=\"MEMBER\">fit</field><data>baggedRegressionTree:fit</data><value name=\"ADD0\"><block type=\"lists_getIndex\" id=\"W~.ZU([-)(,-i3=bTsB|\"><mutation statement=\"false\" at=\"true\"></mutation><field name=\"MODE\">GET</field><field name=\"WHERE\">FROM_START</field><value name=\"VALUE\"><block type=\"variables_get\" id=\"GIJn[jpD_~wa}#7IO!1K\"><field name=\"VAR\" id=\"{Yt*9=2tTC$JepE9BcRz\">splits</field></block></value><value name=\"AT\"><block type=\"math_number\" id=\"Rh[;nrMLN$[cFFsZC~T|\"><field name=\"NUM\">1</field></block></value></block></value><value name=\"ADD1\"><block type=\"varDoMethod\" id=\",k`5;Cqc+i`C#J$mzc4P\"><mutation items=\"1\"></mutation><field name=\"VAR\" id=\"hxqH|@PJU~wrI]t*tHgd\">np</field><field name=\"MEMBER\">ravel</field><data>np:ravel</data><value name=\"ADD0\"><block type=\"lists_getIndex\" id=\"YkCD57xF*SSN3[`_op{u\"><mutation statement=\"false\" at=\"true\"></mutation><field name=\"MODE\">GET</field><field name=\"WHERE\">FROM_START</field><value name=\"VALUE\"><block type=\"variables_get\" id=\"M@?wn}aoHxJYan0=AE3$\"><field name=\"VAR\" id=\"{Yt*9=2tTC$JepE9BcRz\">splits</field></block></value><value name=\"AT\"><block type=\"math_number\" id=\"jNUa2BdXPG?H8|.br*@e\"><field name=\"NUM\">3</field></block></value></block></value></block></value></block><block type=\"variables_set\" id=\"hYTHG6w/4_XrC:bR/Tg6\" x=\"-12\" y=\"253\"><field name=\"VAR\" id=\"A$dO:gbBFcasm~tQ$WNX\">predictionsBaggedRegressionTree</field><value name=\"VALUE\"><block type=\"varDoMethod\" id=\"6wcPa{b$~7!fP,(9Haqr\"><mutation items=\"1\"></mutation><field name=\"VAR\" id=\"XuKv*{qNU92..^WV;EO*\">baggedRegressionTree</field><field name=\"MEMBER\">predict</field><data>baggedRegressionTree:predict</data><value name=\"ADD0\"><block type=\"lists_getIndex\" id=\"(b.Ja7F_dbv:extS3!R#\"><mutation statement=\"false\" at=\"true\"></mutation><field name=\"MODE\">GET</field><field name=\"WHERE\">FROM_START</field><value name=\"VALUE\"><block type=\"variables_get\" id=\"]z^sd:]CSl!6.?CCL.94\"><field name=\"VAR\" id=\"{Yt*9=2tTC$JepE9BcRz\">splits</field></block></value><value name=\"AT\"><block type=\"math_number\" id=\"#`:Dto*gHNUBL~{WuQz?\"><field name=\"NUM\">2</field></block></value></block></value></block></value></block></xml>"
   ]
  },
  {
   "cell_type": "markdown",
   "metadata": {},
   "source": [
    "### Random forest regression tree\n",
    "\n",
    "Next create the random forest regression tree model by using `RandomForestRegressor`, which also uses a regression tree by default.\n",
    "Use the same parameters as before."
   ]
  },
  {
   "cell_type": "code",
   "execution_count": 18,
   "metadata": {
    "user_blocks": [
     "variables_set",
     "varCreateObject",
     "dummyOutputCodeBlock",
     "dummyOutputCodeBlock",
     "dummyOutputCodeBlock",
     "dummyOutputCodeBlock"
    ],
    "user_blocks_xml": "<xml xmlns=\"https://developers.google.com/blockly/xml\"><variables><variable id=\"Mvcq+P(afE9x6R@bF+6B\">randomForestRegressionTree</variable><variable id=\"YrOLY99XD^WJhuTK)IFx\">ensemble</variable></variables><block type=\"variables_set\" id=\"Fyby#Z6`$J{8yxJ#gF-6\" x=\"-9\" y=\"81\"><field name=\"VAR\" id=\"Mvcq+P(afE9x6R@bF+6B\">randomForestRegressionTree</field><value name=\"VALUE\"><block type=\"varCreateObject\" id=\"r3OQ@H/8b[IQZMW^g~*k\"><mutation items=\"4\"></mutation><field name=\"VAR\" id=\"YrOLY99XD^WJhuTK)IFx\">ensemble</field><field name=\"MEMBER\">RandomForestRegressor</field><data>ensemble:RandomForestRegressor</data><value name=\"ADD0\"><block type=\"dummyOutputCodeBlock\" id=\"1Ngu=B.6@#0XXY3Ee}pw\"><field name=\"CODE\">n_estimators=100</field></block></value><value name=\"ADD1\"><block type=\"dummyOutputCodeBlock\" id=\"u*E7?6w]CWy9HrFCCq!Z\"><field name=\"CODE\">max_samples=.3</field></block></value><value name=\"ADD2\"><block type=\"dummyOutputCodeBlock\" id=\"A{D~w8=/nI[ik_-n`@2y\"><field name=\"CODE\">oob_score=True</field></block></value><value name=\"ADD3\"><block type=\"dummyOutputCodeBlock\" id=\"x%*#E(klF:]smI~uzw!/\"><field name=\"CODE\">random_state=1</field></block></value></block></value></block></xml>",
    "user_code_from_blocks": "randomForestRegressionTree = ensemble.RandomForestRegressor(n_estimators=100,max_samples=.3,oob_score=True,random_state=1)\n"
   },
   "outputs": [],
   "source": [
    "randomForestRegressionTree = ensemble.RandomForestRegressor(n_estimators=100,max_samples=.3,oob_score=True,random_state=1)\n",
    "\n",
    "#<xml xmlns=\"https://developers.google.com/blockly/xml\"><variables><variable id=\"Mvcq+P(afE9x6R@bF+6B\">randomForestRegressionTree</variable><variable id=\"YrOLY99XD^WJhuTK)IFx\">ensemble</variable></variables><block type=\"variables_set\" id=\"Fyby#Z6`$J{8yxJ#gF-6\" x=\"-9\" y=\"81\"><field name=\"VAR\" id=\"Mvcq+P(afE9x6R@bF+6B\">randomForestRegressionTree</field><value name=\"VALUE\"><block type=\"varCreateObject\" id=\"r3OQ@H/8b[IQZMW^g~*k\"><mutation items=\"4\"></mutation><field name=\"VAR\" id=\"YrOLY99XD^WJhuTK)IFx\">ensemble</field><field name=\"MEMBER\">RandomForestRegressor</field><data>ensemble:RandomForestRegressor</data><value name=\"ADD0\"><block type=\"dummyOutputCodeBlock\" id=\"1Ngu=B.6@#0XXY3Ee}pw\"><field name=\"CODE\">n_estimators=100</field></block></value><value name=\"ADD1\"><block type=\"dummyOutputCodeBlock\" id=\"u*E7?6w]CWy9HrFCCq!Z\"><field name=\"CODE\">max_samples=.3</field></block></value><value name=\"ADD2\"><block type=\"dummyOutputCodeBlock\" id=\"A{D~w8=/nI[ik_-n`@2y\"><field name=\"CODE\">oob_score=True</field></block></value><value name=\"ADD3\"><block type=\"dummyOutputCodeBlock\" id=\"x%*#E(klF:]smI~uzw!/\"><field name=\"CODE\">random_state=1</field></block></value></block></value></block></xml>"
   ]
  },
  {
   "cell_type": "markdown",
   "metadata": {},
   "source": [
    "Fit the random forest regression tree using `ravel` on `Y` and get predictions."
   ]
  },
  {
   "cell_type": "code",
   "execution_count": 19,
   "metadata": {
    "user_blocks": [
     "varDoMethod",
     "lists_getIndex",
     "variables_get",
     "math_number",
     "varDoMethod",
     "lists_getIndex",
     "variables_get",
     "math_number",
     "variables_set",
     "varDoMethod",
     "lists_getIndex",
     "variables_get",
     "math_number"
    ],
    "user_blocks_xml": "<xml xmlns=\"https://developers.google.com/blockly/xml\"><variables><variable id=\"Mvcq+P(afE9x6R@bF+6B\">randomForestRegressionTree</variable><variable id=\"D#Cge-Va(a]G+RxWDa,D\">predictionsRandomForestRegressionTree</variable><variable id=\"hxqH|@PJU~wrI]t*tHgd\">np</variable><variable id=\"{Yt*9=2tTC$JepE9BcRz\">splits</variable></variables><block type=\"varDoMethod\" id=\"-@fm,911cJiCu@jkys%R\" x=\"15\" y=\"36\"><mutation items=\"2\"></mutation><field name=\"VAR\" id=\"Mvcq+P(afE9x6R@bF+6B\">randomForestRegressionTree</field><field name=\"MEMBER\">fit</field><data>randomForestRegressionTree:fit</data><value name=\"ADD0\"><block type=\"lists_getIndex\" id=\"W~.ZU([-)(,-i3=bTsB|\"><mutation statement=\"false\" at=\"true\"></mutation><field name=\"MODE\">GET</field><field name=\"WHERE\">FROM_START</field><value name=\"VALUE\"><block type=\"variables_get\" id=\"GIJn[jpD_~wa}#7IO!1K\"><field name=\"VAR\" id=\"{Yt*9=2tTC$JepE9BcRz\">splits</field></block></value><value name=\"AT\"><block type=\"math_number\" id=\"Rh[;nrMLN$[cFFsZC~T|\"><field name=\"NUM\">1</field></block></value></block></value><value name=\"ADD1\"><block type=\"varDoMethod\" id=\",k`5;Cqc+i`C#J$mzc4P\"><mutation items=\"1\"></mutation><field name=\"VAR\" id=\"hxqH|@PJU~wrI]t*tHgd\">np</field><field name=\"MEMBER\">ravel</field><data>np:ravel</data><value name=\"ADD0\"><block type=\"lists_getIndex\" id=\"YkCD57xF*SSN3[`_op{u\"><mutation statement=\"false\" at=\"true\"></mutation><field name=\"MODE\">GET</field><field name=\"WHERE\">FROM_START</field><value name=\"VALUE\"><block type=\"variables_get\" id=\"M@?wn}aoHxJYan0=AE3$\"><field name=\"VAR\" id=\"{Yt*9=2tTC$JepE9BcRz\">splits</field></block></value><value name=\"AT\"><block type=\"math_number\" id=\"jNUa2BdXPG?H8|.br*@e\"><field name=\"NUM\">3</field></block></value></block></value></block></value></block><block type=\"variables_set\" id=\"hYTHG6w/4_XrC:bR/Tg6\" x=\"-12\" y=\"253\"><field name=\"VAR\" id=\"D#Cge-Va(a]G+RxWDa,D\">predictionsRandomForestRegressionTree</field><value name=\"VALUE\"><block type=\"varDoMethod\" id=\"6wcPa{b$~7!fP,(9Haqr\"><mutation items=\"1\"></mutation><field name=\"VAR\" id=\"Mvcq+P(afE9x6R@bF+6B\">randomForestRegressionTree</field><field name=\"MEMBER\">predict</field><data>randomForestRegressionTree:predict</data><value name=\"ADD0\"><block type=\"lists_getIndex\" id=\"(b.Ja7F_dbv:extS3!R#\"><mutation statement=\"false\" at=\"true\"></mutation><field name=\"MODE\">GET</field><field name=\"WHERE\">FROM_START</field><value name=\"VALUE\"><block type=\"variables_get\" id=\"]z^sd:]CSl!6.?CCL.94\"><field name=\"VAR\" id=\"{Yt*9=2tTC$JepE9BcRz\">splits</field></block></value><value name=\"AT\"><block type=\"math_number\" id=\"#`:Dto*gHNUBL~{WuQz?\"><field name=\"NUM\">2</field></block></value></block></value></block></value></block></xml>",
    "user_code_from_blocks": "randomForestRegressionTree.fit(splits[0],np.ravel(splits[2]))\n\npredictionsRandomForestRegressionTree = randomForestRegressionTree.predict(splits[1])\n"
   },
   "outputs": [],
   "source": [
    "randomForestRegressionTree.fit(splits[0],np.ravel(splits[2]))\n",
    "\n",
    "predictionsRandomForestRegressionTree = randomForestRegressionTree.predict(splits[1])\n",
    "\n",
    "#<xml xmlns=\"https://developers.google.com/blockly/xml\"><variables><variable id=\"Mvcq+P(afE9x6R@bF+6B\">randomForestRegressionTree</variable><variable id=\"D#Cge-Va(a]G+RxWDa,D\">predictionsRandomForestRegressionTree</variable><variable id=\"hxqH|@PJU~wrI]t*tHgd\">np</variable><variable id=\"{Yt*9=2tTC$JepE9BcRz\">splits</variable></variables><block type=\"varDoMethod\" id=\"-@fm,911cJiCu@jkys%R\" x=\"15\" y=\"36\"><mutation items=\"2\"></mutation><field name=\"VAR\" id=\"Mvcq+P(afE9x6R@bF+6B\">randomForestRegressionTree</field><field name=\"MEMBER\">fit</field><data>randomForestRegressionTree:fit</data><value name=\"ADD0\"><block type=\"lists_getIndex\" id=\"W~.ZU([-)(,-i3=bTsB|\"><mutation statement=\"false\" at=\"true\"></mutation><field name=\"MODE\">GET</field><field name=\"WHERE\">FROM_START</field><value name=\"VALUE\"><block type=\"variables_get\" id=\"GIJn[jpD_~wa}#7IO!1K\"><field name=\"VAR\" id=\"{Yt*9=2tTC$JepE9BcRz\">splits</field></block></value><value name=\"AT\"><block type=\"math_number\" id=\"Rh[;nrMLN$[cFFsZC~T|\"><field name=\"NUM\">1</field></block></value></block></value><value name=\"ADD1\"><block type=\"varDoMethod\" id=\",k`5;Cqc+i`C#J$mzc4P\"><mutation items=\"1\"></mutation><field name=\"VAR\" id=\"hxqH|@PJU~wrI]t*tHgd\">np</field><field name=\"MEMBER\">ravel</field><data>np:ravel</data><value name=\"ADD0\"><block type=\"lists_getIndex\" id=\"YkCD57xF*SSN3[`_op{u\"><mutation statement=\"false\" at=\"true\"></mutation><field name=\"MODE\">GET</field><field name=\"WHERE\">FROM_START</field><value name=\"VALUE\"><block type=\"variables_get\" id=\"M@?wn}aoHxJYan0=AE3$\"><field name=\"VAR\" id=\"{Yt*9=2tTC$JepE9BcRz\">splits</field></block></value><value name=\"AT\"><block type=\"math_number\" id=\"jNUa2BdXPG?H8|.br*@e\"><field name=\"NUM\">3</field></block></value></block></value></block></value></block><block type=\"variables_set\" id=\"hYTHG6w/4_XrC:bR/Tg6\" x=\"-12\" y=\"253\"><field name=\"VAR\" id=\"D#Cge-Va(a]G+RxWDa,D\">predictionsRandomForestRegressionTree</field><value name=\"VALUE\"><block type=\"varDoMethod\" id=\"6wcPa{b$~7!fP,(9Haqr\"><mutation items=\"1\"></mutation><field name=\"VAR\" id=\"Mvcq+P(afE9x6R@bF+6B\">randomForestRegressionTree</field><field name=\"MEMBER\">predict</field><data>randomForestRegressionTree:predict</data><value name=\"ADD0\"><block type=\"lists_getIndex\" id=\"(b.Ja7F_dbv:extS3!R#\"><mutation statement=\"false\" at=\"true\"></mutation><field name=\"MODE\">GET</field><field name=\"WHERE\">FROM_START</field><value name=\"VALUE\"><block type=\"variables_get\" id=\"]z^sd:]CSl!6.?CCL.94\"><field name=\"VAR\" id=\"{Yt*9=2tTC$JepE9BcRz\">splits</field></block></value><value name=\"AT\"><block type=\"math_number\" id=\"#`:Dto*gHNUBL~{WuQz?\"><field name=\"NUM\">2</field></block></value></block></value></block></value></block></xml>"
   ]
  },
  {
   "cell_type": "markdown",
   "metadata": {},
   "source": [
    "## Evaluate the models"
   ]
  },
  {
   "cell_type": "markdown",
   "metadata": {},
   "source": [
    "### Regression tree\n",
    "\n",
    "- Get the $r^2$ on the *training* set\n",
    "\n",
    "- Get the $r^2$ on the *testing* set"
   ]
  },
  {
   "cell_type": "code",
   "execution_count": 20,
   "metadata": {
    "user_blocks": [
     "text_print",
     "text_join",
     "text",
     "varDoMethod",
     "lists_getIndex",
     "variables_get",
     "math_number",
     "lists_getIndex",
     "variables_get",
     "math_number",
     "text_print",
     "text_join",
     "text",
     "varDoMethod",
     "lists_getIndex",
     "variables_get",
     "math_number",
     "lists_getIndex",
     "variables_get",
     "math_number"
    ],
    "user_blocks_xml": "<xml xmlns=\"https://developers.google.com/blockly/xml\"><variables><variable id=\"dE3=o8T5`CCHo%,m,2(A\">regressionTree</variable><variable id=\"{Yt*9=2tTC$JepE9BcRz\">splits</variable></variables><block type=\"text_print\" id=\"~IM}M:,`?~tIB8VB1m^X\" x=\"0\" y=\"0\"><value name=\"TEXT\"><block type=\"text_join\" id=\"SP${6|~=}gsMxiy4{Nq6\"><mutation items=\"2\"></mutation><value name=\"ADD0\"><block type=\"text\" id=\"A9Io`Zzs7V]5]Q{u_YJb\"><field name=\"TEXT\">Training r2:</field></block></value><value name=\"ADD1\"><block type=\"varDoMethod\" id=\"%!VjUHB:+Srn(8bKuAIJ\"><mutation items=\"2\"></mutation><field name=\"VAR\" id=\"dE3=o8T5`CCHo%,m,2(A\">regressionTree</field><field name=\"MEMBER\">score</field><data>regressionTree:score</data><value name=\"ADD0\"><block type=\"lists_getIndex\" id=\"d#d#BS{ihm?]_9Sy!`n1\"><mutation statement=\"false\" at=\"true\"></mutation><field name=\"MODE\">GET</field><field name=\"WHERE\">FROM_START</field><value name=\"VALUE\"><block type=\"variables_get\" id=\"Hz=Ub^QN}T3,w[Q~vkCp\"><field name=\"VAR\" id=\"{Yt*9=2tTC$JepE9BcRz\">splits</field></block></value><value name=\"AT\"><block type=\"math_number\" id=\";~m;0oTRak[R?]rp!IkI\"><field name=\"NUM\">1</field></block></value></block></value><value name=\"ADD1\"><block type=\"lists_getIndex\" id=\"G/?J@!@Zg}9|fSK;WcH:\"><mutation statement=\"false\" at=\"true\"></mutation><field name=\"MODE\">GET</field><field name=\"WHERE\">FROM_START</field><value name=\"VALUE\"><block type=\"variables_get\" id=\"V$Rp`[Cu:yN7vsE5_b+w\"><field name=\"VAR\" id=\"{Yt*9=2tTC$JepE9BcRz\">splits</field></block></value><value name=\"AT\"><block type=\"math_number\" id=\"~R]wA!S4a75y!9c.F{9d\"><field name=\"NUM\">3</field></block></value></block></value></block></value></block></value><next><block type=\"text_print\" id=\"42m=3VdZu:@waL-B4}xG\"><value name=\"TEXT\"><block type=\"text_join\" id=\"HjXt2%Fit]k#OR`KWq{*\"><mutation items=\"2\"></mutation><value name=\"ADD0\"><block type=\"text\" id=\"ex)?4*uJ?Qrr-oAFFAai\"><field name=\"TEXT\">Testing r2:</field></block></value><value name=\"ADD1\"><block type=\"varDoMethod\" id=\"Q!UFRkI}`Idyyd_e[TQ{\"><mutation items=\"2\"></mutation><field name=\"VAR\" id=\"dE3=o8T5`CCHo%,m,2(A\">regressionTree</field><field name=\"MEMBER\">score</field><data>regressionTree:score</data><value name=\"ADD0\"><block type=\"lists_getIndex\" id=\"+MD`-:6~FyLnj2dG}Wn6\"><mutation statement=\"false\" at=\"true\"></mutation><field name=\"MODE\">GET</field><field name=\"WHERE\">FROM_START</field><value name=\"VALUE\"><block type=\"variables_get\" id=\"ttoJ2j;lJgXNoFqC})PY\"><field name=\"VAR\" id=\"{Yt*9=2tTC$JepE9BcRz\">splits</field></block></value><value name=\"AT\"><block type=\"math_number\" id=\"anndJC]ouLVh--o3P^l4\"><field name=\"NUM\">2</field></block></value></block></value><value name=\"ADD1\"><block type=\"lists_getIndex\" id=\"!kR]i230}sW~7pI7Ly}Z\"><mutation statement=\"false\" at=\"true\"></mutation><field name=\"MODE\">GET</field><field name=\"WHERE\">FROM_START</field><value name=\"VALUE\"><block type=\"variables_get\" id=\"2[^L;t[YfC`cm0jE+Q1X\"><field name=\"VAR\" id=\"{Yt*9=2tTC$JepE9BcRz\">splits</field></block></value><value name=\"AT\"><block type=\"math_number\" id=\"7U$Dd.q*|fxYnYCaD-hA\"><field name=\"NUM\">4</field></block></value></block></value></block></value></block></value></block></next></block></xml>",
    "user_code_from_blocks": "print('Training r2:' + str(regressionTree.score(splits[0],splits[2])))\nprint('Testing r2:' + str(regressionTree.score(splits[1],splits[3])))\n"
   },
   "outputs": [
    {
     "name": "stdout",
     "output_type": "stream",
     "text": [
      "Training r2:1.0\n",
      "Testing r2:0.8282117016027873\n"
     ]
    }
   ],
   "source": [
    "print('Training r2:' + str(regressionTree.score(splits[0],splits[2])))\n",
    "print('Testing r2:' + str(regressionTree.score(splits[1],splits[3])))\n",
    "\n",
    "#<xml xmlns=\"https://developers.google.com/blockly/xml\"><variables><variable id=\"dE3=o8T5`CCHo%,m,2(A\">regressionTree</variable><variable id=\"{Yt*9=2tTC$JepE9BcRz\">splits</variable></variables><block type=\"text_print\" id=\"~IM}M:,`?~tIB8VB1m^X\" x=\"0\" y=\"0\"><value name=\"TEXT\"><block type=\"text_join\" id=\"SP${6|~=}gsMxiy4{Nq6\"><mutation items=\"2\"></mutation><value name=\"ADD0\"><block type=\"text\" id=\"A9Io`Zzs7V]5]Q{u_YJb\"><field name=\"TEXT\">Training r2:</field></block></value><value name=\"ADD1\"><block type=\"varDoMethod\" id=\"%!VjUHB:+Srn(8bKuAIJ\"><mutation items=\"2\"></mutation><field name=\"VAR\" id=\"dE3=o8T5`CCHo%,m,2(A\">regressionTree</field><field name=\"MEMBER\">score</field><data>regressionTree:score</data><value name=\"ADD0\"><block type=\"lists_getIndex\" id=\"d#d#BS{ihm?]_9Sy!`n1\"><mutation statement=\"false\" at=\"true\"></mutation><field name=\"MODE\">GET</field><field name=\"WHERE\">FROM_START</field><value name=\"VALUE\"><block type=\"variables_get\" id=\"Hz=Ub^QN}T3,w[Q~vkCp\"><field name=\"VAR\" id=\"{Yt*9=2tTC$JepE9BcRz\">splits</field></block></value><value name=\"AT\"><block type=\"math_number\" id=\";~m;0oTRak[R?]rp!IkI\"><field name=\"NUM\">1</field></block></value></block></value><value name=\"ADD1\"><block type=\"lists_getIndex\" id=\"G/?J@!@Zg}9|fSK;WcH:\"><mutation statement=\"false\" at=\"true\"></mutation><field name=\"MODE\">GET</field><field name=\"WHERE\">FROM_START</field><value name=\"VALUE\"><block type=\"variables_get\" id=\"V$Rp`[Cu:yN7vsE5_b+w\"><field name=\"VAR\" id=\"{Yt*9=2tTC$JepE9BcRz\">splits</field></block></value><value name=\"AT\"><block type=\"math_number\" id=\"~R]wA!S4a75y!9c.F{9d\"><field name=\"NUM\">3</field></block></value></block></value></block></value></block></value><next><block type=\"text_print\" id=\"42m=3VdZu:@waL-B4}xG\"><value name=\"TEXT\"><block type=\"text_join\" id=\"HjXt2%Fit]k#OR`KWq{*\"><mutation items=\"2\"></mutation><value name=\"ADD0\"><block type=\"text\" id=\"ex)?4*uJ?Qrr-oAFFAai\"><field name=\"TEXT\">Testing r2:</field></block></value><value name=\"ADD1\"><block type=\"varDoMethod\" id=\"Q!UFRkI}`Idyyd_e[TQ{\"><mutation items=\"2\"></mutation><field name=\"VAR\" id=\"dE3=o8T5`CCHo%,m,2(A\">regressionTree</field><field name=\"MEMBER\">score</field><data>regressionTree:score</data><value name=\"ADD0\"><block type=\"lists_getIndex\" id=\"+MD`-:6~FyLnj2dG}Wn6\"><mutation statement=\"false\" at=\"true\"></mutation><field name=\"MODE\">GET</field><field name=\"WHERE\">FROM_START</field><value name=\"VALUE\"><block type=\"variables_get\" id=\"ttoJ2j;lJgXNoFqC})PY\"><field name=\"VAR\" id=\"{Yt*9=2tTC$JepE9BcRz\">splits</field></block></value><value name=\"AT\"><block type=\"math_number\" id=\"anndJC]ouLVh--o3P^l4\"><field name=\"NUM\">2</field></block></value></block></value><value name=\"ADD1\"><block type=\"lists_getIndex\" id=\"!kR]i230}sW~7pI7Ly}Z\"><mutation statement=\"false\" at=\"true\"></mutation><field name=\"MODE\">GET</field><field name=\"WHERE\">FROM_START</field><value name=\"VALUE\"><block type=\"variables_get\" id=\"2[^L;t[YfC`cm0jE+Q1X\"><field name=\"VAR\" id=\"{Yt*9=2tTC$JepE9BcRz\">splits</field></block></value><value name=\"AT\"><block type=\"math_number\" id=\"7U$Dd.q*|fxYnYCaD-hA\"><field name=\"NUM\">4</field></block></value></block></value></block></value></block></value></block></next></block></xml>"
   ]
  },
  {
   "cell_type": "markdown",
   "metadata": {},
   "source": [
    "### Bagged regression tree\n",
    "\n",
    "- Get the $r^2$ on the *training* set\n",
    "\n",
    "- Get the $r^2$ on the *testing* set"
   ]
  },
  {
   "cell_type": "code",
   "execution_count": 23,
   "metadata": {
    "user_blocks": [
     "text_print",
     "text_join",
     "text",
     "varDoMethod",
     "lists_getIndex",
     "variables_get",
     "math_number",
     "lists_getIndex",
     "variables_get",
     "math_number",
     "text_print",
     "text_join",
     "text",
     "varDoMethod",
     "lists_getIndex",
     "variables_get",
     "math_number",
     "lists_getIndex",
     "variables_get",
     "math_number"
    ],
    "user_blocks_xml": "<xml xmlns=\"https://developers.google.com/blockly/xml\"><variables><variable id=\"XuKv*{qNU92..^WV;EO*\">baggedRegressionTree</variable><variable id=\"{Yt*9=2tTC$JepE9BcRz\">splits</variable></variables><block type=\"text_print\" id=\"~IM}M:,`?~tIB8VB1m^X\" x=\"0\" y=\"0\"><value name=\"TEXT\"><block type=\"text_join\" id=\"SP${6|~=}gsMxiy4{Nq6\"><mutation items=\"2\"></mutation><value name=\"ADD0\"><block type=\"text\" id=\"A9Io`Zzs7V]5]Q{u_YJb\"><field name=\"TEXT\">Training r2:</field></block></value><value name=\"ADD1\"><block type=\"varDoMethod\" id=\"%!VjUHB:+Srn(8bKuAIJ\"><mutation items=\"2\"></mutation><field name=\"VAR\" id=\"XuKv*{qNU92..^WV;EO*\">baggedRegressionTree</field><field name=\"MEMBER\">score</field><data>baggedRegressionTree:score</data><value name=\"ADD0\"><block type=\"lists_getIndex\" id=\"d#d#BS{ihm?]_9Sy!`n1\"><mutation statement=\"false\" at=\"true\"></mutation><field name=\"MODE\">GET</field><field name=\"WHERE\">FROM_START</field><value name=\"VALUE\"><block type=\"variables_get\" id=\"Hz=Ub^QN}T3,w[Q~vkCp\"><field name=\"VAR\" id=\"{Yt*9=2tTC$JepE9BcRz\">splits</field></block></value><value name=\"AT\"><block type=\"math_number\" id=\";~m;0oTRak[R?]rp!IkI\"><field name=\"NUM\">1</field></block></value></block></value><value name=\"ADD1\"><block type=\"lists_getIndex\" id=\"G/?J@!@Zg}9|fSK;WcH:\"><mutation statement=\"false\" at=\"true\"></mutation><field name=\"MODE\">GET</field><field name=\"WHERE\">FROM_START</field><value name=\"VALUE\"><block type=\"variables_get\" id=\"V$Rp`[Cu:yN7vsE5_b+w\"><field name=\"VAR\" id=\"{Yt*9=2tTC$JepE9BcRz\">splits</field></block></value><value name=\"AT\"><block type=\"math_number\" id=\"~R]wA!S4a75y!9c.F{9d\"><field name=\"NUM\">3</field></block></value></block></value></block></value></block></value><next><block type=\"text_print\" id=\"42m=3VdZu:@waL-B4}xG\"><value name=\"TEXT\"><block type=\"text_join\" id=\"HjXt2%Fit]k#OR`KWq{*\"><mutation items=\"2\"></mutation><value name=\"ADD0\"><block type=\"text\" id=\"ex)?4*uJ?Qrr-oAFFAai\"><field name=\"TEXT\">Testing r2:</field></block></value><value name=\"ADD1\"><block type=\"varDoMethod\" id=\"Q!UFRkI}`Idyyd_e[TQ{\"><mutation items=\"2\"></mutation><field name=\"VAR\" id=\"XuKv*{qNU92..^WV;EO*\">baggedRegressionTree</field><field name=\"MEMBER\">score</field><data>baggedRegressionTree:score</data><value name=\"ADD0\"><block type=\"lists_getIndex\" id=\"+MD`-:6~FyLnj2dG}Wn6\"><mutation statement=\"false\" at=\"true\"></mutation><field name=\"MODE\">GET</field><field name=\"WHERE\">FROM_START</field><value name=\"VALUE\"><block type=\"variables_get\" id=\"ttoJ2j;lJgXNoFqC})PY\"><field name=\"VAR\" id=\"{Yt*9=2tTC$JepE9BcRz\">splits</field></block></value><value name=\"AT\"><block type=\"math_number\" id=\"anndJC]ouLVh--o3P^l4\"><field name=\"NUM\">2</field></block></value></block></value><value name=\"ADD1\"><block type=\"lists_getIndex\" id=\"!kR]i230}sW~7pI7Ly}Z\"><mutation statement=\"false\" at=\"true\"></mutation><field name=\"MODE\">GET</field><field name=\"WHERE\">FROM_START</field><value name=\"VALUE\"><block type=\"variables_get\" id=\"2[^L;t[YfC`cm0jE+Q1X\"><field name=\"VAR\" id=\"{Yt*9=2tTC$JepE9BcRz\">splits</field></block></value><value name=\"AT\"><block type=\"math_number\" id=\"7U$Dd.q*|fxYnYCaD-hA\"><field name=\"NUM\">4</field></block></value></block></value></block></value></block></value></block></next></block></xml>",
    "user_code_from_blocks": "print('Training r2:' + str(baggedRegressionTree.score(splits[0],splits[2])))\nprint('Testing r2:' + str(baggedRegressionTree.score(splits[1],splits[3])))\n"
   },
   "outputs": [
    {
     "name": "stdout",
     "output_type": "stream",
     "text": [
      "Training r2:0.8962219098224172\n",
      "Testing r2:0.8791790427545323\n"
     ]
    }
   ],
   "source": [
    "print('Training r2:' + str(baggedRegressionTree.score(splits[0],splits[2])))\n",
    "print('Testing r2:' + str(baggedRegressionTree.score(splits[1],splits[3])))\n",
    "\n",
    "#<xml xmlns=\"https://developers.google.com/blockly/xml\"><variables><variable id=\"XuKv*{qNU92..^WV;EO*\">baggedRegressionTree</variable><variable id=\"{Yt*9=2tTC$JepE9BcRz\">splits</variable></variables><block type=\"text_print\" id=\"~IM}M:,`?~tIB8VB1m^X\" x=\"0\" y=\"0\"><value name=\"TEXT\"><block type=\"text_join\" id=\"SP${6|~=}gsMxiy4{Nq6\"><mutation items=\"2\"></mutation><value name=\"ADD0\"><block type=\"text\" id=\"A9Io`Zzs7V]5]Q{u_YJb\"><field name=\"TEXT\">Training r2:</field></block></value><value name=\"ADD1\"><block type=\"varDoMethod\" id=\"%!VjUHB:+Srn(8bKuAIJ\"><mutation items=\"2\"></mutation><field name=\"VAR\" id=\"XuKv*{qNU92..^WV;EO*\">baggedRegressionTree</field><field name=\"MEMBER\">score</field><data>baggedRegressionTree:score</data><value name=\"ADD0\"><block type=\"lists_getIndex\" id=\"d#d#BS{ihm?]_9Sy!`n1\"><mutation statement=\"false\" at=\"true\"></mutation><field name=\"MODE\">GET</field><field name=\"WHERE\">FROM_START</field><value name=\"VALUE\"><block type=\"variables_get\" id=\"Hz=Ub^QN}T3,w[Q~vkCp\"><field name=\"VAR\" id=\"{Yt*9=2tTC$JepE9BcRz\">splits</field></block></value><value name=\"AT\"><block type=\"math_number\" id=\";~m;0oTRak[R?]rp!IkI\"><field name=\"NUM\">1</field></block></value></block></value><value name=\"ADD1\"><block type=\"lists_getIndex\" id=\"G/?J@!@Zg}9|fSK;WcH:\"><mutation statement=\"false\" at=\"true\"></mutation><field name=\"MODE\">GET</field><field name=\"WHERE\">FROM_START</field><value name=\"VALUE\"><block type=\"variables_get\" id=\"V$Rp`[Cu:yN7vsE5_b+w\"><field name=\"VAR\" id=\"{Yt*9=2tTC$JepE9BcRz\">splits</field></block></value><value name=\"AT\"><block type=\"math_number\" id=\"~R]wA!S4a75y!9c.F{9d\"><field name=\"NUM\">3</field></block></value></block></value></block></value></block></value><next><block type=\"text_print\" id=\"42m=3VdZu:@waL-B4}xG\"><value name=\"TEXT\"><block type=\"text_join\" id=\"HjXt2%Fit]k#OR`KWq{*\"><mutation items=\"2\"></mutation><value name=\"ADD0\"><block type=\"text\" id=\"ex)?4*uJ?Qrr-oAFFAai\"><field name=\"TEXT\">Testing r2:</field></block></value><value name=\"ADD1\"><block type=\"varDoMethod\" id=\"Q!UFRkI}`Idyyd_e[TQ{\"><mutation items=\"2\"></mutation><field name=\"VAR\" id=\"XuKv*{qNU92..^WV;EO*\">baggedRegressionTree</field><field name=\"MEMBER\">score</field><data>baggedRegressionTree:score</data><value name=\"ADD0\"><block type=\"lists_getIndex\" id=\"+MD`-:6~FyLnj2dG}Wn6\"><mutation statement=\"false\" at=\"true\"></mutation><field name=\"MODE\">GET</field><field name=\"WHERE\">FROM_START</field><value name=\"VALUE\"><block type=\"variables_get\" id=\"ttoJ2j;lJgXNoFqC})PY\"><field name=\"VAR\" id=\"{Yt*9=2tTC$JepE9BcRz\">splits</field></block></value><value name=\"AT\"><block type=\"math_number\" id=\"anndJC]ouLVh--o3P^l4\"><field name=\"NUM\">2</field></block></value></block></value><value name=\"ADD1\"><block type=\"lists_getIndex\" id=\"!kR]i230}sW~7pI7Ly}Z\"><mutation statement=\"false\" at=\"true\"></mutation><field name=\"MODE\">GET</field><field name=\"WHERE\">FROM_START</field><value name=\"VALUE\"><block type=\"variables_get\" id=\"2[^L;t[YfC`cm0jE+Q1X\"><field name=\"VAR\" id=\"{Yt*9=2tTC$JepE9BcRz\">splits</field></block></value><value name=\"AT\"><block type=\"math_number\" id=\"7U$Dd.q*|fxYnYCaD-hA\"><field name=\"NUM\">4</field></block></value></block></value></block></value></block></value></block></next></block></xml>"
   ]
  },
  {
   "cell_type": "markdown",
   "metadata": {},
   "source": [
    "### Random forest regression tree\n",
    "\n",
    "- Get the $r^2$ on the *training* set\n",
    "\n",
    "- Get the $r^2$ on the *testing* set"
   ]
  },
  {
   "cell_type": "code",
   "execution_count": 25,
   "metadata": {
    "user_blocks": [
     "text_print",
     "text_join",
     "text",
     "varDoMethod",
     "lists_getIndex",
     "variables_get",
     "math_number",
     "lists_getIndex",
     "variables_get",
     "math_number",
     "text_print",
     "text_join",
     "text",
     "varDoMethod",
     "lists_getIndex",
     "variables_get",
     "math_number",
     "lists_getIndex",
     "variables_get",
     "math_number"
    ],
    "user_blocks_xml": "<xml xmlns=\"https://developers.google.com/blockly/xml\"><variables><variable id=\"Mvcq+P(afE9x6R@bF+6B\">randomForestRegressionTree</variable><variable id=\"{Yt*9=2tTC$JepE9BcRz\">splits</variable></variables><block type=\"text_print\" id=\"~IM}M:,`?~tIB8VB1m^X\" x=\"0\" y=\"0\"><value name=\"TEXT\"><block type=\"text_join\" id=\"SP${6|~=}gsMxiy4{Nq6\"><mutation items=\"2\"></mutation><value name=\"ADD0\"><block type=\"text\" id=\"A9Io`Zzs7V]5]Q{u_YJb\"><field name=\"TEXT\">Training r2:</field></block></value><value name=\"ADD1\"><block type=\"varDoMethod\" id=\"%!VjUHB:+Srn(8bKuAIJ\"><mutation items=\"2\"></mutation><field name=\"VAR\" id=\"Mvcq+P(afE9x6R@bF+6B\">randomForestRegressionTree</field><field name=\"MEMBER\">score</field><data>randomForestRegressionTree:score</data><value name=\"ADD0\"><block type=\"lists_getIndex\" id=\"d#d#BS{ihm?]_9Sy!`n1\"><mutation statement=\"false\" at=\"true\"></mutation><field name=\"MODE\">GET</field><field name=\"WHERE\">FROM_START</field><value name=\"VALUE\"><block type=\"variables_get\" id=\"Hz=Ub^QN}T3,w[Q~vkCp\"><field name=\"VAR\" id=\"{Yt*9=2tTC$JepE9BcRz\">splits</field></block></value><value name=\"AT\"><block type=\"math_number\" id=\";~m;0oTRak[R?]rp!IkI\"><field name=\"NUM\">1</field></block></value></block></value><value name=\"ADD1\"><block type=\"lists_getIndex\" id=\"G/?J@!@Zg}9|fSK;WcH:\"><mutation statement=\"false\" at=\"true\"></mutation><field name=\"MODE\">GET</field><field name=\"WHERE\">FROM_START</field><value name=\"VALUE\"><block type=\"variables_get\" id=\"V$Rp`[Cu:yN7vsE5_b+w\"><field name=\"VAR\" id=\"{Yt*9=2tTC$JepE9BcRz\">splits</field></block></value><value name=\"AT\"><block type=\"math_number\" id=\"~R]wA!S4a75y!9c.F{9d\"><field name=\"NUM\">3</field></block></value></block></value></block></value></block></value><next><block type=\"text_print\" id=\"42m=3VdZu:@waL-B4}xG\"><value name=\"TEXT\"><block type=\"text_join\" id=\"HjXt2%Fit]k#OR`KWq{*\"><mutation items=\"2\"></mutation><value name=\"ADD0\"><block type=\"text\" id=\"ex)?4*uJ?Qrr-oAFFAai\"><field name=\"TEXT\">Testing r2:</field></block></value><value name=\"ADD1\"><block type=\"varDoMethod\" id=\"Q!UFRkI}`Idyyd_e[TQ{\"><mutation items=\"2\"></mutation><field name=\"VAR\" id=\"Mvcq+P(afE9x6R@bF+6B\">randomForestRegressionTree</field><field name=\"MEMBER\">score</field><data>randomForestRegressionTree:score</data><value name=\"ADD0\"><block type=\"lists_getIndex\" id=\"+MD`-:6~FyLnj2dG}Wn6\"><mutation statement=\"false\" at=\"true\"></mutation><field name=\"MODE\">GET</field><field name=\"WHERE\">FROM_START</field><value name=\"VALUE\"><block type=\"variables_get\" id=\"ttoJ2j;lJgXNoFqC})PY\"><field name=\"VAR\" id=\"{Yt*9=2tTC$JepE9BcRz\">splits</field></block></value><value name=\"AT\"><block type=\"math_number\" id=\"anndJC]ouLVh--o3P^l4\"><field name=\"NUM\">2</field></block></value></block></value><value name=\"ADD1\"><block type=\"lists_getIndex\" id=\"!kR]i230}sW~7pI7Ly}Z\"><mutation statement=\"false\" at=\"true\"></mutation><field name=\"MODE\">GET</field><field name=\"WHERE\">FROM_START</field><value name=\"VALUE\"><block type=\"variables_get\" id=\"2[^L;t[YfC`cm0jE+Q1X\"><field name=\"VAR\" id=\"{Yt*9=2tTC$JepE9BcRz\">splits</field></block></value><value name=\"AT\"><block type=\"math_number\" id=\"7U$Dd.q*|fxYnYCaD-hA\"><field name=\"NUM\">4</field></block></value></block></value></block></value></block></value></block></next></block></xml>",
    "user_code_from_blocks": "print('Training r2:' + str(randomForestRegressionTree.score(splits[0],splits[2])))\nprint('Testing r2:' + str(randomForestRegressionTree.score(splits[1],splits[3])))\n"
   },
   "outputs": [
    {
     "name": "stdout",
     "output_type": "stream",
     "text": [
      "Training r2:0.896520187853289\n",
      "Testing r2:0.8752256440826848\n"
     ]
    }
   ],
   "source": [
    "print('Training r2:' + str(randomForestRegressionTree.score(splits[0],splits[2])))\n",
    "print('Testing r2:' + str(randomForestRegressionTree.score(splits[1],splits[3])))\n",
    "\n",
    "#<xml xmlns=\"https://developers.google.com/blockly/xml\"><variables><variable id=\"Mvcq+P(afE9x6R@bF+6B\">randomForestRegressionTree</variable><variable id=\"{Yt*9=2tTC$JepE9BcRz\">splits</variable></variables><block type=\"text_print\" id=\"~IM}M:,`?~tIB8VB1m^X\" x=\"0\" y=\"0\"><value name=\"TEXT\"><block type=\"text_join\" id=\"SP${6|~=}gsMxiy4{Nq6\"><mutation items=\"2\"></mutation><value name=\"ADD0\"><block type=\"text\" id=\"A9Io`Zzs7V]5]Q{u_YJb\"><field name=\"TEXT\">Training r2:</field></block></value><value name=\"ADD1\"><block type=\"varDoMethod\" id=\"%!VjUHB:+Srn(8bKuAIJ\"><mutation items=\"2\"></mutation><field name=\"VAR\" id=\"Mvcq+P(afE9x6R@bF+6B\">randomForestRegressionTree</field><field name=\"MEMBER\">score</field><data>randomForestRegressionTree:score</data><value name=\"ADD0\"><block type=\"lists_getIndex\" id=\"d#d#BS{ihm?]_9Sy!`n1\"><mutation statement=\"false\" at=\"true\"></mutation><field name=\"MODE\">GET</field><field name=\"WHERE\">FROM_START</field><value name=\"VALUE\"><block type=\"variables_get\" id=\"Hz=Ub^QN}T3,w[Q~vkCp\"><field name=\"VAR\" id=\"{Yt*9=2tTC$JepE9BcRz\">splits</field></block></value><value name=\"AT\"><block type=\"math_number\" id=\";~m;0oTRak[R?]rp!IkI\"><field name=\"NUM\">1</field></block></value></block></value><value name=\"ADD1\"><block type=\"lists_getIndex\" id=\"G/?J@!@Zg}9|fSK;WcH:\"><mutation statement=\"false\" at=\"true\"></mutation><field name=\"MODE\">GET</field><field name=\"WHERE\">FROM_START</field><value name=\"VALUE\"><block type=\"variables_get\" id=\"V$Rp`[Cu:yN7vsE5_b+w\"><field name=\"VAR\" id=\"{Yt*9=2tTC$JepE9BcRz\">splits</field></block></value><value name=\"AT\"><block type=\"math_number\" id=\"~R]wA!S4a75y!9c.F{9d\"><field name=\"NUM\">3</field></block></value></block></value></block></value></block></value><next><block type=\"text_print\" id=\"42m=3VdZu:@waL-B4}xG\"><value name=\"TEXT\"><block type=\"text_join\" id=\"HjXt2%Fit]k#OR`KWq{*\"><mutation items=\"2\"></mutation><value name=\"ADD0\"><block type=\"text\" id=\"ex)?4*uJ?Qrr-oAFFAai\"><field name=\"TEXT\">Testing r2:</field></block></value><value name=\"ADD1\"><block type=\"varDoMethod\" id=\"Q!UFRkI}`Idyyd_e[TQ{\"><mutation items=\"2\"></mutation><field name=\"VAR\" id=\"Mvcq+P(afE9x6R@bF+6B\">randomForestRegressionTree</field><field name=\"MEMBER\">score</field><data>randomForestRegressionTree:score</data><value name=\"ADD0\"><block type=\"lists_getIndex\" id=\"+MD`-:6~FyLnj2dG}Wn6\"><mutation statement=\"false\" at=\"true\"></mutation><field name=\"MODE\">GET</field><field name=\"WHERE\">FROM_START</field><value name=\"VALUE\"><block type=\"variables_get\" id=\"ttoJ2j;lJgXNoFqC})PY\"><field name=\"VAR\" id=\"{Yt*9=2tTC$JepE9BcRz\">splits</field></block></value><value name=\"AT\"><block type=\"math_number\" id=\"anndJC]ouLVh--o3P^l4\"><field name=\"NUM\">2</field></block></value></block></value><value name=\"ADD1\"><block type=\"lists_getIndex\" id=\"!kR]i230}sW~7pI7Ly}Z\"><mutation statement=\"false\" at=\"true\"></mutation><field name=\"MODE\">GET</field><field name=\"WHERE\">FROM_START</field><value name=\"VALUE\"><block type=\"variables_get\" id=\"2[^L;t[YfC`cm0jE+Q1X\"><field name=\"VAR\" id=\"{Yt*9=2tTC$JepE9BcRz\">splits</field></block></value><value name=\"AT\"><block type=\"math_number\" id=\"7U$Dd.q*|fxYnYCaD-hA\"><field name=\"NUM\">4</field></block></value></block></value></block></value></block></value></block></next></block></xml>"
   ]
  },
  {
   "cell_type": "markdown",
   "metadata": {},
   "source": [
    "------------------\n",
    "**QUESTION:**\n",
    "\n",
    "Compare the three models with respect to their *training data performance*. Which is better?\n",
    "Now compare the three models with respect to their *testing data performance*. Which is better?\n",
    "What do these differences tell you?"
   ]
  },
  {
   "cell_type": "markdown",
   "metadata": {},
   "source": [
    "**ANSWER: (click here to edit)**\n",
    "\n",
    "*The regression tree model has a much better fit on the training data than the others.\n",
    "The regression tree model is worse than the ensemble models on the testing data, and the two ensemble models are about the same, with random forests ever so slightly underperforming.\n",
    "This suggests that the regression tree has overfit the training data (because it has a big performance loss on the testing data), and overfitting the data this way HAS negatively impacted its performance relative to the ensemble models.*\n",
    "<hr>"
   ]
  },
  {
   "cell_type": "markdown",
   "metadata": {},
   "source": [
    "## Feature importance\n",
    "\n",
    "Calculate the feature importance for the three models and plot it as a `plotly` bar chart.\n",
    "\n",
    "To get the column names for `x=` in the bar chart, you can use `from X get columns` as a shortcut."
   ]
  },
  {
   "cell_type": "markdown",
   "metadata": {},
   "source": [
    "### Regression tree"
   ]
  },
  {
   "cell_type": "code",
   "execution_count": 27,
   "metadata": {
    "user_blocks": [
     "varDoMethod",
     "valueOutputCodeBlock",
     "varGetProperty",
     "valueOutputCodeBlock",
     "varGetProperty"
    ],
    "user_blocks_xml": "<xml xmlns=\"https://developers.google.com/blockly/xml\"><variables><variable id=\"+yh,Zg{hON]zy6D~.rH#\">px</variable><variable id=\"_z/H/tTnOYS1Lla2~;*0\">X</variable><variable id=\"dE3=o8T5`CCHo%,m,2(A\">regressionTree</variable></variables><block type=\"varDoMethod\" id=\"XntGzn~qa18Ik6_`_)X8\" x=\"0\" y=\"0\"><mutation items=\"2\"></mutation><field name=\"VAR\" id=\"+yh,Zg{hON]zy6D~.rH#\">px</field><field name=\"MEMBER\">bar</field><data>px:bar</data><value name=\"ADD0\"><block type=\"valueOutputCodeBlock\" id=\"$ALMI7MUyW+_ndPYFX`6\"><field name=\"CODE\">x=</field><value name=\"INPUT\"><block type=\"varGetProperty\" id=\"]eR#Z1Q-Y.)v*wPlm%=h\"><field name=\"VAR\" id=\"_z/H/tTnOYS1Lla2~;*0\">X</field><field name=\"MEMBER\">columns</field><data>X:columns</data></block></value></block></value><value name=\"ADD1\"><block type=\"valueOutputCodeBlock\" id=\"3YVNFcVDtd*X{0Sg{6Oc\"><field name=\"CODE\">y=</field><value name=\"INPUT\"><block type=\"varGetProperty\" id=\"@z94kf*yvYscV2]OHY$,\"><field name=\"VAR\" id=\"dE3=o8T5`CCHo%,m,2(A\">regressionTree</field><field name=\"MEMBER\">feature_importances_</field><data>regressionTree:feature_importances_</data></block></value></block></value></block></xml>",
    "user_code_from_blocks": "px.bar(x= (X.columns),y= (regressionTree.feature_importances_))\n"
   },
   "outputs": [
    {
     "data": {
      "application/vnd.plotly.v1+json": {
       "config": {
        "plotlyServerURL": "https://plot.ly"
       },
       "data": [
        {
         "hovertemplate": "x=%{x}<br>y=%{y}<extra></extra>",
         "legendgroup": "",
         "marker": {
          "color": "#636efa",
          "pattern": {
           "shape": ""
          }
         },
         "name": "",
         "orientation": "v",
         "showlegend": false,
         "textposition": "auto",
         "type": "bar",
         "x": [
          "crim",
          "zn",
          "indus",
          "chas",
          "nox",
          "rm",
          "age",
          "dis",
          "rad",
          "tax",
          "ptratio",
          "lstat"
         ],
         "xaxis": "x",
         "y": {
          "bdata": "34yOQY7vnj8KEa9qW/E9Py4tapuKgUE/qKuNY4STXD+cyf4v28qaP6p8018ROtA/rXsYgeeckD/TReamEPu0P4AiiFY5yFw/nbQV5nMWjj87YF/rktOiPzTCZEh7JuE/",
          "dtype": "f8"
         },
         "yaxis": "y"
        }
       ],
       "layout": {
        "barmode": "relative",
        "legend": {
         "tracegroupgap": 0
        },
        "margin": {
         "t": 60
        },
        "template": {
         "data": {
          "bar": [
           {
            "error_x": {
             "color": "#2a3f5f"
            },
            "error_y": {
             "color": "#2a3f5f"
            },
            "marker": {
             "line": {
              "color": "#E5ECF6",
              "width": 0.5
             },
             "pattern": {
              "fillmode": "overlay",
              "size": 10,
              "solidity": 0.2
             }
            },
            "type": "bar"
           }
          ],
          "barpolar": [
           {
            "marker": {
             "line": {
              "color": "#E5ECF6",
              "width": 0.5
             },
             "pattern": {
              "fillmode": "overlay",
              "size": 10,
              "solidity": 0.2
             }
            },
            "type": "barpolar"
           }
          ],
          "carpet": [
           {
            "aaxis": {
             "endlinecolor": "#2a3f5f",
             "gridcolor": "white",
             "linecolor": "white",
             "minorgridcolor": "white",
             "startlinecolor": "#2a3f5f"
            },
            "baxis": {
             "endlinecolor": "#2a3f5f",
             "gridcolor": "white",
             "linecolor": "white",
             "minorgridcolor": "white",
             "startlinecolor": "#2a3f5f"
            },
            "type": "carpet"
           }
          ],
          "choropleth": [
           {
            "colorbar": {
             "outlinewidth": 0,
             "ticks": ""
            },
            "type": "choropleth"
           }
          ],
          "contour": [
           {
            "colorbar": {
             "outlinewidth": 0,
             "ticks": ""
            },
            "colorscale": [
             [
              0,
              "#0d0887"
             ],
             [
              0.1111111111111111,
              "#46039f"
             ],
             [
              0.2222222222222222,
              "#7201a8"
             ],
             [
              0.3333333333333333,
              "#9c179e"
             ],
             [
              0.4444444444444444,
              "#bd3786"
             ],
             [
              0.5555555555555556,
              "#d8576b"
             ],
             [
              0.6666666666666666,
              "#ed7953"
             ],
             [
              0.7777777777777778,
              "#fb9f3a"
             ],
             [
              0.8888888888888888,
              "#fdca26"
             ],
             [
              1,
              "#f0f921"
             ]
            ],
            "type": "contour"
           }
          ],
          "contourcarpet": [
           {
            "colorbar": {
             "outlinewidth": 0,
             "ticks": ""
            },
            "type": "contourcarpet"
           }
          ],
          "heatmap": [
           {
            "colorbar": {
             "outlinewidth": 0,
             "ticks": ""
            },
            "colorscale": [
             [
              0,
              "#0d0887"
             ],
             [
              0.1111111111111111,
              "#46039f"
             ],
             [
              0.2222222222222222,
              "#7201a8"
             ],
             [
              0.3333333333333333,
              "#9c179e"
             ],
             [
              0.4444444444444444,
              "#bd3786"
             ],
             [
              0.5555555555555556,
              "#d8576b"
             ],
             [
              0.6666666666666666,
              "#ed7953"
             ],
             [
              0.7777777777777778,
              "#fb9f3a"
             ],
             [
              0.8888888888888888,
              "#fdca26"
             ],
             [
              1,
              "#f0f921"
             ]
            ],
            "type": "heatmap"
           }
          ],
          "histogram": [
           {
            "marker": {
             "pattern": {
              "fillmode": "overlay",
              "size": 10,
              "solidity": 0.2
             }
            },
            "type": "histogram"
           }
          ],
          "histogram2d": [
           {
            "colorbar": {
             "outlinewidth": 0,
             "ticks": ""
            },
            "colorscale": [
             [
              0,
              "#0d0887"
             ],
             [
              0.1111111111111111,
              "#46039f"
             ],
             [
              0.2222222222222222,
              "#7201a8"
             ],
             [
              0.3333333333333333,
              "#9c179e"
             ],
             [
              0.4444444444444444,
              "#bd3786"
             ],
             [
              0.5555555555555556,
              "#d8576b"
             ],
             [
              0.6666666666666666,
              "#ed7953"
             ],
             [
              0.7777777777777778,
              "#fb9f3a"
             ],
             [
              0.8888888888888888,
              "#fdca26"
             ],
             [
              1,
              "#f0f921"
             ]
            ],
            "type": "histogram2d"
           }
          ],
          "histogram2dcontour": [
           {
            "colorbar": {
             "outlinewidth": 0,
             "ticks": ""
            },
            "colorscale": [
             [
              0,
              "#0d0887"
             ],
             [
              0.1111111111111111,
              "#46039f"
             ],
             [
              0.2222222222222222,
              "#7201a8"
             ],
             [
              0.3333333333333333,
              "#9c179e"
             ],
             [
              0.4444444444444444,
              "#bd3786"
             ],
             [
              0.5555555555555556,
              "#d8576b"
             ],
             [
              0.6666666666666666,
              "#ed7953"
             ],
             [
              0.7777777777777778,
              "#fb9f3a"
             ],
             [
              0.8888888888888888,
              "#fdca26"
             ],
             [
              1,
              "#f0f921"
             ]
            ],
            "type": "histogram2dcontour"
           }
          ],
          "mesh3d": [
           {
            "colorbar": {
             "outlinewidth": 0,
             "ticks": ""
            },
            "type": "mesh3d"
           }
          ],
          "parcoords": [
           {
            "line": {
             "colorbar": {
              "outlinewidth": 0,
              "ticks": ""
             }
            },
            "type": "parcoords"
           }
          ],
          "pie": [
           {
            "automargin": true,
            "type": "pie"
           }
          ],
          "scatter": [
           {
            "fillpattern": {
             "fillmode": "overlay",
             "size": 10,
             "solidity": 0.2
            },
            "type": "scatter"
           }
          ],
          "scatter3d": [
           {
            "line": {
             "colorbar": {
              "outlinewidth": 0,
              "ticks": ""
             }
            },
            "marker": {
             "colorbar": {
              "outlinewidth": 0,
              "ticks": ""
             }
            },
            "type": "scatter3d"
           }
          ],
          "scattercarpet": [
           {
            "marker": {
             "colorbar": {
              "outlinewidth": 0,
              "ticks": ""
             }
            },
            "type": "scattercarpet"
           }
          ],
          "scattergeo": [
           {
            "marker": {
             "colorbar": {
              "outlinewidth": 0,
              "ticks": ""
             }
            },
            "type": "scattergeo"
           }
          ],
          "scattergl": [
           {
            "marker": {
             "colorbar": {
              "outlinewidth": 0,
              "ticks": ""
             }
            },
            "type": "scattergl"
           }
          ],
          "scattermap": [
           {
            "marker": {
             "colorbar": {
              "outlinewidth": 0,
              "ticks": ""
             }
            },
            "type": "scattermap"
           }
          ],
          "scattermapbox": [
           {
            "marker": {
             "colorbar": {
              "outlinewidth": 0,
              "ticks": ""
             }
            },
            "type": "scattermapbox"
           }
          ],
          "scatterpolar": [
           {
            "marker": {
             "colorbar": {
              "outlinewidth": 0,
              "ticks": ""
             }
            },
            "type": "scatterpolar"
           }
          ],
          "scatterpolargl": [
           {
            "marker": {
             "colorbar": {
              "outlinewidth": 0,
              "ticks": ""
             }
            },
            "type": "scatterpolargl"
           }
          ],
          "scatterternary": [
           {
            "marker": {
             "colorbar": {
              "outlinewidth": 0,
              "ticks": ""
             }
            },
            "type": "scatterternary"
           }
          ],
          "surface": [
           {
            "colorbar": {
             "outlinewidth": 0,
             "ticks": ""
            },
            "colorscale": [
             [
              0,
              "#0d0887"
             ],
             [
              0.1111111111111111,
              "#46039f"
             ],
             [
              0.2222222222222222,
              "#7201a8"
             ],
             [
              0.3333333333333333,
              "#9c179e"
             ],
             [
              0.4444444444444444,
              "#bd3786"
             ],
             [
              0.5555555555555556,
              "#d8576b"
             ],
             [
              0.6666666666666666,
              "#ed7953"
             ],
             [
              0.7777777777777778,
              "#fb9f3a"
             ],
             [
              0.8888888888888888,
              "#fdca26"
             ],
             [
              1,
              "#f0f921"
             ]
            ],
            "type": "surface"
           }
          ],
          "table": [
           {
            "cells": {
             "fill": {
              "color": "#EBF0F8"
             },
             "line": {
              "color": "white"
             }
            },
            "header": {
             "fill": {
              "color": "#C8D4E3"
             },
             "line": {
              "color": "white"
             }
            },
            "type": "table"
           }
          ]
         },
         "layout": {
          "annotationdefaults": {
           "arrowcolor": "#2a3f5f",
           "arrowhead": 0,
           "arrowwidth": 1
          },
          "autotypenumbers": "strict",
          "coloraxis": {
           "colorbar": {
            "outlinewidth": 0,
            "ticks": ""
           }
          },
          "colorscale": {
           "diverging": [
            [
             0,
             "#8e0152"
            ],
            [
             0.1,
             "#c51b7d"
            ],
            [
             0.2,
             "#de77ae"
            ],
            [
             0.3,
             "#f1b6da"
            ],
            [
             0.4,
             "#fde0ef"
            ],
            [
             0.5,
             "#f7f7f7"
            ],
            [
             0.6,
             "#e6f5d0"
            ],
            [
             0.7,
             "#b8e186"
            ],
            [
             0.8,
             "#7fbc41"
            ],
            [
             0.9,
             "#4d9221"
            ],
            [
             1,
             "#276419"
            ]
           ],
           "sequential": [
            [
             0,
             "#0d0887"
            ],
            [
             0.1111111111111111,
             "#46039f"
            ],
            [
             0.2222222222222222,
             "#7201a8"
            ],
            [
             0.3333333333333333,
             "#9c179e"
            ],
            [
             0.4444444444444444,
             "#bd3786"
            ],
            [
             0.5555555555555556,
             "#d8576b"
            ],
            [
             0.6666666666666666,
             "#ed7953"
            ],
            [
             0.7777777777777778,
             "#fb9f3a"
            ],
            [
             0.8888888888888888,
             "#fdca26"
            ],
            [
             1,
             "#f0f921"
            ]
           ],
           "sequentialminus": [
            [
             0,
             "#0d0887"
            ],
            [
             0.1111111111111111,
             "#46039f"
            ],
            [
             0.2222222222222222,
             "#7201a8"
            ],
            [
             0.3333333333333333,
             "#9c179e"
            ],
            [
             0.4444444444444444,
             "#bd3786"
            ],
            [
             0.5555555555555556,
             "#d8576b"
            ],
            [
             0.6666666666666666,
             "#ed7953"
            ],
            [
             0.7777777777777778,
             "#fb9f3a"
            ],
            [
             0.8888888888888888,
             "#fdca26"
            ],
            [
             1,
             "#f0f921"
            ]
           ]
          },
          "colorway": [
           "#636efa",
           "#EF553B",
           "#00cc96",
           "#ab63fa",
           "#FFA15A",
           "#19d3f3",
           "#FF6692",
           "#B6E880",
           "#FF97FF",
           "#FECB52"
          ],
          "font": {
           "color": "#2a3f5f"
          },
          "geo": {
           "bgcolor": "white",
           "lakecolor": "white",
           "landcolor": "#E5ECF6",
           "showlakes": true,
           "showland": true,
           "subunitcolor": "white"
          },
          "hoverlabel": {
           "align": "left"
          },
          "hovermode": "closest",
          "mapbox": {
           "style": "light"
          },
          "paper_bgcolor": "white",
          "plot_bgcolor": "#E5ECF6",
          "polar": {
           "angularaxis": {
            "gridcolor": "white",
            "linecolor": "white",
            "ticks": ""
           },
           "bgcolor": "#E5ECF6",
           "radialaxis": {
            "gridcolor": "white",
            "linecolor": "white",
            "ticks": ""
           }
          },
          "scene": {
           "xaxis": {
            "backgroundcolor": "#E5ECF6",
            "gridcolor": "white",
            "gridwidth": 2,
            "linecolor": "white",
            "showbackground": true,
            "ticks": "",
            "zerolinecolor": "white"
           },
           "yaxis": {
            "backgroundcolor": "#E5ECF6",
            "gridcolor": "white",
            "gridwidth": 2,
            "linecolor": "white",
            "showbackground": true,
            "ticks": "",
            "zerolinecolor": "white"
           },
           "zaxis": {
            "backgroundcolor": "#E5ECF6",
            "gridcolor": "white",
            "gridwidth": 2,
            "linecolor": "white",
            "showbackground": true,
            "ticks": "",
            "zerolinecolor": "white"
           }
          },
          "shapedefaults": {
           "line": {
            "color": "#2a3f5f"
           }
          },
          "ternary": {
           "aaxis": {
            "gridcolor": "white",
            "linecolor": "white",
            "ticks": ""
           },
           "baxis": {
            "gridcolor": "white",
            "linecolor": "white",
            "ticks": ""
           },
           "bgcolor": "#E5ECF6",
           "caxis": {
            "gridcolor": "white",
            "linecolor": "white",
            "ticks": ""
           }
          },
          "title": {
           "x": 0.05
          },
          "xaxis": {
           "automargin": true,
           "gridcolor": "white",
           "linecolor": "white",
           "ticks": "",
           "title": {
            "standoff": 15
           },
           "zerolinecolor": "white",
           "zerolinewidth": 2
          },
          "yaxis": {
           "automargin": true,
           "gridcolor": "white",
           "linecolor": "white",
           "ticks": "",
           "title": {
            "standoff": 15
           },
           "zerolinecolor": "white",
           "zerolinewidth": 2
          }
         }
        },
        "xaxis": {
         "anchor": "y",
         "domain": [
          0,
          1
         ],
         "title": {
          "text": "x"
         }
        },
        "yaxis": {
         "anchor": "x",
         "domain": [
          0,
          1
         ],
         "title": {
          "text": "y"
         }
        }
       }
      },
      "image/png": "[encoded data removed]"
     },
     "metadata": {},
     "output_type": "display_data"
    }
   ],
   "source": [
    "px.bar(x= (X.columns),y= (regressionTree.feature_importances_))\n",
    "\n",
    "#<xml xmlns=\"https://developers.google.com/blockly/xml\"><variables><variable id=\"+yh,Zg{hON]zy6D~.rH#\">px</variable><variable id=\"_z/H/tTnOYS1Lla2~;*0\">X</variable><variable id=\"dE3=o8T5`CCHo%,m,2(A\">regressionTree</variable></variables><block type=\"varDoMethod\" id=\"XntGzn~qa18Ik6_`_)X8\" x=\"0\" y=\"0\"><mutation items=\"2\"></mutation><field name=\"VAR\" id=\"+yh,Zg{hON]zy6D~.rH#\">px</field><field name=\"MEMBER\">bar</field><data>px:bar</data><value name=\"ADD0\"><block type=\"valueOutputCodeBlock\" id=\"$ALMI7MUyW+_ndPYFX`6\"><field name=\"CODE\">x=</field><value name=\"INPUT\"><block type=\"varGetProperty\" id=\"]eR#Z1Q-Y.)v*wPlm%=h\"><field name=\"VAR\" id=\"_z/H/tTnOYS1Lla2~;*0\">X</field><field name=\"MEMBER\">columns</field><data>X:columns</data></block></value></block></value><value name=\"ADD1\"><block type=\"valueOutputCodeBlock\" id=\"3YVNFcVDtd*X{0Sg{6Oc\"><field name=\"CODE\">y=</field><value name=\"INPUT\"><block type=\"varGetProperty\" id=\"@z94kf*yvYscV2]OHY$,\"><field name=\"VAR\" id=\"dE3=o8T5`CCHo%,m,2(A\">regressionTree</field><field name=\"MEMBER\">feature_importances_</field><data>regressionTree:feature_importances_</data></block></value></block></value></block></xml>"
   ]
  },
  {
   "cell_type": "markdown",
   "metadata": {},
   "source": [
    "### Bagged regression tree\n",
    "\n",
    "For some reason, `sklearn` does not implement `feature_importances_` for `BaggingRegressor`, so use the following freestyle for the `y=` part of your plot: \n",
    "\n",
    "`np.mean([ tree.feature_importances_ for tree in baggedRegressionTree.estimators_ ], axis=0)`\n",
    "\n",
    "**You will need to change `baggedRegressionTree` to whatever you called this model above.**"
   ]
  },
  {
   "cell_type": "code",
   "execution_count": 29,
   "metadata": {
    "user_blocks": [
     "varDoMethod",
     "valueOutputCodeBlock",
     "varGetProperty",
     "valueOutputCodeBlock"
    ],
    "user_blocks_xml": "<xml xmlns=\"https://developers.google.com/blockly/xml\"><variables><variable id=\"+yh,Zg{hON]zy6D~.rH#\">px</variable><variable id=\"_z/H/tTnOYS1Lla2~;*0\">X</variable></variables><block type=\"varDoMethod\" id=\"XntGzn~qa18Ik6_`_)X8\" x=\"0\" y=\"0\"><mutation items=\"2\"></mutation><field name=\"VAR\" id=\"+yh,Zg{hON]zy6D~.rH#\">px</field><field name=\"MEMBER\">bar</field><data>px:bar</data><value name=\"ADD0\"><block type=\"valueOutputCodeBlock\" id=\"$ALMI7MUyW+_ndPYFX`6\"><field name=\"CODE\">x=</field><value name=\"INPUT\"><block type=\"varGetProperty\" id=\"]eR#Z1Q-Y.)v*wPlm%=h\"><field name=\"VAR\" id=\"_z/H/tTnOYS1Lla2~;*0\">X</field><field name=\"MEMBER\">columns</field><data>X:columns</data></block></value></block></value><value name=\"ADD1\"><block type=\"valueOutputCodeBlock\" id=\"3YVNFcVDtd*X{0Sg{6Oc\"><field name=\"CODE\">y=np.mean([ tree.feature_importances_ for tree in baggedRegressionTree.estimators_ ], axis=0)</field></block></value></block></xml>",
    "user_code_from_blocks": "px.bar(x= (X.columns),y=np.mean([ tree.feature_importances_ for tree in baggedRegressionTree.estimators_ ], axis=0))\n"
   },
   "outputs": [
    {
     "data": {
      "application/vnd.plotly.v1+json": {
       "config": {
        "plotlyServerURL": "https://plot.ly"
       },
       "data": [
        {
         "hovertemplate": "x=%{x}<br>y=%{y}<extra></extra>",
         "legendgroup": "",
         "marker": {
          "color": "#636efa",
          "pattern": {
           "shape": ""
          }
         },
         "name": "",
         "orientation": "v",
         "showlegend": false,
         "textposition": "auto",
         "type": "bar",
         "x": [
          "crim",
          "zn",
          "indus",
          "chas",
          "nox",
          "rm",
          "age",
          "dis",
          "rad",
          "tax",
          "ptratio",
          "lstat"
         ],
         "xaxis": "x",
         "y": {
          "bdata": "Tij83Lakpz9uftkls7hqPxNMLxS6hYg/dAnyV3yDVz/F47HU9kOfP5MIeXpyktE/qwuGHvYwoT+aR4bCuHSlP7FgKnaCOXU/cb939Q/elD9dJnPpQkyWPzwpt7qpS+A/",
          "dtype": "f8"
         },
         "yaxis": "y"
        }
       ],
       "layout": {
        "barmode": "relative",
        "legend": {
         "tracegroupgap": 0
        },
        "margin": {
         "t": 60
        },
        "template": {
         "data": {
          "bar": [
           {
            "error_x": {
             "color": "#2a3f5f"
            },
            "error_y": {
             "color": "#2a3f5f"
            },
            "marker": {
             "line": {
              "color": "#E5ECF6",
              "width": 0.5
             },
             "pattern": {
              "fillmode": "overlay",
              "size": 10,
              "solidity": 0.2
             }
            },
            "type": "bar"
           }
          ],
          "barpolar": [
           {
            "marker": {
             "line": {
              "color": "#E5ECF6",
              "width": 0.5
             },
             "pattern": {
              "fillmode": "overlay",
              "size": 10,
              "solidity": 0.2
             }
            },
            "type": "barpolar"
           }
          ],
          "carpet": [
           {
            "aaxis": {
             "endlinecolor": "#2a3f5f",
             "gridcolor": "white",
             "linecolor": "white",
             "minorgridcolor": "white",
             "startlinecolor": "#2a3f5f"
            },
            "baxis": {
             "endlinecolor": "#2a3f5f",
             "gridcolor": "white",
             "linecolor": "white",
             "minorgridcolor": "white",
             "startlinecolor": "#2a3f5f"
            },
            "type": "carpet"
           }
          ],
          "choropleth": [
           {
            "colorbar": {
             "outlinewidth": 0,
             "ticks": ""
            },
            "type": "choropleth"
           }
          ],
          "contour": [
           {
            "colorbar": {
             "outlinewidth": 0,
             "ticks": ""
            },
            "colorscale": [
             [
              0,
              "#0d0887"
             ],
             [
              0.1111111111111111,
              "#46039f"
             ],
             [
              0.2222222222222222,
              "#7201a8"
             ],
             [
              0.3333333333333333,
              "#9c179e"
             ],
             [
              0.4444444444444444,
              "#bd3786"
             ],
             [
              0.5555555555555556,
              "#d8576b"
             ],
             [
              0.6666666666666666,
              "#ed7953"
             ],
             [
              0.7777777777777778,
              "#fb9f3a"
             ],
             [
              0.8888888888888888,
              "#fdca26"
             ],
             [
              1,
              "#f0f921"
             ]
            ],
            "type": "contour"
           }
          ],
          "contourcarpet": [
           {
            "colorbar": {
             "outlinewidth": 0,
             "ticks": ""
            },
            "type": "contourcarpet"
           }
          ],
          "heatmap": [
           {
            "colorbar": {
             "outlinewidth": 0,
             "ticks": ""
            },
            "colorscale": [
             [
              0,
              "#0d0887"
             ],
             [
              0.1111111111111111,
              "#46039f"
             ],
             [
              0.2222222222222222,
              "#7201a8"
             ],
             [
              0.3333333333333333,
              "#9c179e"
             ],
             [
              0.4444444444444444,
              "#bd3786"
             ],
             [
              0.5555555555555556,
              "#d8576b"
             ],
             [
              0.6666666666666666,
              "#ed7953"
             ],
             [
              0.7777777777777778,
              "#fb9f3a"
             ],
             [
              0.8888888888888888,
              "#fdca26"
             ],
             [
              1,
              "#f0f921"
             ]
            ],
            "type": "heatmap"
           }
          ],
          "histogram": [
           {
            "marker": {
             "pattern": {
              "fillmode": "overlay",
              "size": 10,
              "solidity": 0.2
             }
            },
            "type": "histogram"
           }
          ],
          "histogram2d": [
           {
            "colorbar": {
             "outlinewidth": 0,
             "ticks": ""
            },
            "colorscale": [
             [
              0,
              "#0d0887"
             ],
             [
              0.1111111111111111,
              "#46039f"
             ],
             [
              0.2222222222222222,
              "#7201a8"
             ],
             [
              0.3333333333333333,
              "#9c179e"
             ],
             [
              0.4444444444444444,
              "#bd3786"
             ],
             [
              0.5555555555555556,
              "#d8576b"
             ],
             [
              0.6666666666666666,
              "#ed7953"
             ],
             [
              0.7777777777777778,
              "#fb9f3a"
             ],
             [
              0.8888888888888888,
              "#fdca26"
             ],
             [
              1,
              "#f0f921"
             ]
            ],
            "type": "histogram2d"
           }
          ],
          "histogram2dcontour": [
           {
            "colorbar": {
             "outlinewidth": 0,
             "ticks": ""
            },
            "colorscale": [
             [
              0,
              "#0d0887"
             ],
             [
              0.1111111111111111,
              "#46039f"
             ],
             [
              0.2222222222222222,
              "#7201a8"
             ],
             [
              0.3333333333333333,
              "#9c179e"
             ],
             [
              0.4444444444444444,
              "#bd3786"
             ],
             [
              0.5555555555555556,
              "#d8576b"
             ],
             [
              0.6666666666666666,
              "#ed7953"
             ],
             [
              0.7777777777777778,
              "#fb9f3a"
             ],
             [
              0.8888888888888888,
              "#fdca26"
             ],
             [
              1,
              "#f0f921"
             ]
            ],
            "type": "histogram2dcontour"
           }
          ],
          "mesh3d": [
           {
            "colorbar": {
             "outlinewidth": 0,
             "ticks": ""
            },
            "type": "mesh3d"
           }
          ],
          "parcoords": [
           {
            "line": {
             "colorbar": {
              "outlinewidth": 0,
              "ticks": ""
             }
            },
            "type": "parcoords"
           }
          ],
          "pie": [
           {
            "automargin": true,
            "type": "pie"
           }
          ],
          "scatter": [
           {
            "fillpattern": {
             "fillmode": "overlay",
             "size": 10,
             "solidity": 0.2
            },
            "type": "scatter"
           }
          ],
          "scatter3d": [
           {
            "line": {
             "colorbar": {
              "outlinewidth": 0,
              "ticks": ""
             }
            },
            "marker": {
             "colorbar": {
              "outlinewidth": 0,
              "ticks": ""
             }
            },
            "type": "scatter3d"
           }
          ],
          "scattercarpet": [
           {
            "marker": {
             "colorbar": {
              "outlinewidth": 0,
              "ticks": ""
             }
            },
            "type": "scattercarpet"
           }
          ],
          "scattergeo": [
           {
            "marker": {
             "colorbar": {
              "outlinewidth": 0,
              "ticks": ""
             }
            },
            "type": "scattergeo"
           }
          ],
          "scattergl": [
           {
            "marker": {
             "colorbar": {
              "outlinewidth": 0,
              "ticks": ""
             }
            },
            "type": "scattergl"
           }
          ],
          "scattermap": [
           {
            "marker": {
             "colorbar": {
              "outlinewidth": 0,
              "ticks": ""
             }
            },
            "type": "scattermap"
           }
          ],
          "scattermapbox": [
           {
            "marker": {
             "colorbar": {
              "outlinewidth": 0,
              "ticks": ""
             }
            },
            "type": "scattermapbox"
           }
          ],
          "scatterpolar": [
           {
            "marker": {
             "colorbar": {
              "outlinewidth": 0,
              "ticks": ""
             }
            },
            "type": "scatterpolar"
           }
          ],
          "scatterpolargl": [
           {
            "marker": {
             "colorbar": {
              "outlinewidth": 0,
              "ticks": ""
             }
            },
            "type": "scatterpolargl"
           }
          ],
          "scatterternary": [
           {
            "marker": {
             "colorbar": {
              "outlinewidth": 0,
              "ticks": ""
             }
            },
            "type": "scatterternary"
           }
          ],
          "surface": [
           {
            "colorbar": {
             "outlinewidth": 0,
             "ticks": ""
            },
            "colorscale": [
             [
              0,
              "#0d0887"
             ],
             [
              0.1111111111111111,
              "#46039f"
             ],
             [
              0.2222222222222222,
              "#7201a8"
             ],
             [
              0.3333333333333333,
              "#9c179e"
             ],
             [
              0.4444444444444444,
              "#bd3786"
             ],
             [
              0.5555555555555556,
              "#d8576b"
             ],
             [
              0.6666666666666666,
              "#ed7953"
             ],
             [
              0.7777777777777778,
              "#fb9f3a"
             ],
             [
              0.8888888888888888,
              "#fdca26"
             ],
             [
              1,
              "#f0f921"
             ]
            ],
            "type": "surface"
           }
          ],
          "table": [
           {
            "cells": {
             "fill": {
              "color": "#EBF0F8"
             },
             "line": {
              "color": "white"
             }
            },
            "header": {
             "fill": {
              "color": "#C8D4E3"
             },
             "line": {
              "color": "white"
             }
            },
            "type": "table"
           }
          ]
         },
         "layout": {
          "annotationdefaults": {
           "arrowcolor": "#2a3f5f",
           "arrowhead": 0,
           "arrowwidth": 1
          },
          "autotypenumbers": "strict",
          "coloraxis": {
           "colorbar": {
            "outlinewidth": 0,
            "ticks": ""
           }
          },
          "colorscale": {
           "diverging": [
            [
             0,
             "#8e0152"
            ],
            [
             0.1,
             "#c51b7d"
            ],
            [
             0.2,
             "#de77ae"
            ],
            [
             0.3,
             "#f1b6da"
            ],
            [
             0.4,
             "#fde0ef"
            ],
            [
             0.5,
             "#f7f7f7"
            ],
            [
             0.6,
             "#e6f5d0"
            ],
            [
             0.7,
             "#b8e186"
            ],
            [
             0.8,
             "#7fbc41"
            ],
            [
             0.9,
             "#4d9221"
            ],
            [
             1,
             "#276419"
            ]
           ],
           "sequential": [
            [
             0,
             "#0d0887"
            ],
            [
             0.1111111111111111,
             "#46039f"
            ],
            [
             0.2222222222222222,
             "#7201a8"
            ],
            [
             0.3333333333333333,
             "#9c179e"
            ],
            [
             0.4444444444444444,
             "#bd3786"
            ],
            [
             0.5555555555555556,
             "#d8576b"
            ],
            [
             0.6666666666666666,
             "#ed7953"
            ],
            [
             0.7777777777777778,
             "#fb9f3a"
            ],
            [
             0.8888888888888888,
             "#fdca26"
            ],
            [
             1,
             "#f0f921"
            ]
           ],
           "sequentialminus": [
            [
             0,
             "#0d0887"
            ],
            [
             0.1111111111111111,
             "#46039f"
            ],
            [
             0.2222222222222222,
             "#7201a8"
            ],
            [
             0.3333333333333333,
             "#9c179e"
            ],
            [
             0.4444444444444444,
             "#bd3786"
            ],
            [
             0.5555555555555556,
             "#d8576b"
            ],
            [
             0.6666666666666666,
             "#ed7953"
            ],
            [
             0.7777777777777778,
             "#fb9f3a"
            ],
            [
             0.8888888888888888,
             "#fdca26"
            ],
            [
             1,
             "#f0f921"
            ]
           ]
          },
          "colorway": [
           "#636efa",
           "#EF553B",
           "#00cc96",
           "#ab63fa",
           "#FFA15A",
           "#19d3f3",
           "#FF6692",
           "#B6E880",
           "#FF97FF",
           "#FECB52"
          ],
          "font": {
           "color": "#2a3f5f"
          },
          "geo": {
           "bgcolor": "white",
           "lakecolor": "white",
           "landcolor": "#E5ECF6",
           "showlakes": true,
           "showland": true,
           "subunitcolor": "white"
          },
          "hoverlabel": {
           "align": "left"
          },
          "hovermode": "closest",
          "mapbox": {
           "style": "light"
          },
          "paper_bgcolor": "white",
          "plot_bgcolor": "#E5ECF6",
          "polar": {
           "angularaxis": {
            "gridcolor": "white",
            "linecolor": "white",
            "ticks": ""
           },
           "bgcolor": "#E5ECF6",
           "radialaxis": {
            "gridcolor": "white",
            "linecolor": "white",
            "ticks": ""
           }
          },
          "scene": {
           "xaxis": {
            "backgroundcolor": "#E5ECF6",
            "gridcolor": "white",
            "gridwidth": 2,
            "linecolor": "white",
            "showbackground": true,
            "ticks": "",
            "zerolinecolor": "white"
           },
           "yaxis": {
            "backgroundcolor": "#E5ECF6",
            "gridcolor": "white",
            "gridwidth": 2,
            "linecolor": "white",
            "showbackground": true,
            "ticks": "",
            "zerolinecolor": "white"
           },
           "zaxis": {
            "backgroundcolor": "#E5ECF6",
            "gridcolor": "white",
            "gridwidth": 2,
            "linecolor": "white",
            "showbackground": true,
            "ticks": "",
            "zerolinecolor": "white"
           }
          },
          "shapedefaults": {
           "line": {
            "color": "#2a3f5f"
           }
          },
          "ternary": {
           "aaxis": {
            "gridcolor": "white",
            "linecolor": "white",
            "ticks": ""
           },
           "baxis": {
            "gridcolor": "white",
            "linecolor": "white",
            "ticks": ""
           },
           "bgcolor": "#E5ECF6",
           "caxis": {
            "gridcolor": "white",
            "linecolor": "white",
            "ticks": ""
           }
          },
          "title": {
           "x": 0.05
          },
          "xaxis": {
           "automargin": true,
           "gridcolor": "white",
           "linecolor": "white",
           "ticks": "",
           "title": {
            "standoff": 15
           },
           "zerolinecolor": "white",
           "zerolinewidth": 2
          },
          "yaxis": {
           "automargin": true,
           "gridcolor": "white",
           "linecolor": "white",
           "ticks": "",
           "title": {
            "standoff": 15
           },
           "zerolinecolor": "white",
           "zerolinewidth": 2
          }
         }
        },
        "xaxis": {
         "anchor": "y",
         "domain": [
          0,
          1
         ],
         "title": {
          "text": "x"
         }
        },
        "yaxis": {
         "anchor": "x",
         "domain": [
          0,
          1
         ],
         "title": {
          "text": "y"
         }
        }
       }
      },
      "image/png": "[encoded data removed]"
     },
     "metadata": {},
     "output_type": "display_data"
    }
   ],
   "source": [
    "px.bar(x= (X.columns),y=np.mean([ tree.feature_importances_ for tree in baggedRegressionTree.estimators_ ], axis=0))\n",
    "\n",
    "#<xml xmlns=\"https://developers.google.com/blockly/xml\"><variables><variable id=\"+yh,Zg{hON]zy6D~.rH#\">px</variable><variable id=\"_z/H/tTnOYS1Lla2~;*0\">X</variable></variables><block type=\"varDoMethod\" id=\"XntGzn~qa18Ik6_`_)X8\" x=\"0\" y=\"0\"><mutation items=\"2\"></mutation><field name=\"VAR\" id=\"+yh,Zg{hON]zy6D~.rH#\">px</field><field name=\"MEMBER\">bar</field><data>px:bar</data><value name=\"ADD0\"><block type=\"valueOutputCodeBlock\" id=\"$ALMI7MUyW+_ndPYFX`6\"><field name=\"CODE\">x=</field><value name=\"INPUT\"><block type=\"varGetProperty\" id=\"]eR#Z1Q-Y.)v*wPlm%=h\"><field name=\"VAR\" id=\"_z/H/tTnOYS1Lla2~;*0\">X</field><field name=\"MEMBER\">columns</field><data>X:columns</data></block></value></block></value><value name=\"ADD1\"><block type=\"valueOutputCodeBlock\" id=\"3YVNFcVDtd*X{0Sg{6Oc\"><field name=\"CODE\">y=np.mean([ tree.feature_importances_ for tree in baggedRegressionTree.estimators_ ], axis=0)</field></block></value></block></xml>"
   ]
  },
  {
   "cell_type": "markdown",
   "metadata": {},
   "source": [
    "### Random forest regression tree\n",
    "\n",
    "This uses `feature_importances_`, so you can make the plot exactly like you would for the regression tree model."
   ]
  },
  {
   "cell_type": "code",
   "execution_count": 31,
   "metadata": {
    "user_blocks": [
     "varDoMethod",
     "valueOutputCodeBlock",
     "varGetProperty",
     "valueOutputCodeBlock",
     "varGetProperty"
    ],
    "user_blocks_xml": "<xml xmlns=\"https://developers.google.com/blockly/xml\"><variables><variable id=\"+yh,Zg{hON]zy6D~.rH#\">px</variable><variable id=\"_z/H/tTnOYS1Lla2~;*0\">X</variable><variable id=\"Mvcq+P(afE9x6R@bF+6B\">randomForestRegressionTree</variable></variables><block type=\"varDoMethod\" id=\"XntGzn~qa18Ik6_`_)X8\" x=\"0\" y=\"0\"><mutation items=\"2\"></mutation><field name=\"VAR\" id=\"+yh,Zg{hON]zy6D~.rH#\">px</field><field name=\"MEMBER\">bar</field><data>px:bar</data><value name=\"ADD0\"><block type=\"valueOutputCodeBlock\" id=\"$ALMI7MUyW+_ndPYFX`6\"><field name=\"CODE\">x=</field><value name=\"INPUT\"><block type=\"varGetProperty\" id=\"]eR#Z1Q-Y.)v*wPlm%=h\"><field name=\"VAR\" id=\"_z/H/tTnOYS1Lla2~;*0\">X</field><field name=\"MEMBER\">columns</field><data>X:columns</data></block></value></block></value><value name=\"ADD1\"><block type=\"valueOutputCodeBlock\" id=\"3YVNFcVDtd*X{0Sg{6Oc\"><field name=\"CODE\">y=</field><value name=\"INPUT\"><block type=\"varGetProperty\" id=\"@z94kf*yvYscV2]OHY$,\"><field name=\"VAR\" id=\"Mvcq+P(afE9x6R@bF+6B\">randomForestRegressionTree</field><field name=\"MEMBER\">feature_importances_</field><data>randomForestRegressionTree:feature_importances_</data></block></value></block></value></block></xml>",
    "user_code_from_blocks": "px.bar(x= (X.columns),y= (randomForestRegressionTree.feature_importances_))\n"
   },
   "outputs": [
    {
     "data": {
      "application/vnd.plotly.v1+json": {
       "config": {
        "plotlyServerURL": "https://plot.ly"
       },
       "data": [
        {
         "hovertemplate": "x=%{x}<br>y=%{y}<extra></extra>",
         "legendgroup": "",
         "marker": {
          "color": "#636efa",
          "pattern": {
           "shape": ""
          }
         },
         "name": "",
         "orientation": "v",
         "showlegend": false,
         "textposition": "auto",
         "type": "bar",
         "x": [
          "crim",
          "zn",
          "indus",
          "chas",
          "nox",
          "rm",
          "age",
          "dis",
          "rad",
          "tax",
          "ptratio",
          "lstat"
         ],
         "xaxis": "x",
         "y": {
          "bdata": "/uejcpU6qT+qOYu+7klkP69KwTZfeYk/b30Eln2DYT9nQrPxpLqdPzyh++jVqtE/TMW9KLTroT+TaexnLNmlP1Ug8KvBy3Y/YscEvJoNkT8ua3fKxNGXPypdBBuDLOA/",
          "dtype": "f8"
         },
         "yaxis": "y"
        }
       ],
       "layout": {
        "barmode": "relative",
        "legend": {
         "tracegroupgap": 0
        },
        "margin": {
         "t": 60
        },
        "template": {
         "data": {
          "bar": [
           {
            "error_x": {
             "color": "#2a3f5f"
            },
            "error_y": {
             "color": "#2a3f5f"
            },
            "marker": {
             "line": {
              "color": "#E5ECF6",
              "width": 0.5
             },
             "pattern": {
              "fillmode": "overlay",
              "size": 10,
              "solidity": 0.2
             }
            },
            "type": "bar"
           }
          ],
          "barpolar": [
           {
            "marker": {
             "line": {
              "color": "#E5ECF6",
              "width": 0.5
             },
             "pattern": {
              "fillmode": "overlay",
              "size": 10,
              "solidity": 0.2
             }
            },
            "type": "barpolar"
           }
          ],
          "carpet": [
           {
            "aaxis": {
             "endlinecolor": "#2a3f5f",
             "gridcolor": "white",
             "linecolor": "white",
             "minorgridcolor": "white",
             "startlinecolor": "#2a3f5f"
            },
            "baxis": {
             "endlinecolor": "#2a3f5f",
             "gridcolor": "white",
             "linecolor": "white",
             "minorgridcolor": "white",
             "startlinecolor": "#2a3f5f"
            },
            "type": "carpet"
           }
          ],
          "choropleth": [
           {
            "colorbar": {
             "outlinewidth": 0,
             "ticks": ""
            },
            "type": "choropleth"
           }
          ],
          "contour": [
           {
            "colorbar": {
             "outlinewidth": 0,
             "ticks": ""
            },
            "colorscale": [
             [
              0,
              "#0d0887"
             ],
             [
              0.1111111111111111,
              "#46039f"
             ],
             [
              0.2222222222222222,
              "#7201a8"
             ],
             [
              0.3333333333333333,
              "#9c179e"
             ],
             [
              0.4444444444444444,
              "#bd3786"
             ],
             [
              0.5555555555555556,
              "#d8576b"
             ],
             [
              0.6666666666666666,
              "#ed7953"
             ],
             [
              0.7777777777777778,
              "#fb9f3a"
             ],
             [
              0.8888888888888888,
              "#fdca26"
             ],
             [
              1,
              "#f0f921"
             ]
            ],
            "type": "contour"
           }
          ],
          "contourcarpet": [
           {
            "colorbar": {
             "outlinewidth": 0,
             "ticks": ""
            },
            "type": "contourcarpet"
           }
          ],
          "heatmap": [
           {
            "colorbar": {
             "outlinewidth": 0,
             "ticks": ""
            },
            "colorscale": [
             [
              0,
              "#0d0887"
             ],
             [
              0.1111111111111111,
              "#46039f"
             ],
             [
              0.2222222222222222,
              "#7201a8"
             ],
             [
              0.3333333333333333,
              "#9c179e"
             ],
             [
              0.4444444444444444,
              "#bd3786"
             ],
             [
              0.5555555555555556,
              "#d8576b"
             ],
             [
              0.6666666666666666,
              "#ed7953"
             ],
             [
              0.7777777777777778,
              "#fb9f3a"
             ],
             [
              0.8888888888888888,
              "#fdca26"
             ],
             [
              1,
              "#f0f921"
             ]
            ],
            "type": "heatmap"
           }
          ],
          "histogram": [
           {
            "marker": {
             "pattern": {
              "fillmode": "overlay",
              "size": 10,
              "solidity": 0.2
             }
            },
            "type": "histogram"
           }
          ],
          "histogram2d": [
           {
            "colorbar": {
             "outlinewidth": 0,
             "ticks": ""
            },
            "colorscale": [
             [
              0,
              "#0d0887"
             ],
             [
              0.1111111111111111,
              "#46039f"
             ],
             [
              0.2222222222222222,
              "#7201a8"
             ],
             [
              0.3333333333333333,
              "#9c179e"
             ],
             [
              0.4444444444444444,
              "#bd3786"
             ],
             [
              0.5555555555555556,
              "#d8576b"
             ],
             [
              0.6666666666666666,
              "#ed7953"
             ],
             [
              0.7777777777777778,
              "#fb9f3a"
             ],
             [
              0.8888888888888888,
              "#fdca26"
             ],
             [
              1,
              "#f0f921"
             ]
            ],
            "type": "histogram2d"
           }
          ],
          "histogram2dcontour": [
           {
            "colorbar": {
             "outlinewidth": 0,
             "ticks": ""
            },
            "colorscale": [
             [
              0,
              "#0d0887"
             ],
             [
              0.1111111111111111,
              "#46039f"
             ],
             [
              0.2222222222222222,
              "#7201a8"
             ],
             [
              0.3333333333333333,
              "#9c179e"
             ],
             [
              0.4444444444444444,
              "#bd3786"
             ],
             [
              0.5555555555555556,
              "#d8576b"
             ],
             [
              0.6666666666666666,
              "#ed7953"
             ],
             [
              0.7777777777777778,
              "#fb9f3a"
             ],
             [
              0.8888888888888888,
              "#fdca26"
             ],
             [
              1,
              "#f0f921"
             ]
            ],
            "type": "histogram2dcontour"
           }
          ],
          "mesh3d": [
           {
            "colorbar": {
             "outlinewidth": 0,
             "ticks": ""
            },
            "type": "mesh3d"
           }
          ],
          "parcoords": [
           {
            "line": {
             "colorbar": {
              "outlinewidth": 0,
              "ticks": ""
             }
            },
            "type": "parcoords"
           }
          ],
          "pie": [
           {
            "automargin": true,
            "type": "pie"
           }
          ],
          "scatter": [
           {
            "fillpattern": {
             "fillmode": "overlay",
             "size": 10,
             "solidity": 0.2
            },
            "type": "scatter"
           }
          ],
          "scatter3d": [
           {
            "line": {
             "colorbar": {
              "outlinewidth": 0,
              "ticks": ""
             }
            },
            "marker": {
             "colorbar": {
              "outlinewidth": 0,
              "ticks": ""
             }
            },
            "type": "scatter3d"
           }
          ],
          "scattercarpet": [
           {
            "marker": {
             "colorbar": {
              "outlinewidth": 0,
              "ticks": ""
             }
            },
            "type": "scattercarpet"
           }
          ],
          "scattergeo": [
           {
            "marker": {
             "colorbar": {
              "outlinewidth": 0,
              "ticks": ""
             }
            },
            "type": "scattergeo"
           }
          ],
          "scattergl": [
           {
            "marker": {
             "colorbar": {
              "outlinewidth": 0,
              "ticks": ""
             }
            },
            "type": "scattergl"
           }
          ],
          "scattermap": [
           {
            "marker": {
             "colorbar": {
              "outlinewidth": 0,
              "ticks": ""
             }
            },
            "type": "scattermap"
           }
          ],
          "scattermapbox": [
           {
            "marker": {
             "colorbar": {
              "outlinewidth": 0,
              "ticks": ""
             }
            },
            "type": "scattermapbox"
           }
          ],
          "scatterpolar": [
           {
            "marker": {
             "colorbar": {
              "outlinewidth": 0,
              "ticks": ""
             }
            },
            "type": "scatterpolar"
           }
          ],
          "scatterpolargl": [
           {
            "marker": {
             "colorbar": {
              "outlinewidth": 0,
              "ticks": ""
             }
            },
            "type": "scatterpolargl"
           }
          ],
          "scatterternary": [
           {
            "marker": {
             "colorbar": {
              "outlinewidth": 0,
              "ticks": ""
             }
            },
            "type": "scatterternary"
           }
          ],
          "surface": [
           {
            "colorbar": {
             "outlinewidth": 0,
             "ticks": ""
            },
            "colorscale": [
             [
              0,
              "#0d0887"
             ],
             [
              0.1111111111111111,
              "#46039f"
             ],
             [
              0.2222222222222222,
              "#7201a8"
             ],
             [
              0.3333333333333333,
              "#9c179e"
             ],
             [
              0.4444444444444444,
              "#bd3786"
             ],
             [
              0.5555555555555556,
              "#d8576b"
             ],
             [
              0.6666666666666666,
              "#ed7953"
             ],
             [
              0.7777777777777778,
              "#fb9f3a"
             ],
             [
              0.8888888888888888,
              "#fdca26"
             ],
             [
              1,
              "#f0f921"
             ]
            ],
            "type": "surface"
           }
          ],
          "table": [
           {
            "cells": {
             "fill": {
              "color": "#EBF0F8"
             },
             "line": {
              "color": "white"
             }
            },
            "header": {
             "fill": {
              "color": "#C8D4E3"
             },
             "line": {
              "color": "white"
             }
            },
            "type": "table"
           }
          ]
         },
         "layout": {
          "annotationdefaults": {
           "arrowcolor": "#2a3f5f",
           "arrowhead": 0,
           "arrowwidth": 1
          },
          "autotypenumbers": "strict",
          "coloraxis": {
           "colorbar": {
            "outlinewidth": 0,
            "ticks": ""
           }
          },
          "colorscale": {
           "diverging": [
            [
             0,
             "#8e0152"
            ],
            [
             0.1,
             "#c51b7d"
            ],
            [
             0.2,
             "#de77ae"
            ],
            [
             0.3,
             "#f1b6da"
            ],
            [
             0.4,
             "#fde0ef"
            ],
            [
             0.5,
             "#f7f7f7"
            ],
            [
             0.6,
             "#e6f5d0"
            ],
            [
             0.7,
             "#b8e186"
            ],
            [
             0.8,
             "#7fbc41"
            ],
            [
             0.9,
             "#4d9221"
            ],
            [
             1,
             "#276419"
            ]
           ],
           "sequential": [
            [
             0,
             "#0d0887"
            ],
            [
             0.1111111111111111,
             "#46039f"
            ],
            [
             0.2222222222222222,
             "#7201a8"
            ],
            [
             0.3333333333333333,
             "#9c179e"
            ],
            [
             0.4444444444444444,
             "#bd3786"
            ],
            [
             0.5555555555555556,
             "#d8576b"
            ],
            [
             0.6666666666666666,
             "#ed7953"
            ],
            [
             0.7777777777777778,
             "#fb9f3a"
            ],
            [
             0.8888888888888888,
             "#fdca26"
            ],
            [
             1,
             "#f0f921"
            ]
           ],
           "sequentialminus": [
            [
             0,
             "#0d0887"
            ],
            [
             0.1111111111111111,
             "#46039f"
            ],
            [
             0.2222222222222222,
             "#7201a8"
            ],
            [
             0.3333333333333333,
             "#9c179e"
            ],
            [
             0.4444444444444444,
             "#bd3786"
            ],
            [
             0.5555555555555556,
             "#d8576b"
            ],
            [
             0.6666666666666666,
             "#ed7953"
            ],
            [
             0.7777777777777778,
             "#fb9f3a"
            ],
            [
             0.8888888888888888,
             "#fdca26"
            ],
            [
             1,
             "#f0f921"
            ]
           ]
          },
          "colorway": [
           "#636efa",
           "#EF553B",
           "#00cc96",
           "#ab63fa",
           "#FFA15A",
           "#19d3f3",
           "#FF6692",
           "#B6E880",
           "#FF97FF",
           "#FECB52"
          ],
          "font": {
           "color": "#2a3f5f"
          },
          "geo": {
           "bgcolor": "white",
           "lakecolor": "white",
           "landcolor": "#E5ECF6",
           "showlakes": true,
           "showland": true,
           "subunitcolor": "white"
          },
          "hoverlabel": {
           "align": "left"
          },
          "hovermode": "closest",
          "mapbox": {
           "style": "light"
          },
          "paper_bgcolor": "white",
          "plot_bgcolor": "#E5ECF6",
          "polar": {
           "angularaxis": {
            "gridcolor": "white",
            "linecolor": "white",
            "ticks": ""
           },
           "bgcolor": "#E5ECF6",
           "radialaxis": {
            "gridcolor": "white",
            "linecolor": "white",
            "ticks": ""
           }
          },
          "scene": {
           "xaxis": {
            "backgroundcolor": "#E5ECF6",
            "gridcolor": "white",
            "gridwidth": 2,
            "linecolor": "white",
            "showbackground": true,
            "ticks": "",
            "zerolinecolor": "white"
           },
           "yaxis": {
            "backgroundcolor": "#E5ECF6",
            "gridcolor": "white",
            "gridwidth": 2,
            "linecolor": "white",
            "showbackground": true,
            "ticks": "",
            "zerolinecolor": "white"
           },
           "zaxis": {
            "backgroundcolor": "#E5ECF6",
            "gridcolor": "white",
            "gridwidth": 2,
            "linecolor": "white",
            "showbackground": true,
            "ticks": "",
            "zerolinecolor": "white"
           }
          },
          "shapedefaults": {
           "line": {
            "color": "#2a3f5f"
           }
          },
          "ternary": {
           "aaxis": {
            "gridcolor": "white",
            "linecolor": "white",
            "ticks": ""
           },
           "baxis": {
            "gridcolor": "white",
            "linecolor": "white",
            "ticks": ""
           },
           "bgcolor": "#E5ECF6",
           "caxis": {
            "gridcolor": "white",
            "linecolor": "white",
            "ticks": ""
           }
          },
          "title": {
           "x": 0.05
          },
          "xaxis": {
           "automargin": true,
           "gridcolor": "white",
           "linecolor": "white",
           "ticks": "",
           "title": {
            "standoff": 15
           },
           "zerolinecolor": "white",
           "zerolinewidth": 2
          },
          "yaxis": {
           "automargin": true,
           "gridcolor": "white",
           "linecolor": "white",
           "ticks": "",
           "title": {
            "standoff": 15
           },
           "zerolinecolor": "white",
           "zerolinewidth": 2
          }
         }
        },
        "xaxis": {
         "anchor": "y",
         "domain": [
          0,
          1
         ],
         "title": {
          "text": "x"
         }
        },
        "yaxis": {
         "anchor": "x",
         "domain": [
          0,
          1
         ],
         "title": {
          "text": "y"
         }
        }
       }
      },
      "image/png": "[encoded data removed]"
     },
     "metadata": {},
     "output_type": "display_data"
    }
   ],
   "source": [
    "px.bar(x= (X.columns),y= (randomForestRegressionTree.feature_importances_))\n",
    "\n",
    "#<xml xmlns=\"https://developers.google.com/blockly/xml\"><variables><variable id=\"+yh,Zg{hON]zy6D~.rH#\">px</variable><variable id=\"_z/H/tTnOYS1Lla2~;*0\">X</variable><variable id=\"Mvcq+P(afE9x6R@bF+6B\">randomForestRegressionTree</variable></variables><block type=\"varDoMethod\" id=\"XntGzn~qa18Ik6_`_)X8\" x=\"0\" y=\"0\"><mutation items=\"2\"></mutation><field name=\"VAR\" id=\"+yh,Zg{hON]zy6D~.rH#\">px</field><field name=\"MEMBER\">bar</field><data>px:bar</data><value name=\"ADD0\"><block type=\"valueOutputCodeBlock\" id=\"$ALMI7MUyW+_ndPYFX`6\"><field name=\"CODE\">x=</field><value name=\"INPUT\"><block type=\"varGetProperty\" id=\"]eR#Z1Q-Y.)v*wPlm%=h\"><field name=\"VAR\" id=\"_z/H/tTnOYS1Lla2~;*0\">X</field><field name=\"MEMBER\">columns</field><data>X:columns</data></block></value></block></value><value name=\"ADD1\"><block type=\"valueOutputCodeBlock\" id=\"3YVNFcVDtd*X{0Sg{6Oc\"><field name=\"CODE\">y=</field><value name=\"INPUT\"><block type=\"varGetProperty\" id=\"@z94kf*yvYscV2]OHY$,\"><field name=\"VAR\" id=\"Mvcq+P(afE9x6R@bF+6B\">randomForestRegressionTree</field><field name=\"MEMBER\">feature_importances_</field><data>randomForestRegressionTree:feature_importances_</data></block></value></block></value></block></xml>"
   ]
  },
  {
   "cell_type": "markdown",
   "metadata": {},
   "source": [
    "-----------\n",
    "**QUESTION:**\n",
    "\n",
    "Look carefully at the three feature importance plots, hovering your mouse over each bar.\n",
    "What are the major differences between them?"
   ]
  },
  {
   "cell_type": "markdown",
   "metadata": {},
   "source": [
    "**ANSWER: (click here to edit)**\n",
    "\n",
    "*The rank order of importance across the variables is basically the same in the three models.\n",
    "With respect to the most important features, the ensemble models decrease the importance of `lstat` and increase the importance of `rm` relative to the regression tree model.\n",
    "Bagging and random forests are very similar on feature importance.*\n",
    "<hr>"
   ]
  },
  {
   "cell_type": "markdown",
   "metadata": {},
   "source": [
    "**QUESTION:**\n",
    "\n",
    "What other tool(s) can you think of that we haven't tried that we could use to compare these models?"
   ]
  },
  {
   "cell_type": "markdown",
   "metadata": {},
   "source": [
    "**ANSWER: (click here to edit)**\n",
    "\n",
    "*Since these are regressions, we could plot the predictions against the actual `medv` as a scatterplot.\n",
    "It would be interesting/potentially useful to know if the predictions were good across the entire range of `medv`, especially since we noticed some outlier expensive houses earlier.*\n",
    "\n",
    "<hr>"
   ]
  },
  {
   "cell_type": "markdown",
   "metadata": {},
   "source": [
    "<!--  -->"
   ]
  }
 ],
 "metadata": {
  "kernelspec": {
   "display_name": "Python 3 (ipykernel)",
   "language": "python",
   "name": "python3"
  },
  "language_info": {
   "codemirror_mode": {
    "name": "ipython",
    "version": 3
   },
   "file_extension": ".py",
   "mimetype": "text/x-python",
   "name": "python",
   "nbconvert_exporter": "python",
   "pygments_lexer": "ipython3",
   "version": "3.12.6"
  }
 },
 "nbformat": 4,
 "nbformat_minor": 4
}
